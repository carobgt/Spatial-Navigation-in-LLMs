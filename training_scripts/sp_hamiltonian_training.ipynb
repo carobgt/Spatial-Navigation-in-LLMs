{
 "cells": [
  {
   "cell_type": "code",
   "execution_count": 1,
   "id": "8809af21",
   "metadata": {},
   "outputs": [
    {
     "name": "stderr",
     "output_type": "stream",
     "text": [
      "\u001b[34m\u001b[1mwandb\u001b[0m: Currently logged in as: \u001b[33mcarobgt\u001b[0m (\u001b[33mcarobgt-ucl\u001b[0m) to \u001b[32mhttps://api.wandb.ai\u001b[0m. Use \u001b[1m`wandb login --relogin`\u001b[0m to force relogin\n",
      "/cs/student/projects1/aibh/2024/cbaumgar/.venv/lib64/python3.9/site-packages/networkx/utils/backends.py:135: RuntimeWarning: networkx backend defined more than once: nx-loopback\n",
      "  backends.update(_get_backends(\"networkx.backends\"))\n",
      "/cs/student/projects1/aibh/2024/cbaumgar/.venv/lib64/python3.9/site-packages/tqdm/auto.py:21: TqdmWarning: IProgress not found. Please update jupyter and ipywidgets. See https://ipywidgets.readthedocs.io/en/stable/user_install.html\n",
      "  from .autonotebook import tqdm as notebook_tqdm\n"
     ]
    }
   ],
   "source": [
    "import wandb\n",
    "wandb.login()\n",
    "import os\n",
    "os.environ['WANDB_PROJECT'] = 'shortest_v3_model'\n",
    "import pandas as pd\n",
    "import networkx as nx\n",
    "import logging\n",
    "from random import shuffle\n",
    "import pandas as pd\n",
    "from matplotlib import pyplot as plt\n",
    "import csrgraph as cg\n",
    "import numpy as np\n",
    "import random\n",
    "import string\n",
    "from itertools import combinations\n",
    "import pickle\n",
    "import gc\n",
    "import os\n",
    "import json\n",
    "from transformers import GPT2LMHeadModel, GPT2Tokenizer\n",
    "from tqdm import tqdm\n",
    "\n",
    "\n",
    "#os.environ['WANDB_MODE'] = 'disabled'\n",
    "\n",
    "# set current directory\n",
    "os.chdir(\"/cs/student/projects1/aibh/2024/cbaumgar/MSC_THESIS\")"
   ]
  },
  {
   "cell_type": "code",
   "execution_count": null,
   "id": "88a37053",
   "metadata": {},
   "outputs": [],
   "source": [
    "import os\n",
    "import shutil\n",
    "import random\n",
    "import networkx as nx\n",
    "import numpy as np\n",
    "import string\n",
    "from tqdm import tqdm\n",
    "\n",
    "\n",
    "def get_canonical_graph(size):\n",
    "    \"\"\"Creates a grid graph with stable integer nodes (0, 1, 2...) for enumeration.\"\"\"\n",
    "    G = nx.DiGraph()\n",
    "    nodes = list(range(size*size))\n",
    "    for r in range(size):\n",
    "        for c in range(size):\n",
    "            idx = r * size + c\n",
    "            if c < size - 1: G.add_edge(nodes[idx], nodes[idx + 1], direction='EAST')\n",
    "            if c > 0: G.add_edge(nodes[idx], nodes[idx - 1], direction='WEST')\n",
    "            if r < size - 1: G.add_edge(nodes[idx], nodes[idx + size], direction='SOUTH')\n",
    "            if r > 0: G.add_edge(nodes[idx], nodes[idx - size], direction='NORTH')\n",
    "    return G\n",
    "\n",
    "def get_graph_with_random_names(size):\n",
    "    \"\"\"Creates a grid graph with unique random names, used for generating examples.\"\"\"\n",
    "    num_nodes = size * size\n",
    "    names = set()\n",
    "    while len(names) < num_nodes:\n",
    "        names.add(''.join(random.choices(string.ascii_lowercase, k=2)))\n",
    "    nodes = list(names)\n",
    "    # IMPORTANT!!! shuffle nodes to break hash map order\n",
    "    random.shuffle(nodes)\n",
    "    G = nx.DiGraph()\n",
    "    node_map = {i: nodes[i] for i in range(num_nodes)}\n",
    "    for r in range(size):\n",
    "        for c in range(size):\n",
    "            idx = r * size + c\n",
    "            u = node_map[idx]\n",
    "            if c < size - 1: G.add_edge(u, node_map[idx + 1], direction='EAST')\n",
    "            if c > 0: G.add_edge(u, node_map[idx - 1], direction='WEST')\n",
    "            if r < size - 1: G.add_edge(u, node_map[idx + size], direction='SOUTH')\n",
    "            if r > 0: G.add_edge(u, node_map[idx - size], direction='NORTH')\n",
    "    return G\n",
    "\n",
    "def find_all_hamiltonian_path_shapes(G):\n",
    "    \"\"\"Exhaustively finds all unique Hamiltonian path shapes (sequences of directions).\"\"\"\n",
    "    all_shapes = set()\n",
    "    num_nodes = len(G.nodes())\n",
    "    def _search(current_node, path_nodes, path_directions):\n",
    "        if len(path_nodes) == num_nodes:\n",
    "            all_shapes.add(tuple(path_directions))\n",
    "            return\n",
    "        for neighbor in G.successors(current_node):\n",
    "            if neighbor not in path_nodes:\n",
    "                direction = G.edges[current_node, neighbor]['direction']\n",
    "                path_nodes.add(neighbor)\n",
    "                path_directions.append(direction)\n",
    "                _search(neighbor, path_nodes, path_directions)\n",
    "                path_directions.pop()\n",
    "                path_nodes.remove(neighbor)\n",
    "    print(\"Enumerating all unique Hamiltonian path shapes... (this may take a moment)\")\n",
    "    for start_node in tqdm(list(G.nodes()), desc=\"Enumerating Shapes\"):\n",
    "        _search(start_node, {start_node}, [])\n",
    "    return list(all_shapes)\n",
    "\n",
    "def save_shapes_to_file(shapes, filename):\n",
    "    \"\"\"Saves a list of shape tuples to a file, one per line.\"\"\"\n",
    "    print(f\"Saving {len(shapes)} shapes to {filename}...\")\n",
    "    with open(filename, \"w\") as f:\n",
    "        for shape in shapes:\n",
    "            # Join the directions with a comma for easy parsing later\n",
    "            f.write(\",\".join(shape) + \"\\n\")\n",
    "\n",
    "def load_shapes_from_file(filename):\n",
    "    \"\"\"Loads a list of shapes from a file.\"\"\"\n",
    "    print(f\"Loading shapes from {filename}...\")\n",
    "    shapes = []\n",
    "    with open(filename, \"r\") as f:\n",
    "        for line in f:\n",
    "            line = line.strip()\n",
    "            if line:\n",
    "                # Split by comma and create a tuple\n",
    "                shapes.append(tuple(line.split(\",\")))\n",
    "    return shapes\n",
    "\n",
    "def build_path_from_shape(G, shape):\n",
    "    \"\"\"Constructs a node path in graph G that follows a given shape.\"\"\"\n",
    "    node_moves = {u: {data['direction']: v for _, v, data in G.out_edges(u, data=True)} for u in G.nodes()}\n",
    "    possible_starts = list(G.nodes())\n",
    "    random.shuffle(possible_starts)\n",
    "    for start_node in possible_starts:\n",
    "        path = [start_node]\n",
    "        current_node = start_node\n",
    "        valid_path = True\n",
    "        for direction in shape:\n",
    "            if direction in node_moves[current_node]:\n",
    "                next_node = node_moves[current_node][direction]\n",
    "                path.append(next_node)\n",
    "                current_node = next_node\n",
    "            else:\n",
    "                valid_path = False\n",
    "                break\n",
    "        if valid_path:\n",
    "            return path\n",
    "    raise ValueError(\"Could not construct a path for the given shape in the graph.\")\n",
    "\n",
    "def format_path_to_string(path, G):\n",
    "    \"\"\"Converts a list of nodes into a 'NODE DIR NODE...' string.\"\"\"\n",
    "    if not path or len(path) < 2: return path[0] if path else \"\"\n",
    "    path_str = \"\"\n",
    "    for i in range(len(path) - 1):\n",
    "        u, v = path[i], path[i+1]\n",
    "        direction = G.edges[u, v]['direction']\n",
    "        path_str += f\"{u} {direction} \"\n",
    "    path_str += path[-1]\n",
    "    return path_str\n",
    "\n",
    "\n",
    "def generate_hamiltonian_test_example(G, shape):\n",
    "    path_nodes = build_path_from_shape(G, shape)\n",
    "    context_str = format_path_to_string(path_nodes, G)\n",
    "    start_node, goal_node = random.sample(path_nodes, 2)\n",
    "    shortest_path_nodes = next(nx.all_shortest_paths(G, source=start_node, target=goal_node))\n",
    "    task_instruction = f\"[SHORTEST] [START_NODE] {start_node} [GOAL] {goal_node}\"\n",
    "    target_str = format_path_to_string(shortest_path_nodes, G)\n",
    "    prompt = f\"[SOS] {context_str} [SEP] {task_instruction} [PLAN]\"\n",
    "    target = f\"{target_str} [EOS]\"\n",
    "    return prompt, target\n",
    "\n",
    "def generate_and_save_split_dataset(n_examples, grid_size, allowed_shapes, output_file_path, description=\"\"):\n",
    "    print(f\"--- Generating {n_examples} examples for {description} ---\")\n",
    "    with open(output_file_path, \"w\", encoding=\"utf-8\") as f:\n",
    "        pbar = tqdm(range(n_examples), desc=f\"Generating {description}\")\n",
    "        for _ in pbar:\n",
    "            shape_to_build = random.choice(allowed_shapes)\n",
    "            G = get_graph_with_random_names(grid_size)\n",
    "            example = generate_hamiltonian_test_example(G, shape_to_build)\n",
    "            if example:\n",
    "                prompt, target = example\n",
    "                f.write(f\"{prompt} {target}\\n\")\n"
   ]
  },
  {
   "cell_type": "code",
   "execution_count": null,
   "id": "a4e9efc0",
   "metadata": {},
   "outputs": [
    {
     "name": "stdout",
     "output_type": "stream",
     "text": [
      "Loading shapes from hamiltonian_shapes_4x4.txt...\n",
      "\n",
      "Successfully loaded/found 552 unique Hamiltonian path shapes.\n",
      "Splitting into 496 shapes for training and 56 for evaluation.\n",
      "--- Generating 1000000 examples for Train Set (Seen Shapes) ---\n"
     ]
    },
    {
     "name": "stderr",
     "output_type": "stream",
     "text": [
      "Generating Train Set (Seen Shapes): 100%|██████████| 1000000/1000000 [01:45<00:00, 9462.52it/s]\n"
     ]
    },
    {
     "name": "stdout",
     "output_type": "stream",
     "text": [
      "--- Generating 10000 examples for Test Set (Unseen Shapes) ---\n"
     ]
    },
    {
     "name": "stderr",
     "output_type": "stream",
     "text": [
      "Generating Test Set (Unseen Shapes): 100%|██████████| 10000/10000 [00:01<00:00, 9569.06it/s]"
     ]
    },
    {
     "name": "stdout",
     "output_type": "stream",
     "text": [
      "\n",
      "--- Shape-split data generation process finished successfully! ---\n"
     ]
    },
    {
     "name": "stderr",
     "output_type": "stream",
     "text": [
      "\n"
     ]
    }
   ],
   "source": [
    "\n",
    "\n",
    "if __name__ == \"__main__\":\n",
    "    NUM_TRAIN_EXAMPLES = 1000000\n",
    "    NUM_TEST_EXAMPLES = 10000\n",
    "    GRID_SIZE = 4\n",
    "    SHAPES_FILENAME = \"hamiltonian_shapes_4x4.txt\"\n",
    "\n",
    "    random.seed(42)\n",
    "    np.random.seed(42)\n",
    "\n",
    "    output_dir = \"shortest_v2_data\"\n",
    "    if os.path.exists(output_dir):\n",
    "        shutil.rmtree(output_dir)\n",
    "    os.makedirs(output_dir)\n",
    "\n",
    "    if os.path.exists(SHAPES_FILENAME):\n",
    "        all_shapes = load_shapes_from_file(SHAPES_FILENAME)\n",
    "    # else:\n",
    "    #     canonical_graph = get_canonical_graph(GRID_SIZE)\n",
    "    #     all_shapes = find_all_hamiltonian_path_shapes(canonical_graph)\n",
    "    #     save_shapes_to_file(all_shapes, SHAPES_FILENAME)\n",
    "    \n",
    "    print(f\"\\nSuccessfully loaded/found {len(all_shapes)} unique Hamiltonian path shapes.\")\n",
    "\n",
    "\n",
    "    random.shuffle(all_shapes)\n",
    "    split_idx = int(0.9 * len(all_shapes))\n",
    "    train_shapes = all_shapes[:split_idx]\n",
    "    eval_shapes = all_shapes[split_idx:]\n",
    "\n",
    "    print(f\"Splitting into {len(train_shapes)} shapes for training and {len(eval_shapes)} for evaluation.\")\n",
    "\n",
    "    train_file_path = os.path.join(output_dir, \"train.txt\")\n",
    "    generate_and_save_split_dataset(\n",
    "        n_examples=NUM_TRAIN_EXAMPLES,\n",
    "        grid_size=GRID_SIZE,\n",
    "        allowed_shapes=train_shapes,\n",
    "        output_file_path=train_file_path,\n",
    "        description=\"Train Set (Seen Shapes)\"\n",
    "    )\n",
    "\n",
    "    test_file_path = os.path.join(output_dir, \"test.txt\")\n",
    "    generate_and_save_split_dataset(\n",
    "        n_examples=NUM_TEST_EXAMPLES,\n",
    "        grid_size=GRID_SIZE,\n",
    "        allowed_shapes=eval_shapes,\n",
    "        output_file_path=test_file_path,\n",
    "        description=\"Test Set (Unseen Shapes)\"\n",
    "    )\n",
    "\n",
    "    print(\"\\n--- Shape-split data generation process finished successfully! ---\")"
   ]
  },
  {
   "cell_type": "code",
   "execution_count": 36,
   "id": "aea18f69",
   "metadata": {},
   "outputs": [
    {
     "name": "stdout",
     "output_type": "stream",
     "text": [
      "Dataset Analysis (1000 examples):\n",
      "Average context/target ratio: 4.00\n",
      "Median ratio: 3.69\n",
      "Ratio range: 2.18 - 6.86\n",
      "Context heavily dominates - consider shorter contexts\n"
     ]
    }
   ],
   "source": [
    "# Analysis tools\n",
    "from transformers import GPT2Tokenizer\n",
    "import numpy as np\n",
    "def analyse_dataset(file_path, tokenizer_path):\n",
    "    \"\"\"\n",
    "    Analyze context/target ratio in existing dataset.\n",
    "    \"\"\"\n",
    "    tokenizer = GPT2Tokenizer.from_pretrained(tokenizer_path)\n",
    "    \n",
    "    total_context_tokens = 0\n",
    "    total_target_tokens = 0\n",
    "    ratios = []\n",
    "    \n",
    "    with open(file_path, 'r', encoding='utf-8') as f:\n",
    "        for i, line in enumerate(f):\n",
    "            if i >= 1000:  # Analyze first 1000 examples\n",
    "                break\n",
    "                \n",
    "            parts = line.strip().split()\n",
    "            sep_index = parts.index('[PLAN]')\n",
    "            prompt = ' '.join(parts[:sep_index])\n",
    "            target = ' '.join(parts[sep_index + 1:])\n",
    "\n",
    "            \n",
    "            # Extract context (before [SEP])\n",
    "            if '[SEP]' in prompt:\n",
    "                context_part = prompt.split('[SEP]')[0]\n",
    "            else:\n",
    "                context_part = prompt\n",
    "            \n",
    "            context_tokens = len(tokenizer.encode(context_part))\n",
    "            target_tokens = len(tokenizer.encode(target))\n",
    "            \n",
    "            if target_tokens > 0:\n",
    "                ratio = context_tokens / target_tokens\n",
    "                ratios.append(ratio)\n",
    "                total_context_tokens += context_tokens\n",
    "                total_target_tokens += target_tokens\n",
    "    \n",
    "    if ratios:\n",
    "        avg_ratio = total_context_tokens / total_target_tokens\n",
    "        median_ratio = np.median(ratios)\n",
    "        \n",
    "        print(f\"Dataset Analysis ({len(ratios)} examples):\")\n",
    "        print(f\"Average context/target ratio: {avg_ratio:.2f}\")\n",
    "        print(f\"Median ratio: {median_ratio:.2f}\")\n",
    "        print(f\"Ratio range: {min(ratios):.2f} - {max(ratios):.2f}\")\n",
    "        \n",
    "        if avg_ratio > 3.0:\n",
    "            print(\"Context heavily dominates - consider shorter contexts\")\n",
    "        elif avg_ratio < 0.5:\n",
    "            print(\"Target dominates - consider longer contexts\") \n",
    "        else:\n",
    "            print(\"Reasonable balance\")\n",
    "\n",
    "analyse_dataset(\"shortest_v2_data/train.txt\", \"gv6_tokenizer\")"
   ]
  },
  {
   "cell_type": "markdown",
   "id": "8b08d0b0",
   "metadata": {},
   "source": [
    "**CUSTOM TOKENIZER**\n",
    "\n",
    "trained in tokenizer_training.ipynb\n"
   ]
  },
  {
   "cell_type": "code",
   "execution_count": 37,
   "id": "2822c6f1",
   "metadata": {},
   "outputs": [],
   "source": [
    "class GPT:\n",
    "\n",
    "    def __init__(self, base_model=None, base_model_name='gpt2', vocab_size=100):\n",
    "        self.base_model = base_model\n",
    "        self.base_model_name = base_model_name\n",
    "        self.vocab_size = vocab_size\n",
    "\n",
    "        if self.base_model is not None:\n",
    "            self.tokenizer = GPT2Tokenizer.from_pretrained(base_model)\n",
    "            self.model = GPT2LMHeadModel.from_pretrained(base_model)\n",
    "            self.tokenizer.pad_token = self.tokenizer.eos_token\n",
    "\n",
    "    def continue_input(self, input_sequence, max_new_tokens=5, num_return_sequences=1, no_repeat_ngram_size=0,\n",
    "                       do_sample=False, temperature=0.7, num_beams=1):\n",
    "        input_ids = self.tokenizer.encode(input_sequence, return_tensors='pt')\n",
    "\n",
    "        # Generate text\n",
    "        output = self.model.generate(\n",
    "            input_ids,\n",
    "            max_new_tokens=max_new_tokens,\n",
    "            num_return_sequences=num_return_sequences,\n",
    "            num_beams=num_beams,\n",
    "            no_repeat_ngram_size=no_repeat_ngram_size,\n",
    "            do_sample=do_sample,\n",
    "            temperature=temperature,\n",
    "        )\n",
    "\n",
    "        # Decode the output\n",
    "        sequence = output[0].tolist()\n",
    "        text = self.tokenizer.decode(sequence)\n",
    "        return text\n",
    "    \n",
    "    "
   ]
  },
  {
   "cell_type": "code",
   "execution_count": 38,
   "id": "b4622a13",
   "metadata": {},
   "outputs": [],
   "source": [
    "def load_pkl(pth):\n",
    "    with open(pth, 'rb') as f:\n",
    "        d = pickle.load(f)\n",
    "    return d\n",
    "\n",
    "def is_valid_path(sequence, graphs):\n",
    "    # Split the sequence into parts\n",
    "    parts = sequence.split()\n",
    "\n",
    "    # Extract nodes and edges; nodes are at even indices, edges at odd indices\n",
    "    nodes = parts[::2]\n",
    "    edges = parts[1::2]\n",
    "\n",
    "    # Convert edges to a lowercase version for comparison (assuming all edges in graphs are lowercase)\n",
    "    edges = [edge.lower() for edge in edges]\n",
    "\n",
    "    # Iterate over each graph to check if the path exists\n",
    "    for graph in graphs:\n",
    "        path_exists = True\n",
    "        for i in range(len(nodes) - 1):\n",
    "            # Check if the current graph has the edge between the current node and the next node\n",
    "            if not graph.has_edge(nodes[i], nodes[i+1]):\n",
    "                path_exists = False\n",
    "                break\n",
    "\n",
    "        # If path exists in the current graph, return True\n",
    "        if path_exists:\n",
    "            return True\n",
    "\n",
    "    # If none of the graphs contain the path, return False\n",
    "    return False"
   ]
  },
  {
   "cell_type": "code",
   "execution_count": null,
   "id": "cd4ca378",
   "metadata": {},
   "outputs": [
    {
     "name": "stdout",
     "output_type": "stream",
     "text": [
      "Loading custom tokenizer from: gv6_tokenizer\n",
      "Loading base gpt2 config...\n",
      "Overriding config vocab_size. Old: 50257, New: 1031\n",
      "Updating special token IDs in the config...\n",
      "Set pad_token_id to: 0\n",
      "\n",
      "Custom model config saved successfully to: shortest_v2_config\n"
     ]
    }
   ],
   "source": [
    "from transformers import AutoConfig, GPT2Tokenizer\n",
    "import os\n",
    "\n",
    "TOKENIZER_PATH = \"gv6_tokenizer\"\n",
    "CONFIG_SAVE_PATH = \"shortest_v2_config\"\n",
    "\n",
    "\n",
    "print(f\"Loading custom tokenizer from: {TOKENIZER_PATH}\")\n",
    "my_custom_tokenizer = GPT2Tokenizer.from_pretrained(TOKENIZER_PATH)\n",
    "\n",
    "print(\"Loading base gpt2 config...\")\n",
    "config = AutoConfig.from_pretrained('gpt2')\n",
    "\n",
    "print(f\"Overriding config vocab_size. Old: {config.vocab_size}, New: {len(my_custom_tokenizer)}\")\n",
    "config.vocab_size = len(my_custom_tokenizer)\n",
    "\n",
    "print(\"Updating special token IDs in the config...\")\n",
    "config.bos_token_id = my_custom_tokenizer.bos_token_id\n",
    "config.eos_token_id = my_custom_tokenizer.eos_token_id\n",
    "\n",
    "config.pad_token_id = my_custom_tokenizer.pad_token_id\n",
    "print(f\"Set pad_token_id to: {config.pad_token_id}\")\n",
    "\n",
    "os.makedirs(CONFIG_SAVE_PATH, exist_ok=True)\n",
    "config.save_pretrained(CONFIG_SAVE_PATH)\n",
    "\n",
    "print(f\"\\nCustom model config saved successfully to: {CONFIG_SAVE_PATH}\")"
   ]
  },
  {
   "cell_type": "code",
   "execution_count": null,
   "id": "37468844",
   "metadata": {},
   "outputs": [
    {
     "name": "stdout",
     "output_type": "stream",
     "text": [
      "Hugging Face datasets cache is now set to: /cs/student/projects1/aibh/2024/cbaumgar/MSC_THESIS/.cache/huggingface_datasets\n",
      "Wandb local run directory set to: /cs/student/projects1/aibh/2024/cbaumgar/MSC_THESIS/wandb_local_runs\n"
     ]
    }
   ],
   "source": [
    "import os\n",
    "\n",
    "project_cache_path = os.path.join(os.getcwd(), '.cache', 'huggingface_datasets')\n",
    "os.makedirs(project_cache_path, exist_ok=True)\n",
    "\n",
    "os.environ['HF_DATASETS_CACHE'] = project_cache_path\n",
    "\n",
    "print(f\"Hugging Face datasets cache is now set to: {os.environ['HF_DATASETS_CACHE']}\")\n",
    "\n",
    "wandb_path = os.path.join(os.getcwd(), 'wandb_local_runs')\n",
    "os.makedirs(wandb_path, exist_ok=True)\n",
    "\n",
    "os.environ['WANDB_DIR'] = wandb_path\n",
    "print(f\"Wandb local run directory set to: {os.environ['WANDB_DIR']}\")\n",
    "\n",
    "import os\n",
    "os.environ[\"WANDB__SERVICE_WAIT\"] = \"120\""
   ]
  },
  {
   "cell_type": "code",
   "execution_count": null,
   "id": "cc9d2516",
   "metadata": {},
   "outputs": [],
   "source": [
    "import os\n",
    "import gc\n",
    "import wandb\n",
    "\n",
    "def train_model_script(num_epochs=1,\n",
    "                       output_dir='sv2_model_fixed', \n",
    "                       lr=5e-05):\n",
    "    gc.collect()\n",
    "    wandb.login()\n",
    "    os.environ['WANDB_PROJECT'] = 'shortest_path_models'\n",
    "\n",
    "    save_steps = 500\n",
    "    save_total_limit = 10\n",
    "    weight_decay = 0.1\n",
    "    beta2 = 0.98\n",
    "    \n",
    "    data_dir = 'shortest_v2_data' \n",
    "    tokenizer_dir = 'gv6_tokenizer'\n",
    "    config_dir = 'shortest_v2_config'\n",
    "    \n",
    "    train_path = f'./{data_dir}/train.txt'\n",
    "    test_path = f'./{data_dir}/test.txt'\n",
    "\n",
    "    command = f\"\"\"\n",
    "    python3 ./train_shortest.py \\\\\n",
    "        --config_name {config_dir} \\\\\n",
    "        --tokenizer_name {tokenizer_dir} \\\\\n",
    "        --train_file {train_path} \\\\\n",
    "        --validation_file {test_path} \\\\\n",
    "        --per_device_train_batch_size 256 \\\\\n",
    "        --per_device_eval_batch_size 256 \\\\\n",
    "        --do_train \\\\\n",
    "        --do_eval \\\\\n",
    "        --output_dir {output_dir} \\\\\n",
    "        --num_train_epochs {num_epochs} \\\\\n",
    "        --save_strategy 'steps' \\\\\n",
    "        --save_steps {save_steps} \\\\\n",
    "        --save_total_limit {save_total_limit} \\\\\n",
    "        --eval_strategy 'steps' \\\\\n",
    "        --eval_steps 500 \\\\\n",
    "        --warmup_steps 0 \\\\\n",
    "        --learning_rate {lr} \\\\\n",
    "        --report_to 'wandb' \\\\\n",
    "        --lr_scheduler_type cosine \\\\\n",
    "        --weight_decay {weight_decay} \\\\\n",
    "        --adam_beta2 {beta2} \\\\\n",
    "        --fp16 True\n",
    "    \"\"\"\n",
    "    \n",
    "    print(\"--- Running Command ---\")\n",
    "    print(command)\n",
    "    print(\"-----------------------\")\n",
    "    \n",
    "    os.system(command)"
   ]
  },
  {
   "cell_type": "code",
   "execution_count": 42,
   "id": "39e0dac4",
   "metadata": {},
   "outputs": [],
   "source": [
    "#!rm -rf sv2_model_fixed/\n",
    "!mkdir sv2_model_fixed/"
   ]
  },
  {
   "cell_type": "code",
   "execution_count": 43,
   "id": "6e550d13",
   "metadata": {},
   "outputs": [
    {
     "name": "stdout",
     "output_type": "stream",
     "text": [
      "--- Running Command ---\n",
      "\n",
      "    python3 ./train_shortest.py \\\n",
      "        --config_name shortest_v2_config \\\n",
      "        --tokenizer_name gv6_tokenizer \\\n",
      "        --train_file ./shortest_v2_data/train.txt \\\n",
      "        --validation_file ./shortest_v2_data/test.txt \\\n",
      "        --per_device_train_batch_size 256 \\\n",
      "        --per_device_eval_batch_size 256 \\\n",
      "        --do_train \\\n",
      "        --do_eval \\\n",
      "        --output_dir sv2_model_fixed \\\n",
      "        --num_train_epochs 20 \\\n",
      "        --save_strategy 'steps' \\\n",
      "        --save_steps 500 \\\n",
      "        --save_total_limit 10 \\\n",
      "        --eval_strategy 'steps' \\\n",
      "        --eval_steps 500 \\\n",
      "        --warmup_steps 0 \\\n",
      "        --learning_rate 0.0001 \\\n",
      "        --report_to 'wandb' \\\n",
      "        --lr_scheduler_type cosine \\\n",
      "        --weight_decay 0.1 \\\n",
      "        --adam_beta2 0.98 \\\n",
      "        --fp16 True\n",
      "    \n",
      "-----------------------\n"
     ]
    },
    {
     "name": "stderr",
     "output_type": "stream",
     "text": [
      "/cs/student/projects1/aibh/2024/cbaumgar/.venv/lib64/python3.9/site-packages/networkx/utils/backends.py:135: RuntimeWarning: networkx backend defined more than once: nx-loopback\n",
      "  backends.update(_get_backends(\"networkx.backends\"))\n"
     ]
    },
    {
     "name": "stdout",
     "output_type": "stream",
     "text": [
      "INFO:__main__:Loading tokenizer, config, and model...\n",
      "INFO:__main__:--- Initializing a new model from scratch ---\n",
      "INFO:__main__:Synchronized model embedding size with tokenizer. New size: 1031\n"
     ]
    },
    {
     "name": "stderr",
     "output_type": "stream",
     "text": [
      "Generating train split: 1000000 examples [00:02, 480600.46 examples/s]\n",
      "Generating validation split: 10000 examples [00:00, 374474.71 examples/s]\n",
      "Map (num_proc=24): 100%|██████████| 1000000/1000000 [00:25<00:00, 39716.88 examples/s]\n",
      "Map (num_proc=24): 100%|██████████| 10000/10000 [00:00<00:00, 18470.36 examples/s]\n",
      "/cs/student/projects1/aibh/2024/cbaumgar/MSC_THESIS/./train_shortest.py:227: FutureWarning: `tokenizer` is deprecated and will be removed in version 5.0.0 for `Trainer.__init__`. Use `processing_class` instead.\n",
      "  trainer = Trainer(\n"
     ]
    },
    {
     "name": "stdout",
     "output_type": "stream",
     "text": [
      "INFO:__main__:*** Starting Training ***\n"
     ]
    },
    {
     "name": "stderr",
     "output_type": "stream",
     "text": [
      "wandb: WARNING The `run_name` is currently set to the same value as `TrainingArguments.output_dir`. If this was not intended, please specify a different run name by setting the `TrainingArguments.run_name` parameter.\n",
      "wandb: Currently logged in as: carobgt (carobgt-ucl) to https://api.wandb.ai. Use `wandb login --relogin` to force relogin\n",
      "wandb: Tracking run with wandb version 0.20.1\n",
      "wandb: Run data is saved locally in /cs/student/projects1/aibh/2024/cbaumgar/MSC_THESIS/wandb_local_runs/wandb/run-20250809_195724-yf1zeewk\n",
      "wandb: Run `wandb offline` to turn off syncing.\n",
      "wandb: Syncing run sv2_model_fixed\n",
      "wandb: ⭐️ View project at https://wandb.ai/carobgt-ucl/shortest_path_models\n",
      "wandb: 🚀 View run at https://wandb.ai/carobgt-ucl/shortest_path_models/runs/yf1zeewk\n",
      "  0%|          | 0/78140 [00:00<?, ?it/s]`loss_type=None` was set in the config but it is unrecognised.Using the default loss: `ForCausalLMLoss`.\n",
      "  1%|          | 500/78140 [03:24<8:25:10,  2.56it/s]\n",
      "  0%|          | 0/40 [00:00<?, ?it/s]\u001b[A"
     ]
    },
    {
     "name": "stdout",
     "output_type": "stream",
     "text": [
      "{'loss': 2.0282, 'grad_norm': 1.1174640655517578, 'learning_rate': 9.998997839877468e-05, 'epoch': 0.13}\n"
     ]
    },
    {
     "name": "stderr",
     "output_type": "stream",
     "text": [
      "\n",
      "  5%|▌         | 2/40 [00:00<00:02, 13.75it/s]\u001b[A\n",
      " 10%|█         | 4/40 [00:00<00:04,  8.69it/s]\u001b[A\n",
      " 12%|█▎        | 5/40 [00:00<00:04,  8.06it/s]\u001b[A\n",
      " 15%|█▌        | 6/40 [00:00<00:04,  7.68it/s]\u001b[A\n",
      " 18%|█▊        | 7/40 [00:00<00:04,  7.43it/s]\u001b[A\n",
      " 20%|██        | 8/40 [00:01<00:04,  7.26it/s]\u001b[A\n",
      " 22%|██▎       | 9/40 [00:01<00:04,  7.14it/s]\u001b[A\n",
      " 25%|██▌       | 10/40 [00:01<00:04,  7.07it/s]\u001b[A\n",
      " 28%|██▊       | 11/40 [00:01<00:04,  7.02it/s]\u001b[A\n",
      " 30%|███       | 12/40 [00:01<00:04,  6.98it/s]\u001b[A\n",
      " 32%|███▎      | 13/40 [00:01<00:03,  6.95it/s]\u001b[A\n",
      " 35%|███▌      | 14/40 [00:01<00:03,  6.94it/s]\u001b[A\n",
      " 38%|███▊      | 15/40 [00:02<00:03,  6.93it/s]\u001b[A\n",
      " 40%|████      | 16/40 [00:02<00:03,  6.92it/s]\u001b[A\n",
      " 42%|████▎     | 17/40 [00:02<00:03,  6.91it/s]\u001b[A\n",
      " 45%|████▌     | 18/40 [00:02<00:03,  6.91it/s]\u001b[A\n",
      " 48%|████▊     | 19/40 [00:02<00:03,  6.90it/s]\u001b[A\n",
      " 50%|█████     | 20/40 [00:02<00:02,  6.90it/s]\u001b[A\n",
      " 52%|█████▎    | 21/40 [00:02<00:02,  6.90it/s]\u001b[A\n",
      " 55%|█████▌    | 22/40 [00:03<00:02,  6.90it/s]\u001b[A\n",
      " 57%|█████▊    | 23/40 [00:03<00:02,  6.90it/s]\u001b[A\n",
      " 60%|██████    | 24/40 [00:03<00:02,  6.89it/s]\u001b[A\n",
      " 62%|██████▎   | 25/40 [00:03<00:02,  6.89it/s]\u001b[A\n",
      " 65%|██████▌   | 26/40 [00:03<00:02,  6.90it/s]\u001b[A\n",
      " 68%|██████▊   | 27/40 [00:03<00:01,  6.89it/s]\u001b[A\n",
      " 70%|███████   | 28/40 [00:03<00:01,  6.90it/s]\u001b[A\n",
      " 72%|███████▎  | 29/40 [00:04<00:01,  6.90it/s]\u001b[A\n",
      " 75%|███████▌  | 30/40 [00:04<00:01,  6.90it/s]\u001b[A\n",
      " 78%|███████▊  | 31/40 [00:04<00:01,  6.90it/s]\u001b[A\n",
      " 80%|████████  | 32/40 [00:04<00:01,  6.90it/s]\u001b[A\n",
      " 82%|████████▎ | 33/40 [00:04<00:01,  6.89it/s]\u001b[A\n",
      " 85%|████████▌ | 34/40 [00:04<00:00,  6.90it/s]\u001b[A\n",
      " 88%|████████▊ | 35/40 [00:04<00:00,  6.90it/s]\u001b[A\n",
      " 90%|█████████ | 36/40 [00:05<00:00,  6.90it/s]\u001b[A\n",
      " 92%|█████████▎| 37/40 [00:05<00:00,  6.89it/s]\u001b[A\n",
      " 95%|█████████▌| 38/40 [00:05<00:00,  6.89it/s]\u001b[A\n",
      " 98%|█████████▊| 39/40 [00:05<00:00,  7.05it/s]\u001b[A\n",
      "                                                     \n",
      "  1%|          | 500/78140 [03:30<8:25:10,  2.56it/s]\n",
      "100%|██████████| 40/40 [00:06<00:00,  5.56it/s]\u001b[A\n",
      "                                               \u001b[A"
     ]
    },
    {
     "name": "stdout",
     "output_type": "stream",
     "text": [
      "{'eval_loss': 1.2690157890319824, 'eval_token_accuracy': 0.6745680370319447, 'eval_exact_match_accuracy': 0.0, 'eval_runtime': 6.274, 'eval_samples_per_second': 1593.892, 'eval_steps_per_second': 6.376, 'epoch': 0.13}\n"
     ]
    },
    {
     "name": "stderr",
     "output_type": "stream",
     "text": [
      "  1%|▏         | 1000/78140 [06:59<8:22:00,  2.56it/s] \n",
      "  0%|          | 0/40 [00:00<?, ?it/s]\u001b[A"
     ]
    },
    {
     "name": "stdout",
     "output_type": "stream",
     "text": [
      "{'loss': 1.2409, 'grad_norm': 1.0583919286727905, 'learning_rate': 9.995975649895321e-05, 'epoch': 0.26}\n"
     ]
    },
    {
     "name": "stderr",
     "output_type": "stream",
     "text": [
      "\n",
      "  5%|▌         | 2/40 [00:00<00:02, 13.81it/s]\u001b[A\n",
      " 10%|█         | 4/40 [00:00<00:04,  8.69it/s]\u001b[A\n",
      " 12%|█▎        | 5/40 [00:00<00:04,  8.07it/s]\u001b[A\n",
      " 15%|█▌        | 6/40 [00:00<00:04,  7.68it/s]\u001b[A\n",
      " 18%|█▊        | 7/40 [00:00<00:04,  7.42it/s]\u001b[A\n",
      " 20%|██        | 8/40 [00:01<00:04,  7.26it/s]\u001b[A\n",
      " 22%|██▎       | 9/40 [00:01<00:04,  7.14it/s]\u001b[A\n",
      " 25%|██▌       | 10/40 [00:01<00:04,  7.07it/s]\u001b[A\n",
      " 28%|██▊       | 11/40 [00:01<00:04,  7.01it/s]\u001b[A\n",
      " 30%|███       | 12/40 [00:01<00:04,  6.98it/s]\u001b[A\n",
      " 32%|███▎      | 13/40 [00:01<00:03,  6.95it/s]\u001b[A\n",
      " 35%|███▌      | 14/40 [00:01<00:03,  6.93it/s]\u001b[A\n",
      " 38%|███▊      | 15/40 [00:02<00:03,  6.92it/s]\u001b[A\n",
      " 40%|████      | 16/40 [00:02<00:03,  6.92it/s]\u001b[A\n",
      " 42%|████▎     | 17/40 [00:02<00:03,  6.91it/s]\u001b[A\n",
      " 45%|████▌     | 18/40 [00:02<00:03,  6.87it/s]\u001b[A\n",
      " 48%|████▊     | 19/40 [00:02<00:03,  6.85it/s]\u001b[A\n",
      " 50%|█████     | 20/40 [00:02<00:02,  6.86it/s]\u001b[A\n",
      " 52%|█████▎    | 21/40 [00:02<00:02,  6.87it/s]\u001b[A\n",
      " 55%|█████▌    | 22/40 [00:03<00:02,  6.88it/s]\u001b[A\n",
      " 57%|█████▊    | 23/40 [00:03<00:02,  6.88it/s]\u001b[A\n",
      " 60%|██████    | 24/40 [00:03<00:02,  6.89it/s]\u001b[A\n",
      " 62%|██████▎   | 25/40 [00:03<00:02,  6.89it/s]\u001b[A\n",
      " 65%|██████▌   | 26/40 [00:03<00:02,  6.89it/s]\u001b[A\n",
      " 68%|██████▊   | 27/40 [00:03<00:01,  6.89it/s]\u001b[A\n",
      " 70%|███████   | 28/40 [00:03<00:01,  6.89it/s]\u001b[A\n",
      " 72%|███████▎  | 29/40 [00:04<00:01,  6.89it/s]\u001b[A\n",
      " 75%|███████▌  | 30/40 [00:04<00:01,  6.90it/s]\u001b[A\n",
      " 78%|███████▊  | 31/40 [00:04<00:01,  6.90it/s]\u001b[A\n",
      " 80%|████████  | 32/40 [00:04<00:01,  6.89it/s]\u001b[A\n",
      " 82%|████████▎ | 33/40 [00:04<00:01,  6.89it/s]\u001b[A\n",
      " 85%|████████▌ | 34/40 [00:04<00:00,  6.89it/s]\u001b[A\n",
      " 88%|████████▊ | 35/40 [00:04<00:00,  6.89it/s]\u001b[A\n",
      " 90%|█████████ | 36/40 [00:05<00:00,  6.89it/s]\u001b[A\n",
      " 92%|█████████▎| 37/40 [00:05<00:00,  6.89it/s]\u001b[A\n",
      " 95%|█████████▌| 38/40 [00:05<00:00,  6.89it/s]\u001b[A\n",
      "                                                      \n",
      "  1%|▏         | 1000/78140 [07:05<8:22:00,  2.56it/s]\n",
      "100%|██████████| 40/40 [00:05<00:00,  7.06it/s]\u001b[A\n",
      "                                               \u001b[A"
     ]
    },
    {
     "name": "stdout",
     "output_type": "stream",
     "text": [
      "{'eval_loss': 1.1782017946243286, 'eval_token_accuracy': 0.6728722672899766, 'eval_exact_match_accuracy': 0.0, 'eval_runtime': 5.9795, 'eval_samples_per_second': 1672.392, 'eval_steps_per_second': 6.69, 'epoch': 0.26}\n"
     ]
    },
    {
     "name": "stderr",
     "output_type": "stream",
     "text": [
      "  2%|▏         | 1500/78140 [10:30<8:18:06,  2.56it/s]  \n",
      "  0%|          | 0/40 [00:00<?, ?it/s]\u001b[A"
     ]
    },
    {
     "name": "stdout",
     "output_type": "stream",
     "text": [
      "{'loss': 1.1771, 'grad_norm': 0.9776811003684998, 'learning_rate': 9.990934635126753e-05, 'epoch': 0.38}\n"
     ]
    },
    {
     "name": "stderr",
     "output_type": "stream",
     "text": [
      "\n",
      "  5%|▌         | 2/40 [00:00<00:02, 13.80it/s]\u001b[A\n",
      " 10%|█         | 4/40 [00:00<00:04,  8.68it/s]\u001b[A\n",
      " 12%|█▎        | 5/40 [00:00<00:04,  8.06it/s]\u001b[A\n",
      " 15%|█▌        | 6/40 [00:00<00:04,  7.67it/s]\u001b[A\n",
      " 18%|█▊        | 7/40 [00:00<00:04,  7.42it/s]\u001b[A\n",
      " 20%|██        | 8/40 [00:01<00:04,  7.25it/s]\u001b[A\n",
      " 22%|██▎       | 9/40 [00:01<00:04,  7.14it/s]\u001b[A\n",
      " 25%|██▌       | 10/40 [00:01<00:04,  7.07it/s]\u001b[A\n",
      " 28%|██▊       | 11/40 [00:01<00:04,  7.01it/s]\u001b[A\n",
      " 30%|███       | 12/40 [00:01<00:04,  6.97it/s]\u001b[A\n",
      " 32%|███▎      | 13/40 [00:01<00:03,  6.93it/s]\u001b[A\n",
      " 35%|███▌      | 14/40 [00:01<00:03,  6.92it/s]\u001b[A\n",
      " 38%|███▊      | 15/40 [00:02<00:03,  6.91it/s]\u001b[A\n",
      " 40%|████      | 16/40 [00:02<00:03,  6.90it/s]\u001b[A\n",
      " 42%|████▎     | 17/40 [00:02<00:03,  6.90it/s]\u001b[A\n",
      " 45%|████▌     | 18/40 [00:02<00:03,  6.90it/s]\u001b[A\n",
      " 48%|████▊     | 19/40 [00:02<00:03,  6.90it/s]\u001b[A\n",
      " 50%|█████     | 20/40 [00:02<00:02,  6.90it/s]\u001b[A\n",
      " 52%|█████▎    | 21/40 [00:02<00:02,  6.90it/s]\u001b[A\n",
      " 55%|█████▌    | 22/40 [00:03<00:02,  6.90it/s]\u001b[A\n",
      " 57%|█████▊    | 23/40 [00:03<00:02,  6.90it/s]\u001b[A\n",
      " 60%|██████    | 24/40 [00:03<00:02,  6.90it/s]\u001b[A\n",
      " 62%|██████▎   | 25/40 [00:03<00:02,  6.89it/s]\u001b[A\n",
      " 65%|██████▌   | 26/40 [00:03<00:02,  6.90it/s]\u001b[A\n",
      " 68%|██████▊   | 27/40 [00:03<00:01,  6.90it/s]\u001b[A\n",
      " 70%|███████   | 28/40 [00:03<00:01,  6.90it/s]\u001b[A\n",
      " 72%|███████▎  | 29/40 [00:04<00:01,  6.89it/s]\u001b[A\n",
      " 75%|███████▌  | 30/40 [00:04<00:01,  6.89it/s]\u001b[A\n",
      " 78%|███████▊  | 31/40 [00:04<00:01,  6.88it/s]\u001b[A\n",
      " 80%|████████  | 32/40 [00:04<00:01,  6.88it/s]\u001b[A\n",
      " 82%|████████▎ | 33/40 [00:04<00:01,  6.88it/s]\u001b[A\n",
      " 85%|████████▌ | 34/40 [00:04<00:00,  6.88it/s]\u001b[A\n",
      " 88%|████████▊ | 35/40 [00:04<00:00,  6.88it/s]\u001b[A\n",
      " 90%|█████████ | 36/40 [00:05<00:00,  6.88it/s]\u001b[A\n",
      " 92%|█████████▎| 37/40 [00:05<00:00,  6.89it/s]\u001b[A\n",
      " 95%|█████████▌| 38/40 [00:05<00:00,  6.89it/s]\u001b[A\n",
      "                                                      \n",
      "  2%|▏         | 1500/78140 [10:36<8:18:06,  2.56it/s]\n",
      "100%|██████████| 40/40 [00:05<00:00,  7.05it/s]\u001b[A\n",
      "                                               \u001b[A"
     ]
    },
    {
     "name": "stdout",
     "output_type": "stream",
     "text": [
      "{'eval_loss': 1.133472204208374, 'eval_token_accuracy': 0.6711031669645722, 'eval_exact_match_accuracy': 0.0, 'eval_runtime': 5.95, 'eval_samples_per_second': 1680.672, 'eval_steps_per_second': 6.723, 'epoch': 0.38}\n"
     ]
    },
    {
     "name": "stderr",
     "output_type": "stream",
     "text": [
      "  3%|▎         | 2000/78140 [14:00<8:15:28,  2.56it/s]  \n",
      "  0%|          | 0/40 [00:00<?, ?it/s]\u001b[A"
     ]
    },
    {
     "name": "stdout",
     "output_type": "stream",
     "text": [
      "{'loss': 1.1444, 'grad_norm': 0.989952802658081, 'learning_rate': 9.983876832596415e-05, 'epoch': 0.51}\n"
     ]
    },
    {
     "name": "stderr",
     "output_type": "stream",
     "text": [
      "\n",
      "  5%|▌         | 2/40 [00:00<00:02, 13.92it/s]\u001b[A\n",
      " 10%|█         | 4/40 [00:00<00:04,  8.71it/s]\u001b[A\n",
      " 12%|█▎        | 5/40 [00:00<00:04,  8.07it/s]\u001b[A\n",
      " 15%|█▌        | 6/40 [00:00<00:04,  7.68it/s]\u001b[A\n",
      " 18%|█▊        | 7/40 [00:00<00:04,  7.43it/s]\u001b[A\n",
      " 20%|██        | 8/40 [00:01<00:04,  7.26it/s]\u001b[A\n",
      " 22%|██▎       | 9/40 [00:01<00:04,  7.15it/s]\u001b[A\n",
      " 25%|██▌       | 10/40 [00:01<00:04,  7.07it/s]\u001b[A\n",
      " 28%|██▊       | 11/40 [00:01<00:04,  7.01it/s]\u001b[A\n",
      " 30%|███       | 12/40 [00:01<00:04,  6.98it/s]\u001b[A\n",
      " 32%|███▎      | 13/40 [00:01<00:03,  6.95it/s]\u001b[A\n",
      " 35%|███▌      | 14/40 [00:01<00:03,  6.93it/s]\u001b[A\n",
      " 38%|███▊      | 15/40 [00:02<00:03,  6.92it/s]\u001b[A\n",
      " 40%|████      | 16/40 [00:02<00:03,  6.91it/s]\u001b[A\n",
      " 42%|████▎     | 17/40 [00:02<00:03,  6.91it/s]\u001b[A\n",
      " 45%|████▌     | 18/40 [00:02<00:03,  6.90it/s]\u001b[A\n",
      " 48%|████▊     | 19/40 [00:02<00:03,  6.90it/s]\u001b[A\n",
      " 50%|█████     | 20/40 [00:02<00:02,  6.90it/s]\u001b[A\n",
      " 52%|█████▎    | 21/40 [00:02<00:02,  6.90it/s]\u001b[A\n",
      " 55%|█████▌    | 22/40 [00:03<00:02,  6.90it/s]\u001b[A\n",
      " 57%|█████▊    | 23/40 [00:03<00:02,  6.90it/s]\u001b[A\n",
      " 60%|██████    | 24/40 [00:03<00:02,  6.90it/s]\u001b[A\n",
      " 62%|██████▎   | 25/40 [00:03<00:02,  6.90it/s]\u001b[A\n",
      " 65%|██████▌   | 26/40 [00:03<00:02,  6.89it/s]\u001b[A\n",
      " 68%|██████▊   | 27/40 [00:03<00:01,  6.89it/s]\u001b[A\n",
      " 70%|███████   | 28/40 [00:03<00:01,  6.89it/s]\u001b[A\n",
      " 72%|███████▎  | 29/40 [00:04<00:01,  6.90it/s]\u001b[A\n",
      " 75%|███████▌  | 30/40 [00:04<00:01,  6.90it/s]\u001b[A\n",
      " 78%|███████▊  | 31/40 [00:04<00:01,  6.90it/s]\u001b[A\n",
      " 80%|████████  | 32/40 [00:04<00:01,  6.90it/s]\u001b[A\n",
      " 82%|████████▎ | 33/40 [00:04<00:01,  6.90it/s]\u001b[A\n",
      " 85%|████████▌ | 34/40 [00:04<00:00,  6.90it/s]\u001b[A\n",
      " 88%|████████▊ | 35/40 [00:04<00:00,  6.90it/s]\u001b[A\n",
      " 90%|█████████ | 36/40 [00:05<00:00,  6.90it/s]\u001b[A\n",
      " 92%|█████████▎| 37/40 [00:05<00:00,  6.90it/s]\u001b[A\n",
      " 95%|█████████▌| 38/40 [00:05<00:00,  6.90it/s]\u001b[A\n",
      "                                                      \n",
      "  3%|▎         | 2000/78140 [14:06<8:15:28,  2.56it/s]\n",
      "100%|██████████| 40/40 [00:05<00:00,  7.07it/s]\u001b[A\n",
      "                                               \u001b[A"
     ]
    },
    {
     "name": "stdout",
     "output_type": "stream",
     "text": [
      "{'eval_loss': 1.1064256429672241, 'eval_token_accuracy': 0.6708831752142628, 'eval_exact_match_accuracy': 0.0, 'eval_runtime': 5.9329, 'eval_samples_per_second': 1685.516, 'eval_steps_per_second': 6.742, 'epoch': 0.51}\n"
     ]
    },
    {
     "name": "stderr",
     "output_type": "stream",
     "text": [
      "  3%|▎         | 2500/78140 [17:33<8:12:34,  2.56it/s]  \n",
      "  0%|          | 0/40 [00:00<?, ?it/s]\u001b[A"
     ]
    },
    {
     "name": "stdout",
     "output_type": "stream",
     "text": [
      "{'loss': 1.1217, 'grad_norm': 0.9728642702102661, 'learning_rate': 9.974805094293126e-05, 'epoch': 0.64}\n"
     ]
    },
    {
     "name": "stderr",
     "output_type": "stream",
     "text": [
      "\n",
      "  5%|▌         | 2/40 [00:00<00:02, 13.89it/s]\u001b[A\n",
      " 10%|█         | 4/40 [00:00<00:04,  8.71it/s]\u001b[A\n",
      " 12%|█▎        | 5/40 [00:00<00:04,  8.08it/s]\u001b[A\n",
      " 15%|█▌        | 6/40 [00:00<00:04,  7.68it/s]\u001b[A\n",
      " 18%|█▊        | 7/40 [00:00<00:04,  7.43it/s]\u001b[A\n",
      " 20%|██        | 8/40 [00:01<00:04,  7.26it/s]\u001b[A\n",
      " 22%|██▎       | 9/40 [00:01<00:04,  7.15it/s]\u001b[A\n",
      " 25%|██▌       | 10/40 [00:01<00:04,  7.07it/s]\u001b[A\n",
      " 28%|██▊       | 11/40 [00:01<00:04,  7.02it/s]\u001b[A\n",
      " 30%|███       | 12/40 [00:01<00:04,  6.98it/s]\u001b[A\n",
      " 32%|███▎      | 13/40 [00:01<00:03,  6.96it/s]\u001b[A\n",
      " 35%|███▌      | 14/40 [00:01<00:03,  6.94it/s]\u001b[A\n",
      " 38%|███▊      | 15/40 [00:02<00:03,  6.93it/s]\u001b[A\n",
      " 40%|████      | 16/40 [00:02<00:03,  6.92it/s]\u001b[A\n",
      " 42%|████▎     | 17/40 [00:02<00:03,  6.91it/s]\u001b[A\n",
      " 45%|████▌     | 18/40 [00:02<00:03,  6.91it/s]\u001b[A\n",
      " 48%|████▊     | 19/40 [00:02<00:03,  6.91it/s]\u001b[A\n",
      " 50%|█████     | 20/40 [00:02<00:02,  6.90it/s]\u001b[A\n",
      " 52%|█████▎    | 21/40 [00:02<00:02,  6.90it/s]\u001b[A\n",
      " 55%|█████▌    | 22/40 [00:03<00:02,  6.90it/s]\u001b[A\n",
      " 57%|█████▊    | 23/40 [00:03<00:02,  6.90it/s]\u001b[A\n",
      " 60%|██████    | 24/40 [00:03<00:02,  6.90it/s]\u001b[A\n",
      " 62%|██████▎   | 25/40 [00:03<00:02,  6.90it/s]\u001b[A\n",
      " 65%|██████▌   | 26/40 [00:03<00:02,  6.90it/s]\u001b[A\n",
      " 68%|██████▊   | 27/40 [00:03<00:01,  6.90it/s]\u001b[A\n",
      " 70%|███████   | 28/40 [00:03<00:01,  6.90it/s]\u001b[A\n",
      " 72%|███████▎  | 29/40 [00:04<00:01,  6.90it/s]\u001b[A\n",
      " 75%|███████▌  | 30/40 [00:04<00:01,  6.90it/s]\u001b[A\n",
      " 78%|███████▊  | 31/40 [00:04<00:01,  6.89it/s]\u001b[A\n",
      " 80%|████████  | 32/40 [00:04<00:01,  6.89it/s]\u001b[A\n",
      " 82%|████████▎ | 33/40 [00:04<00:01,  6.90it/s]\u001b[A\n",
      " 85%|████████▌ | 34/40 [00:04<00:00,  6.90it/s]\u001b[A\n",
      " 88%|████████▊ | 35/40 [00:04<00:00,  6.90it/s]\u001b[A\n",
      " 90%|█████████ | 36/40 [00:05<00:00,  6.90it/s]\u001b[A\n",
      " 92%|█████████▎| 37/40 [00:05<00:00,  6.90it/s]\u001b[A\n",
      " 95%|█████████▌| 38/40 [00:05<00:00,  6.90it/s]\u001b[A\n",
      "                                                      \n",
      "  3%|▎         | 2500/78140 [17:39<8:12:34,  2.56it/s]\n",
      "100%|██████████| 40/40 [00:05<00:00,  7.07it/s]\u001b[A\n",
      "                                               \u001b[A"
     ]
    },
    {
     "name": "stdout",
     "output_type": "stream",
     "text": [
      "{'eval_loss': 1.090122103691101, 'eval_token_accuracy': 0.6709198405059811, 'eval_exact_match_accuracy': 0.0, 'eval_runtime': 5.9462, 'eval_samples_per_second': 1681.75, 'eval_steps_per_second': 6.727, 'epoch': 0.64}\n"
     ]
    },
    {
     "name": "stderr",
     "output_type": "stream",
     "text": [
      "  4%|▍         | 3000/78140 [21:09<8:08:44,  2.56it/s]  \n",
      "  0%|          | 0/40 [00:00<?, ?it/s]\u001b[A"
     ]
    },
    {
     "name": "stdout",
     "output_type": "stream",
     "text": [
      "{'loss': 1.1031, 'grad_norm': 0.9789372086524963, 'learning_rate': 9.963723086017407e-05, 'epoch': 0.77}\n"
     ]
    },
    {
     "name": "stderr",
     "output_type": "stream",
     "text": [
      "\n",
      "  5%|▌         | 2/40 [00:00<00:02, 13.81it/s]\u001b[A\n",
      " 10%|█         | 4/40 [00:00<00:04,  8.70it/s]\u001b[A\n",
      " 12%|█▎        | 5/40 [00:00<00:04,  8.07it/s]\u001b[A\n",
      " 15%|█▌        | 6/40 [00:00<00:04,  7.68it/s]\u001b[A\n",
      " 18%|█▊        | 7/40 [00:00<00:04,  7.43it/s]\u001b[A\n",
      " 20%|██        | 8/40 [00:01<00:04,  7.26it/s]\u001b[A\n",
      " 22%|██▎       | 9/40 [00:01<00:04,  7.15it/s]\u001b[A\n",
      " 25%|██▌       | 10/40 [00:01<00:04,  7.08it/s]\u001b[A\n",
      " 28%|██▊       | 11/40 [00:01<00:04,  7.02it/s]\u001b[A\n",
      " 30%|███       | 12/40 [00:01<00:04,  6.99it/s]\u001b[A\n",
      " 32%|███▎      | 13/40 [00:01<00:03,  6.96it/s]\u001b[A\n",
      " 35%|███▌      | 14/40 [00:01<00:03,  6.94it/s]\u001b[A\n",
      " 38%|███▊      | 15/40 [00:02<00:03,  6.93it/s]\u001b[A\n",
      " 40%|████      | 16/40 [00:02<00:03,  6.92it/s]\u001b[A\n",
      " 42%|████▎     | 17/40 [00:02<00:03,  6.91it/s]\u001b[A\n",
      " 45%|████▌     | 18/40 [00:02<00:03,  6.91it/s]\u001b[A\n",
      " 48%|████▊     | 19/40 [00:02<00:03,  6.90it/s]\u001b[A\n",
      " 50%|█████     | 20/40 [00:02<00:02,  6.90it/s]\u001b[A\n",
      " 52%|█████▎    | 21/40 [00:02<00:02,  6.90it/s]\u001b[A\n",
      " 55%|█████▌    | 22/40 [00:03<00:02,  6.90it/s]\u001b[A\n",
      " 57%|█████▊    | 23/40 [00:03<00:02,  6.90it/s]\u001b[A\n",
      " 60%|██████    | 24/40 [00:03<00:02,  6.90it/s]\u001b[A\n",
      " 62%|██████▎   | 25/40 [00:03<00:02,  6.90it/s]\u001b[A\n",
      " 65%|██████▌   | 26/40 [00:03<00:02,  6.90it/s]\u001b[A\n",
      " 68%|██████▊   | 27/40 [00:03<00:01,  6.90it/s]\u001b[A\n",
      " 70%|███████   | 28/40 [00:03<00:01,  6.90it/s]\u001b[A\n",
      " 72%|███████▎  | 29/40 [00:04<00:01,  6.90it/s]\u001b[A\n",
      " 75%|███████▌  | 30/40 [00:04<00:01,  6.90it/s]\u001b[A\n",
      " 78%|███████▊  | 31/40 [00:04<00:01,  6.90it/s]\u001b[A\n",
      " 80%|████████  | 32/40 [00:04<00:01,  6.90it/s]\u001b[A\n",
      " 82%|████████▎ | 33/40 [00:04<00:01,  6.90it/s]\u001b[A\n",
      " 85%|████████▌ | 34/40 [00:04<00:00,  6.90it/s]\u001b[A\n",
      " 88%|████████▊ | 35/40 [00:04<00:00,  6.90it/s]\u001b[A\n",
      " 90%|█████████ | 36/40 [00:05<00:00,  6.89it/s]\u001b[A\n",
      " 92%|█████████▎| 37/40 [00:05<00:00,  6.90it/s]\u001b[A\n",
      " 95%|█████████▌| 38/40 [00:05<00:00,  6.90it/s]\u001b[A\n",
      "                                                      \n",
      "  4%|▍         | 3000/78140 [21:15<8:08:44,  2.56it/s]\n",
      "100%|██████████| 40/40 [00:05<00:00,  7.06it/s]\u001b[A\n",
      "                                               \u001b[A"
     ]
    },
    {
     "name": "stdout",
     "output_type": "stream",
     "text": [
      "{'eval_loss': 1.075084924697876, 'eval_token_accuracy': 0.6702506989321234, 'eval_exact_match_accuracy': 0.0, 'eval_runtime': 5.9601, 'eval_samples_per_second': 1677.833, 'eval_steps_per_second': 6.711, 'epoch': 0.77}\n"
     ]
    },
    {
     "name": "stderr",
     "output_type": "stream",
     "text": [
      "  4%|▍         | 3500/78140 [24:40<8:05:53,  2.56it/s]  \n",
      "  0%|          | 0/40 [00:00<?, ?it/s]\u001b[A"
     ]
    },
    {
     "name": "stdout",
     "output_type": "stream",
     "text": [
      "{'loss': 1.0903, 'grad_norm': 1.086523175239563, 'learning_rate': 9.950635285900171e-05, 'epoch': 0.9}\n"
     ]
    },
    {
     "name": "stderr",
     "output_type": "stream",
     "text": [
      "\n",
      "  5%|▌         | 2/40 [00:00<00:02, 13.90it/s]\u001b[A\n",
      " 10%|█         | 4/40 [00:00<00:04,  8.71it/s]\u001b[A\n",
      " 12%|█▎        | 5/40 [00:00<00:04,  8.07it/s]\u001b[A\n",
      " 15%|█▌        | 6/40 [00:00<00:04,  7.68it/s]\u001b[A\n",
      " 18%|█▊        | 7/40 [00:00<00:04,  7.43it/s]\u001b[A\n",
      " 20%|██        | 8/40 [00:01<00:04,  7.26it/s]\u001b[A\n",
      " 22%|██▎       | 9/40 [00:01<00:04,  7.15it/s]\u001b[A\n",
      " 25%|██▌       | 10/40 [00:01<00:04,  7.07it/s]\u001b[A\n",
      " 28%|██▊       | 11/40 [00:01<00:04,  7.01it/s]\u001b[A\n",
      " 30%|███       | 12/40 [00:01<00:04,  6.96it/s]\u001b[A\n",
      " 32%|███▎      | 13/40 [00:01<00:03,  6.94it/s]\u001b[A\n",
      " 35%|███▌      | 14/40 [00:01<00:03,  6.92it/s]\u001b[A\n",
      " 38%|███▊      | 15/40 [00:02<00:03,  6.91it/s]\u001b[A\n",
      " 40%|████      | 16/40 [00:02<00:03,  6.90it/s]\u001b[A\n",
      " 42%|████▎     | 17/40 [00:02<00:03,  6.89it/s]\u001b[A\n",
      " 45%|████▌     | 18/40 [00:02<00:03,  6.88it/s]\u001b[A\n",
      " 48%|████▊     | 19/40 [00:02<00:03,  6.88it/s]\u001b[A\n",
      " 50%|█████     | 20/40 [00:02<00:02,  6.88it/s]\u001b[A\n",
      " 52%|█████▎    | 21/40 [00:02<00:02,  6.88it/s]\u001b[A\n",
      " 55%|█████▌    | 22/40 [00:03<00:02,  6.89it/s]\u001b[A\n",
      " 57%|█████▊    | 23/40 [00:03<00:02,  6.89it/s]\u001b[A\n",
      " 60%|██████    | 24/40 [00:03<00:02,  6.89it/s]\u001b[A\n",
      " 62%|██████▎   | 25/40 [00:03<00:02,  6.89it/s]\u001b[A\n",
      " 65%|██████▌   | 26/40 [00:03<00:02,  6.89it/s]\u001b[A\n",
      " 68%|██████▊   | 27/40 [00:03<00:01,  6.89it/s]\u001b[A\n",
      " 70%|███████   | 28/40 [00:03<00:01,  6.89it/s]\u001b[A\n",
      " 72%|███████▎  | 29/40 [00:04<00:01,  6.89it/s]\u001b[A\n",
      " 75%|███████▌  | 30/40 [00:04<00:01,  6.89it/s]\u001b[A\n",
      " 78%|███████▊  | 31/40 [00:04<00:01,  6.89it/s]\u001b[A\n",
      " 80%|████████  | 32/40 [00:04<00:01,  6.89it/s]\u001b[A\n",
      " 82%|████████▎ | 33/40 [00:04<00:01,  6.89it/s]\u001b[A\n",
      " 85%|████████▌ | 34/40 [00:04<00:00,  6.88it/s]\u001b[A\n",
      " 88%|████████▊ | 35/40 [00:04<00:00,  6.89it/s]\u001b[A\n",
      " 90%|█████████ | 36/40 [00:05<00:00,  6.89it/s]\u001b[A\n",
      " 92%|█████████▎| 37/40 [00:05<00:00,  6.89it/s]\u001b[A\n",
      " 95%|█████████▌| 38/40 [00:05<00:00,  6.89it/s]\u001b[A\n",
      "                                                      \n",
      "  4%|▍         | 3500/78140 [24:46<8:05:53,  2.56it/s]\n",
      "100%|██████████| 40/40 [00:05<00:00,  7.06it/s]\u001b[A\n",
      "                                               \u001b[A"
     ]
    },
    {
     "name": "stdout",
     "output_type": "stream",
     "text": [
      "{'eval_loss': 1.0618865489959717, 'eval_token_accuracy': 0.6689857463678446, 'eval_exact_match_accuracy': 0.0, 'eval_runtime': 5.9475, 'eval_samples_per_second': 1681.368, 'eval_steps_per_second': 6.725, 'epoch': 0.9}\n"
     ]
    },
    {
     "name": "stderr",
     "output_type": "stream",
     "text": [
      "  5%|▌         | 4000/78140 [28:10<8:02:22,  2.56it/s]  \n",
      "  0%|          | 0/40 [00:00<?, ?it/s]\u001b[A"
     ]
    },
    {
     "name": "stdout",
     "output_type": "stream",
     "text": [
      "{'loss': 1.0674, 'grad_norm': 1.1490004062652588, 'learning_rate': 9.935546982593147e-05, 'epoch': 1.02}\n"
     ]
    },
    {
     "name": "stderr",
     "output_type": "stream",
     "text": [
      "\n",
      "  5%|▌         | 2/40 [00:00<00:02, 13.81it/s]\u001b[A\n",
      " 10%|█         | 4/40 [00:00<00:04,  8.69it/s]\u001b[A\n",
      " 12%|█▎        | 5/40 [00:00<00:04,  8.06it/s]\u001b[A\n",
      " 15%|█▌        | 6/40 [00:00<00:04,  7.68it/s]\u001b[A\n",
      " 18%|█▊        | 7/40 [00:00<00:04,  7.43it/s]\u001b[A\n",
      " 20%|██        | 8/40 [00:01<00:04,  7.26it/s]\u001b[A\n",
      " 22%|██▎       | 9/40 [00:01<00:04,  7.15it/s]\u001b[A\n",
      " 25%|██▌       | 10/40 [00:01<00:04,  7.07it/s]\u001b[A\n",
      " 28%|██▊       | 11/40 [00:01<00:04,  7.02it/s]\u001b[A\n",
      " 30%|███       | 12/40 [00:01<00:04,  6.98it/s]\u001b[A\n",
      " 32%|███▎      | 13/40 [00:01<00:03,  6.96it/s]\u001b[A\n",
      " 35%|███▌      | 14/40 [00:01<00:03,  6.94it/s]\u001b[A\n",
      " 38%|███▊      | 15/40 [00:02<00:03,  6.92it/s]\u001b[A\n",
      " 40%|████      | 16/40 [00:02<00:03,  6.92it/s]\u001b[A\n",
      " 42%|████▎     | 17/40 [00:02<00:03,  6.91it/s]\u001b[A\n",
      " 45%|████▌     | 18/40 [00:02<00:03,  6.90it/s]\u001b[A\n",
      " 48%|████▊     | 19/40 [00:02<00:03,  6.90it/s]\u001b[A\n",
      " 50%|█████     | 20/40 [00:02<00:02,  6.90it/s]\u001b[A\n",
      " 52%|█████▎    | 21/40 [00:02<00:02,  6.90it/s]\u001b[A\n",
      " 55%|█████▌    | 22/40 [00:03<00:02,  6.90it/s]\u001b[A\n",
      " 57%|█████▊    | 23/40 [00:03<00:02,  6.90it/s]\u001b[A\n",
      " 60%|██████    | 24/40 [00:03<00:02,  6.90it/s]\u001b[A\n",
      " 62%|██████▎   | 25/40 [00:03<00:02,  6.89it/s]\u001b[A\n",
      " 65%|██████▌   | 26/40 [00:03<00:02,  6.89it/s]\u001b[A\n",
      " 68%|██████▊   | 27/40 [00:03<00:01,  6.90it/s]\u001b[A\n",
      " 70%|███████   | 28/40 [00:03<00:01,  6.90it/s]\u001b[A\n",
      " 72%|███████▎  | 29/40 [00:04<00:01,  6.90it/s]\u001b[A\n",
      " 75%|███████▌  | 30/40 [00:04<00:01,  6.89it/s]\u001b[A\n",
      " 78%|███████▊  | 31/40 [00:04<00:01,  6.90it/s]\u001b[A\n",
      " 80%|████████  | 32/40 [00:04<00:01,  6.90it/s]\u001b[A\n",
      " 82%|████████▎ | 33/40 [00:04<00:01,  6.89it/s]\u001b[A\n",
      " 85%|████████▌ | 34/40 [00:04<00:00,  6.90it/s]\u001b[A\n",
      " 88%|████████▊ | 35/40 [00:04<00:00,  6.90it/s]\u001b[A\n",
      " 90%|█████████ | 36/40 [00:05<00:00,  6.90it/s]\u001b[A\n",
      " 92%|█████████▎| 37/40 [00:05<00:00,  6.90it/s]\u001b[A\n",
      " 95%|█████████▌| 38/40 [00:05<00:00,  6.90it/s]\u001b[A\n",
      "                                                      \n",
      "  5%|▌         | 4000/78140 [28:16<8:02:22,  2.56it/s]\n",
      "100%|██████████| 40/40 [00:05<00:00,  7.06it/s]\u001b[A\n",
      "                                               \u001b[A"
     ]
    },
    {
     "name": "stdout",
     "output_type": "stream",
     "text": [
      "{'eval_loss': 0.9945839047431946, 'eval_token_accuracy': 0.7038177735001604, 'eval_exact_match_accuracy': 0.0133, 'eval_runtime': 5.9369, 'eval_samples_per_second': 1684.382, 'eval_steps_per_second': 6.738, 'epoch': 1.02}\n"
     ]
    },
    {
     "name": "stderr",
     "output_type": "stream",
     "text": [
      "  6%|▌         | 4500/78140 [31:46<7:59:16,  2.56it/s]  \n",
      "  0%|          | 0/40 [00:00<?, ?it/s]\u001b[A"
     ]
    },
    {
     "name": "stdout",
     "output_type": "stream",
     "text": [
      "{'loss': 0.9442, 'grad_norm': 1.5353647470474243, 'learning_rate': 9.9184642731318e-05, 'epoch': 1.15}\n"
     ]
    },
    {
     "name": "stderr",
     "output_type": "stream",
     "text": [
      "\n",
      "  5%|▌         | 2/40 [00:00<00:02, 13.82it/s]\u001b[A\n",
      " 10%|█         | 4/40 [00:00<00:04,  8.69it/s]\u001b[A\n",
      " 12%|█▎        | 5/40 [00:00<00:04,  8.07it/s]\u001b[A\n",
      " 15%|█▌        | 6/40 [00:00<00:04,  7.67it/s]\u001b[A\n",
      " 18%|█▊        | 7/40 [00:00<00:04,  7.42it/s]\u001b[A\n",
      " 20%|██        | 8/40 [00:01<00:04,  7.25it/s]\u001b[A\n",
      " 22%|██▎       | 9/40 [00:01<00:04,  7.14it/s]\u001b[A\n",
      " 25%|██▌       | 10/40 [00:01<00:04,  7.06it/s]\u001b[A\n",
      " 28%|██▊       | 11/40 [00:01<00:04,  7.01it/s]\u001b[A\n",
      " 30%|███       | 12/40 [00:01<00:04,  6.97it/s]\u001b[A\n",
      " 32%|███▎      | 13/40 [00:01<00:03,  6.94it/s]\u001b[A\n",
      " 35%|███▌      | 14/40 [00:01<00:03,  6.93it/s]\u001b[A\n",
      " 38%|███▊      | 15/40 [00:02<00:03,  6.91it/s]\u001b[A\n",
      " 40%|████      | 16/40 [00:02<00:03,  6.91it/s]\u001b[A\n",
      " 42%|████▎     | 17/40 [00:02<00:03,  6.90it/s]\u001b[A\n",
      " 45%|████▌     | 18/40 [00:02<00:03,  6.90it/s]\u001b[A\n",
      " 48%|████▊     | 19/40 [00:02<00:03,  6.90it/s]\u001b[A\n",
      " 50%|█████     | 20/40 [00:02<00:02,  6.89it/s]\u001b[A\n",
      " 52%|█████▎    | 21/40 [00:02<00:02,  6.89it/s]\u001b[A\n",
      " 55%|█████▌    | 22/40 [00:03<00:02,  6.89it/s]\u001b[A\n",
      " 57%|█████▊    | 23/40 [00:03<00:02,  6.89it/s]\u001b[A\n",
      " 60%|██████    | 24/40 [00:03<00:02,  6.89it/s]\u001b[A\n",
      " 62%|██████▎   | 25/40 [00:03<00:02,  6.89it/s]\u001b[A\n",
      " 65%|██████▌   | 26/40 [00:03<00:02,  6.89it/s]\u001b[A\n",
      " 68%|██████▊   | 27/40 [00:03<00:01,  6.89it/s]\u001b[A\n",
      " 70%|███████   | 28/40 [00:03<00:01,  6.89it/s]\u001b[A\n",
      " 72%|███████▎  | 29/40 [00:04<00:01,  6.89it/s]\u001b[A\n",
      " 75%|███████▌  | 30/40 [00:04<00:01,  6.89it/s]\u001b[A\n",
      " 78%|███████▊  | 31/40 [00:04<00:01,  6.89it/s]\u001b[A\n",
      " 80%|████████  | 32/40 [00:04<00:01,  6.89it/s]\u001b[A\n",
      " 82%|████████▎ | 33/40 [00:04<00:01,  6.88it/s]\u001b[A\n",
      " 85%|████████▌ | 34/40 [00:04<00:00,  6.88it/s]\u001b[A\n",
      " 88%|████████▊ | 35/40 [00:04<00:00,  6.88it/s]\u001b[A\n",
      " 90%|█████████ | 36/40 [00:05<00:00,  6.89it/s]\u001b[A\n",
      " 92%|█████████▎| 37/40 [00:05<00:00,  6.89it/s]\u001b[A\n",
      " 95%|█████████▌| 38/40 [00:05<00:00,  6.89it/s]\u001b[A\n",
      "                                                      \n",
      "  6%|▌         | 4500/78140 [31:52<7:59:16,  2.56it/s]\n",
      "100%|██████████| 40/40 [00:05<00:00,  7.05it/s]\u001b[A\n",
      "                                               \u001b[A"
     ]
    },
    {
     "name": "stdout",
     "output_type": "stream",
     "text": [
      "{'eval_loss': 0.9152400493621826, 'eval_token_accuracy': 0.7339383106466841, 'eval_exact_match_accuracy': 0.0145, 'eval_runtime': 5.9787, 'eval_samples_per_second': 1672.593, 'eval_steps_per_second': 6.69, 'epoch': 1.15}\n"
     ]
    },
    {
     "name": "stderr",
     "output_type": "stream",
     "text": [
      "  6%|▋         | 5000/78140 [35:17<7:55:51,  2.56it/s]  \n",
      "  0%|          | 0/40 [00:00<?, ?it/s]\u001b[A"
     ]
    },
    {
     "name": "stdout",
     "output_type": "stream",
     "text": [
      "{'loss': 0.9161, 'grad_norm': 1.4159321784973145, 'learning_rate': 9.899394060471565e-05, 'epoch': 1.28}\n"
     ]
    },
    {
     "name": "stderr",
     "output_type": "stream",
     "text": [
      "\n",
      "  5%|▌         | 2/40 [00:00<00:02, 13.91it/s]\u001b[A\n",
      " 10%|█         | 4/40 [00:00<00:04,  8.71it/s]\u001b[A\n",
      " 12%|█▎        | 5/40 [00:00<00:04,  8.08it/s]\u001b[A\n",
      " 15%|█▌        | 6/40 [00:00<00:04,  7.68it/s]\u001b[A\n",
      " 18%|█▊        | 7/40 [00:00<00:04,  7.42it/s]\u001b[A\n",
      " 20%|██        | 8/40 [00:01<00:04,  7.26it/s]\u001b[A\n",
      " 22%|██▎       | 9/40 [00:01<00:04,  7.14it/s]\u001b[A\n",
      " 25%|██▌       | 10/40 [00:01<00:04,  7.06it/s]\u001b[A\n",
      " 28%|██▊       | 11/40 [00:01<00:04,  7.01it/s]\u001b[A\n",
      " 30%|███       | 12/40 [00:01<00:04,  6.97it/s]\u001b[A\n",
      " 32%|███▎      | 13/40 [00:01<00:03,  6.95it/s]\u001b[A\n",
      " 35%|███▌      | 14/40 [00:01<00:03,  6.93it/s]\u001b[A\n",
      " 38%|███▊      | 15/40 [00:02<00:03,  6.92it/s]\u001b[A\n",
      " 40%|████      | 16/40 [00:02<00:03,  6.92it/s]\u001b[A\n",
      " 42%|████▎     | 17/40 [00:02<00:03,  6.91it/s]\u001b[A\n",
      " 45%|████▌     | 18/40 [00:02<00:03,  6.90it/s]\u001b[A\n",
      " 48%|████▊     | 19/40 [00:02<00:03,  6.90it/s]\u001b[A\n",
      " 50%|█████     | 20/40 [00:02<00:02,  6.90it/s]\u001b[A\n",
      " 52%|█████▎    | 21/40 [00:02<00:02,  6.90it/s]\u001b[A\n",
      " 55%|█████▌    | 22/40 [00:03<00:02,  6.90it/s]\u001b[A\n",
      " 57%|█████▊    | 23/40 [00:03<00:02,  6.90it/s]\u001b[A\n",
      " 60%|██████    | 24/40 [00:03<00:02,  6.90it/s]\u001b[A\n",
      " 62%|██████▎   | 25/40 [00:03<00:02,  6.90it/s]\u001b[A\n",
      " 65%|██████▌   | 26/40 [00:03<00:02,  6.90it/s]\u001b[A\n",
      " 68%|██████▊   | 27/40 [00:03<00:01,  6.90it/s]\u001b[A\n",
      " 70%|███████   | 28/40 [00:03<00:01,  6.90it/s]\u001b[A\n",
      " 72%|███████▎  | 29/40 [00:04<00:01,  6.90it/s]\u001b[A\n",
      " 75%|███████▌  | 30/40 [00:04<00:01,  6.90it/s]\u001b[A\n",
      " 78%|███████▊  | 31/40 [00:04<00:01,  6.90it/s]\u001b[A\n",
      " 80%|████████  | 32/40 [00:04<00:01,  6.90it/s]\u001b[A\n",
      " 82%|████████▎ | 33/40 [00:04<00:01,  6.90it/s]\u001b[A\n",
      " 85%|████████▌ | 34/40 [00:04<00:00,  6.90it/s]\u001b[A\n",
      " 88%|████████▊ | 35/40 [00:04<00:00,  6.90it/s]\u001b[A\n",
      " 90%|█████████ | 36/40 [00:05<00:00,  6.90it/s]\u001b[A\n",
      " 92%|█████████▎| 37/40 [00:05<00:00,  6.90it/s]\u001b[A\n",
      " 95%|█████████▌| 38/40 [00:05<00:00,  6.89it/s]\u001b[A\n",
      "                                                      \n",
      "  6%|▋         | 5000/78140 [35:23<7:55:51,  2.56it/s]\n",
      "100%|██████████| 40/40 [00:05<00:00,  7.06it/s]\u001b[A\n",
      "                                               \u001b[A"
     ]
    },
    {
     "name": "stdout",
     "output_type": "stream",
     "text": [
      "{'eval_loss': 0.9016776084899902, 'eval_token_accuracy': 0.7341766350428526, 'eval_exact_match_accuracy': 0.0131, 'eval_runtime': 5.9774, 'eval_samples_per_second': 1672.975, 'eval_steps_per_second': 6.692, 'epoch': 1.28}\n"
     ]
    },
    {
     "name": "stderr",
     "output_type": "stream",
     "text": [
      "  7%|▋         | 5500/78140 [38:55<7:52:45,  2.56it/s]  \n",
      "  0%|          | 0/40 [00:00<?, ?it/s]\u001b[A"
     ]
    },
    {
     "name": "stdout",
     "output_type": "stream",
     "text": [
      "{'loss': 0.9056, 'grad_norm': 0.956434965133667, 'learning_rate': 9.878344050698442e-05, 'epoch': 1.41}\n"
     ]
    },
    {
     "name": "stderr",
     "output_type": "stream",
     "text": [
      "\n",
      "  5%|▌         | 2/40 [00:00<00:02, 13.80it/s]\u001b[A\n",
      " 10%|█         | 4/40 [00:00<00:04,  8.68it/s]\u001b[A\n",
      " 12%|█▎        | 5/40 [00:00<00:04,  8.05it/s]\u001b[A\n",
      " 15%|█▌        | 6/40 [00:00<00:04,  7.67it/s]\u001b[A\n",
      " 18%|█▊        | 7/40 [00:00<00:04,  7.42it/s]\u001b[A\n",
      " 20%|██        | 8/40 [00:01<00:04,  7.25it/s]\u001b[A\n",
      " 22%|██▎       | 9/40 [00:01<00:04,  7.14it/s]\u001b[A\n",
      " 25%|██▌       | 10/40 [00:01<00:04,  7.07it/s]\u001b[A\n",
      " 28%|██▊       | 11/40 [00:01<00:04,  7.01it/s]\u001b[A\n",
      " 30%|███       | 12/40 [00:01<00:04,  6.98it/s]\u001b[A\n",
      " 32%|███▎      | 13/40 [00:01<00:03,  6.95it/s]\u001b[A\n",
      " 35%|███▌      | 14/40 [00:01<00:03,  6.93it/s]\u001b[A\n",
      " 38%|███▊      | 15/40 [00:02<00:03,  6.92it/s]\u001b[A\n",
      " 40%|████      | 16/40 [00:02<00:03,  6.91it/s]\u001b[A\n",
      " 42%|████▎     | 17/40 [00:02<00:03,  6.91it/s]\u001b[A\n",
      " 45%|████▌     | 18/40 [00:02<00:03,  6.90it/s]\u001b[A\n",
      " 48%|████▊     | 19/40 [00:02<00:03,  6.90it/s]\u001b[A\n",
      " 50%|█████     | 20/40 [00:02<00:02,  6.90it/s]\u001b[A\n",
      " 52%|█████▎    | 21/40 [00:02<00:02,  6.90it/s]\u001b[A\n",
      " 55%|█████▌    | 22/40 [00:03<00:02,  6.90it/s]\u001b[A\n",
      " 57%|█████▊    | 23/40 [00:03<00:02,  6.89it/s]\u001b[A\n",
      " 60%|██████    | 24/40 [00:03<00:02,  6.89it/s]\u001b[A\n",
      " 62%|██████▎   | 25/40 [00:03<00:02,  6.89it/s]\u001b[A\n",
      " 65%|██████▌   | 26/40 [00:03<00:02,  6.89it/s]\u001b[A\n",
      " 68%|██████▊   | 27/40 [00:03<00:01,  6.89it/s]\u001b[A\n",
      " 70%|███████   | 28/40 [00:03<00:01,  6.89it/s]\u001b[A\n",
      " 72%|███████▎  | 29/40 [00:04<00:01,  6.89it/s]\u001b[A\n",
      " 75%|███████▌  | 30/40 [00:04<00:01,  6.89it/s]\u001b[A\n",
      " 78%|███████▊  | 31/40 [00:04<00:01,  6.89it/s]\u001b[A\n",
      " 80%|████████  | 32/40 [00:04<00:01,  6.89it/s]\u001b[A\n",
      " 82%|████████▎ | 33/40 [00:04<00:01,  6.89it/s]\u001b[A\n",
      " 85%|████████▌ | 34/40 [00:04<00:00,  6.89it/s]\u001b[A\n",
      " 88%|████████▊ | 35/40 [00:04<00:00,  6.90it/s]\u001b[A\n",
      " 90%|█████████ | 36/40 [00:05<00:00,  6.89it/s]\u001b[A\n",
      " 92%|█████████▎| 37/40 [00:05<00:00,  6.90it/s]\u001b[A\n",
      " 95%|█████████▌| 38/40 [00:05<00:00,  6.90it/s]\u001b[A\n",
      "                                                      \n",
      "  7%|▋         | 5500/78140 [39:01<7:52:45,  2.56it/s]\n",
      "100%|██████████| 40/40 [00:05<00:00,  7.06it/s]\u001b[A\n",
      "                                               \u001b[A"
     ]
    },
    {
     "name": "stdout",
     "output_type": "stream",
     "text": [
      "{'eval_loss': 0.8936141729354858, 'eval_token_accuracy': 0.7349374398460058, 'eval_exact_match_accuracy': 0.0162, 'eval_runtime': 6.0033, 'eval_samples_per_second': 1665.744, 'eval_steps_per_second': 6.663, 'epoch': 1.41}\n"
     ]
    },
    {
     "name": "stderr",
     "output_type": "stream",
     "text": [
      "  8%|▊         | 6000/78140 [42:31<7:49:23,  2.56it/s]  \n",
      "  0%|          | 0/40 [00:00<?, ?it/s]\u001b[A"
     ]
    },
    {
     "name": "stdout",
     "output_type": "stream",
     "text": [
      "{'loss': 0.8966, 'grad_norm': 1.1168582439422607, 'learning_rate': 9.855322749915034e-05, 'epoch': 1.54}\n"
     ]
    },
    {
     "name": "stderr",
     "output_type": "stream",
     "text": [
      "\n",
      "  5%|▌         | 2/40 [00:00<00:02, 13.84it/s]\u001b[A\n",
      " 10%|█         | 4/40 [00:00<00:04,  8.70it/s]\u001b[A\n",
      " 12%|█▎        | 5/40 [00:00<00:04,  8.04it/s]\u001b[A\n",
      " 15%|█▌        | 6/40 [00:00<00:04,  7.64it/s]\u001b[A\n",
      " 18%|█▊        | 7/40 [00:00<00:04,  7.39it/s]\u001b[A\n",
      " 20%|██        | 8/40 [00:01<00:04,  7.24it/s]\u001b[A\n",
      " 22%|██▎       | 9/40 [00:01<00:04,  7.13it/s]\u001b[A\n",
      " 25%|██▌       | 10/40 [00:01<00:04,  7.06it/s]\u001b[A\n",
      " 28%|██▊       | 11/40 [00:01<00:04,  7.01it/s]\u001b[A\n",
      " 30%|███       | 12/40 [00:01<00:04,  6.97it/s]\u001b[A\n",
      " 32%|███▎      | 13/40 [00:01<00:03,  6.95it/s]\u001b[A\n",
      " 35%|███▌      | 14/40 [00:01<00:03,  6.93it/s]\u001b[A\n",
      " 38%|███▊      | 15/40 [00:02<00:03,  6.92it/s]\u001b[A\n",
      " 40%|████      | 16/40 [00:02<00:03,  6.91it/s]\u001b[A\n",
      " 42%|████▎     | 17/40 [00:02<00:03,  6.91it/s]\u001b[A\n",
      " 45%|████▌     | 18/40 [00:02<00:03,  6.90it/s]\u001b[A\n",
      " 48%|████▊     | 19/40 [00:02<00:03,  6.90it/s]\u001b[A\n",
      " 50%|█████     | 20/40 [00:02<00:02,  6.90it/s]\u001b[A\n",
      " 52%|█████▎    | 21/40 [00:02<00:02,  6.89it/s]\u001b[A\n",
      " 55%|█████▌    | 22/40 [00:03<00:02,  6.90it/s]\u001b[A\n",
      " 57%|█████▊    | 23/40 [00:03<00:02,  6.89it/s]\u001b[A\n",
      " 60%|██████    | 24/40 [00:03<00:02,  6.89it/s]\u001b[A\n",
      " 62%|██████▎   | 25/40 [00:03<00:02,  6.89it/s]\u001b[A\n",
      " 65%|██████▌   | 26/40 [00:03<00:02,  6.89it/s]\u001b[A\n",
      " 68%|██████▊   | 27/40 [00:03<00:01,  6.89it/s]\u001b[A\n",
      " 70%|███████   | 28/40 [00:03<00:01,  6.89it/s]\u001b[A\n",
      " 72%|███████▎  | 29/40 [00:04<00:01,  6.89it/s]\u001b[A\n",
      " 75%|███████▌  | 30/40 [00:04<00:01,  6.89it/s]\u001b[A\n",
      " 78%|███████▊  | 31/40 [00:04<00:01,  6.89it/s]\u001b[A\n",
      " 80%|████████  | 32/40 [00:04<00:01,  6.89it/s]\u001b[A\n",
      " 82%|████████▎ | 33/40 [00:04<00:01,  6.89it/s]\u001b[A\n",
      " 85%|████████▌ | 34/40 [00:04<00:00,  6.90it/s]\u001b[A\n",
      " 88%|████████▊ | 35/40 [00:04<00:00,  6.90it/s]\u001b[A\n",
      " 90%|█████████ | 36/40 [00:05<00:00,  6.89it/s]\u001b[A\n",
      " 92%|█████████▎| 37/40 [00:05<00:00,  6.89it/s]\u001b[A\n",
      " 95%|█████████▌| 38/40 [00:05<00:00,  6.89it/s]\u001b[A\n",
      "                                                      \n",
      "  8%|▊         | 6000/78140 [42:37<7:49:23,  2.56it/s]\n",
      "100%|██████████| 40/40 [00:05<00:00,  7.05it/s]\u001b[A\n",
      "                                               \u001b[A"
     ]
    },
    {
     "name": "stdout",
     "output_type": "stream",
     "text": [
      "{'eval_loss': 0.8869468569755554, 'eval_token_accuracy': 0.7353774233466245, 'eval_exact_match_accuracy': 0.0134, 'eval_runtime': 5.9456, 'eval_samples_per_second': 1681.92, 'eval_steps_per_second': 6.728, 'epoch': 1.54}\n"
     ]
    },
    {
     "name": "stderr",
     "output_type": "stream",
     "text": [
      "  8%|▊         | 6500/78140 [46:01<7:46:21,  2.56it/s] \n",
      "  0%|          | 0/40 [00:00<?, ?it/s]\u001b[A"
     ]
    },
    {
     "name": "stdout",
     "output_type": "stream",
     "text": [
      "{'loss': 0.8886, 'grad_norm': 0.9803951382637024, 'learning_rate': 9.830339460803318e-05, 'epoch': 1.66}\n"
     ]
    },
    {
     "name": "stderr",
     "output_type": "stream",
     "text": [
      "\n",
      "  5%|▌         | 2/40 [00:00<00:02, 13.86it/s]\u001b[A\n",
      " 10%|█         | 4/40 [00:00<00:04,  8.69it/s]\u001b[A\n",
      " 12%|█▎        | 5/40 [00:00<00:04,  8.07it/s]\u001b[A\n",
      " 15%|█▌        | 6/40 [00:00<00:04,  7.68it/s]\u001b[A\n",
      " 18%|█▊        | 7/40 [00:00<00:04,  7.42it/s]\u001b[A\n",
      " 20%|██        | 8/40 [00:01<00:04,  7.25it/s]\u001b[A\n",
      " 22%|██▎       | 9/40 [00:01<00:04,  7.14it/s]\u001b[A\n",
      " 25%|██▌       | 10/40 [00:01<00:04,  7.06it/s]\u001b[A\n",
      " 28%|██▊       | 11/40 [00:01<00:04,  7.01it/s]\u001b[A\n",
      " 30%|███       | 12/40 [00:01<00:04,  6.97it/s]\u001b[A\n",
      " 32%|███▎      | 13/40 [00:01<00:03,  6.95it/s]\u001b[A\n",
      " 35%|███▌      | 14/40 [00:01<00:03,  6.93it/s]\u001b[A\n",
      " 38%|███▊      | 15/40 [00:02<00:03,  6.92it/s]\u001b[A\n",
      " 40%|████      | 16/40 [00:02<00:03,  6.91it/s]\u001b[A\n",
      " 42%|████▎     | 17/40 [00:02<00:03,  6.90it/s]\u001b[A\n",
      " 45%|████▌     | 18/40 [00:02<00:03,  6.90it/s]\u001b[A\n",
      " 48%|████▊     | 19/40 [00:02<00:03,  6.90it/s]\u001b[A\n",
      " 50%|█████     | 20/40 [00:02<00:02,  6.89it/s]\u001b[A\n",
      " 52%|█████▎    | 21/40 [00:02<00:02,  6.89it/s]\u001b[A\n",
      " 55%|█████▌    | 22/40 [00:03<00:02,  6.89it/s]\u001b[A\n",
      " 57%|█████▊    | 23/40 [00:03<00:02,  6.89it/s]\u001b[A\n",
      " 60%|██████    | 24/40 [00:03<00:02,  6.89it/s]\u001b[A\n",
      " 62%|██████▎   | 25/40 [00:03<00:02,  6.89it/s]\u001b[A\n",
      " 65%|██████▌   | 26/40 [00:03<00:02,  6.89it/s]\u001b[A\n",
      " 68%|██████▊   | 27/40 [00:03<00:01,  6.89it/s]\u001b[A\n",
      " 70%|███████   | 28/40 [00:03<00:01,  6.89it/s]\u001b[A\n",
      " 72%|███████▎  | 29/40 [00:04<00:01,  6.89it/s]\u001b[A\n",
      " 75%|███████▌  | 30/40 [00:04<00:01,  6.89it/s]\u001b[A\n",
      " 78%|███████▊  | 31/40 [00:04<00:01,  6.89it/s]\u001b[A\n",
      " 80%|████████  | 32/40 [00:04<00:01,  6.89it/s]\u001b[A\n",
      " 82%|████████▎ | 33/40 [00:04<00:01,  6.89it/s]\u001b[A\n",
      " 85%|████████▌ | 34/40 [00:04<00:00,  6.89it/s]\u001b[A\n",
      " 88%|████████▊ | 35/40 [00:04<00:00,  6.90it/s]\u001b[A\n",
      " 90%|█████████ | 36/40 [00:05<00:00,  6.90it/s]\u001b[A\n",
      " 92%|█████████▎| 37/40 [00:05<00:00,  6.89it/s]\u001b[A\n",
      " 95%|█████████▌| 38/40 [00:05<00:00,  6.89it/s]\u001b[A\n",
      "                                                      \n",
      "  8%|▊         | 6500/78140 [46:07<7:46:21,  2.56it/s]\n",
      "100%|██████████| 40/40 [00:05<00:00,  7.06it/s]\u001b[A\n",
      "                                               \u001b[A"
     ]
    },
    {
     "name": "stdout",
     "output_type": "stream",
     "text": [
      "{'eval_loss': 0.8727491497993469, 'eval_token_accuracy': 0.7353407580549063, 'eval_exact_match_accuracy': 0.0106, 'eval_runtime': 5.9482, 'eval_samples_per_second': 1681.185, 'eval_steps_per_second': 6.725, 'epoch': 1.66}\n"
     ]
    },
    {
     "name": "stderr",
     "output_type": "stream",
     "text": [
      "  9%|▉         | 7000/78140 [49:32<7:43:09,  2.56it/s] \n",
      "  0%|          | 0/40 [00:00<?, ?it/s]\u001b[A"
     ]
    },
    {
     "name": "stdout",
     "output_type": "stream",
     "text": [
      "{'loss': 0.8714, 'grad_norm': 1.0869076251983643, 'learning_rate': 9.803404278865522e-05, 'epoch': 1.79}\n"
     ]
    },
    {
     "name": "stderr",
     "output_type": "stream",
     "text": [
      "\n",
      "  5%|▌         | 2/40 [00:00<00:02, 13.86it/s]\u001b[A\n",
      " 10%|█         | 4/40 [00:00<00:04,  8.71it/s]\u001b[A\n",
      " 12%|█▎        | 5/40 [00:00<00:04,  8.08it/s]\u001b[A\n",
      " 15%|█▌        | 6/40 [00:00<00:04,  7.69it/s]\u001b[A\n",
      " 18%|█▊        | 7/40 [00:00<00:04,  7.43it/s]\u001b[A\n",
      " 20%|██        | 8/40 [00:01<00:04,  7.27it/s]\u001b[A\n",
      " 22%|██▎       | 9/40 [00:01<00:04,  7.15it/s]\u001b[A\n",
      " 25%|██▌       | 10/40 [00:01<00:04,  7.07it/s]\u001b[A\n",
      " 28%|██▊       | 11/40 [00:01<00:04,  7.02it/s]\u001b[A\n",
      " 30%|███       | 12/40 [00:01<00:04,  6.98it/s]\u001b[A\n",
      " 32%|███▎      | 13/40 [00:01<00:03,  6.96it/s]\u001b[A\n",
      " 35%|███▌      | 14/40 [00:01<00:03,  6.94it/s]\u001b[A\n",
      " 38%|███▊      | 15/40 [00:02<00:03,  6.93it/s]\u001b[A\n",
      " 40%|████      | 16/40 [00:02<00:03,  6.92it/s]\u001b[A\n",
      " 42%|████▎     | 17/40 [00:02<00:03,  6.91it/s]\u001b[A\n",
      " 45%|████▌     | 18/40 [00:02<00:03,  6.91it/s]\u001b[A\n",
      " 48%|████▊     | 19/40 [00:02<00:03,  6.90it/s]\u001b[A\n",
      " 50%|█████     | 20/40 [00:02<00:02,  6.90it/s]\u001b[A\n",
      " 52%|█████▎    | 21/40 [00:02<00:02,  6.90it/s]\u001b[A\n",
      " 55%|█████▌    | 22/40 [00:03<00:02,  6.90it/s]\u001b[A\n",
      " 57%|█████▊    | 23/40 [00:03<00:02,  6.90it/s]\u001b[A\n",
      " 60%|██████    | 24/40 [00:03<00:02,  6.90it/s]\u001b[A\n",
      " 62%|██████▎   | 25/40 [00:03<00:02,  6.90it/s]\u001b[A\n",
      " 65%|██████▌   | 26/40 [00:03<00:02,  6.90it/s]\u001b[A\n",
      " 68%|██████▊   | 27/40 [00:03<00:01,  6.90it/s]\u001b[A\n",
      " 70%|███████   | 28/40 [00:03<00:01,  6.89it/s]\u001b[A\n",
      " 72%|███████▎  | 29/40 [00:04<00:01,  6.89it/s]\u001b[A\n",
      " 75%|███████▌  | 30/40 [00:04<00:01,  6.90it/s]\u001b[A\n",
      " 78%|███████▊  | 31/40 [00:04<00:01,  6.90it/s]\u001b[A\n",
      " 80%|████████  | 32/40 [00:04<00:01,  6.90it/s]\u001b[A\n",
      " 82%|████████▎ | 33/40 [00:04<00:01,  6.89it/s]\u001b[A\n",
      " 85%|████████▌ | 34/40 [00:04<00:00,  6.90it/s]\u001b[A\n",
      " 88%|████████▊ | 35/40 [00:04<00:00,  6.89it/s]\u001b[A\n",
      " 90%|█████████ | 36/40 [00:05<00:00,  6.89it/s]\u001b[A\n",
      " 92%|█████████▎| 37/40 [00:05<00:00,  6.89it/s]\u001b[A\n",
      " 95%|█████████▌| 38/40 [00:05<00:00,  6.89it/s]\u001b[A\n",
      "                                                      \n",
      "  9%|▉         | 7000/78140 [49:38<7:43:09,  2.56it/s]\n",
      "100%|██████████| 40/40 [00:05<00:00,  7.06it/s]\u001b[A\n",
      "                                               \u001b[A"
     ]
    },
    {
     "name": "stdout",
     "output_type": "stream",
     "text": [
      "{'eval_loss': 0.8426600694656372, 'eval_token_accuracy': 0.7354965855447088, 'eval_exact_match_accuracy': 0.0126, 'eval_runtime': 5.9729, 'eval_samples_per_second': 1674.219, 'eval_steps_per_second': 6.697, 'epoch': 1.79}\n"
     ]
    },
    {
     "name": "stderr",
     "output_type": "stream",
     "text": [
      " 10%|▉         | 7500/78140 [53:03<7:39:32,  2.56it/s]  \n",
      "  0%|          | 0/40 [00:00<?, ?it/s]\u001b[A"
     ]
    },
    {
     "name": "stdout",
     "output_type": "stream",
     "text": [
      "{'loss': 0.8471, 'grad_norm': 0.9608237147331238, 'learning_rate': 9.774528088344631e-05, 'epoch': 1.92}\n"
     ]
    },
    {
     "name": "stderr",
     "output_type": "stream",
     "text": [
      "\n",
      "  5%|▌         | 2/40 [00:00<00:02, 13.79it/s]\u001b[A\n",
      " 10%|█         | 4/40 [00:00<00:04,  8.68it/s]\u001b[A\n",
      " 12%|█▎        | 5/40 [00:00<00:04,  8.05it/s]\u001b[A\n",
      " 15%|█▌        | 6/40 [00:00<00:04,  7.67it/s]\u001b[A\n",
      " 18%|█▊        | 7/40 [00:00<00:04,  7.42it/s]\u001b[A\n",
      " 20%|██        | 8/40 [00:01<00:04,  7.25it/s]\u001b[A\n",
      " 22%|██▎       | 9/40 [00:01<00:04,  7.14it/s]\u001b[A\n",
      " 25%|██▌       | 10/40 [00:01<00:04,  7.06it/s]\u001b[A\n",
      " 28%|██▊       | 11/40 [00:01<00:04,  7.01it/s]\u001b[A\n",
      " 30%|███       | 12/40 [00:01<00:04,  6.97it/s]\u001b[A\n",
      " 32%|███▎      | 13/40 [00:01<00:03,  6.94it/s]\u001b[A\n",
      " 35%|███▌      | 14/40 [00:01<00:03,  6.93it/s]\u001b[A\n",
      " 38%|███▊      | 15/40 [00:02<00:03,  6.91it/s]\u001b[A\n",
      " 40%|████      | 16/40 [00:02<00:03,  6.90it/s]\u001b[A\n",
      " 42%|████▎     | 17/40 [00:02<00:03,  6.90it/s]\u001b[A\n",
      " 45%|████▌     | 18/40 [00:02<00:03,  6.90it/s]\u001b[A\n",
      " 48%|████▊     | 19/40 [00:02<00:03,  6.89it/s]\u001b[A\n",
      " 50%|█████     | 20/40 [00:02<00:02,  6.89it/s]\u001b[A\n",
      " 52%|█████▎    | 21/40 [00:02<00:02,  6.89it/s]\u001b[A\n",
      " 55%|█████▌    | 22/40 [00:03<00:02,  6.89it/s]\u001b[A\n",
      " 57%|█████▊    | 23/40 [00:03<00:02,  6.90it/s]\u001b[A\n",
      " 60%|██████    | 24/40 [00:03<00:02,  6.89it/s]\u001b[A\n",
      " 62%|██████▎   | 25/40 [00:03<00:02,  6.89it/s]\u001b[A\n",
      " 65%|██████▌   | 26/40 [00:03<00:02,  6.89it/s]\u001b[A\n",
      " 68%|██████▊   | 27/40 [00:03<00:01,  6.89it/s]\u001b[A\n",
      " 70%|███████   | 28/40 [00:03<00:01,  6.89it/s]\u001b[A\n",
      " 72%|███████▎  | 29/40 [00:04<00:01,  6.89it/s]\u001b[A\n",
      " 75%|███████▌  | 30/40 [00:04<00:01,  6.89it/s]\u001b[A\n",
      " 78%|███████▊  | 31/40 [00:04<00:01,  6.89it/s]\u001b[A\n",
      " 80%|████████  | 32/40 [00:04<00:01,  6.89it/s]\u001b[A\n",
      " 82%|████████▎ | 33/40 [00:04<00:01,  6.89it/s]\u001b[A\n",
      " 85%|████████▌ | 34/40 [00:04<00:00,  6.89it/s]\u001b[A\n",
      " 88%|████████▊ | 35/40 [00:04<00:00,  6.89it/s]\u001b[A\n",
      " 90%|█████████ | 36/40 [00:05<00:00,  6.89it/s]\u001b[A\n",
      " 92%|█████████▎| 37/40 [00:05<00:00,  6.89it/s]\u001b[A\n",
      " 95%|█████████▌| 38/40 [00:05<00:00,  6.88it/s]\u001b[A\n",
      "                                                      \n",
      " 10%|▉         | 7500/78140 [53:09<7:39:32,  2.56it/s]\n",
      "100%|██████████| 40/40 [00:05<00:00,  7.05it/s]\u001b[A\n",
      "                                               \u001b[A"
     ]
    },
    {
     "name": "stdout",
     "output_type": "stream",
     "text": [
      "{'eval_loss': 0.8211168050765991, 'eval_token_accuracy': 0.7364957147440304, 'eval_exact_match_accuracy': 0.0152, 'eval_runtime': 5.9462, 'eval_samples_per_second': 1681.756, 'eval_steps_per_second': 6.727, 'epoch': 1.92}\n"
     ]
    },
    {
     "name": "stderr",
     "output_type": "stream",
     "text": [
      " 10%|█         | 8000/78140 [56:33<7:36:46,  2.56it/s] \n",
      "  0%|          | 0/40 [00:00<?, ?it/s]\u001b[A"
     ]
    },
    {
     "name": "stdout",
     "output_type": "stream",
     "text": [
      "{'loss': 0.8174, 'grad_norm': 0.9397251009941101, 'learning_rate': 9.743722557826174e-05, 'epoch': 2.05}\n"
     ]
    },
    {
     "name": "stderr",
     "output_type": "stream",
     "text": [
      "\n",
      "  5%|▌         | 2/40 [00:00<00:02, 13.81it/s]\u001b[A\n",
      " 10%|█         | 4/40 [00:00<00:04,  8.69it/s]\u001b[A\n",
      " 12%|█▎        | 5/40 [00:00<00:04,  8.06it/s]\u001b[A\n",
      " 15%|█▌        | 6/40 [00:00<00:04,  7.67it/s]\u001b[A\n",
      " 18%|█▊        | 7/40 [00:00<00:04,  7.42it/s]\u001b[A\n",
      " 20%|██        | 8/40 [00:01<00:04,  7.26it/s]\u001b[A\n",
      " 22%|██▎       | 9/40 [00:01<00:04,  7.14it/s]\u001b[A\n",
      " 25%|██▌       | 10/40 [00:01<00:04,  7.06it/s]\u001b[A\n",
      " 28%|██▊       | 11/40 [00:01<00:04,  7.01it/s]\u001b[A\n",
      " 30%|███       | 12/40 [00:01<00:04,  6.97it/s]\u001b[A\n",
      " 32%|███▎      | 13/40 [00:01<00:03,  6.95it/s]\u001b[A\n",
      " 35%|███▌      | 14/40 [00:01<00:03,  6.93it/s]\u001b[A\n",
      " 38%|███▊      | 15/40 [00:02<00:03,  6.92it/s]\u001b[A\n",
      " 40%|████      | 16/40 [00:02<00:03,  6.91it/s]\u001b[A\n",
      " 42%|████▎     | 17/40 [00:02<00:03,  6.91it/s]\u001b[A\n",
      " 45%|████▌     | 18/40 [00:02<00:03,  6.90it/s]\u001b[A\n",
      " 48%|████▊     | 19/40 [00:02<00:03,  6.90it/s]\u001b[A\n",
      " 50%|█████     | 20/40 [00:02<00:02,  6.89it/s]\u001b[A\n",
      " 52%|█████▎    | 21/40 [00:02<00:02,  6.89it/s]\u001b[A\n",
      " 55%|█████▌    | 22/40 [00:03<00:02,  6.89it/s]\u001b[A\n",
      " 57%|█████▊    | 23/40 [00:03<00:02,  6.90it/s]\u001b[A\n",
      " 60%|██████    | 24/40 [00:03<00:02,  6.89it/s]\u001b[A\n",
      " 62%|██████▎   | 25/40 [00:03<00:02,  6.89it/s]\u001b[A\n",
      " 65%|██████▌   | 26/40 [00:03<00:02,  6.89it/s]\u001b[A\n",
      " 68%|██████▊   | 27/40 [00:03<00:01,  6.89it/s]\u001b[A\n",
      " 70%|███████   | 28/40 [00:03<00:01,  6.89it/s]\u001b[A\n",
      " 72%|███████▎  | 29/40 [00:04<00:01,  6.89it/s]\u001b[A\n",
      " 75%|███████▌  | 30/40 [00:04<00:01,  6.89it/s]\u001b[A\n",
      " 78%|███████▊  | 31/40 [00:04<00:01,  6.89it/s]\u001b[A\n",
      " 80%|████████  | 32/40 [00:04<00:01,  6.89it/s]\u001b[A\n",
      " 82%|████████▎ | 33/40 [00:04<00:01,  6.89it/s]\u001b[A\n",
      " 85%|████████▌ | 34/40 [00:04<00:00,  6.89it/s]\u001b[A\n",
      " 88%|████████▊ | 35/40 [00:04<00:00,  6.89it/s]\u001b[A\n",
      " 90%|█████████ | 36/40 [00:05<00:00,  6.90it/s]\u001b[A\n",
      " 92%|█████████▎| 37/40 [00:05<00:00,  6.90it/s]\u001b[A\n",
      " 95%|█████████▌| 38/40 [00:05<00:00,  6.89it/s]\u001b[A\n",
      "                                                      \n",
      " 10%|█         | 8000/78140 [56:39<7:36:46,  2.56it/s]\n",
      "100%|██████████| 40/40 [00:05<00:00,  7.06it/s]\u001b[A\n",
      "                                               \u001b[A"
     ]
    },
    {
     "name": "stdout",
     "output_type": "stream",
     "text": [
      "{'eval_loss': 0.8127533197402954, 'eval_token_accuracy': 0.7352399285026812, 'eval_exact_match_accuracy': 0.0162, 'eval_runtime': 5.9356, 'eval_samples_per_second': 1684.753, 'eval_steps_per_second': 6.739, 'epoch': 2.05}\n"
     ]
    },
    {
     "name": "stderr",
     "output_type": "stream",
     "text": [
      " 11%|█         | 8500/78140 [1:00:03<7:33:20,  2.56it/s]\n",
      "  0%|          | 0/40 [00:00<?, ?it/s]\u001b[A"
     ]
    },
    {
     "name": "stdout",
     "output_type": "stream",
     "text": [
      "{'loss': 0.7864, 'grad_norm': 0.9828273057937622, 'learning_rate': 9.711000135523057e-05, 'epoch': 2.18}\n"
     ]
    },
    {
     "name": "stderr",
     "output_type": "stream",
     "text": [
      "\n",
      "  5%|▌         | 2/40 [00:00<00:02, 13.77it/s]\u001b[A\n",
      " 10%|█         | 4/40 [00:00<00:04,  8.69it/s]\u001b[A\n",
      " 12%|█▎        | 5/40 [00:00<00:04,  8.07it/s]\u001b[A\n",
      " 15%|█▌        | 6/40 [00:00<00:04,  7.69it/s]\u001b[A\n",
      " 18%|█▊        | 7/40 [00:00<00:04,  7.44it/s]\u001b[A\n",
      " 20%|██        | 8/40 [00:01<00:04,  7.28it/s]\u001b[A\n",
      " 22%|██▎       | 9/40 [00:01<00:04,  7.16it/s]\u001b[A\n",
      " 25%|██▌       | 10/40 [00:01<00:04,  7.06it/s]\u001b[A\n",
      " 28%|██▊       | 11/40 [00:01<00:04,  7.00it/s]\u001b[A\n",
      " 30%|███       | 12/40 [00:01<00:04,  6.96it/s]\u001b[A\n",
      " 32%|███▎      | 13/40 [00:01<00:03,  6.94it/s]\u001b[A\n",
      " 35%|███▌      | 14/40 [00:01<00:03,  6.93it/s]\u001b[A\n",
      " 38%|███▊      | 15/40 [00:02<00:03,  6.93it/s]\u001b[A\n",
      " 40%|████      | 16/40 [00:02<00:03,  6.92it/s]\u001b[A\n",
      " 42%|████▎     | 17/40 [00:02<00:03,  6.92it/s]\u001b[A\n",
      " 45%|████▌     | 18/40 [00:02<00:03,  6.92it/s]\u001b[A\n",
      " 48%|████▊     | 19/40 [00:02<00:03,  6.91it/s]\u001b[A\n",
      " 50%|█████     | 20/40 [00:02<00:02,  6.92it/s]\u001b[A\n",
      " 52%|█████▎    | 21/40 [00:02<00:02,  6.91it/s]\u001b[A\n",
      " 55%|█████▌    | 22/40 [00:03<00:02,  6.91it/s]\u001b[A\n",
      " 57%|█████▊    | 23/40 [00:03<00:02,  6.91it/s]\u001b[A\n",
      " 60%|██████    | 24/40 [00:03<00:02,  6.91it/s]\u001b[A\n",
      " 62%|██████▎   | 25/40 [00:03<00:02,  6.90it/s]\u001b[A\n",
      " 65%|██████▌   | 26/40 [00:03<00:02,  6.91it/s]\u001b[A\n",
      " 68%|██████▊   | 27/40 [00:03<00:01,  6.91it/s]\u001b[A\n",
      " 70%|███████   | 28/40 [00:03<00:01,  6.91it/s]\u001b[A\n",
      " 72%|███████▎  | 29/40 [00:04<00:01,  6.91it/s]\u001b[A\n",
      " 75%|███████▌  | 30/40 [00:04<00:01,  6.91it/s]\u001b[A\n",
      " 78%|███████▊  | 31/40 [00:04<00:01,  6.91it/s]\u001b[A\n",
      " 80%|████████  | 32/40 [00:04<00:01,  6.91it/s]\u001b[A\n",
      " 82%|████████▎ | 33/40 [00:04<00:01,  6.91it/s]\u001b[A\n",
      " 85%|████████▌ | 34/40 [00:04<00:00,  6.91it/s]\u001b[A\n",
      " 88%|████████▊ | 35/40 [00:04<00:00,  6.91it/s]\u001b[A\n",
      " 90%|█████████ | 36/40 [00:05<00:00,  6.91it/s]\u001b[A\n",
      " 92%|█████████▎| 37/40 [00:05<00:00,  6.91it/s]\u001b[A\n",
      " 95%|█████████▌| 38/40 [00:05<00:00,  6.91it/s]\u001b[A\n",
      "                                                        \n",
      " 11%|█         | 8500/78140 [1:00:09<7:33:20,  2.56it/s]\n",
      "100%|██████████| 40/40 [00:05<00:00,  7.07it/s]\u001b[A\n",
      "                                               \u001b[A"
     ]
    },
    {
     "name": "stdout",
     "output_type": "stream",
     "text": [
      "{'eval_loss': 0.8051347732543945, 'eval_token_accuracy': 0.73650488106696, 'eval_exact_match_accuracy': 0.0138, 'eval_runtime': 5.9303, 'eval_samples_per_second': 1686.261, 'eval_steps_per_second': 6.745, 'epoch': 2.18}\n"
     ]
    },
    {
     "name": "stderr",
     "output_type": "stream",
     "text": [
      " 12%|█▏        | 9000/78140 [1:03:33<7:29:39,  2.56it/s] \n",
      "  0%|          | 0/40 [00:00<?, ?it/s]\u001b[A"
     ]
    },
    {
     "name": "stdout",
     "output_type": "stream",
     "text": [
      "{'loss': 0.7796, 'grad_norm': 0.9633208513259888, 'learning_rate': 9.676374044245364e-05, 'epoch': 2.3}\n"
     ]
    },
    {
     "name": "stderr",
     "output_type": "stream",
     "text": [
      "\n",
      "  5%|▌         | 2/40 [00:00<00:02, 13.83it/s]\u001b[A\n",
      " 10%|█         | 4/40 [00:00<00:04,  8.70it/s]\u001b[A\n",
      " 12%|█▎        | 5/40 [00:00<00:04,  8.08it/s]\u001b[A\n",
      " 15%|█▌        | 6/40 [00:00<00:04,  7.69it/s]\u001b[A\n",
      " 18%|█▊        | 7/40 [00:00<00:04,  7.44it/s]\u001b[A\n",
      " 20%|██        | 8/40 [00:01<00:04,  7.27it/s]\u001b[A\n",
      " 22%|██▎       | 9/40 [00:01<00:04,  7.13it/s]\u001b[A\n",
      " 25%|██▌       | 10/40 [00:01<00:04,  7.05it/s]\u001b[A\n",
      " 28%|██▊       | 11/40 [00:01<00:04,  7.00it/s]\u001b[A\n",
      " 30%|███       | 12/40 [00:01<00:04,  6.97it/s]\u001b[A\n",
      " 32%|███▎      | 13/40 [00:01<00:03,  6.95it/s]\u001b[A\n",
      " 35%|███▌      | 14/40 [00:01<00:03,  6.94it/s]\u001b[A\n",
      " 38%|███▊      | 15/40 [00:02<00:03,  6.93it/s]\u001b[A\n",
      " 40%|████      | 16/40 [00:02<00:03,  6.92it/s]\u001b[A\n",
      " 42%|████▎     | 17/40 [00:02<00:03,  6.92it/s]\u001b[A\n",
      " 45%|████▌     | 18/40 [00:02<00:03,  6.92it/s]\u001b[A\n",
      " 48%|████▊     | 19/40 [00:02<00:03,  6.92it/s]\u001b[A\n",
      " 50%|█████     | 20/40 [00:02<00:02,  6.92it/s]\u001b[A\n",
      " 52%|█████▎    | 21/40 [00:02<00:02,  6.92it/s]\u001b[A\n",
      " 55%|█████▌    | 22/40 [00:03<00:02,  6.92it/s]\u001b[A\n",
      " 57%|█████▊    | 23/40 [00:03<00:02,  6.91it/s]\u001b[A\n",
      " 60%|██████    | 24/40 [00:03<00:02,  6.92it/s]\u001b[A\n",
      " 62%|██████▎   | 25/40 [00:03<00:02,  6.92it/s]\u001b[A\n",
      " 65%|██████▌   | 26/40 [00:03<00:02,  6.92it/s]\u001b[A\n",
      " 68%|██████▊   | 27/40 [00:03<00:01,  6.92it/s]\u001b[A\n",
      " 70%|███████   | 28/40 [00:03<00:01,  6.92it/s]\u001b[A\n",
      " 72%|███████▎  | 29/40 [00:04<00:01,  6.92it/s]\u001b[A\n",
      " 75%|███████▌  | 30/40 [00:04<00:01,  6.91it/s]\u001b[A\n",
      " 78%|███████▊  | 31/40 [00:04<00:01,  6.91it/s]\u001b[A\n",
      " 80%|████████  | 32/40 [00:04<00:01,  6.91it/s]\u001b[A\n",
      " 82%|████████▎ | 33/40 [00:04<00:01,  6.91it/s]\u001b[A\n",
      " 85%|████████▌ | 34/40 [00:04<00:00,  6.91it/s]\u001b[A\n",
      " 88%|████████▊ | 35/40 [00:04<00:00,  6.91it/s]\u001b[A\n",
      " 90%|█████████ | 36/40 [00:05<00:00,  6.91it/s]\u001b[A\n",
      " 92%|█████████▎| 37/40 [00:05<00:00,  6.91it/s]\u001b[A\n",
      " 95%|█████████▌| 38/40 [00:05<00:00,  6.91it/s]\u001b[A\n",
      "                                                        \n",
      " 12%|█▏        | 9000/78140 [1:03:39<7:29:39,  2.56it/s]\n",
      "100%|██████████| 40/40 [00:05<00:00,  7.07it/s]\u001b[A\n",
      "                                               \u001b[A"
     ]
    },
    {
     "name": "stdout",
     "output_type": "stream",
     "text": [
      "{'eval_loss': 0.7914607524871826, 'eval_token_accuracy': 0.7370273614739448, 'eval_exact_match_accuracy': 0.0139, 'eval_runtime': 5.929, 'eval_samples_per_second': 1686.616, 'eval_steps_per_second': 6.746, 'epoch': 2.3}\n"
     ]
    },
    {
     "name": "stderr",
     "output_type": "stream",
     "text": [
      " 12%|█▏        | 9500/78140 [1:07:03<7:25:29,  2.57it/s] \n",
      "  0%|          | 0/40 [00:00<?, ?it/s]\u001b[A"
     ]
    },
    {
     "name": "stdout",
     "output_type": "stream",
     "text": [
      "{'loss': 0.7758, 'grad_norm': 0.9602901935577393, 'learning_rate': 9.639858276057159e-05, 'epoch': 2.43}\n"
     ]
    },
    {
     "name": "stderr",
     "output_type": "stream",
     "text": [
      "\n",
      "  5%|▌         | 2/40 [00:00<00:02, 13.80it/s]\u001b[A\n",
      " 10%|█         | 4/40 [00:00<00:04,  8.70it/s]\u001b[A\n",
      " 12%|█▎        | 5/40 [00:00<00:04,  8.07it/s]\u001b[A\n",
      " 15%|█▌        | 6/40 [00:00<00:04,  7.69it/s]\u001b[A\n",
      " 18%|█▊        | 7/40 [00:00<00:04,  7.44it/s]\u001b[A\n",
      " 20%|██        | 8/40 [00:01<00:04,  7.28it/s]\u001b[A\n",
      " 22%|██▎       | 9/40 [00:01<00:04,  7.16it/s]\u001b[A\n",
      " 25%|██▌       | 10/40 [00:01<00:04,  7.09it/s]\u001b[A\n",
      " 28%|██▊       | 11/40 [00:01<00:04,  7.01it/s]\u001b[A\n",
      " 30%|███       | 12/40 [00:01<00:04,  6.97it/s]\u001b[A\n",
      " 32%|███▎      | 13/40 [00:01<00:03,  6.93it/s]\u001b[A\n",
      " 35%|███▌      | 14/40 [00:01<00:03,  6.92it/s]\u001b[A\n",
      " 38%|███▊      | 15/40 [00:02<00:03,  6.92it/s]\u001b[A\n",
      " 40%|████      | 16/40 [00:02<00:03,  6.92it/s]\u001b[A\n",
      " 42%|████▎     | 17/40 [00:02<00:03,  6.92it/s]\u001b[A\n",
      " 45%|████▌     | 18/40 [00:02<00:03,  6.92it/s]\u001b[A\n",
      " 48%|████▊     | 19/40 [00:02<00:03,  6.92it/s]\u001b[A\n",
      " 50%|█████     | 20/40 [00:02<00:02,  6.91it/s]\u001b[A\n",
      " 52%|█████▎    | 21/40 [00:02<00:02,  6.91it/s]\u001b[A\n",
      " 55%|█████▌    | 22/40 [00:03<00:02,  6.91it/s]\u001b[A\n",
      " 57%|█████▊    | 23/40 [00:03<00:02,  6.91it/s]\u001b[A\n",
      " 60%|██████    | 24/40 [00:03<00:02,  6.91it/s]\u001b[A\n",
      " 62%|██████▎   | 25/40 [00:03<00:02,  6.91it/s]\u001b[A\n",
      " 65%|██████▌   | 26/40 [00:03<00:02,  6.91it/s]\u001b[A\n",
      " 68%|██████▊   | 27/40 [00:03<00:01,  6.91it/s]\u001b[A\n",
      " 70%|███████   | 28/40 [00:03<00:01,  6.90it/s]\u001b[A\n",
      " 72%|███████▎  | 29/40 [00:04<00:01,  6.91it/s]\u001b[A\n",
      " 75%|███████▌  | 30/40 [00:04<00:01,  6.90it/s]\u001b[A\n",
      " 78%|███████▊  | 31/40 [00:04<00:01,  6.90it/s]\u001b[A\n",
      " 80%|████████  | 32/40 [00:04<00:01,  6.91it/s]\u001b[A\n",
      " 82%|████████▎ | 33/40 [00:04<00:01,  6.91it/s]\u001b[A\n",
      " 85%|████████▌ | 34/40 [00:04<00:00,  6.91it/s]\u001b[A\n",
      " 88%|████████▊ | 35/40 [00:04<00:00,  6.91it/s]\u001b[A\n",
      " 90%|█████████ | 36/40 [00:05<00:00,  6.91it/s]\u001b[A\n",
      " 92%|█████████▎| 37/40 [00:05<00:00,  6.91it/s]\u001b[A\n",
      " 95%|█████████▌| 38/40 [00:05<00:00,  6.91it/s]\u001b[A\n",
      "                                                        \n",
      " 12%|█▏        | 9500/78140 [1:07:09<7:25:29,  2.57it/s]\n",
      "100%|██████████| 40/40 [00:05<00:00,  7.07it/s]\u001b[A\n",
      "                                               \u001b[A"
     ]
    },
    {
     "name": "stdout",
     "output_type": "stream",
     "text": [
      "{'eval_loss': 0.7869235277175903, 'eval_token_accuracy': 0.7351115999816673, 'eval_exact_match_accuracy': 0.0121, 'eval_runtime': 5.9344, 'eval_samples_per_second': 1685.082, 'eval_steps_per_second': 6.74, 'epoch': 2.43}\n"
     ]
    },
    {
     "name": "stderr",
     "output_type": "stream",
     "text": [
      " 13%|█▎        | 10000/78140 [1:10:34<7:22:39,  2.57it/s]\n",
      "  0%|          | 0/40 [00:00<?, ?it/s]\u001b[A"
     ]
    },
    {
     "name": "stdout",
     "output_type": "stream",
     "text": [
      "{'loss': 0.7722, 'grad_norm': 0.9483146667480469, 'learning_rate': 9.601467586622412e-05, 'epoch': 2.56}\n"
     ]
    },
    {
     "name": "stderr",
     "output_type": "stream",
     "text": [
      "\n",
      "  5%|▌         | 2/40 [00:00<00:02, 13.81it/s]\u001b[A\n",
      " 10%|█         | 4/40 [00:00<00:04,  8.69it/s]\u001b[A\n",
      " 12%|█▎        | 5/40 [00:00<00:04,  8.08it/s]\u001b[A\n",
      " 15%|█▌        | 6/40 [00:00<00:04,  7.69it/s]\u001b[A\n",
      " 18%|█▊        | 7/40 [00:00<00:04,  7.44it/s]\u001b[A\n",
      " 20%|██        | 8/40 [00:01<00:04,  7.28it/s]\u001b[A\n",
      " 22%|██▎       | 9/40 [00:01<00:04,  7.15it/s]\u001b[A\n",
      " 25%|██▌       | 10/40 [00:01<00:04,  7.06it/s]\u001b[A\n",
      " 28%|██▊       | 11/40 [00:01<00:04,  7.00it/s]\u001b[A\n",
      " 30%|███       | 12/40 [00:01<00:04,  6.97it/s]\u001b[A\n",
      " 32%|███▎      | 13/40 [00:01<00:03,  6.95it/s]\u001b[A\n",
      " 35%|███▌      | 14/40 [00:01<00:03,  6.94it/s]\u001b[A\n",
      " 38%|███▊      | 15/40 [00:02<00:03,  6.93it/s]\u001b[A\n",
      " 40%|████      | 16/40 [00:02<00:03,  6.93it/s]\u001b[A\n",
      " 42%|████▎     | 17/40 [00:02<00:03,  6.92it/s]\u001b[A\n",
      " 45%|████▌     | 18/40 [00:02<00:03,  6.92it/s]\u001b[A\n",
      " 48%|████▊     | 19/40 [00:02<00:03,  6.92it/s]\u001b[A\n",
      " 50%|█████     | 20/40 [00:02<00:02,  6.92it/s]\u001b[A\n",
      " 52%|█████▎    | 21/40 [00:02<00:02,  6.91it/s]\u001b[A\n",
      " 55%|█████▌    | 22/40 [00:03<00:02,  6.91it/s]\u001b[A\n",
      " 57%|█████▊    | 23/40 [00:03<00:02,  6.91it/s]\u001b[A\n",
      " 60%|██████    | 24/40 [00:03<00:02,  6.91it/s]\u001b[A\n",
      " 62%|██████▎   | 25/40 [00:03<00:02,  6.91it/s]\u001b[A\n",
      " 65%|██████▌   | 26/40 [00:03<00:02,  6.91it/s]\u001b[A\n",
      " 68%|██████▊   | 27/40 [00:03<00:01,  6.91it/s]\u001b[A\n",
      " 70%|███████   | 28/40 [00:03<00:01,  6.91it/s]\u001b[A\n",
      " 72%|███████▎  | 29/40 [00:04<00:01,  6.91it/s]\u001b[A\n",
      " 75%|███████▌  | 30/40 [00:04<00:01,  6.91it/s]\u001b[A\n",
      " 78%|███████▊  | 31/40 [00:04<00:01,  6.91it/s]\u001b[A\n",
      " 80%|████████  | 32/40 [00:04<00:01,  6.91it/s]\u001b[A\n",
      " 82%|████████▎ | 33/40 [00:04<00:01,  6.91it/s]\u001b[A\n",
      " 85%|████████▌ | 34/40 [00:04<00:00,  6.91it/s]\u001b[A\n",
      " 88%|████████▊ | 35/40 [00:04<00:00,  6.91it/s]\u001b[A\n",
      " 90%|█████████ | 36/40 [00:05<00:00,  6.91it/s]\u001b[A\n",
      " 92%|█████████▎| 37/40 [00:05<00:00,  6.91it/s]\u001b[A\n",
      " 95%|█████████▌| 38/40 [00:05<00:00,  6.91it/s]\u001b[A\n",
      "                                                         \n",
      " 13%|█▎        | 10000/78140 [1:10:40<7:22:39,  2.57it/s]\n",
      "100%|██████████| 40/40 [00:05<00:00,  7.07it/s]\u001b[A\n",
      "                                               \u001b[A"
     ]
    },
    {
     "name": "stdout",
     "output_type": "stream",
     "text": [
      "{'eval_loss': 0.7765860557556152, 'eval_token_accuracy': 0.7369448645675787, 'eval_exact_match_accuracy': 0.016, 'eval_runtime': 5.9333, 'eval_samples_per_second': 1685.389, 'eval_steps_per_second': 6.742, 'epoch': 2.56}\n"
     ]
    },
    {
     "name": "stderr",
     "output_type": "stream",
     "text": [
      " 13%|█▎        | 10500/78140 [1:14:04<7:19:23,  2.57it/s] \n",
      "  0%|          | 0/40 [00:00<?, ?it/s]\u001b[A"
     ]
    },
    {
     "name": "stdout",
     "output_type": "stream",
     "text": [
      "{'loss': 0.7662, 'grad_norm': 0.9316334128379822, 'learning_rate': 9.561299834440136e-05, 'epoch': 2.69}\n"
     ]
    },
    {
     "name": "stderr",
     "output_type": "stream",
     "text": [
      "\n",
      "  5%|▌         | 2/40 [00:00<00:02, 13.82it/s]\u001b[A\n",
      " 10%|█         | 4/40 [00:00<00:04,  8.70it/s]\u001b[A\n",
      " 12%|█▎        | 5/40 [00:00<00:04,  8.08it/s]\u001b[A\n",
      " 15%|█▌        | 6/40 [00:00<00:04,  7.70it/s]\u001b[A\n",
      " 18%|█▊        | 7/40 [00:00<00:04,  7.45it/s]\u001b[A\n",
      " 20%|██        | 8/40 [00:01<00:04,  7.27it/s]\u001b[A\n",
      " 22%|██▎       | 9/40 [00:01<00:04,  7.16it/s]\u001b[A\n",
      " 25%|██▌       | 10/40 [00:01<00:04,  7.08it/s]\u001b[A\n",
      " 28%|██▊       | 11/40 [00:01<00:04,  7.01it/s]\u001b[A\n",
      " 30%|███       | 12/40 [00:01<00:04,  6.96it/s]\u001b[A\n",
      " 32%|███▎      | 13/40 [00:01<00:03,  6.94it/s]\u001b[A\n",
      " 35%|███▌      | 14/40 [00:01<00:03,  6.93it/s]\u001b[A\n",
      " 38%|███▊      | 15/40 [00:02<00:03,  6.92it/s]\u001b[A\n",
      " 40%|████      | 16/40 [00:02<00:03,  6.92it/s]\u001b[A\n",
      " 42%|████▎     | 17/40 [00:02<00:03,  6.92it/s]\u001b[A\n",
      " 45%|████▌     | 18/40 [00:02<00:03,  6.92it/s]\u001b[A\n",
      " 48%|████▊     | 19/40 [00:02<00:03,  6.92it/s]\u001b[A\n",
      " 50%|█████     | 20/40 [00:02<00:02,  6.92it/s]\u001b[A\n",
      " 52%|█████▎    | 21/40 [00:02<00:02,  6.91it/s]\u001b[A\n",
      " 55%|█████▌    | 22/40 [00:03<00:02,  6.92it/s]\u001b[A\n",
      " 57%|█████▊    | 23/40 [00:03<00:02,  6.91it/s]\u001b[A\n",
      " 60%|██████    | 24/40 [00:03<00:02,  6.91it/s]\u001b[A\n",
      " 62%|██████▎   | 25/40 [00:03<00:02,  6.91it/s]\u001b[A\n",
      " 65%|██████▌   | 26/40 [00:03<00:02,  6.91it/s]\u001b[A\n",
      " 68%|██████▊   | 27/40 [00:03<00:01,  6.91it/s]\u001b[A\n",
      " 70%|███████   | 28/40 [00:03<00:01,  6.91it/s]\u001b[A\n",
      " 72%|███████▎  | 29/40 [00:04<00:01,  6.92it/s]\u001b[A\n",
      " 75%|███████▌  | 30/40 [00:04<00:01,  6.92it/s]\u001b[A\n",
      " 78%|███████▊  | 31/40 [00:04<00:01,  6.91it/s]\u001b[A\n",
      " 80%|████████  | 32/40 [00:04<00:01,  6.92it/s]\u001b[A\n",
      " 82%|████████▎ | 33/40 [00:04<00:01,  6.92it/s]\u001b[A\n",
      " 85%|████████▌ | 34/40 [00:04<00:00,  6.92it/s]\u001b[A\n",
      " 88%|████████▊ | 35/40 [00:04<00:00,  6.91it/s]\u001b[A\n",
      " 90%|█████████ | 36/40 [00:05<00:00,  6.91it/s]\u001b[A\n",
      " 92%|█████████▎| 37/40 [00:05<00:00,  6.91it/s]\u001b[A\n",
      " 95%|█████████▌| 38/40 [00:05<00:00,  6.91it/s]\u001b[A\n",
      "                                                         \n",
      " 13%|█▎        | 10500/78140 [1:14:10<7:19:23,  2.57it/s]\n",
      "100%|██████████| 40/40 [00:05<00:00,  7.06it/s]\u001b[A\n",
      "                                               \u001b[A"
     ]
    },
    {
     "name": "stdout",
     "output_type": "stream",
     "text": [
      "{'eval_loss': 0.7675885558128357, 'eval_token_accuracy': 0.7374581786516339, 'eval_exact_match_accuracy': 0.0141, 'eval_runtime': 5.9281, 'eval_samples_per_second': 1686.877, 'eval_steps_per_second': 6.748, 'epoch': 2.69}\n"
     ]
    },
    {
     "name": "stderr",
     "output_type": "stream",
     "text": [
      " 14%|█▍        | 11000/78140 [1:17:34<7:16:02,  2.57it/s] \n",
      "  0%|          | 0/40 [00:00<?, ?it/s]\u001b[A"
     ]
    },
    {
     "name": "stdout",
     "output_type": "stream",
     "text": [
      "{'loss': 0.7558, 'grad_norm': 1.0178123712539673, 'learning_rate': 9.51921026334289e-05, 'epoch': 2.82}\n"
     ]
    },
    {
     "name": "stderr",
     "output_type": "stream",
     "text": [
      "\n",
      "  5%|▌         | 2/40 [00:00<00:02, 13.84it/s]\u001b[A\n",
      " 10%|█         | 4/40 [00:00<00:04,  8.70it/s]\u001b[A\n",
      " 12%|█▎        | 5/40 [00:00<00:04,  8.08it/s]\u001b[A\n",
      " 15%|█▌        | 6/40 [00:00<00:04,  7.69it/s]\u001b[A\n",
      " 18%|█▊        | 7/40 [00:00<00:04,  7.44it/s]\u001b[A\n",
      " 20%|██        | 8/40 [00:01<00:04,  7.27it/s]\u001b[A\n",
      " 22%|██▎       | 9/40 [00:01<00:04,  7.14it/s]\u001b[A\n",
      " 25%|██▌       | 10/40 [00:01<00:04,  7.06it/s]\u001b[A\n",
      " 28%|██▊       | 11/40 [00:01<00:04,  7.01it/s]\u001b[A\n",
      " 30%|███       | 12/40 [00:01<00:04,  6.98it/s]\u001b[A\n",
      " 32%|███▎      | 13/40 [00:01<00:03,  6.96it/s]\u001b[A\n",
      " 35%|███▌      | 14/40 [00:01<00:03,  6.94it/s]\u001b[A\n",
      " 38%|███▊      | 15/40 [00:02<00:03,  6.94it/s]\u001b[A\n",
      " 40%|████      | 16/40 [00:02<00:03,  6.93it/s]\u001b[A\n",
      " 42%|████▎     | 17/40 [00:02<00:03,  6.93it/s]\u001b[A\n",
      " 45%|████▌     | 18/40 [00:02<00:03,  6.92it/s]\u001b[A\n",
      " 48%|████▊     | 19/40 [00:02<00:03,  6.92it/s]\u001b[A\n",
      " 50%|█████     | 20/40 [00:02<00:02,  6.92it/s]\u001b[A\n",
      " 52%|█████▎    | 21/40 [00:02<00:02,  6.91it/s]\u001b[A\n",
      " 55%|█████▌    | 22/40 [00:03<00:02,  6.92it/s]\u001b[A\n",
      " 57%|█████▊    | 23/40 [00:03<00:02,  6.91it/s]\u001b[A\n",
      " 60%|██████    | 24/40 [00:03<00:02,  6.91it/s]\u001b[A\n",
      " 62%|██████▎   | 25/40 [00:03<00:02,  6.92it/s]\u001b[A\n",
      " 65%|██████▌   | 26/40 [00:03<00:02,  6.91it/s]\u001b[A\n",
      " 68%|██████▊   | 27/40 [00:03<00:01,  6.91it/s]\u001b[A\n",
      " 70%|███████   | 28/40 [00:03<00:01,  6.91it/s]\u001b[A\n",
      " 72%|███████▎  | 29/40 [00:04<00:01,  6.91it/s]\u001b[A\n",
      " 75%|███████▌  | 30/40 [00:04<00:01,  6.91it/s]\u001b[A\n",
      " 78%|███████▊  | 31/40 [00:04<00:01,  6.91it/s]\u001b[A\n",
      " 80%|████████  | 32/40 [00:04<00:01,  6.91it/s]\u001b[A\n",
      " 82%|████████▎ | 33/40 [00:04<00:01,  6.91it/s]\u001b[A\n",
      " 85%|████████▌ | 34/40 [00:04<00:00,  6.91it/s]\u001b[A\n",
      " 88%|████████▊ | 35/40 [00:04<00:00,  6.91it/s]\u001b[A\n",
      " 90%|█████████ | 36/40 [00:05<00:00,  6.91it/s]\u001b[A\n",
      " 92%|█████████▎| 37/40 [00:05<00:00,  6.91it/s]\u001b[A\n",
      " 95%|█████████▌| 38/40 [00:05<00:00,  6.91it/s]\u001b[A\n",
      "                                                         \n",
      " 14%|█▍        | 11000/78140 [1:17:40<7:16:02,  2.57it/s]\n",
      "100%|██████████| 40/40 [00:05<00:00,  7.07it/s]\u001b[A\n",
      "                                               \u001b[A"
     ]
    },
    {
     "name": "stdout",
     "output_type": "stream",
     "text": [
      "{'eval_loss': 0.7315260171890259, 'eval_token_accuracy': 0.7380264906732664, 'eval_exact_match_accuracy': 0.0167, 'eval_runtime': 5.9309, 'eval_samples_per_second': 1686.076, 'eval_steps_per_second': 6.744, 'epoch': 2.82}\n"
     ]
    },
    {
     "name": "stderr",
     "output_type": "stream",
     "text": [
      " 15%|█▍        | 11500/78140 [1:21:04<7:12:56,  2.57it/s] \n",
      "  0%|          | 0/40 [00:00<?, ?it/s]\u001b[A"
     ]
    },
    {
     "name": "stdout",
     "output_type": "stream",
     "text": [
      "{'loss': 0.7274, 'grad_norm': 0.9841247200965881, 'learning_rate': 9.475294523678373e-05, 'epoch': 2.94}\n"
     ]
    },
    {
     "name": "stderr",
     "output_type": "stream",
     "text": [
      "\n",
      "  5%|▌         | 2/40 [00:00<00:02, 13.84it/s]\u001b[A\n",
      " 10%|█         | 4/40 [00:00<00:04,  8.70it/s]\u001b[A\n",
      " 12%|█▎        | 5/40 [00:00<00:04,  8.07it/s]\u001b[A\n",
      " 15%|█▌        | 6/40 [00:00<00:04,  7.69it/s]\u001b[A\n",
      " 18%|█▊        | 7/40 [00:00<00:04,  7.44it/s]\u001b[A\n",
      " 20%|██        | 8/40 [00:01<00:04,  7.27it/s]\u001b[A\n",
      " 22%|██▎       | 9/40 [00:01<00:04,  7.15it/s]\u001b[A\n",
      " 25%|██▌       | 10/40 [00:01<00:04,  7.06it/s]\u001b[A\n",
      " 28%|██▊       | 11/40 [00:01<00:04,  7.01it/s]\u001b[A\n",
      " 30%|███       | 12/40 [00:01<00:04,  6.98it/s]\u001b[A\n",
      " 32%|███▎      | 13/40 [00:01<00:03,  6.96it/s]\u001b[A\n",
      " 35%|███▌      | 14/40 [00:01<00:03,  6.94it/s]\u001b[A\n",
      " 38%|███▊      | 15/40 [00:02<00:03,  6.93it/s]\u001b[A\n",
      " 40%|████      | 16/40 [00:02<00:03,  6.93it/s]\u001b[A\n",
      " 42%|████▎     | 17/40 [00:02<00:03,  6.92it/s]\u001b[A\n",
      " 45%|████▌     | 18/40 [00:02<00:03,  6.92it/s]\u001b[A\n",
      " 48%|████▊     | 19/40 [00:02<00:03,  6.92it/s]\u001b[A\n",
      " 50%|█████     | 20/40 [00:02<00:02,  6.91it/s]\u001b[A\n",
      " 52%|█████▎    | 21/40 [00:02<00:02,  6.91it/s]\u001b[A\n",
      " 55%|█████▌    | 22/40 [00:03<00:02,  6.91it/s]\u001b[A\n",
      " 57%|█████▊    | 23/40 [00:03<00:02,  6.91it/s]\u001b[A\n",
      " 60%|██████    | 24/40 [00:03<00:02,  6.91it/s]\u001b[A\n",
      " 62%|██████▎   | 25/40 [00:03<00:02,  6.91it/s]\u001b[A\n",
      " 65%|██████▌   | 26/40 [00:03<00:02,  6.91it/s]\u001b[A\n",
      " 68%|██████▊   | 27/40 [00:03<00:01,  6.91it/s]\u001b[A\n",
      " 70%|███████   | 28/40 [00:03<00:01,  6.91it/s]\u001b[A\n",
      " 72%|███████▎  | 29/40 [00:04<00:01,  6.91it/s]\u001b[A\n",
      " 75%|███████▌  | 30/40 [00:04<00:01,  6.91it/s]\u001b[A\n",
      " 78%|███████▊  | 31/40 [00:04<00:01,  6.91it/s]\u001b[A\n",
      " 80%|████████  | 32/40 [00:04<00:01,  6.91it/s]\u001b[A\n",
      " 82%|████████▎ | 33/40 [00:04<00:01,  6.91it/s]\u001b[A\n",
      " 85%|████████▌ | 34/40 [00:04<00:00,  6.91it/s]\u001b[A\n",
      " 88%|████████▊ | 35/40 [00:04<00:00,  6.91it/s]\u001b[A\n",
      " 90%|█████████ | 36/40 [00:05<00:00,  6.91it/s]\u001b[A\n",
      " 92%|█████████▎| 37/40 [00:05<00:00,  6.91it/s]\u001b[A\n",
      " 95%|█████████▌| 38/40 [00:05<00:00,  6.91it/s]\u001b[A\n",
      "                                                         \n",
      " 15%|█▍        | 11500/78140 [1:21:10<7:12:56,  2.57it/s]\n",
      "100%|██████████| 40/40 [00:05<00:00,  7.07it/s]\u001b[A\n",
      "                                               \u001b[A"
     ]
    },
    {
     "name": "stdout",
     "output_type": "stream",
     "text": [
      "{'eval_loss': 0.7048206329345703, 'eval_token_accuracy': 0.7391264494248132, 'eval_exact_match_accuracy': 0.0187, 'eval_runtime': 5.935, 'eval_samples_per_second': 1684.91, 'eval_steps_per_second': 6.74, 'epoch': 2.94}\n"
     ]
    },
    {
     "name": "stderr",
     "output_type": "stream",
     "text": [
      " 15%|█▌        | 12000/78140 [1:24:34<7:10:11,  2.56it/s] \n",
      "  0%|          | 0/40 [00:00<?, ?it/s]\u001b[A"
     ]
    },
    {
     "name": "stdout",
     "output_type": "stream",
     "text": [
      "{'loss': 0.688, 'grad_norm': 0.9896752238273621, 'learning_rate': 9.429570361366494e-05, 'epoch': 3.07}\n"
     ]
    },
    {
     "name": "stderr",
     "output_type": "stream",
     "text": [
      "\n",
      "  5%|▌         | 2/40 [00:00<00:02, 13.92it/s]\u001b[A\n",
      " 10%|█         | 4/40 [00:00<00:04,  8.72it/s]\u001b[A\n",
      " 12%|█▎        | 5/40 [00:00<00:04,  8.09it/s]\u001b[A\n",
      " 15%|█▌        | 6/40 [00:00<00:04,  7.70it/s]\u001b[A\n",
      " 18%|█▊        | 7/40 [00:00<00:04,  7.45it/s]\u001b[A\n",
      " 20%|██        | 8/40 [00:01<00:04,  7.28it/s]\u001b[A\n",
      " 22%|██▎       | 9/40 [00:01<00:04,  7.15it/s]\u001b[A\n",
      " 25%|██▌       | 10/40 [00:01<00:04,  7.06it/s]\u001b[A\n",
      " 28%|██▊       | 11/40 [00:01<00:04,  7.00it/s]\u001b[A\n",
      " 30%|███       | 12/40 [00:01<00:04,  6.97it/s]\u001b[A\n",
      " 32%|███▎      | 13/40 [00:01<00:03,  6.95it/s]\u001b[A\n",
      " 35%|███▌      | 14/40 [00:01<00:03,  6.94it/s]\u001b[A\n",
      " 38%|███▊      | 15/40 [00:02<00:03,  6.93it/s]\u001b[A\n",
      " 40%|████      | 16/40 [00:02<00:03,  6.93it/s]\u001b[A\n",
      " 42%|████▎     | 17/40 [00:02<00:03,  6.92it/s]\u001b[A\n",
      " 45%|████▌     | 18/40 [00:02<00:03,  6.92it/s]\u001b[A\n",
      " 48%|████▊     | 19/40 [00:02<00:03,  6.92it/s]\u001b[A\n",
      " 50%|█████     | 20/40 [00:02<00:02,  6.92it/s]\u001b[A\n",
      " 52%|█████▎    | 21/40 [00:02<00:02,  6.92it/s]\u001b[A\n",
      " 55%|█████▌    | 22/40 [00:03<00:02,  6.92it/s]\u001b[A\n",
      " 57%|█████▊    | 23/40 [00:03<00:02,  6.92it/s]\u001b[A\n",
      " 60%|██████    | 24/40 [00:03<00:02,  6.91it/s]\u001b[A\n",
      " 62%|██████▎   | 25/40 [00:03<00:02,  6.92it/s]\u001b[A\n",
      " 65%|██████▌   | 26/40 [00:03<00:02,  6.92it/s]\u001b[A\n",
      " 68%|██████▊   | 27/40 [00:03<00:01,  6.92it/s]\u001b[A\n",
      " 70%|███████   | 28/40 [00:03<00:01,  6.91it/s]\u001b[A\n",
      " 72%|███████▎  | 29/40 [00:04<00:01,  6.91it/s]\u001b[A\n",
      " 75%|███████▌  | 30/40 [00:04<00:01,  6.92it/s]\u001b[A\n",
      " 78%|███████▊  | 31/40 [00:04<00:01,  6.91it/s]\u001b[A\n",
      " 80%|████████  | 32/40 [00:04<00:01,  6.91it/s]\u001b[A\n",
      " 82%|████████▎ | 33/40 [00:04<00:01,  6.91it/s]\u001b[A\n",
      " 85%|████████▌ | 34/40 [00:04<00:00,  6.91it/s]\u001b[A\n",
      " 88%|████████▊ | 35/40 [00:04<00:00,  6.91it/s]\u001b[A\n",
      " 90%|█████████ | 36/40 [00:05<00:00,  6.91it/s]\u001b[A\n",
      " 92%|█████████▎| 37/40 [00:05<00:00,  6.91it/s]\u001b[A\n",
      " 95%|█████████▌| 38/40 [00:05<00:00,  6.91it/s]\u001b[A\n",
      "                                                         \n",
      " 15%|█▌        | 12000/78140 [1:24:40<7:10:11,  2.56it/s]\n",
      "100%|██████████| 40/40 [00:05<00:00,  7.08it/s]\u001b[A\n",
      "                                               \u001b[A"
     ]
    },
    {
     "name": "stdout",
     "output_type": "stream",
     "text": [
      "{'eval_loss': 0.69021075963974, 'eval_token_accuracy': 0.739978917457262, 'eval_exact_match_accuracy': 0.0227, 'eval_runtime': 5.9279, 'eval_samples_per_second': 1686.924, 'eval_steps_per_second': 6.748, 'epoch': 3.07}\n"
     ]
    },
    {
     "name": "stderr",
     "output_type": "stream",
     "text": [
      " 16%|█▌        | 12500/78140 [1:28:04<7:06:31,  2.56it/s] \n",
      "  0%|          | 0/40 [00:00<?, ?it/s]\u001b[A"
     ]
    },
    {
     "name": "stdout",
     "output_type": "stream",
     "text": [
      "{'loss': 0.6638, 'grad_norm': 0.962888240814209, 'learning_rate': 9.382056253093025e-05, 'epoch': 3.2}\n"
     ]
    },
    {
     "name": "stderr",
     "output_type": "stream",
     "text": [
      "\n",
      "  5%|▌         | 2/40 [00:00<00:02, 13.87it/s]\u001b[A\n",
      " 10%|█         | 4/40 [00:00<00:04,  8.71it/s]\u001b[A\n",
      " 12%|█▎        | 5/40 [00:00<00:04,  8.09it/s]\u001b[A\n",
      " 15%|█▌        | 6/40 [00:00<00:04,  7.69it/s]\u001b[A\n",
      " 18%|█▊        | 7/40 [00:00<00:04,  7.44it/s]\u001b[A\n",
      " 20%|██        | 8/40 [00:01<00:04,  7.27it/s]\u001b[A\n",
      " 22%|██▎       | 9/40 [00:01<00:04,  7.14it/s]\u001b[A\n",
      " 25%|██▌       | 10/40 [00:01<00:04,  7.06it/s]\u001b[A\n",
      " 28%|██▊       | 11/40 [00:01<00:04,  7.01it/s]\u001b[A\n",
      " 30%|███       | 12/40 [00:01<00:04,  6.98it/s]\u001b[A\n",
      " 32%|███▎      | 13/40 [00:01<00:03,  6.95it/s]\u001b[A\n",
      " 35%|███▌      | 14/40 [00:01<00:03,  6.94it/s]\u001b[A\n",
      " 38%|███▊      | 15/40 [00:02<00:03,  6.93it/s]\u001b[A\n",
      " 40%|████      | 16/40 [00:02<00:03,  6.93it/s]\u001b[A\n",
      " 42%|████▎     | 17/40 [00:02<00:03,  6.92it/s]\u001b[A\n",
      " 45%|████▌     | 18/40 [00:02<00:03,  6.92it/s]\u001b[A\n",
      " 48%|████▊     | 19/40 [00:02<00:03,  6.92it/s]\u001b[A\n",
      " 50%|█████     | 20/40 [00:02<00:02,  6.92it/s]\u001b[A\n",
      " 52%|█████▎    | 21/40 [00:02<00:02,  6.91it/s]\u001b[A\n",
      " 55%|█████▌    | 22/40 [00:03<00:02,  6.91it/s]\u001b[A\n",
      " 57%|█████▊    | 23/40 [00:03<00:02,  6.92it/s]\u001b[A\n",
      " 60%|██████    | 24/40 [00:03<00:02,  6.91it/s]\u001b[A\n",
      " 62%|██████▎   | 25/40 [00:03<00:02,  6.91it/s]\u001b[A\n",
      " 65%|██████▌   | 26/40 [00:03<00:02,  6.91it/s]\u001b[A\n",
      " 68%|██████▊   | 27/40 [00:03<00:01,  6.91it/s]\u001b[A\n",
      " 70%|███████   | 28/40 [00:03<00:01,  6.92it/s]\u001b[A\n",
      " 72%|███████▎  | 29/40 [00:04<00:01,  6.92it/s]\u001b[A\n",
      " 75%|███████▌  | 30/40 [00:04<00:01,  6.91it/s]\u001b[A\n",
      " 78%|███████▊  | 31/40 [00:04<00:01,  6.91it/s]\u001b[A\n",
      " 80%|████████  | 32/40 [00:04<00:01,  6.91it/s]\u001b[A\n",
      " 82%|████████▎ | 33/40 [00:04<00:01,  6.91it/s]\u001b[A\n",
      " 85%|████████▌ | 34/40 [00:04<00:00,  6.92it/s]\u001b[A\n",
      " 88%|████████▊ | 35/40 [00:04<00:00,  6.92it/s]\u001b[A\n",
      " 90%|█████████ | 36/40 [00:05<00:00,  6.92it/s]\u001b[A\n",
      " 92%|█████████▎| 37/40 [00:05<00:00,  6.92it/s]\u001b[A\n",
      " 95%|█████████▌| 38/40 [00:05<00:00,  6.92it/s]\u001b[A\n",
      "                                                         \n",
      " 16%|█▌        | 12500/78140 [1:28:10<7:06:31,  2.56it/s]\n",
      "100%|██████████| 40/40 [00:05<00:00,  7.09it/s]\u001b[A\n",
      "                                               \u001b[A"
     ]
    },
    {
     "name": "stdout",
     "output_type": "stream",
     "text": [
      "{'eval_loss': 0.6835622787475586, 'eval_token_accuracy': 0.7400155827489803, 'eval_exact_match_accuracy': 0.0216, 'eval_runtime': 5.927, 'eval_samples_per_second': 1687.192, 'eval_steps_per_second': 6.749, 'epoch': 3.2}\n"
     ]
    },
    {
     "name": "stderr",
     "output_type": "stream",
     "text": [
      " 17%|█▋        | 13000/78140 [1:31:34<7:03:39,  2.56it/s] \n",
      "  0%|          | 0/40 [00:00<?, ?it/s]\u001b[A"
     ]
    },
    {
     "name": "stdout",
     "output_type": "stream",
     "text": [
      "{'loss': 0.6627, 'grad_norm': 0.915313720703125, 'learning_rate': 9.332871722637473e-05, 'epoch': 3.33}\n"
     ]
    },
    {
     "name": "stderr",
     "output_type": "stream",
     "text": [
      "\n",
      "  5%|▌         | 2/40 [00:00<00:02, 13.88it/s]\u001b[A\n",
      " 10%|█         | 4/40 [00:00<00:04,  8.71it/s]\u001b[A\n",
      " 12%|█▎        | 5/40 [00:00<00:04,  8.08it/s]\u001b[A\n",
      " 15%|█▌        | 6/40 [00:00<00:04,  7.69it/s]\u001b[A\n",
      " 18%|█▊        | 7/40 [00:00<00:04,  7.44it/s]\u001b[A\n",
      " 20%|██        | 8/40 [00:01<00:04,  7.27it/s]\u001b[A\n",
      " 22%|██▎       | 9/40 [00:01<00:04,  7.16it/s]\u001b[A\n",
      " 25%|██▌       | 10/40 [00:01<00:04,  7.08it/s]\u001b[A\n",
      " 28%|██▊       | 11/40 [00:01<00:04,  7.03it/s]\u001b[A\n",
      " 30%|███       | 12/40 [00:01<00:04,  6.99it/s]\u001b[A\n",
      " 32%|███▎      | 13/40 [00:01<00:03,  6.95it/s]\u001b[A\n",
      " 35%|███▌      | 14/40 [00:01<00:03,  6.92it/s]\u001b[A\n",
      " 38%|███▊      | 15/40 [00:02<00:03,  6.90it/s]\u001b[A\n",
      " 40%|████      | 16/40 [00:02<00:03,  6.90it/s]\u001b[A\n",
      " 42%|████▎     | 17/40 [00:02<00:03,  6.91it/s]\u001b[A\n",
      " 45%|████▌     | 18/40 [00:02<00:03,  6.91it/s]\u001b[A\n",
      " 48%|████▊     | 19/40 [00:02<00:03,  6.91it/s]\u001b[A\n",
      " 50%|█████     | 20/40 [00:02<00:02,  6.90it/s]\u001b[A\n",
      " 52%|█████▎    | 21/40 [00:02<00:02,  6.90it/s]\u001b[A\n",
      " 55%|█████▌    | 22/40 [00:03<00:02,  6.91it/s]\u001b[A\n",
      " 57%|█████▊    | 23/40 [00:03<00:02,  6.91it/s]\u001b[A\n",
      " 60%|██████    | 24/40 [00:03<00:02,  6.91it/s]\u001b[A\n",
      " 62%|██████▎   | 25/40 [00:03<00:02,  6.91it/s]\u001b[A\n",
      " 65%|██████▌   | 26/40 [00:03<00:02,  6.91it/s]\u001b[A\n",
      " 68%|██████▊   | 27/40 [00:03<00:01,  6.91it/s]\u001b[A\n",
      " 70%|███████   | 28/40 [00:03<00:01,  6.91it/s]\u001b[A\n",
      " 72%|███████▎  | 29/40 [00:04<00:01,  6.91it/s]\u001b[A\n",
      " 75%|███████▌  | 30/40 [00:04<00:01,  6.91it/s]\u001b[A\n",
      " 78%|███████▊  | 31/40 [00:04<00:01,  6.91it/s]\u001b[A\n",
      " 80%|████████  | 32/40 [00:04<00:01,  6.91it/s]\u001b[A\n",
      " 82%|████████▎ | 33/40 [00:04<00:01,  6.91it/s]\u001b[A\n",
      " 85%|████████▌ | 34/40 [00:04<00:00,  6.91it/s]\u001b[A\n",
      " 88%|████████▊ | 35/40 [00:04<00:00,  6.91it/s]\u001b[A\n",
      " 90%|█████████ | 36/40 [00:05<00:00,  6.91it/s]\u001b[A\n",
      " 92%|█████████▎| 37/40 [00:05<00:00,  6.91it/s]\u001b[A\n",
      " 95%|█████████▌| 38/40 [00:05<00:00,  6.91it/s]\u001b[A\n",
      "                                                         \n",
      " 17%|█▋        | 13000/78140 [1:31:40<7:03:39,  2.56it/s]\n",
      "100%|██████████| 40/40 [00:05<00:00,  7.07it/s]\u001b[A\n",
      "                                               \u001b[A"
     ]
    },
    {
     "name": "stdout",
     "output_type": "stream",
     "text": [
      "{'eval_loss': 0.6797794699668884, 'eval_token_accuracy': 0.7397222604152345, 'eval_exact_match_accuracy': 0.0194, 'eval_runtime': 5.9283, 'eval_samples_per_second': 1686.816, 'eval_steps_per_second': 6.747, 'epoch': 3.33}\n"
     ]
    },
    {
     "name": "stderr",
     "output_type": "stream",
     "text": [
      " 17%|█▋        | 13500/78140 [1:35:04<7:00:16,  2.56it/s] \n",
      "  0%|          | 0/40 [00:00<?, ?it/s]\u001b[A"
     ]
    },
    {
     "name": "stdout",
     "output_type": "stream",
     "text": [
      "{'loss': 0.6607, 'grad_norm': 1.0529134273529053, 'learning_rate': 9.281839519251676e-05, 'epoch': 3.46}\n"
     ]
    },
    {
     "name": "stderr",
     "output_type": "stream",
     "text": [
      "\n",
      "  5%|▌         | 2/40 [00:00<00:02, 13.87it/s]\u001b[A\n",
      " 10%|█         | 4/40 [00:00<00:04,  8.71it/s]\u001b[A\n",
      " 12%|█▎        | 5/40 [00:00<00:04,  8.08it/s]\u001b[A\n",
      " 15%|█▌        | 6/40 [00:00<00:04,  7.69it/s]\u001b[A\n",
      " 18%|█▊        | 7/40 [00:00<00:04,  7.44it/s]\u001b[A\n",
      " 20%|██        | 8/40 [00:01<00:04,  7.27it/s]\u001b[A\n",
      " 22%|██▎       | 9/40 [00:01<00:04,  7.14it/s]\u001b[A\n",
      " 25%|██▌       | 10/40 [00:01<00:04,  7.06it/s]\u001b[A\n",
      " 28%|██▊       | 11/40 [00:01<00:04,  7.01it/s]\u001b[A\n",
      " 30%|███       | 12/40 [00:01<00:04,  6.98it/s]\u001b[A\n",
      " 32%|███▎      | 13/40 [00:01<00:03,  6.96it/s]\u001b[A\n",
      " 35%|███▌      | 14/40 [00:01<00:03,  6.94it/s]\u001b[A\n",
      " 38%|███▊      | 15/40 [00:02<00:03,  6.93it/s]\u001b[A\n",
      " 40%|████      | 16/40 [00:02<00:03,  6.93it/s]\u001b[A\n",
      " 42%|████▎     | 17/40 [00:02<00:03,  6.92it/s]\u001b[A\n",
      " 45%|████▌     | 18/40 [00:02<00:03,  6.92it/s]\u001b[A\n",
      " 48%|████▊     | 19/40 [00:02<00:03,  6.91it/s]\u001b[A\n",
      " 50%|█████     | 20/40 [00:02<00:02,  6.90it/s]\u001b[A\n",
      " 52%|█████▎    | 21/40 [00:02<00:02,  6.90it/s]\u001b[A\n",
      " 55%|█████▌    | 22/40 [00:03<00:02,  6.90it/s]\u001b[A\n",
      " 57%|█████▊    | 23/40 [00:03<00:02,  6.90it/s]\u001b[A\n",
      " 60%|██████    | 24/40 [00:03<00:02,  6.90it/s]\u001b[A\n",
      " 62%|██████▎   | 25/40 [00:03<00:02,  6.90it/s]\u001b[A\n",
      " 65%|██████▌   | 26/40 [00:03<00:02,  6.90it/s]\u001b[A\n",
      " 68%|██████▊   | 27/40 [00:03<00:01,  6.90it/s]\u001b[A\n",
      " 70%|███████   | 28/40 [00:03<00:01,  6.91it/s]\u001b[A\n",
      " 72%|███████▎  | 29/40 [00:04<00:01,  6.91it/s]\u001b[A\n",
      " 75%|███████▌  | 30/40 [00:04<00:01,  6.91it/s]\u001b[A\n",
      " 78%|███████▊  | 31/40 [00:04<00:01,  6.91it/s]\u001b[A\n",
      " 80%|████████  | 32/40 [00:04<00:01,  6.91it/s]\u001b[A\n",
      " 82%|████████▎ | 33/40 [00:04<00:01,  6.90it/s]\u001b[A\n",
      " 85%|████████▌ | 34/40 [00:04<00:00,  6.90it/s]\u001b[A\n",
      " 88%|████████▊ | 35/40 [00:04<00:00,  6.90it/s]\u001b[A\n",
      " 90%|█████████ | 36/40 [00:05<00:00,  6.91it/s]\u001b[A\n",
      " 92%|█████████▎| 37/40 [00:05<00:00,  6.91it/s]\u001b[A\n",
      " 95%|█████████▌| 38/40 [00:05<00:00,  6.91it/s]\u001b[A\n",
      "                                                         \n",
      " 17%|█▋        | 13500/78140 [1:35:10<7:00:16,  2.56it/s]\n",
      "100%|██████████| 40/40 [00:05<00:00,  7.08it/s]\u001b[A\n",
      "                                               \u001b[A"
     ]
    },
    {
     "name": "stdout",
     "output_type": "stream",
     "text": [
      "{'eval_loss': 0.676626443862915, 'eval_token_accuracy': 0.7391081167789542, 'eval_exact_match_accuracy': 0.0196, 'eval_runtime': 5.9286, 'eval_samples_per_second': 1686.729, 'eval_steps_per_second': 6.747, 'epoch': 3.46}\n"
     ]
    },
    {
     "name": "stderr",
     "output_type": "stream",
     "text": [
      " 18%|█▊        | 14000/78140 [1:38:34<6:56:32,  2.57it/s] \n",
      "  0%|          | 0/40 [00:00<?, ?it/s]\u001b[A"
     ]
    },
    {
     "name": "stdout",
     "output_type": "stream",
     "text": [
      "{'loss': 0.6579, 'grad_norm': 0.8731291890144348, 'learning_rate': 9.22907706648944e-05, 'epoch': 3.58}\n"
     ]
    },
    {
     "name": "stderr",
     "output_type": "stream",
     "text": [
      "\n",
      "  5%|▌         | 2/40 [00:00<00:02, 13.82it/s]\u001b[A\n",
      " 10%|█         | 4/40 [00:00<00:04,  8.70it/s]\u001b[A\n",
      " 12%|█▎        | 5/40 [00:00<00:04,  8.07it/s]\u001b[A\n",
      " 15%|█▌        | 6/40 [00:00<00:04,  7.69it/s]\u001b[A\n",
      " 18%|█▊        | 7/40 [00:00<00:04,  7.44it/s]\u001b[A\n",
      " 20%|██        | 8/40 [00:01<00:04,  7.27it/s]\u001b[A\n",
      " 22%|██▎       | 9/40 [00:01<00:04,  7.16it/s]\u001b[A\n",
      " 25%|██▌       | 10/40 [00:01<00:04,  7.09it/s]\u001b[A\n",
      " 28%|██▊       | 11/40 [00:01<00:04,  7.03it/s]\u001b[A\n",
      " 30%|███       | 12/40 [00:01<00:04,  7.00it/s]\u001b[A\n",
      " 32%|███▎      | 13/40 [00:01<00:03,  6.97it/s]\u001b[A\n",
      " 35%|███▌      | 14/40 [00:01<00:03,  6.96it/s]\u001b[A\n",
      " 38%|███▊      | 15/40 [00:02<00:03,  6.94it/s]\u001b[A\n",
      " 40%|████      | 16/40 [00:02<00:03,  6.93it/s]\u001b[A\n",
      " 42%|████▎     | 17/40 [00:02<00:03,  6.93it/s]\u001b[A\n",
      " 45%|████▌     | 18/40 [00:02<00:03,  6.92it/s]\u001b[A\n",
      " 48%|████▊     | 19/40 [00:02<00:03,  6.92it/s]\u001b[A\n",
      " 50%|█████     | 20/40 [00:02<00:02,  6.92it/s]\u001b[A\n",
      " 52%|█████▎    | 21/40 [00:02<00:02,  6.92it/s]\u001b[A\n",
      " 55%|█████▌    | 22/40 [00:03<00:02,  6.92it/s]\u001b[A\n",
      " 57%|█████▊    | 23/40 [00:03<00:02,  6.92it/s]\u001b[A\n",
      " 60%|██████    | 24/40 [00:03<00:02,  6.92it/s]\u001b[A\n",
      " 62%|██████▎   | 25/40 [00:03<00:02,  6.92it/s]\u001b[A\n",
      " 65%|██████▌   | 26/40 [00:03<00:02,  6.92it/s]\u001b[A\n",
      " 68%|██████▊   | 27/40 [00:03<00:01,  6.91it/s]\u001b[A\n",
      " 70%|███████   | 28/40 [00:03<00:01,  6.91it/s]\u001b[A\n",
      " 72%|███████▎  | 29/40 [00:04<00:01,  6.91it/s]\u001b[A\n",
      " 75%|███████▌  | 30/40 [00:04<00:01,  6.91it/s]\u001b[A\n",
      " 78%|███████▊  | 31/40 [00:04<00:01,  6.91it/s]\u001b[A\n",
      " 80%|████████  | 32/40 [00:04<00:01,  6.91it/s]\u001b[A\n",
      " 82%|████████▎ | 33/40 [00:04<00:01,  6.91it/s]\u001b[A\n",
      " 85%|████████▌ | 34/40 [00:04<00:00,  6.91it/s]\u001b[A\n",
      " 88%|████████▊ | 35/40 [00:04<00:00,  6.91it/s]\u001b[A\n",
      " 90%|█████████ | 36/40 [00:05<00:00,  6.91it/s]\u001b[A\n",
      " 92%|█████████▎| 37/40 [00:05<00:00,  6.91it/s]\u001b[A\n",
      " 95%|█████████▌| 38/40 [00:05<00:00,  6.91it/s]\u001b[A\n",
      "                                                         \n",
      " 18%|█▊        | 14000/78140 [1:38:40<6:56:32,  2.57it/s]\n",
      "100%|██████████| 40/40 [00:05<00:00,  7.07it/s]\u001b[A\n",
      "                                               \u001b[A"
     ]
    },
    {
     "name": "stdout",
     "output_type": "stream",
     "text": [
      "{'eval_loss': 0.6647799015045166, 'eval_token_accuracy': 0.7392181126541087, 'eval_exact_match_accuracy': 0.018, 'eval_runtime': 5.9328, 'eval_samples_per_second': 1685.545, 'eval_steps_per_second': 6.742, 'epoch': 3.58}\n"
     ]
    },
    {
     "name": "stderr",
     "output_type": "stream",
     "text": [
      " 19%|█▊        | 14500/78140 [1:42:04<6:53:11,  2.57it/s] \n",
      "  0%|          | 0/40 [00:00<?, ?it/s]\u001b[A"
     ]
    },
    {
     "name": "stdout",
     "output_type": "stream",
     "text": [
      "{'loss': 0.6563, 'grad_norm': 0.8560728430747986, 'learning_rate': 9.174605685140711e-05, 'epoch': 3.71}\n"
     ]
    },
    {
     "name": "stderr",
     "output_type": "stream",
     "text": [
      "\n",
      "  5%|▌         | 2/40 [00:00<00:02, 13.82it/s]\u001b[A\n",
      " 10%|█         | 4/40 [00:00<00:04,  8.70it/s]\u001b[A\n",
      " 12%|█▎        | 5/40 [00:00<00:04,  8.08it/s]\u001b[A\n",
      " 15%|█▌        | 6/40 [00:00<00:04,  7.69it/s]\u001b[A\n",
      " 18%|█▊        | 7/40 [00:00<00:04,  7.44it/s]\u001b[A\n",
      " 20%|██        | 8/40 [00:01<00:04,  7.27it/s]\u001b[A\n",
      " 22%|██▎       | 9/40 [00:01<00:04,  7.16it/s]\u001b[A\n",
      " 25%|██▌       | 10/40 [00:01<00:04,  7.09it/s]\u001b[A\n",
      " 28%|██▊       | 11/40 [00:01<00:04,  7.03it/s]\u001b[A\n",
      " 30%|███       | 12/40 [00:01<00:04,  6.99it/s]\u001b[A\n",
      " 32%|███▎      | 13/40 [00:01<00:03,  6.97it/s]\u001b[A\n",
      " 35%|███▌      | 14/40 [00:01<00:03,  6.95it/s]\u001b[A\n",
      " 38%|███▊      | 15/40 [00:02<00:03,  6.94it/s]\u001b[A\n",
      " 40%|████      | 16/40 [00:02<00:03,  6.93it/s]\u001b[A\n",
      " 42%|████▎     | 17/40 [00:02<00:03,  6.93it/s]\u001b[A\n",
      " 45%|████▌     | 18/40 [00:02<00:03,  6.92it/s]\u001b[A\n",
      " 48%|████▊     | 19/40 [00:02<00:03,  6.92it/s]\u001b[A\n",
      " 50%|█████     | 20/40 [00:02<00:02,  6.92it/s]\u001b[A\n",
      " 52%|█████▎    | 21/40 [00:02<00:02,  6.91it/s]\u001b[A\n",
      " 55%|█████▌    | 22/40 [00:03<00:02,  6.91it/s]\u001b[A\n",
      " 57%|█████▊    | 23/40 [00:03<00:02,  6.91it/s]\u001b[A\n",
      " 60%|██████    | 24/40 [00:03<00:02,  6.91it/s]\u001b[A\n",
      " 62%|██████▎   | 25/40 [00:03<00:02,  6.91it/s]\u001b[A\n",
      " 65%|██████▌   | 26/40 [00:03<00:02,  6.91it/s]\u001b[A\n",
      " 68%|██████▊   | 27/40 [00:03<00:01,  6.91it/s]\u001b[A\n",
      " 70%|███████   | 28/40 [00:03<00:01,  6.91it/s]\u001b[A\n",
      " 72%|███████▎  | 29/40 [00:04<00:01,  6.91it/s]\u001b[A\n",
      " 75%|███████▌  | 30/40 [00:04<00:01,  6.91it/s]\u001b[A\n",
      " 78%|███████▊  | 31/40 [00:04<00:01,  6.91it/s]\u001b[A\n",
      " 80%|████████  | 32/40 [00:04<00:01,  6.91it/s]\u001b[A\n",
      " 82%|████████▎ | 33/40 [00:04<00:01,  6.91it/s]\u001b[A\n",
      " 85%|████████▌ | 34/40 [00:04<00:00,  6.91it/s]\u001b[A\n",
      " 88%|████████▊ | 35/40 [00:04<00:00,  6.91it/s]\u001b[A\n",
      " 90%|█████████ | 36/40 [00:05<00:00,  6.90it/s]\u001b[A\n",
      " 92%|█████████▎| 37/40 [00:05<00:00,  6.90it/s]\u001b[A\n",
      " 95%|█████████▌| 38/40 [00:05<00:00,  6.91it/s]\u001b[A\n",
      "                                                         \n",
      " 19%|█▊        | 14500/78140 [1:42:10<6:53:11,  2.57it/s]\n",
      "100%|██████████| 40/40 [00:05<00:00,  7.06it/s]\u001b[A\n",
      "                                               \u001b[A"
     ]
    },
    {
     "name": "stdout",
     "output_type": "stream",
     "text": [
      "{'eval_loss': 0.6607776284217834, 'eval_token_accuracy': 0.7402905724368669, 'eval_exact_match_accuracy': 0.0193, 'eval_runtime': 5.9322, 'eval_samples_per_second': 1685.72, 'eval_steps_per_second': 6.743, 'epoch': 3.71}\n"
     ]
    },
    {
     "name": "stderr",
     "output_type": "stream",
     "text": [
      " 19%|█▉        | 15000/78140 [1:45:34<6:50:23,  2.56it/s] \n",
      "  0%|          | 0/40 [00:00<?, ?it/s]\u001b[A"
     ]
    },
    {
     "name": "stdout",
     "output_type": "stream",
     "text": [
      "{'loss': 0.6517, 'grad_norm': 0.8670427799224854, 'learning_rate': 9.11856137172657e-05, 'epoch': 3.84}\n"
     ]
    },
    {
     "name": "stderr",
     "output_type": "stream",
     "text": [
      "\n",
      "  5%|▌         | 2/40 [00:00<00:02, 13.84it/s]\u001b[A\n",
      " 10%|█         | 4/40 [00:00<00:04,  8.71it/s]\u001b[A\n",
      " 12%|█▎        | 5/40 [00:00<00:04,  8.08it/s]\u001b[A\n",
      " 15%|█▌        | 6/40 [00:00<00:04,  7.70it/s]\u001b[A\n",
      " 18%|█▊        | 7/40 [00:00<00:04,  7.44it/s]\u001b[A\n",
      " 20%|██        | 8/40 [00:01<00:04,  7.28it/s]\u001b[A\n",
      " 22%|██▎       | 9/40 [00:01<00:04,  7.17it/s]\u001b[A\n",
      " 25%|██▌       | 10/40 [00:01<00:04,  7.09it/s]\u001b[A\n",
      " 28%|██▊       | 11/40 [00:01<00:04,  7.04it/s]\u001b[A\n",
      " 30%|███       | 12/40 [00:01<00:03,  7.00it/s]\u001b[A\n",
      " 32%|███▎      | 13/40 [00:01<00:03,  6.97it/s]\u001b[A\n",
      " 35%|███▌      | 14/40 [00:01<00:03,  6.95it/s]\u001b[A\n",
      " 38%|███▊      | 15/40 [00:02<00:03,  6.94it/s]\u001b[A\n",
      " 40%|████      | 16/40 [00:02<00:03,  6.93it/s]\u001b[A\n",
      " 42%|████▎     | 17/40 [00:02<00:03,  6.93it/s]\u001b[A\n",
      " 45%|████▌     | 18/40 [00:02<00:03,  6.92it/s]\u001b[A\n",
      " 48%|████▊     | 19/40 [00:02<00:03,  6.92it/s]\u001b[A\n",
      " 50%|█████     | 20/40 [00:02<00:02,  6.92it/s]\u001b[A\n",
      " 52%|█████▎    | 21/40 [00:02<00:02,  6.92it/s]\u001b[A\n",
      " 55%|█████▌    | 22/40 [00:03<00:02,  6.92it/s]\u001b[A\n",
      " 57%|█████▊    | 23/40 [00:03<00:02,  6.91it/s]\u001b[A\n",
      " 60%|██████    | 24/40 [00:03<00:02,  6.91it/s]\u001b[A\n",
      " 62%|██████▎   | 25/40 [00:03<00:02,  6.91it/s]\u001b[A\n",
      " 65%|██████▌   | 26/40 [00:03<00:02,  6.91it/s]\u001b[A\n",
      " 68%|██████▊   | 27/40 [00:03<00:01,  6.92it/s]\u001b[A\n",
      " 70%|███████   | 28/40 [00:03<00:01,  6.92it/s]\u001b[A\n",
      " 72%|███████▎  | 29/40 [00:04<00:01,  6.91it/s]\u001b[A\n",
      " 75%|███████▌  | 30/40 [00:04<00:01,  6.92it/s]\u001b[A\n",
      " 78%|███████▊  | 31/40 [00:04<00:01,  6.91it/s]\u001b[A\n",
      " 80%|████████  | 32/40 [00:04<00:01,  6.91it/s]\u001b[A\n",
      " 82%|████████▎ | 33/40 [00:04<00:01,  6.91it/s]\u001b[A\n",
      " 85%|████████▌ | 34/40 [00:04<00:00,  6.92it/s]\u001b[A\n",
      " 88%|████████▊ | 35/40 [00:04<00:00,  6.91it/s]\u001b[A\n",
      " 90%|█████████ | 36/40 [00:05<00:00,  6.91it/s]\u001b[A\n",
      " 92%|█████████▎| 37/40 [00:05<00:00,  6.91it/s]\u001b[A\n",
      " 95%|█████████▌| 38/40 [00:05<00:00,  6.91it/s]\u001b[A\n",
      "                                                         \n",
      " 19%|█▉        | 15000/78140 [1:45:40<6:50:23,  2.56it/s]\n",
      "100%|██████████| 40/40 [00:05<00:00,  7.07it/s]\u001b[A\n",
      "                                               \u001b[A"
     ]
    },
    {
     "name": "stdout",
     "output_type": "stream",
     "text": [
      "{'eval_loss': 0.6507425904273987, 'eval_token_accuracy': 0.7480361153123425, 'eval_exact_match_accuracy': 0.0191, 'eval_runtime': 5.9277, 'eval_samples_per_second': 1686.988, 'eval_steps_per_second': 6.748, 'epoch': 3.84}\n"
     ]
    },
    {
     "name": "stderr",
     "output_type": "stream",
     "text": [
      " 20%|█▉        | 15500/78140 [1:49:04<6:46:25,  2.57it/s] \n",
      "  0%|          | 0/40 [00:00<?, ?it/s]\u001b[A"
     ]
    },
    {
     "name": "stdout",
     "output_type": "stream",
     "text": [
      "{'loss': 0.6221, 'grad_norm': 0.901250422000885, 'learning_rate': 9.060742154277564e-05, 'epoch': 3.97}\n"
     ]
    },
    {
     "name": "stderr",
     "output_type": "stream",
     "text": [
      "\n",
      "  5%|▌         | 2/40 [00:00<00:02, 13.84it/s]\u001b[A\n",
      " 10%|█         | 4/40 [00:00<00:04,  8.71it/s]\u001b[A\n",
      " 12%|█▎        | 5/40 [00:00<00:04,  8.08it/s]\u001b[A\n",
      " 15%|█▌        | 6/40 [00:00<00:04,  7.69it/s]\u001b[A\n",
      " 18%|█▊        | 7/40 [00:00<00:04,  7.44it/s]\u001b[A\n",
      " 20%|██        | 8/40 [00:01<00:04,  7.27it/s]\u001b[A\n",
      " 22%|██▎       | 9/40 [00:01<00:04,  7.16it/s]\u001b[A\n",
      " 25%|██▌       | 10/40 [00:01<00:04,  7.09it/s]\u001b[A\n",
      " 28%|██▊       | 11/40 [00:01<00:04,  7.03it/s]\u001b[A\n",
      " 30%|███       | 12/40 [00:01<00:04,  7.00it/s]\u001b[A\n",
      " 32%|███▎      | 13/40 [00:01<00:03,  6.97it/s]\u001b[A\n",
      " 35%|███▌      | 14/40 [00:01<00:03,  6.95it/s]\u001b[A\n",
      " 38%|███▊      | 15/40 [00:02<00:03,  6.94it/s]\u001b[A\n",
      " 40%|████      | 16/40 [00:02<00:03,  6.93it/s]\u001b[A\n",
      " 42%|████▎     | 17/40 [00:02<00:03,  6.93it/s]\u001b[A\n",
      " 45%|████▌     | 18/40 [00:02<00:03,  6.92it/s]\u001b[A\n",
      " 48%|████▊     | 19/40 [00:02<00:03,  6.91it/s]\u001b[A\n",
      " 50%|█████     | 20/40 [00:02<00:02,  6.92it/s]\u001b[A\n",
      " 52%|█████▎    | 21/40 [00:02<00:02,  6.91it/s]\u001b[A\n",
      " 55%|█████▌    | 22/40 [00:03<00:02,  6.91it/s]\u001b[A\n",
      " 57%|█████▊    | 23/40 [00:03<00:02,  6.91it/s]\u001b[A\n",
      " 60%|██████    | 24/40 [00:03<00:02,  6.91it/s]\u001b[A\n",
      " 62%|██████▎   | 25/40 [00:03<00:02,  6.91it/s]\u001b[A\n",
      " 65%|██████▌   | 26/40 [00:03<00:02,  6.91it/s]\u001b[A\n",
      " 68%|██████▊   | 27/40 [00:03<00:01,  6.91it/s]\u001b[A\n",
      " 70%|███████   | 28/40 [00:03<00:01,  6.91it/s]\u001b[A\n",
      " 72%|███████▎  | 29/40 [00:04<00:01,  6.91it/s]\u001b[A\n",
      " 75%|███████▌  | 30/40 [00:04<00:01,  6.91it/s]\u001b[A\n",
      " 78%|███████▊  | 31/40 [00:04<00:01,  6.91it/s]\u001b[A\n",
      " 80%|████████  | 32/40 [00:04<00:01,  6.91it/s]\u001b[A\n",
      " 82%|████████▎ | 33/40 [00:04<00:01,  6.91it/s]\u001b[A\n",
      " 85%|████████▌ | 34/40 [00:04<00:00,  6.91it/s]\u001b[A\n",
      " 88%|████████▊ | 35/40 [00:04<00:00,  6.91it/s]\u001b[A\n",
      " 90%|█████████ | 36/40 [00:05<00:00,  6.91it/s]\u001b[A\n",
      " 92%|█████████▎| 37/40 [00:05<00:00,  6.91it/s]\u001b[A\n",
      " 95%|█████████▌| 38/40 [00:05<00:00,  6.91it/s]\u001b[A\n",
      "                                                         \n",
      " 20%|█▉        | 15500/78140 [1:49:10<6:46:25,  2.57it/s]\n",
      "100%|██████████| 40/40 [00:05<00:00,  7.07it/s]\u001b[A\n",
      "                                               \u001b[A"
     ]
    },
    {
     "name": "stdout",
     "output_type": "stream",
     "text": [
      "{'eval_loss': 0.595909595489502, 'eval_token_accuracy': 0.774664283422705, 'eval_exact_match_accuracy': 0.028, 'eval_runtime': 5.9256, 'eval_samples_per_second': 1687.597, 'eval_steps_per_second': 6.75, 'epoch': 3.97}\n"
     ]
    },
    {
     "name": "stderr",
     "output_type": "stream",
     "text": [
      " 20%|██        | 16000/78140 [1:52:34<6:43:28,  2.57it/s] \n",
      "  0%|          | 0/40 [00:00<?, ?it/s]\u001b[A"
     ]
    },
    {
     "name": "stdout",
     "output_type": "stream",
     "text": [
      "{'loss': 0.5629, 'grad_norm': 0.9232168197631836, 'learning_rate': 9.001282030729966e-05, 'epoch': 4.1}\n"
     ]
    },
    {
     "name": "stderr",
     "output_type": "stream",
     "text": [
      "\n",
      "  5%|▌         | 2/40 [00:00<00:02, 13.89it/s]\u001b[A\n",
      " 10%|█         | 4/40 [00:00<00:04,  8.71it/s]\u001b[A\n",
      " 12%|█▎        | 5/40 [00:00<00:04,  8.08it/s]\u001b[A\n",
      " 15%|█▌        | 6/40 [00:00<00:04,  7.69it/s]\u001b[A\n",
      " 18%|█▊        | 7/40 [00:00<00:04,  7.44it/s]\u001b[A\n",
      " 20%|██        | 8/40 [00:01<00:04,  7.27it/s]\u001b[A\n",
      " 22%|██▎       | 9/40 [00:01<00:04,  7.16it/s]\u001b[A\n",
      " 25%|██▌       | 10/40 [00:01<00:04,  7.09it/s]\u001b[A\n",
      " 28%|██▊       | 11/40 [00:01<00:04,  7.03it/s]\u001b[A\n",
      " 30%|███       | 12/40 [00:01<00:04,  6.99it/s]\u001b[A\n",
      " 32%|███▎      | 13/40 [00:01<00:03,  6.97it/s]\u001b[A\n",
      " 35%|███▌      | 14/40 [00:01<00:03,  6.95it/s]\u001b[A\n",
      " 38%|███▊      | 15/40 [00:02<00:03,  6.94it/s]\u001b[A\n",
      " 40%|████      | 16/40 [00:02<00:03,  6.93it/s]\u001b[A\n",
      " 42%|████▎     | 17/40 [00:02<00:03,  6.93it/s]\u001b[A\n",
      " 45%|████▌     | 18/40 [00:02<00:03,  6.92it/s]\u001b[A\n",
      " 48%|████▊     | 19/40 [00:02<00:03,  6.92it/s]\u001b[A\n",
      " 50%|█████     | 20/40 [00:02<00:02,  6.92it/s]\u001b[A\n",
      " 52%|█████▎    | 21/40 [00:02<00:02,  6.92it/s]\u001b[A\n",
      " 55%|█████▌    | 22/40 [00:03<00:02,  6.92it/s]\u001b[A\n",
      " 57%|█████▊    | 23/40 [00:03<00:02,  6.92it/s]\u001b[A\n",
      " 60%|██████    | 24/40 [00:03<00:02,  6.92it/s]\u001b[A\n",
      " 62%|██████▎   | 25/40 [00:03<00:02,  6.91it/s]\u001b[A\n",
      " 65%|██████▌   | 26/40 [00:03<00:02,  6.91it/s]\u001b[A\n",
      " 68%|██████▊   | 27/40 [00:03<00:01,  6.91it/s]\u001b[A\n",
      " 70%|███████   | 28/40 [00:03<00:01,  6.91it/s]\u001b[A\n",
      " 72%|███████▎  | 29/40 [00:04<00:01,  6.91it/s]\u001b[A\n",
      " 75%|███████▌  | 30/40 [00:04<00:01,  6.91it/s]\u001b[A\n",
      " 78%|███████▊  | 31/40 [00:04<00:01,  6.91it/s]\u001b[A\n",
      " 80%|████████  | 32/40 [00:04<00:01,  6.91it/s]\u001b[A\n",
      " 82%|████████▎ | 33/40 [00:04<00:01,  6.91it/s]\u001b[A\n",
      " 85%|████████▌ | 34/40 [00:04<00:00,  6.91it/s]\u001b[A\n",
      " 88%|████████▊ | 35/40 [00:04<00:00,  6.91it/s]\u001b[A\n",
      " 90%|█████████ | 36/40 [00:05<00:00,  6.91it/s]\u001b[A\n",
      " 92%|█████████▎| 37/40 [00:05<00:00,  6.90it/s]\u001b[A\n",
      " 95%|█████████▌| 38/40 [00:05<00:00,  6.91it/s]\u001b[A\n",
      "                                                         \n",
      " 20%|██        | 16000/78140 [1:52:40<6:43:28,  2.57it/s]\n",
      "100%|██████████| 40/40 [00:05<00:00,  7.07it/s]\u001b[A\n",
      "                                               \u001b[A"
     ]
    },
    {
     "name": "stdout",
     "output_type": "stream",
     "text": [
      "{'eval_loss': 0.5810334086418152, 'eval_token_accuracy': 0.7799807507218479, 'eval_exact_match_accuracy': 0.0257, 'eval_runtime': 5.9282, 'eval_samples_per_second': 1686.862, 'eval_steps_per_second': 6.747, 'epoch': 4.1}\n"
     ]
    },
    {
     "name": "stderr",
     "output_type": "stream",
     "text": [
      " 21%|██        | 16500/78140 [1:56:04<6:41:10,  2.56it/s] \n",
      "  0%|          | 0/40 [00:00<?, ?it/s]\u001b[A"
     ]
    },
    {
     "name": "stdout",
     "output_type": "stream",
     "text": [
      "{'loss': 0.5319, 'grad_norm': 1.129253625869751, 'learning_rate': 8.940205028336838e-05, 'epoch': 4.22}\n"
     ]
    },
    {
     "name": "stderr",
     "output_type": "stream",
     "text": [
      "\n",
      "  5%|▌         | 2/40 [00:00<00:02, 13.85it/s]\u001b[A\n",
      " 10%|█         | 4/40 [00:00<00:04,  8.71it/s]\u001b[A\n",
      " 12%|█▎        | 5/40 [00:00<00:04,  8.09it/s]\u001b[A\n",
      " 15%|█▌        | 6/40 [00:00<00:04,  7.70it/s]\u001b[A\n",
      " 18%|█▊        | 7/40 [00:00<00:04,  7.44it/s]\u001b[A\n",
      " 20%|██        | 8/40 [00:01<00:04,  7.28it/s]\u001b[A\n",
      " 22%|██▎       | 9/40 [00:01<00:04,  7.16it/s]\u001b[A\n",
      " 25%|██▌       | 10/40 [00:01<00:04,  7.08it/s]\u001b[A\n",
      " 28%|██▊       | 11/40 [00:01<00:04,  7.03it/s]\u001b[A\n",
      " 30%|███       | 12/40 [00:01<00:04,  7.00it/s]\u001b[A\n",
      " 32%|███▎      | 13/40 [00:01<00:03,  6.97it/s]\u001b[A\n",
      " 35%|███▌      | 14/40 [00:01<00:03,  6.95it/s]\u001b[A\n",
      " 38%|███▊      | 15/40 [00:02<00:03,  6.94it/s]\u001b[A\n",
      " 40%|████      | 16/40 [00:02<00:03,  6.93it/s]\u001b[A\n",
      " 42%|████▎     | 17/40 [00:02<00:03,  6.92it/s]\u001b[A\n",
      " 45%|████▌     | 18/40 [00:02<00:03,  6.92it/s]\u001b[A\n",
      " 48%|████▊     | 19/40 [00:02<00:03,  6.92it/s]\u001b[A\n",
      " 50%|█████     | 20/40 [00:02<00:02,  6.92it/s]\u001b[A\n",
      " 52%|█████▎    | 21/40 [00:02<00:02,  6.91it/s]\u001b[A\n",
      " 55%|█████▌    | 22/40 [00:03<00:02,  6.91it/s]\u001b[A\n",
      " 57%|█████▊    | 23/40 [00:03<00:02,  6.91it/s]\u001b[A\n",
      " 60%|██████    | 24/40 [00:03<00:02,  6.91it/s]\u001b[A\n",
      " 62%|██████▎   | 25/40 [00:03<00:02,  6.91it/s]\u001b[A\n",
      " 65%|██████▌   | 26/40 [00:03<00:02,  6.91it/s]\u001b[A\n",
      " 68%|██████▊   | 27/40 [00:03<00:01,  6.91it/s]\u001b[A\n",
      " 70%|███████   | 28/40 [00:03<00:01,  6.91it/s]\u001b[A\n",
      " 72%|███████▎  | 29/40 [00:04<00:01,  6.91it/s]\u001b[A\n",
      " 75%|███████▌  | 30/40 [00:04<00:01,  6.91it/s]\u001b[A\n",
      " 78%|███████▊  | 31/40 [00:04<00:01,  6.91it/s]\u001b[A\n",
      " 80%|████████  | 32/40 [00:04<00:01,  6.91it/s]\u001b[A\n",
      " 82%|████████▎ | 33/40 [00:04<00:01,  6.91it/s]\u001b[A\n",
      " 85%|████████▌ | 34/40 [00:04<00:00,  6.92it/s]\u001b[A\n",
      " 88%|████████▊ | 35/40 [00:04<00:00,  6.91it/s]\u001b[A\n",
      " 90%|█████████ | 36/40 [00:05<00:00,  6.91it/s]\u001b[A\n",
      " 92%|█████████▎| 37/40 [00:05<00:00,  6.91it/s]\u001b[A\n",
      " 95%|█████████▌| 38/40 [00:05<00:00,  6.91it/s]\u001b[A\n",
      "                                                         \n",
      " 21%|██        | 16500/78140 [1:56:10<6:41:10,  2.56it/s]\n",
      "100%|██████████| 40/40 [00:05<00:00,  7.07it/s]\u001b[A\n",
      "                                               \u001b[A"
     ]
    },
    {
     "name": "stdout",
     "output_type": "stream",
     "text": [
      "{'eval_loss': 0.5004594922065735, 'eval_token_accuracy': 0.7921261286035107, 'eval_exact_match_accuracy': 0.0388, 'eval_runtime': 5.9577, 'eval_samples_per_second': 1678.503, 'eval_steps_per_second': 6.714, 'epoch': 4.22}\n"
     ]
    },
    {
     "name": "stderr",
     "output_type": "stream",
     "text": [
      " 22%|██▏       | 17000/78140 [1:59:36<6:37:11,  2.57it/s] \n",
      "  0%|          | 0/40 [00:00<?, ?it/s]\u001b[A"
     ]
    },
    {
     "name": "stdout",
     "output_type": "stream",
     "text": [
      "{'loss': 0.4598, 'grad_norm': 1.137061357498169, 'learning_rate': 8.87753582771613e-05, 'epoch': 4.35}\n"
     ]
    },
    {
     "name": "stderr",
     "output_type": "stream",
     "text": [
      "\n",
      "  5%|▌         | 2/40 [00:00<00:02, 13.83it/s]\u001b[A\n",
      " 10%|█         | 4/40 [00:00<00:04,  8.70it/s]\u001b[A\n",
      " 12%|█▎        | 5/40 [00:00<00:04,  8.07it/s]\u001b[A\n",
      " 15%|█▌        | 6/40 [00:00<00:04,  7.69it/s]\u001b[A\n",
      " 18%|█▊        | 7/40 [00:00<00:04,  7.44it/s]\u001b[A\n",
      " 20%|██        | 8/40 [00:01<00:04,  7.27it/s]\u001b[A\n",
      " 22%|██▎       | 9/40 [00:01<00:04,  7.16it/s]\u001b[A\n",
      " 25%|██▌       | 10/40 [00:01<00:04,  7.08it/s]\u001b[A\n",
      " 28%|██▊       | 11/40 [00:01<00:04,  7.03it/s]\u001b[A\n",
      " 30%|███       | 12/40 [00:01<00:04,  7.00it/s]\u001b[A\n",
      " 32%|███▎      | 13/40 [00:01<00:03,  6.97it/s]\u001b[A\n",
      " 35%|███▌      | 14/40 [00:01<00:03,  6.95it/s]\u001b[A\n",
      " 38%|███▊      | 15/40 [00:02<00:03,  6.94it/s]\u001b[A\n",
      " 40%|████      | 16/40 [00:02<00:03,  6.93it/s]\u001b[A\n",
      " 42%|████▎     | 17/40 [00:02<00:03,  6.92it/s]\u001b[A\n",
      " 45%|████▌     | 18/40 [00:02<00:03,  6.92it/s]\u001b[A\n",
      " 48%|████▊     | 19/40 [00:02<00:03,  6.92it/s]\u001b[A\n",
      " 50%|█████     | 20/40 [00:02<00:02,  6.92it/s]\u001b[A\n",
      " 52%|█████▎    | 21/40 [00:02<00:02,  6.92it/s]\u001b[A\n",
      " 55%|█████▌    | 22/40 [00:03<00:02,  6.92it/s]\u001b[A\n",
      " 57%|█████▊    | 23/40 [00:03<00:02,  6.92it/s]\u001b[A\n",
      " 60%|██████    | 24/40 [00:03<00:02,  6.92it/s]\u001b[A\n",
      " 62%|██████▎   | 25/40 [00:03<00:02,  6.91it/s]\u001b[A\n",
      " 65%|██████▌   | 26/40 [00:03<00:02,  6.91it/s]\u001b[A\n",
      " 68%|██████▊   | 27/40 [00:03<00:01,  6.91it/s]\u001b[A\n",
      " 70%|███████   | 28/40 [00:03<00:01,  6.91it/s]\u001b[A\n",
      " 72%|███████▎  | 29/40 [00:04<00:01,  6.91it/s]\u001b[A\n",
      " 75%|███████▌  | 30/40 [00:04<00:01,  6.91it/s]\u001b[A\n",
      " 78%|███████▊  | 31/40 [00:04<00:01,  6.90it/s]\u001b[A\n",
      " 80%|████████  | 32/40 [00:04<00:01,  6.91it/s]\u001b[A\n",
      " 82%|████████▎ | 33/40 [00:04<00:01,  6.91it/s]\u001b[A\n",
      " 85%|████████▌ | 34/40 [00:04<00:00,  6.91it/s]\u001b[A\n",
      " 88%|████████▊ | 35/40 [00:04<00:00,  6.91it/s]\u001b[A\n",
      " 90%|█████████ | 36/40 [00:05<00:00,  6.91it/s]\u001b[A\n",
      " 92%|█████████▎| 37/40 [00:05<00:00,  6.91it/s]\u001b[A\n",
      " 95%|█████████▌| 38/40 [00:05<00:00,  6.91it/s]\u001b[A\n",
      "                                                         \n",
      " 22%|██▏       | 17000/78140 [1:59:42<6:37:11,  2.57it/s]\n",
      "100%|██████████| 40/40 [00:05<00:00,  7.07it/s]\u001b[A\n",
      "                                               \u001b[A"
     ]
    },
    {
     "name": "stdout",
     "output_type": "stream",
     "text": [
      "{'eval_loss': 0.3923921287059784, 'eval_token_accuracy': 0.8310188367936202, 'eval_exact_match_accuracy': 0.1091, 'eval_runtime': 5.9339, 'eval_samples_per_second': 1685.24, 'eval_steps_per_second': 6.741, 'epoch': 4.35}\n"
     ]
    },
    {
     "name": "stderr",
     "output_type": "stream",
     "text": [
      " 22%|██▏       | 17500/78140 [2:03:06<6:33:53,  2.57it/s] \n",
      "  0%|          | 0/40 [00:00<?, ?it/s]\u001b[A"
     ]
    },
    {
     "name": "stdout",
     "output_type": "stream",
     "text": [
      "{'loss': 0.416, 'grad_norm': 0.9445579051971436, 'learning_rate': 8.813299752877493e-05, 'epoch': 4.48}\n"
     ]
    },
    {
     "name": "stderr",
     "output_type": "stream",
     "text": [
      "\n",
      "  5%|▌         | 2/40 [00:00<00:02, 13.83it/s]\u001b[A\n",
      " 10%|█         | 4/40 [00:00<00:04,  8.70it/s]\u001b[A\n",
      " 12%|█▎        | 5/40 [00:00<00:04,  8.07it/s]\u001b[A\n",
      " 15%|█▌        | 6/40 [00:00<00:04,  7.69it/s]\u001b[A\n",
      " 18%|█▊        | 7/40 [00:00<00:04,  7.44it/s]\u001b[A\n",
      " 20%|██        | 8/40 [00:01<00:04,  7.25it/s]\u001b[A\n",
      " 22%|██▎       | 9/40 [00:01<00:04,  7.12it/s]\u001b[A\n",
      " 25%|██▌       | 10/40 [00:01<00:04,  7.05it/s]\u001b[A\n",
      " 28%|██▊       | 11/40 [00:01<00:04,  7.01it/s]\u001b[A\n",
      " 30%|███       | 12/40 [00:01<00:04,  6.98it/s]\u001b[A\n",
      " 32%|███▎      | 13/40 [00:01<00:03,  6.96it/s]\u001b[A\n",
      " 35%|███▌      | 14/40 [00:01<00:03,  6.94it/s]\u001b[A\n",
      " 38%|███▊      | 15/40 [00:02<00:03,  6.94it/s]\u001b[A\n",
      " 40%|████      | 16/40 [00:02<00:03,  6.93it/s]\u001b[A\n",
      " 42%|████▎     | 17/40 [00:02<00:03,  6.92it/s]\u001b[A\n",
      " 45%|████▌     | 18/40 [00:02<00:03,  6.92it/s]\u001b[A\n",
      " 48%|████▊     | 19/40 [00:02<00:03,  6.92it/s]\u001b[A\n",
      " 50%|█████     | 20/40 [00:02<00:02,  6.92it/s]\u001b[A\n",
      " 52%|█████▎    | 21/40 [00:02<00:02,  6.92it/s]\u001b[A\n",
      " 55%|█████▌    | 22/40 [00:03<00:02,  6.91it/s]\u001b[A\n",
      " 57%|█████▊    | 23/40 [00:03<00:02,  6.91it/s]\u001b[A\n",
      " 60%|██████    | 24/40 [00:03<00:02,  6.91it/s]\u001b[A\n",
      " 62%|██████▎   | 25/40 [00:03<00:02,  6.91it/s]\u001b[A\n",
      " 65%|██████▌   | 26/40 [00:03<00:02,  6.91it/s]\u001b[A\n",
      " 68%|██████▊   | 27/40 [00:03<00:01,  6.91it/s]\u001b[A\n",
      " 70%|███████   | 28/40 [00:03<00:01,  6.91it/s]\u001b[A\n",
      " 72%|███████▎  | 29/40 [00:04<00:01,  6.91it/s]\u001b[A\n",
      " 75%|███████▌  | 30/40 [00:04<00:01,  6.91it/s]\u001b[A\n",
      " 78%|███████▊  | 31/40 [00:04<00:01,  6.91it/s]\u001b[A\n",
      " 80%|████████  | 32/40 [00:04<00:01,  6.91it/s]\u001b[A\n",
      " 82%|████████▎ | 33/40 [00:04<00:01,  6.91it/s]\u001b[A\n",
      " 85%|████████▌ | 34/40 [00:04<00:00,  6.91it/s]\u001b[A\n",
      " 88%|████████▊ | 35/40 [00:04<00:00,  6.91it/s]\u001b[A\n",
      " 90%|█████████ | 36/40 [00:05<00:00,  6.91it/s]\u001b[A\n",
      " 92%|█████████▎| 37/40 [00:05<00:00,  6.91it/s]\u001b[A\n",
      " 95%|█████████▌| 38/40 [00:05<00:00,  6.91it/s]\u001b[A\n",
      "                                                         \n",
      " 22%|██▏       | 17500/78140 [2:03:12<6:33:53,  2.57it/s]\n",
      "100%|██████████| 40/40 [00:05<00:00,  7.07it/s]\u001b[A\n",
      "                                               \u001b[A"
     ]
    },
    {
     "name": "stdout",
     "output_type": "stream",
     "text": [
      "{'eval_loss': 0.36850765347480774, 'eval_token_accuracy': 0.8372152710940006, 'eval_exact_match_accuracy': 0.1244, 'eval_runtime': 5.9292, 'eval_samples_per_second': 1686.568, 'eval_steps_per_second': 6.746, 'epoch': 4.48}\n"
     ]
    },
    {
     "name": "stderr",
     "output_type": "stream",
     "text": [
      " 23%|██▎       | 18000/78140 [2:06:36<6:30:10,  2.57it/s] \n",
      "  0%|          | 0/40 [00:00<?, ?it/s]\u001b[A"
     ]
    },
    {
     "name": "stdout",
     "output_type": "stream",
     "text": [
      "{'loss': 0.4003, 'grad_norm': 1.0094521045684814, 'learning_rate': 8.747522760989085e-05, 'epoch': 4.61}\n"
     ]
    },
    {
     "name": "stderr",
     "output_type": "stream",
     "text": [
      "\n",
      "  5%|▌         | 2/40 [00:00<00:02, 13.83it/s]\u001b[A\n",
      " 10%|█         | 4/40 [00:00<00:04,  8.70it/s]\u001b[A\n",
      " 12%|█▎        | 5/40 [00:00<00:04,  8.08it/s]\u001b[A\n",
      " 15%|█▌        | 6/40 [00:00<00:04,  7.69it/s]\u001b[A\n",
      " 18%|█▊        | 7/40 [00:00<00:04,  7.44it/s]\u001b[A\n",
      " 20%|██        | 8/40 [00:01<00:04,  7.27it/s]\u001b[A\n",
      " 22%|██▎       | 9/40 [00:01<00:04,  7.16it/s]\u001b[A\n",
      " 25%|██▌       | 10/40 [00:01<00:04,  7.08it/s]\u001b[A\n",
      " 28%|██▊       | 11/40 [00:01<00:04,  7.03it/s]\u001b[A\n",
      " 30%|███       | 12/40 [00:01<00:04,  6.99it/s]\u001b[A\n",
      " 32%|███▎      | 13/40 [00:01<00:03,  6.97it/s]\u001b[A\n",
      " 35%|███▌      | 14/40 [00:01<00:03,  6.95it/s]\u001b[A\n",
      " 38%|███▊      | 15/40 [00:02<00:03,  6.94it/s]\u001b[A\n",
      " 40%|████      | 16/40 [00:02<00:03,  6.93it/s]\u001b[A\n",
      " 42%|████▎     | 17/40 [00:02<00:03,  6.92it/s]\u001b[A\n",
      " 45%|████▌     | 18/40 [00:02<00:03,  6.92it/s]\u001b[A\n",
      " 48%|████▊     | 19/40 [00:02<00:03,  6.92it/s]\u001b[A\n",
      " 50%|█████     | 20/40 [00:02<00:02,  6.92it/s]\u001b[A\n",
      " 52%|█████▎    | 21/40 [00:02<00:02,  6.92it/s]\u001b[A\n",
      " 55%|█████▌    | 22/40 [00:03<00:02,  6.92it/s]\u001b[A\n",
      " 57%|█████▊    | 23/40 [00:03<00:02,  6.92it/s]\u001b[A\n",
      " 60%|██████    | 24/40 [00:03<00:02,  6.92it/s]\u001b[A\n",
      " 62%|██████▎   | 25/40 [00:03<00:02,  6.91it/s]\u001b[A\n",
      " 65%|██████▌   | 26/40 [00:03<00:02,  6.91it/s]\u001b[A\n",
      " 68%|██████▊   | 27/40 [00:03<00:01,  6.91it/s]\u001b[A\n",
      " 70%|███████   | 28/40 [00:03<00:01,  6.91it/s]\u001b[A\n",
      " 72%|███████▎  | 29/40 [00:04<00:01,  6.91it/s]\u001b[A\n",
      " 75%|███████▌  | 30/40 [00:04<00:01,  6.91it/s]\u001b[A\n",
      " 78%|███████▊  | 31/40 [00:04<00:01,  6.91it/s]\u001b[A\n",
      " 80%|████████  | 32/40 [00:04<00:01,  6.91it/s]\u001b[A\n",
      " 82%|████████▎ | 33/40 [00:04<00:01,  6.91it/s]\u001b[A\n",
      " 85%|████████▌ | 34/40 [00:04<00:00,  6.90it/s]\u001b[A\n",
      " 88%|████████▊ | 35/40 [00:04<00:00,  6.91it/s]\u001b[A\n",
      " 90%|█████████ | 36/40 [00:05<00:00,  6.91it/s]\u001b[A\n",
      " 92%|█████████▎| 37/40 [00:05<00:00,  6.91it/s]\u001b[A\n",
      " 95%|█████████▌| 38/40 [00:05<00:00,  6.91it/s]\u001b[A\n",
      "                                                         \n",
      " 23%|██▎       | 18000/78140 [2:06:41<6:30:10,  2.57it/s]\n",
      "100%|██████████| 40/40 [00:05<00:00,  7.07it/s]\u001b[A\n",
      "                                               \u001b[A"
     ]
    },
    {
     "name": "stdout",
     "output_type": "stream",
     "text": [
      "{'eval_loss': 0.35355839133262634, 'eval_token_accuracy': 0.8463632613776984, 'eval_exact_match_accuracy': 0.1363, 'eval_runtime': 5.9322, 'eval_samples_per_second': 1685.715, 'eval_steps_per_second': 6.743, 'epoch': 4.61}\n"
     ]
    },
    {
     "name": "stderr",
     "output_type": "stream",
     "text": [
      " 24%|██▎       | 18500/78140 [2:10:05<6:26:47,  2.57it/s] \n",
      "  0%|          | 0/40 [00:00<?, ?it/s]\u001b[A"
     ]
    },
    {
     "name": "stdout",
     "output_type": "stream",
     "text": [
      "{'loss': 0.3747, 'grad_norm': 1.448077917098999, 'learning_rate': 8.68023143188854e-05, 'epoch': 4.74}\n"
     ]
    },
    {
     "name": "stderr",
     "output_type": "stream",
     "text": [
      "\n",
      "  5%|▌         | 2/40 [00:00<00:02, 13.82it/s]\u001b[A\n",
      " 10%|█         | 4/40 [00:00<00:04,  8.70it/s]\u001b[A\n",
      " 12%|█▎        | 5/40 [00:00<00:04,  8.08it/s]\u001b[A\n",
      " 15%|█▌        | 6/40 [00:00<00:04,  7.69it/s]\u001b[A\n",
      " 18%|█▊        | 7/40 [00:00<00:04,  7.44it/s]\u001b[A\n",
      " 20%|██        | 8/40 [00:01<00:04,  7.28it/s]\u001b[A\n",
      " 22%|██▎       | 9/40 [00:01<00:04,  7.17it/s]\u001b[A\n",
      " 25%|██▌       | 10/40 [00:01<00:04,  7.09it/s]\u001b[A\n",
      " 28%|██▊       | 11/40 [00:01<00:04,  7.04it/s]\u001b[A\n",
      " 30%|███       | 12/40 [00:01<00:04,  7.00it/s]\u001b[A\n",
      " 32%|███▎      | 13/40 [00:01<00:03,  6.97it/s]\u001b[A\n",
      " 35%|███▌      | 14/40 [00:01<00:03,  6.95it/s]\u001b[A\n",
      " 38%|███▊      | 15/40 [00:02<00:03,  6.94it/s]\u001b[A\n",
      " 40%|████      | 16/40 [00:02<00:03,  6.93it/s]\u001b[A\n",
      " 42%|████▎     | 17/40 [00:02<00:03,  6.93it/s]\u001b[A\n",
      " 45%|████▌     | 18/40 [00:02<00:03,  6.92it/s]\u001b[A\n",
      " 48%|████▊     | 19/40 [00:02<00:03,  6.92it/s]\u001b[A\n",
      " 50%|█████     | 20/40 [00:02<00:02,  6.92it/s]\u001b[A\n",
      " 52%|█████▎    | 21/40 [00:02<00:02,  6.92it/s]\u001b[A\n",
      " 55%|█████▌    | 22/40 [00:03<00:02,  6.92it/s]\u001b[A\n",
      " 57%|█████▊    | 23/40 [00:03<00:02,  6.92it/s]\u001b[A\n",
      " 60%|██████    | 24/40 [00:03<00:02,  6.92it/s]\u001b[A\n",
      " 62%|██████▎   | 25/40 [00:03<00:02,  6.92it/s]\u001b[A\n",
      " 65%|██████▌   | 26/40 [00:03<00:02,  6.91it/s]\u001b[A\n",
      " 68%|██████▊   | 27/40 [00:03<00:01,  6.91it/s]\u001b[A\n",
      " 70%|███████   | 28/40 [00:03<00:01,  6.91it/s]\u001b[A\n",
      " 72%|███████▎  | 29/40 [00:04<00:01,  6.91it/s]\u001b[A\n",
      " 75%|███████▌  | 30/40 [00:04<00:01,  6.91it/s]\u001b[A\n",
      " 78%|███████▊  | 31/40 [00:04<00:01,  6.91it/s]\u001b[A\n",
      " 80%|████████  | 32/40 [00:04<00:01,  6.91it/s]\u001b[A\n",
      " 82%|████████▎ | 33/40 [00:04<00:01,  6.91it/s]\u001b[A\n",
      " 85%|████████▌ | 34/40 [00:04<00:00,  6.91it/s]\u001b[A\n",
      " 88%|████████▊ | 35/40 [00:04<00:00,  6.90it/s]\u001b[A\n",
      " 90%|█████████ | 36/40 [00:05<00:00,  6.91it/s]\u001b[A\n",
      " 92%|█████████▎| 37/40 [00:05<00:00,  6.91it/s]\u001b[A\n",
      " 95%|█████████▌| 38/40 [00:05<00:00,  6.91it/s]\u001b[A\n",
      "                                                         \n",
      " 24%|██▎       | 18500/78140 [2:10:11<6:26:47,  2.57it/s]\n",
      "100%|██████████| 40/40 [00:05<00:00,  7.07it/s]\u001b[A\n",
      "                                               \u001b[A"
     ]
    },
    {
     "name": "stdout",
     "output_type": "stream",
     "text": [
      "{'eval_loss': 0.30983206629753113, 'eval_token_accuracy': 0.8642559237361932, 'eval_exact_match_accuracy': 0.1625, 'eval_runtime': 5.9299, 'eval_samples_per_second': 1686.376, 'eval_steps_per_second': 6.746, 'epoch': 4.74}\n"
     ]
    },
    {
     "name": "stderr",
     "output_type": "stream",
     "text": [
      " 24%|██▍       | 19000/78140 [2:13:35<6:24:22,  2.56it/s] \n",
      "  0%|          | 0/40 [00:00<?, ?it/s]\u001b[A"
     ]
    },
    {
     "name": "stdout",
     "output_type": "stream",
     "text": [
      "{'loss': 0.3195, 'grad_norm': 1.4203447103500366, 'learning_rate': 8.611591980088583e-05, 'epoch': 4.86}\n"
     ]
    },
    {
     "name": "stderr",
     "output_type": "stream",
     "text": [
      "\n",
      "  5%|▌         | 2/40 [00:00<00:02, 13.91it/s]\u001b[A\n",
      " 10%|█         | 4/40 [00:00<00:04,  8.68it/s]\u001b[A\n",
      " 12%|█▎        | 5/40 [00:00<00:04,  8.07it/s]\u001b[A\n",
      " 15%|█▌        | 6/40 [00:00<00:04,  7.68it/s]\u001b[A\n",
      " 18%|█▊        | 7/40 [00:00<00:04,  7.43it/s]\u001b[A\n",
      " 20%|██        | 8/40 [00:01<00:04,  7.27it/s]\u001b[A\n",
      " 22%|██▎       | 9/40 [00:01<00:04,  7.16it/s]\u001b[A\n",
      " 25%|██▌       | 10/40 [00:01<00:04,  7.09it/s]\u001b[A\n",
      " 28%|██▊       | 11/40 [00:01<00:04,  7.03it/s]\u001b[A\n",
      " 30%|███       | 12/40 [00:01<00:04,  7.00it/s]\u001b[A\n",
      " 32%|███▎      | 13/40 [00:01<00:03,  6.96it/s]\u001b[A\n",
      " 35%|███▌      | 14/40 [00:01<00:03,  6.93it/s]\u001b[A\n",
      " 38%|███▊      | 15/40 [00:02<00:03,  6.92it/s]\u001b[A\n",
      " 40%|████      | 16/40 [00:02<00:03,  6.92it/s]\u001b[A\n",
      " 42%|████▎     | 17/40 [00:02<00:03,  6.91it/s]\u001b[A\n",
      " 45%|████▌     | 18/40 [00:02<00:03,  6.91it/s]\u001b[A\n",
      " 48%|████▊     | 19/40 [00:02<00:03,  6.91it/s]\u001b[A\n",
      " 50%|█████     | 20/40 [00:02<00:02,  6.91it/s]\u001b[A\n",
      " 52%|█████▎    | 21/40 [00:02<00:02,  6.91it/s]\u001b[A\n",
      " 55%|█████▌    | 22/40 [00:03<00:02,  6.91it/s]\u001b[A\n",
      " 57%|█████▊    | 23/40 [00:03<00:02,  6.92it/s]\u001b[A\n",
      " 60%|██████    | 24/40 [00:03<00:02,  6.91it/s]\u001b[A\n",
      " 62%|██████▎   | 25/40 [00:03<00:02,  6.91it/s]\u001b[A\n",
      " 65%|██████▌   | 26/40 [00:03<00:02,  6.91it/s]\u001b[A\n",
      " 68%|██████▊   | 27/40 [00:03<00:01,  6.91it/s]\u001b[A\n",
      " 70%|███████   | 28/40 [00:03<00:01,  6.91it/s]\u001b[A\n",
      " 72%|███████▎  | 29/40 [00:04<00:01,  6.91it/s]\u001b[A\n",
      " 75%|███████▌  | 30/40 [00:04<00:01,  6.91it/s]\u001b[A\n",
      " 78%|███████▊  | 31/40 [00:04<00:01,  6.91it/s]\u001b[A\n",
      " 80%|████████  | 32/40 [00:04<00:01,  6.91it/s]\u001b[A\n",
      " 82%|████████▎ | 33/40 [00:04<00:01,  6.91it/s]\u001b[A\n",
      " 85%|████████▌ | 34/40 [00:04<00:00,  6.91it/s]\u001b[A\n",
      " 88%|████████▊ | 35/40 [00:04<00:00,  6.91it/s]\u001b[A\n",
      " 90%|█████████ | 36/40 [00:05<00:00,  6.91it/s]\u001b[A\n",
      " 92%|█████████▎| 37/40 [00:05<00:00,  6.91it/s]\u001b[A\n",
      " 95%|█████████▌| 38/40 [00:05<00:00,  6.91it/s]\u001b[A\n",
      "                                                         \n",
      " 24%|██▍       | 19000/78140 [2:13:41<6:24:22,  2.56it/s]\n",
      "100%|██████████| 40/40 [00:05<00:00,  7.08it/s]\u001b[A\n",
      "                                               \u001b[A"
     ]
    },
    {
     "name": "stdout",
     "output_type": "stream",
     "text": [
      "{'eval_loss': 0.19622567296028137, 'eval_token_accuracy': 0.9152756771621064, 'eval_exact_match_accuracy': 0.319, 'eval_runtime': 5.9346, 'eval_samples_per_second': 1685.043, 'eval_steps_per_second': 6.74, 'epoch': 4.86}\n"
     ]
    },
    {
     "name": "stderr",
     "output_type": "stream",
     "text": [
      " 25%|██▍       | 19500/78140 [2:17:05<6:21:05,  2.56it/s] \n",
      "  0%|          | 0/40 [00:00<?, ?it/s]\u001b[A"
     ]
    },
    {
     "name": "stdout",
     "output_type": "stream",
     "text": [
      "{'loss': 0.2544, 'grad_norm': 1.3253015279769897, 'learning_rate': 8.541357043378535e-05, 'epoch': 4.99}\n"
     ]
    },
    {
     "name": "stderr",
     "output_type": "stream",
     "text": [
      "\n",
      "  5%|▌         | 2/40 [00:00<00:02, 13.80it/s]\u001b[A\n",
      " 10%|█         | 4/40 [00:00<00:04,  8.70it/s]\u001b[A\n",
      " 12%|█▎        | 5/40 [00:00<00:04,  8.07it/s]\u001b[A\n",
      " 15%|█▌        | 6/40 [00:00<00:04,  7.69it/s]\u001b[A\n",
      " 18%|█▊        | 7/40 [00:00<00:04,  7.44it/s]\u001b[A\n",
      " 20%|██        | 8/40 [00:01<00:04,  7.28it/s]\u001b[A\n",
      " 22%|██▎       | 9/40 [00:01<00:04,  7.16it/s]\u001b[A\n",
      " 25%|██▌       | 10/40 [00:01<00:04,  7.09it/s]\u001b[A\n",
      " 28%|██▊       | 11/40 [00:01<00:04,  7.03it/s]\u001b[A\n",
      " 30%|███       | 12/40 [00:01<00:04,  7.00it/s]\u001b[A\n",
      " 32%|███▎      | 13/40 [00:01<00:03,  6.97it/s]\u001b[A\n",
      " 35%|███▌      | 14/40 [00:01<00:03,  6.96it/s]\u001b[A\n",
      " 38%|███▊      | 15/40 [00:02<00:03,  6.94it/s]\u001b[A\n",
      " 40%|████      | 16/40 [00:02<00:03,  6.93it/s]\u001b[A\n",
      " 42%|████▎     | 17/40 [00:02<00:03,  6.92it/s]\u001b[A\n",
      " 45%|████▌     | 18/40 [00:02<00:03,  6.92it/s]\u001b[A\n",
      " 48%|████▊     | 19/40 [00:02<00:03,  6.91it/s]\u001b[A\n",
      " 50%|█████     | 20/40 [00:02<00:02,  6.91it/s]\u001b[A\n",
      " 52%|█████▎    | 21/40 [00:02<00:02,  6.91it/s]\u001b[A\n",
      " 55%|█████▌    | 22/40 [00:03<00:02,  6.91it/s]\u001b[A\n",
      " 57%|█████▊    | 23/40 [00:03<00:02,  6.92it/s]\u001b[A\n",
      " 60%|██████    | 24/40 [00:03<00:02,  6.92it/s]\u001b[A\n",
      " 62%|██████▎   | 25/40 [00:03<00:02,  6.91it/s]\u001b[A\n",
      " 65%|██████▌   | 26/40 [00:03<00:02,  6.91it/s]\u001b[A\n",
      " 68%|██████▊   | 27/40 [00:03<00:01,  6.91it/s]\u001b[A\n",
      " 70%|███████   | 28/40 [00:03<00:01,  6.91it/s]\u001b[A\n",
      " 72%|███████▎  | 29/40 [00:04<00:01,  6.91it/s]\u001b[A\n",
      " 75%|███████▌  | 30/40 [00:04<00:01,  6.90it/s]\u001b[A\n",
      " 78%|███████▊  | 31/40 [00:04<00:01,  6.91it/s]\u001b[A\n",
      " 80%|████████  | 32/40 [00:04<00:01,  6.90it/s]\u001b[A\n",
      " 82%|████████▎ | 33/40 [00:04<00:01,  6.91it/s]\u001b[A\n",
      " 85%|████████▌ | 34/40 [00:04<00:00,  6.91it/s]\u001b[A\n",
      " 88%|████████▊ | 35/40 [00:04<00:00,  6.91it/s]\u001b[A\n",
      " 90%|█████████ | 36/40 [00:05<00:00,  6.91it/s]\u001b[A\n",
      " 92%|█████████▎| 37/40 [00:05<00:00,  6.91it/s]\u001b[A\n",
      " 95%|█████████▌| 38/40 [00:05<00:00,  6.91it/s]\u001b[A\n",
      "                                                         \n",
      " 25%|██▍       | 19500/78140 [2:17:11<6:21:05,  2.56it/s]\n",
      "100%|██████████| 40/40 [00:05<00:00,  7.07it/s]\u001b[A\n",
      "                                               \u001b[A"
     ]
    },
    {
     "name": "stdout",
     "output_type": "stream",
     "text": [
      "{'eval_loss': 0.1581072062253952, 'eval_token_accuracy': 0.9305376048398185, 'eval_exact_match_accuracy': 0.3783, 'eval_runtime': 5.931, 'eval_samples_per_second': 1686.05, 'eval_steps_per_second': 6.744, 'epoch': 4.99}\n"
     ]
    },
    {
     "name": "stderr",
     "output_type": "stream",
     "text": [
      " 26%|██▌       | 20000/78140 [2:20:35<6:18:30,  2.56it/s] \n",
      "  0%|          | 0/40 [00:00<?, ?it/s]\u001b[A"
     ]
    },
    {
     "name": "stdout",
     "output_type": "stream",
     "text": [
      "{'loss': 0.21, 'grad_norm': 2.2078778743743896, 'learning_rate': 8.46969107900187e-05, 'epoch': 5.12}\n"
     ]
    },
    {
     "name": "stderr",
     "output_type": "stream",
     "text": [
      "\n",
      "  5%|▌         | 2/40 [00:00<00:02, 13.82it/s]\u001b[A\n",
      " 10%|█         | 4/40 [00:00<00:04,  8.70it/s]\u001b[A\n",
      " 12%|█▎        | 5/40 [00:00<00:04,  8.08it/s]\u001b[A\n",
      " 15%|█▌        | 6/40 [00:00<00:04,  7.69it/s]\u001b[A\n",
      " 18%|█▊        | 7/40 [00:00<00:04,  7.44it/s]\u001b[A\n",
      " 20%|██        | 8/40 [00:01<00:04,  7.28it/s]\u001b[A\n",
      " 22%|██▎       | 9/40 [00:01<00:04,  7.17it/s]\u001b[A\n",
      " 25%|██▌       | 10/40 [00:01<00:04,  7.09it/s]\u001b[A\n",
      " 28%|██▊       | 11/40 [00:01<00:04,  7.03it/s]\u001b[A\n",
      " 30%|███       | 12/40 [00:01<00:04,  7.00it/s]\u001b[A\n",
      " 32%|███▎      | 13/40 [00:01<00:03,  6.97it/s]\u001b[A\n",
      " 35%|███▌      | 14/40 [00:01<00:03,  6.96it/s]\u001b[A\n",
      " 38%|███▊      | 15/40 [00:02<00:03,  6.94it/s]\u001b[A\n",
      " 40%|████      | 16/40 [00:02<00:03,  6.93it/s]\u001b[A\n",
      " 42%|████▎     | 17/40 [00:02<00:03,  6.92it/s]\u001b[A\n",
      " 45%|████▌     | 18/40 [00:02<00:03,  6.92it/s]\u001b[A\n",
      " 48%|████▊     | 19/40 [00:02<00:03,  6.92it/s]\u001b[A\n",
      " 50%|█████     | 20/40 [00:02<00:02,  6.92it/s]\u001b[A\n",
      " 52%|█████▎    | 21/40 [00:02<00:02,  6.92it/s]\u001b[A\n",
      " 55%|█████▌    | 22/40 [00:03<00:02,  6.91it/s]\u001b[A\n",
      " 57%|█████▊    | 23/40 [00:03<00:02,  5.91it/s]\u001b[A\n",
      " 60%|██████    | 24/40 [00:03<00:02,  6.17it/s]\u001b[A\n",
      " 62%|██████▎   | 25/40 [00:03<00:02,  6.37it/s]\u001b[A\n",
      " 65%|██████▌   | 26/40 [00:03<00:02,  6.52it/s]\u001b[A\n",
      " 68%|██████▊   | 27/40 [00:03<00:01,  6.64it/s]\u001b[A\n",
      " 70%|███████   | 28/40 [00:03<00:01,  6.72it/s]\u001b[A\n",
      " 72%|███████▎  | 29/40 [00:04<00:01,  6.77it/s]\u001b[A\n",
      " 75%|███████▌  | 30/40 [00:04<00:01,  6.82it/s]\u001b[A\n",
      " 78%|███████▊  | 31/40 [00:04<00:01,  6.84it/s]\u001b[A\n",
      " 80%|████████  | 32/40 [00:04<00:01,  6.86it/s]\u001b[A\n",
      " 82%|████████▎ | 33/40 [00:04<00:01,  6.86it/s]\u001b[A\n",
      " 85%|████████▌ | 34/40 [00:04<00:00,  6.88it/s]\u001b[A\n",
      " 88%|████████▊ | 35/40 [00:05<00:00,  6.89it/s]\u001b[A\n",
      " 90%|█████████ | 36/40 [00:05<00:00,  6.89it/s]\u001b[A\n",
      " 92%|█████████▎| 37/40 [00:05<00:00,  6.90it/s]\u001b[A\n",
      " 95%|█████████▌| 38/40 [00:05<00:00,  6.90it/s]\u001b[A\n",
      "                                                         \n",
      " 26%|██▌       | 20000/78140 [2:20:41<6:18:30,  2.56it/s]\n",
      "100%|██████████| 40/40 [00:05<00:00,  7.07it/s]\u001b[A\n",
      "                                               \u001b[A"
     ]
    },
    {
     "name": "stdout",
     "output_type": "stream",
     "text": [
      "{'eval_loss': 0.11214158684015274, 'eval_token_accuracy': 0.9566799578349146, 'eval_exact_match_accuracy': 0.5729, 'eval_runtime': 6.0164, 'eval_samples_per_second': 1662.126, 'eval_steps_per_second': 6.649, 'epoch': 5.12}\n"
     ]
    },
    {
     "name": "stderr",
     "output_type": "stream",
     "text": [
      " 26%|██▌       | 20500/78140 [2:24:06<6:14:26,  2.57it/s] \n",
      "  0%|          | 0/40 [00:00<?, ?it/s]\u001b[A"
     ]
    },
    {
     "name": "stdout",
     "output_type": "stream",
     "text": [
      "{'loss': 0.1671, 'grad_norm': 1.550806999206543, 'learning_rate': 8.396623046472279e-05, 'epoch': 5.25}\n"
     ]
    },
    {
     "name": "stderr",
     "output_type": "stream",
     "text": [
      "\n",
      "  5%|▌         | 2/40 [00:00<00:02, 13.85it/s]\u001b[A\n",
      " 10%|█         | 4/40 [00:00<00:04,  8.70it/s]\u001b[A\n",
      " 12%|█▎        | 5/40 [00:00<00:04,  8.08it/s]\u001b[A\n",
      " 15%|█▌        | 6/40 [00:00<00:04,  7.69it/s]\u001b[A\n",
      " 18%|█▊        | 7/40 [00:00<00:04,  7.44it/s]\u001b[A\n",
      " 20%|██        | 8/40 [00:01<00:04,  7.27it/s]\u001b[A\n",
      " 22%|██▎       | 9/40 [00:01<00:04,  7.16it/s]\u001b[A\n",
      " 25%|██▌       | 10/40 [00:01<00:04,  7.09it/s]\u001b[A\n",
      " 28%|██▊       | 11/40 [00:01<00:04,  7.03it/s]\u001b[A\n",
      " 30%|███       | 12/40 [00:01<00:04,  7.00it/s]\u001b[A\n",
      " 32%|███▎      | 13/40 [00:01<00:03,  6.97it/s]\u001b[A\n",
      " 35%|███▌      | 14/40 [00:01<00:03,  6.95it/s]\u001b[A\n",
      " 38%|███▊      | 15/40 [00:02<00:03,  6.94it/s]\u001b[A\n",
      " 40%|████      | 16/40 [00:02<00:03,  6.93it/s]\u001b[A\n",
      " 42%|████▎     | 17/40 [00:02<00:03,  6.93it/s]\u001b[A\n",
      " 45%|████▌     | 18/40 [00:02<00:03,  6.92it/s]\u001b[A\n",
      " 48%|████▊     | 19/40 [00:02<00:03,  6.92it/s]\u001b[A\n",
      " 50%|█████     | 20/40 [00:02<00:02,  6.92it/s]\u001b[A\n",
      " 52%|█████▎    | 21/40 [00:02<00:02,  6.91it/s]\u001b[A\n",
      " 55%|█████▌    | 22/40 [00:03<00:02,  6.91it/s]\u001b[A\n",
      " 57%|█████▊    | 23/40 [00:03<00:02,  6.91it/s]\u001b[A\n",
      " 60%|██████    | 24/40 [00:03<00:02,  6.91it/s]\u001b[A\n",
      " 62%|██████▎   | 25/40 [00:03<00:02,  6.91it/s]\u001b[A\n",
      " 65%|██████▌   | 26/40 [00:03<00:02,  6.91it/s]\u001b[A\n",
      " 68%|██████▊   | 27/40 [00:03<00:01,  6.91it/s]\u001b[A\n",
      " 70%|███████   | 28/40 [00:03<00:01,  6.91it/s]\u001b[A\n",
      " 72%|███████▎  | 29/40 [00:04<00:01,  6.91it/s]\u001b[A\n",
      " 75%|███████▌  | 30/40 [00:04<00:01,  6.91it/s]\u001b[A\n",
      " 78%|███████▊  | 31/40 [00:04<00:01,  6.91it/s]\u001b[A\n",
      " 80%|████████  | 32/40 [00:04<00:01,  6.91it/s]\u001b[A\n",
      " 82%|████████▎ | 33/40 [00:04<00:01,  6.91it/s]\u001b[A\n",
      " 85%|████████▌ | 34/40 [00:04<00:00,  6.91it/s]\u001b[A\n",
      " 88%|████████▊ | 35/40 [00:04<00:00,  6.91it/s]\u001b[A\n",
      " 90%|█████████ | 36/40 [00:05<00:00,  6.91it/s]\u001b[A\n",
      " 92%|█████████▎| 37/40 [00:05<00:00,  6.91it/s]\u001b[A\n",
      " 95%|█████████▌| 38/40 [00:05<00:00,  6.91it/s]\u001b[A\n",
      "                                                         \n",
      " 26%|██▌       | 20500/78140 [2:24:12<6:14:26,  2.57it/s]\n",
      "100%|██████████| 40/40 [00:05<00:00,  7.07it/s]\u001b[A\n",
      "                                               \u001b[A"
     ]
    },
    {
     "name": "stdout",
     "output_type": "stream",
     "text": [
      "{'eval_loss': 0.09251655638217926, 'eval_token_accuracy': 0.9646913240753472, 'eval_exact_match_accuracy': 0.6346, 'eval_runtime': 5.9276, 'eval_samples_per_second': 1687.023, 'eval_steps_per_second': 6.748, 'epoch': 5.25}\n"
     ]
    },
    {
     "name": "stderr",
     "output_type": "stream",
     "text": [
      " 27%|██▋       | 21000/78140 [2:27:36<6:10:56,  2.57it/s] \n",
      "  0%|          | 0/40 [00:00<?, ?it/s]\u001b[A"
     ]
    },
    {
     "name": "stdout",
     "output_type": "stream",
     "text": [
      "{'loss': 0.1456, 'grad_norm': 0.9601597785949707, 'learning_rate': 8.32233270290911e-05, 'epoch': 5.37}\n"
     ]
    },
    {
     "name": "stderr",
     "output_type": "stream",
     "text": [
      "\n",
      "  5%|▌         | 2/40 [00:00<00:02, 13.84it/s]\u001b[A\n",
      " 10%|█         | 4/40 [00:00<00:04,  8.71it/s]\u001b[A\n",
      " 12%|█▎        | 5/40 [00:00<00:04,  8.08it/s]\u001b[A\n",
      " 15%|█▌        | 6/40 [00:00<00:04,  7.69it/s]\u001b[A\n",
      " 18%|█▊        | 7/40 [00:00<00:04,  7.44it/s]\u001b[A\n",
      " 20%|██        | 8/40 [00:01<00:04,  7.27it/s]\u001b[A\n",
      " 22%|██▎       | 9/40 [00:01<00:04,  7.16it/s]\u001b[A\n",
      " 25%|██▌       | 10/40 [00:01<00:04,  7.09it/s]\u001b[A\n",
      " 28%|██▊       | 11/40 [00:01<00:04,  7.03it/s]\u001b[A\n",
      " 30%|███       | 12/40 [00:01<00:04,  6.99it/s]\u001b[A\n",
      " 32%|███▎      | 13/40 [00:01<00:03,  6.97it/s]\u001b[A\n",
      " 35%|███▌      | 14/40 [00:01<00:03,  6.95it/s]\u001b[A\n",
      " 38%|███▊      | 15/40 [00:02<00:03,  6.94it/s]\u001b[A\n",
      " 40%|████      | 16/40 [00:02<00:03,  6.93it/s]\u001b[A\n",
      " 42%|████▎     | 17/40 [00:02<00:03,  6.93it/s]\u001b[A\n",
      " 45%|████▌     | 18/40 [00:02<00:03,  6.92it/s]\u001b[A\n",
      " 48%|████▊     | 19/40 [00:02<00:03,  6.92it/s]\u001b[A\n",
      " 50%|█████     | 20/40 [00:02<00:02,  6.91it/s]\u001b[A\n",
      " 52%|█████▎    | 21/40 [00:02<00:02,  6.91it/s]\u001b[A\n",
      " 55%|█████▌    | 22/40 [00:03<00:02,  6.91it/s]\u001b[A\n",
      " 57%|█████▊    | 23/40 [00:03<00:02,  6.91it/s]\u001b[A\n",
      " 60%|██████    | 24/40 [00:03<00:02,  6.91it/s]\u001b[A\n",
      " 62%|██████▎   | 25/40 [00:03<00:02,  6.91it/s]\u001b[A\n",
      " 65%|██████▌   | 26/40 [00:03<00:02,  6.91it/s]\u001b[A\n",
      " 68%|██████▊   | 27/40 [00:03<00:01,  6.91it/s]\u001b[A\n",
      " 70%|███████   | 28/40 [00:03<00:01,  6.91it/s]\u001b[A\n",
      " 72%|███████▎  | 29/40 [00:04<00:01,  6.91it/s]\u001b[A\n",
      " 75%|███████▌  | 30/40 [00:04<00:01,  6.91it/s]\u001b[A\n",
      " 78%|███████▊  | 31/40 [00:04<00:01,  6.91it/s]\u001b[A\n",
      " 80%|████████  | 32/40 [00:04<00:01,  6.91it/s]\u001b[A\n",
      " 82%|████████▎ | 33/40 [00:04<00:01,  6.91it/s]\u001b[A\n",
      " 85%|████████▌ | 34/40 [00:04<00:00,  6.91it/s]\u001b[A\n",
      " 88%|████████▊ | 35/40 [00:04<00:00,  6.91it/s]\u001b[A\n",
      " 90%|█████████ | 36/40 [00:05<00:00,  6.91it/s]\u001b[A\n",
      " 92%|█████████▎| 37/40 [00:05<00:00,  6.89it/s]\u001b[A\n",
      " 95%|█████████▌| 38/40 [00:05<00:00,  6.90it/s]\u001b[A\n",
      "                                                         \n",
      " 27%|██▋       | 21000/78140 [2:27:42<6:10:56,  2.57it/s]\n",
      "100%|██████████| 40/40 [00:05<00:00,  7.06it/s]\u001b[A\n",
      "                                               \u001b[A"
     ]
    },
    {
     "name": "stdout",
     "output_type": "stream",
     "text": [
      "{'eval_loss': 0.08722268790006638, 'eval_token_accuracy': 0.9663595948485265, 'eval_exact_match_accuracy': 0.6433, 'eval_runtime': 5.9311, 'eval_samples_per_second': 1686.019, 'eval_steps_per_second': 6.744, 'epoch': 5.37}\n"
     ]
    },
    {
     "name": "stderr",
     "output_type": "stream",
     "text": [
      " 28%|██▊       | 21500/78140 [2:31:06<6:07:42,  2.57it/s] \n",
      "  0%|          | 0/40 [00:00<?, ?it/s]\u001b[A"
     ]
    },
    {
     "name": "stdout",
     "output_type": "stream",
     "text": [
      "{'loss': 0.1333, 'grad_norm': 1.2194627523422241, 'learning_rate': 8.246552321471106e-05, 'epoch': 5.5}\n"
     ]
    },
    {
     "name": "stderr",
     "output_type": "stream",
     "text": [
      "\n",
      "  5%|▌         | 2/40 [00:00<00:02, 13.79it/s]\u001b[A\n",
      " 10%|█         | 4/40 [00:00<00:04,  8.68it/s]\u001b[A\n",
      " 12%|█▎        | 5/40 [00:00<00:04,  8.07it/s]\u001b[A\n",
      " 15%|█▌        | 6/40 [00:00<00:04,  7.69it/s]\u001b[A\n",
      " 18%|█▊        | 7/40 [00:00<00:04,  7.44it/s]\u001b[A\n",
      " 20%|██        | 8/40 [00:01<00:04,  7.27it/s]\u001b[A\n",
      " 22%|██▎       | 9/40 [00:01<00:04,  7.16it/s]\u001b[A\n",
      " 25%|██▌       | 10/40 [00:01<00:04,  7.08it/s]\u001b[A\n",
      " 28%|██▊       | 11/40 [00:01<00:04,  7.03it/s]\u001b[A\n",
      " 30%|███       | 12/40 [00:01<00:04,  6.99it/s]\u001b[A\n",
      " 32%|███▎      | 13/40 [00:01<00:03,  6.96it/s]\u001b[A\n",
      " 35%|███▌      | 14/40 [00:01<00:03,  6.94it/s]\u001b[A\n",
      " 38%|███▊      | 15/40 [00:02<00:03,  6.93it/s]\u001b[A\n",
      " 40%|████      | 16/40 [00:02<00:03,  6.93it/s]\u001b[A\n",
      " 42%|████▎     | 17/40 [00:02<00:03,  6.92it/s]\u001b[A\n",
      " 45%|████▌     | 18/40 [00:02<00:03,  6.92it/s]\u001b[A\n",
      " 48%|████▊     | 19/40 [00:02<00:03,  6.92it/s]\u001b[A\n",
      " 50%|█████     | 20/40 [00:02<00:02,  6.92it/s]\u001b[A\n",
      " 52%|█████▎    | 21/40 [00:02<00:02,  6.91it/s]\u001b[A\n",
      " 55%|█████▌    | 22/40 [00:03<00:02,  6.91it/s]\u001b[A\n",
      " 57%|█████▊    | 23/40 [00:03<00:02,  6.91it/s]\u001b[A\n",
      " 60%|██████    | 24/40 [00:03<00:02,  6.91it/s]\u001b[A\n",
      " 62%|██████▎   | 25/40 [00:03<00:02,  6.91it/s]\u001b[A\n",
      " 65%|██████▌   | 26/40 [00:03<00:02,  6.91it/s]\u001b[A\n",
      " 68%|██████▊   | 27/40 [00:03<00:01,  6.91it/s]\u001b[A\n",
      " 70%|███████   | 28/40 [00:03<00:01,  6.91it/s]\u001b[A\n",
      " 72%|███████▎  | 29/40 [00:04<00:01,  6.91it/s]\u001b[A\n",
      " 75%|███████▌  | 30/40 [00:04<00:01,  6.91it/s]\u001b[A\n",
      " 78%|███████▊  | 31/40 [00:04<00:01,  6.91it/s]\u001b[A\n",
      " 80%|████████  | 32/40 [00:04<00:01,  6.91it/s]\u001b[A\n",
      " 82%|████████▎ | 33/40 [00:04<00:01,  6.91it/s]\u001b[A\n",
      " 85%|████████▌ | 34/40 [00:04<00:00,  6.91it/s]\u001b[A\n",
      " 88%|████████▊ | 35/40 [00:04<00:00,  6.91it/s]\u001b[A\n",
      " 90%|█████████ | 36/40 [00:05<00:00,  6.91it/s]\u001b[A\n",
      " 92%|█████████▎| 37/40 [00:05<00:00,  6.91it/s]\u001b[A\n",
      " 95%|█████████▌| 38/40 [00:05<00:00,  6.91it/s]\u001b[A\n",
      "                                                         \n",
      " 28%|██▊       | 21500/78140 [2:31:12<6:07:42,  2.57it/s]\n",
      "100%|██████████| 40/40 [00:05<00:00,  7.07it/s]\u001b[A\n",
      "                                               \u001b[A"
     ]
    },
    {
     "name": "stdout",
     "output_type": "stream",
     "text": [
      "{'eval_loss': 0.08528400957584381, 'eval_token_accuracy': 0.9668270773179339, 'eval_exact_match_accuracy': 0.6479, 'eval_runtime': 5.9336, 'eval_samples_per_second': 1685.306, 'eval_steps_per_second': 6.741, 'epoch': 5.5}\n"
     ]
    },
    {
     "name": "stderr",
     "output_type": "stream",
     "text": [
      " 28%|██▊       | 22000/78140 [2:34:36<6:04:40,  2.57it/s] \n",
      "  0%|          | 0/40 [00:00<?, ?it/s]\u001b[A"
     ]
    },
    {
     "name": "stdout",
     "output_type": "stream",
     "text": [
      "{'loss': 0.1263, 'grad_norm': 1.0970672369003296, 'learning_rate': 8.169460040064749e-05, 'epoch': 5.63}\n"
     ]
    },
    {
     "name": "stderr",
     "output_type": "stream",
     "text": [
      "\n",
      "  5%|▌         | 2/40 [00:00<00:02, 13.91it/s]\u001b[A\n",
      " 10%|█         | 4/40 [00:00<00:04,  8.72it/s]\u001b[A\n",
      " 12%|█▎        | 5/40 [00:00<00:04,  8.09it/s]\u001b[A\n",
      " 15%|█▌        | 6/40 [00:00<00:04,  7.70it/s]\u001b[A\n",
      " 18%|█▊        | 7/40 [00:00<00:04,  7.45it/s]\u001b[A\n",
      " 20%|██        | 8/40 [00:01<00:04,  7.28it/s]\u001b[A\n",
      " 22%|██▎       | 9/40 [00:01<00:04,  7.16it/s]\u001b[A\n",
      " 25%|██▌       | 10/40 [00:01<00:04,  7.08it/s]\u001b[A\n",
      " 28%|██▊       | 11/40 [00:01<00:04,  7.03it/s]\u001b[A\n",
      " 30%|███       | 12/40 [00:01<00:04,  7.00it/s]\u001b[A\n",
      " 32%|███▎      | 13/40 [00:01<00:03,  6.97it/s]\u001b[A\n",
      " 35%|███▌      | 14/40 [00:01<00:03,  6.96it/s]\u001b[A\n",
      " 38%|███▊      | 15/40 [00:02<00:03,  6.94it/s]\u001b[A\n",
      " 40%|████      | 16/40 [00:02<00:03,  6.93it/s]\u001b[A\n",
      " 42%|████▎     | 17/40 [00:02<00:03,  6.93it/s]\u001b[A\n",
      " 45%|████▌     | 18/40 [00:02<00:03,  6.92it/s]\u001b[A\n",
      " 48%|████▊     | 19/40 [00:02<00:03,  6.92it/s]\u001b[A\n",
      " 50%|█████     | 20/40 [00:02<00:02,  6.92it/s]\u001b[A\n",
      " 52%|█████▎    | 21/40 [00:02<00:02,  6.91it/s]\u001b[A\n",
      " 55%|█████▌    | 22/40 [00:03<00:02,  6.92it/s]\u001b[A\n",
      " 57%|█████▊    | 23/40 [00:03<00:02,  6.92it/s]\u001b[A\n",
      " 60%|██████    | 24/40 [00:03<00:02,  6.91it/s]\u001b[A\n",
      " 62%|██████▎   | 25/40 [00:03<00:02,  6.90it/s]\u001b[A\n",
      " 65%|██████▌   | 26/40 [00:03<00:02,  6.90it/s]\u001b[A\n",
      " 68%|██████▊   | 27/40 [00:03<00:01,  6.91it/s]\u001b[A\n",
      " 70%|███████   | 28/40 [00:03<00:01,  6.91it/s]\u001b[A\n",
      " 72%|███████▎  | 29/40 [00:04<00:01,  6.91it/s]\u001b[A\n",
      " 75%|███████▌  | 30/40 [00:04<00:01,  6.91it/s]\u001b[A\n",
      " 78%|███████▊  | 31/40 [00:04<00:01,  6.91it/s]\u001b[A\n",
      " 80%|████████  | 32/40 [00:04<00:01,  6.91it/s]\u001b[A\n",
      " 82%|████████▎ | 33/40 [00:04<00:01,  6.91it/s]\u001b[A\n",
      " 85%|████████▌ | 34/40 [00:04<00:00,  6.91it/s]\u001b[A\n",
      " 88%|████████▊ | 35/40 [00:04<00:00,  6.91it/s]\u001b[A\n",
      " 90%|█████████ | 36/40 [00:05<00:00,  6.91it/s]\u001b[A\n",
      " 92%|█████████▎| 37/40 [00:05<00:00,  6.89it/s]\u001b[A\n",
      " 95%|█████████▌| 38/40 [00:05<00:00,  6.89it/s]\u001b[A\n",
      "                                                         \n",
      " 28%|██▊       | 22000/78140 [2:34:42<6:04:40,  2.57it/s]\n",
      "100%|██████████| 40/40 [00:05<00:00,  7.06it/s]\u001b[A\n",
      "                                               \u001b[A"
     ]
    },
    {
     "name": "stdout",
     "output_type": "stream",
     "text": [
      "{'eval_loss': 0.08374743908643723, 'eval_token_accuracy': 0.9673037261102708, 'eval_exact_match_accuracy': 0.6518, 'eval_runtime': 5.96, 'eval_samples_per_second': 1677.845, 'eval_steps_per_second': 6.711, 'epoch': 5.63}\n"
     ]
    },
    {
     "name": "stderr",
     "output_type": "stream",
     "text": [
      " 29%|██▉       | 22500/78140 [2:38:07<6:01:20,  2.57it/s] \n",
      "  0%|          | 0/40 [00:00<?, ?it/s]\u001b[A"
     ]
    },
    {
     "name": "stdout",
     "output_type": "stream",
     "text": [
      "{'loss': 0.1204, 'grad_norm': 1.6217483282089233, 'learning_rate': 8.091087010925247e-05, 'epoch': 5.76}\n"
     ]
    },
    {
     "name": "stderr",
     "output_type": "stream",
     "text": [
      "\n",
      "  5%|▌         | 2/40 [00:00<00:02, 13.89it/s]\u001b[A\n",
      " 10%|█         | 4/40 [00:00<00:04,  8.71it/s]\u001b[A\n",
      " 12%|█▎        | 5/40 [00:00<00:04,  8.08it/s]\u001b[A\n",
      " 15%|█▌        | 6/40 [00:00<00:04,  7.70it/s]\u001b[A\n",
      " 18%|█▊        | 7/40 [00:00<00:04,  7.44it/s]\u001b[A\n",
      " 20%|██        | 8/40 [00:01<00:04,  7.28it/s]\u001b[A\n",
      " 22%|██▎       | 9/40 [00:01<00:04,  7.17it/s]\u001b[A\n",
      " 25%|██▌       | 10/40 [00:01<00:04,  7.09it/s]\u001b[A\n",
      " 28%|██▊       | 11/40 [00:01<00:04,  7.04it/s]\u001b[A\n",
      " 30%|███       | 12/40 [00:01<00:03,  7.00it/s]\u001b[A\n",
      " 32%|███▎      | 13/40 [00:01<00:03,  6.97it/s]\u001b[A\n",
      " 35%|███▌      | 14/40 [00:01<00:03,  6.95it/s]\u001b[A\n",
      " 38%|███▊      | 15/40 [00:02<00:03,  6.94it/s]\u001b[A\n",
      " 40%|████      | 16/40 [00:02<00:03,  6.93it/s]\u001b[A\n",
      " 42%|████▎     | 17/40 [00:02<00:03,  6.91it/s]\u001b[A\n",
      " 45%|████▌     | 18/40 [00:02<00:03,  6.91it/s]\u001b[A\n",
      " 48%|████▊     | 19/40 [00:02<00:03,  6.91it/s]\u001b[A\n",
      " 50%|█████     | 20/40 [00:02<00:02,  6.91it/s]\u001b[A\n",
      " 52%|█████▎    | 21/40 [00:02<00:02,  6.91it/s]\u001b[A\n",
      " 55%|█████▌    | 22/40 [00:03<00:02,  6.91it/s]\u001b[A\n",
      " 57%|█████▊    | 23/40 [00:03<00:02,  6.91it/s]\u001b[A\n",
      " 60%|██████    | 24/40 [00:03<00:02,  6.91it/s]\u001b[A\n",
      " 62%|██████▎   | 25/40 [00:03<00:02,  6.91it/s]\u001b[A\n",
      " 65%|██████▌   | 26/40 [00:03<00:02,  6.91it/s]\u001b[A\n",
      " 68%|██████▊   | 27/40 [00:03<00:01,  6.91it/s]\u001b[A\n",
      " 70%|███████   | 28/40 [00:03<00:01,  6.91it/s]\u001b[A\n",
      " 72%|███████▎  | 29/40 [00:04<00:01,  6.91it/s]\u001b[A\n",
      " 75%|███████▌  | 30/40 [00:04<00:01,  6.91it/s]\u001b[A\n",
      " 78%|███████▊  | 31/40 [00:04<00:01,  6.91it/s]\u001b[A\n",
      " 80%|████████  | 32/40 [00:04<00:01,  6.91it/s]\u001b[A\n",
      " 82%|████████▎ | 33/40 [00:04<00:01,  6.91it/s]\u001b[A\n",
      " 85%|████████▌ | 34/40 [00:04<00:00,  6.91it/s]\u001b[A\n",
      " 88%|████████▊ | 35/40 [00:04<00:00,  6.91it/s]\u001b[A\n",
      " 90%|█████████ | 36/40 [00:05<00:00,  6.92it/s]\u001b[A\n",
      " 92%|█████████▎| 37/40 [00:05<00:00,  6.91it/s]\u001b[A\n",
      " 95%|█████████▌| 38/40 [00:05<00:00,  6.91it/s]\u001b[A\n",
      "                                                         \n",
      " 29%|██▉       | 22500/78140 [2:38:13<6:01:20,  2.57it/s]\n",
      "100%|██████████| 40/40 [00:05<00:00,  7.09it/s]\u001b[A\n",
      "                                               \u001b[A"
     ]
    },
    {
     "name": "stdout",
     "output_type": "stream",
     "text": [
      "{'eval_loss': 0.08556026965379715, 'eval_token_accuracy': 0.9667170814427792, 'eval_exact_match_accuracy': 0.6467, 'eval_runtime': 5.925, 'eval_samples_per_second': 1687.756, 'eval_steps_per_second': 6.751, 'epoch': 5.76}\n"
     ]
    },
    {
     "name": "stderr",
     "output_type": "stream",
     "text": [
      " 29%|██▉       | 23000/78140 [2:41:37<5:58:14,  2.57it/s] \n",
      "  0%|          | 0/40 [00:00<?, ?it/s]\u001b[A"
     ]
    },
    {
     "name": "stdout",
     "output_type": "stream",
     "text": [
      "{'loss': 0.1159, 'grad_norm': 0.9313328862190247, 'learning_rate': 8.01146490382541e-05, 'epoch': 5.89}\n"
     ]
    },
    {
     "name": "stderr",
     "output_type": "stream",
     "text": [
      "\n",
      "  5%|▌         | 2/40 [00:00<00:02, 13.82it/s]\u001b[A\n",
      " 10%|█         | 4/40 [00:00<00:04,  8.70it/s]\u001b[A\n",
      " 12%|█▎        | 5/40 [00:00<00:04,  8.07it/s]\u001b[A\n",
      " 15%|█▌        | 6/40 [00:00<00:04,  7.69it/s]\u001b[A\n",
      " 18%|█▊        | 7/40 [00:00<00:04,  7.44it/s]\u001b[A\n",
      " 20%|██        | 8/40 [00:01<00:04,  7.27it/s]\u001b[A\n",
      " 22%|██▎       | 9/40 [00:01<00:04,  7.16it/s]\u001b[A\n",
      " 25%|██▌       | 10/40 [00:01<00:04,  7.09it/s]\u001b[A\n",
      " 28%|██▊       | 11/40 [00:01<00:04,  7.03it/s]\u001b[A\n",
      " 30%|███       | 12/40 [00:01<00:04,  7.00it/s]\u001b[A\n",
      " 32%|███▎      | 13/40 [00:01<00:03,  6.97it/s]\u001b[A\n",
      " 35%|███▌      | 14/40 [00:01<00:03,  6.95it/s]\u001b[A\n",
      " 38%|███▊      | 15/40 [00:02<00:03,  6.94it/s]\u001b[A\n",
      " 40%|████      | 16/40 [00:02<00:03,  6.93it/s]\u001b[A\n",
      " 42%|████▎     | 17/40 [00:02<00:03,  6.93it/s]\u001b[A\n",
      " 45%|████▌     | 18/40 [00:02<00:03,  6.92it/s]\u001b[A\n",
      " 48%|████▊     | 19/40 [00:02<00:03,  6.92it/s]\u001b[A\n",
      " 50%|█████     | 20/40 [00:02<00:02,  6.92it/s]\u001b[A\n",
      " 52%|█████▎    | 21/40 [00:02<00:02,  6.91it/s]\u001b[A\n",
      " 55%|█████▌    | 22/40 [00:03<00:02,  6.91it/s]\u001b[A\n",
      " 57%|█████▊    | 23/40 [00:03<00:02,  6.91it/s]\u001b[A\n",
      " 60%|██████    | 24/40 [00:03<00:02,  6.91it/s]\u001b[A\n",
      " 62%|██████▎   | 25/40 [00:03<00:02,  6.91it/s]\u001b[A\n",
      " 65%|██████▌   | 26/40 [00:03<00:02,  6.91it/s]\u001b[A\n",
      " 68%|██████▊   | 27/40 [00:03<00:01,  6.91it/s]\u001b[A\n",
      " 70%|███████   | 28/40 [00:03<00:01,  6.91it/s]\u001b[A\n",
      " 72%|███████▎  | 29/40 [00:04<00:01,  6.92it/s]\u001b[A\n",
      " 75%|███████▌  | 30/40 [00:04<00:01,  6.91it/s]\u001b[A\n",
      " 78%|███████▊  | 31/40 [00:04<00:01,  6.89it/s]\u001b[A\n",
      " 80%|████████  | 32/40 [00:04<00:01,  6.89it/s]\u001b[A\n",
      " 82%|████████▎ | 33/40 [00:04<00:01,  6.90it/s]\u001b[A\n",
      " 85%|████████▌ | 34/40 [00:04<00:00,  6.90it/s]\u001b[A\n",
      " 88%|████████▊ | 35/40 [00:04<00:00,  6.91it/s]\u001b[A\n",
      " 90%|█████████ | 36/40 [00:05<00:00,  6.91it/s]\u001b[A\n",
      " 92%|█████████▎| 37/40 [00:05<00:00,  6.91it/s]\u001b[A\n",
      " 95%|█████████▌| 38/40 [00:05<00:00,  6.91it/s]\u001b[A\n",
      "                                                         \n",
      " 29%|██▉       | 23000/78140 [2:41:43<5:58:14,  2.57it/s]\n",
      "100%|██████████| 40/40 [00:05<00:00,  7.07it/s]\u001b[A\n",
      "                                               \u001b[A"
     ]
    },
    {
     "name": "stdout",
     "output_type": "stream",
     "text": [
      "{'eval_loss': 0.08129002898931503, 'eval_token_accuracy': 0.9678537054860443, 'eval_exact_match_accuracy': 0.6537, 'eval_runtime': 5.9293, 'eval_samples_per_second': 1686.541, 'eval_steps_per_second': 6.746, 'epoch': 5.89}\n"
     ]
    },
    {
     "name": "stderr",
     "output_type": "stream",
     "text": [
      " 30%|███       | 23500/78140 [2:45:07<5:55:04,  2.56it/s] \n",
      "  0%|          | 0/40 [00:00<?, ?it/s]\u001b[A"
     ]
    },
    {
     "name": "stdout",
     "output_type": "stream",
     "text": [
      "{'loss': 0.1124, 'grad_norm': 1.419484257698059, 'learning_rate': 7.9307887641373e-05, 'epoch': 6.01}\n"
     ]
    },
    {
     "name": "stderr",
     "output_type": "stream",
     "text": [
      "\n",
      "  5%|▌         | 2/40 [00:00<00:02, 13.82it/s]\u001b[A\n",
      " 10%|█         | 4/40 [00:00<00:04,  8.70it/s]\u001b[A\n",
      " 12%|█▎        | 5/40 [00:00<00:04,  8.08it/s]\u001b[A\n",
      " 15%|█▌        | 6/40 [00:00<00:04,  7.69it/s]\u001b[A\n",
      " 18%|█▊        | 7/40 [00:00<00:04,  7.44it/s]\u001b[A\n",
      " 20%|██        | 8/40 [00:01<00:04,  7.27it/s]\u001b[A\n",
      " 22%|██▎       | 9/40 [00:01<00:04,  7.16it/s]\u001b[A\n",
      " 25%|██▌       | 10/40 [00:01<00:04,  7.08it/s]\u001b[A\n",
      " 28%|██▊       | 11/40 [00:01<00:04,  7.03it/s]\u001b[A\n",
      " 30%|███       | 12/40 [00:01<00:04,  7.00it/s]\u001b[A\n",
      " 32%|███▎      | 13/40 [00:01<00:03,  6.97it/s]\u001b[A\n",
      " 35%|███▌      | 14/40 [00:01<00:03,  6.96it/s]\u001b[A\n",
      " 38%|███▊      | 15/40 [00:02<00:03,  6.95it/s]\u001b[A\n",
      " 40%|████      | 16/40 [00:02<00:03,  6.94it/s]\u001b[A\n",
      " 42%|████▎     | 17/40 [00:02<00:03,  6.93it/s]\u001b[A\n",
      " 45%|████▌     | 18/40 [00:02<00:03,  6.92it/s]\u001b[A\n",
      " 48%|████▊     | 19/40 [00:02<00:03,  6.92it/s]\u001b[A\n",
      " 50%|█████     | 20/40 [00:02<00:02,  6.92it/s]\u001b[A\n",
      " 52%|█████▎    | 21/40 [00:02<00:02,  6.92it/s]\u001b[A\n",
      " 55%|█████▌    | 22/40 [00:03<00:02,  6.92it/s]\u001b[A\n",
      " 57%|█████▊    | 23/40 [00:03<00:02,  6.92it/s]\u001b[A\n",
      " 60%|██████    | 24/40 [00:03<00:02,  6.92it/s]\u001b[A\n",
      " 62%|██████▎   | 25/40 [00:03<00:02,  6.92it/s]\u001b[A\n",
      " 65%|██████▌   | 26/40 [00:03<00:02,  6.92it/s]\u001b[A\n",
      " 68%|██████▊   | 27/40 [00:03<00:01,  6.92it/s]\u001b[A\n",
      " 70%|███████   | 28/40 [00:03<00:01,  6.92it/s]\u001b[A\n",
      " 72%|███████▎  | 29/40 [00:04<00:01,  6.91it/s]\u001b[A\n",
      " 75%|███████▌  | 30/40 [00:04<00:01,  6.92it/s]\u001b[A\n",
      " 78%|███████▊  | 31/40 [00:04<00:01,  6.92it/s]\u001b[A\n",
      " 80%|████████  | 32/40 [00:04<00:01,  6.92it/s]\u001b[A\n",
      " 82%|████████▎ | 33/40 [00:04<00:01,  6.91it/s]\u001b[A\n",
      " 85%|████████▌ | 34/40 [00:04<00:00,  6.91it/s]\u001b[A\n",
      " 88%|████████▊ | 35/40 [00:04<00:00,  6.91it/s]\u001b[A\n",
      " 90%|█████████ | 36/40 [00:05<00:00,  6.91it/s]\u001b[A\n",
      " 92%|█████████▎| 37/40 [00:05<00:00,  6.91it/s]\u001b[A\n",
      " 95%|█████████▌| 38/40 [00:05<00:00,  6.92it/s]\u001b[A\n",
      "                                                         \n",
      " 30%|███       | 23500/78140 [2:45:13<5:55:04,  2.56it/s]\n",
      "100%|██████████| 40/40 [00:05<00:00,  7.07it/s]\u001b[A\n",
      "                                               \u001b[A"
     ]
    },
    {
     "name": "stdout",
     "output_type": "stream",
     "text": [
      "{'eval_loss': 0.08152953535318375, 'eval_token_accuracy': 0.9678812044548329, 'eval_exact_match_accuracy': 0.6548, 'eval_runtime': 5.9265, 'eval_samples_per_second': 1687.331, 'eval_steps_per_second': 6.749, 'epoch': 6.01}\n"
     ]
    },
    {
     "name": "stderr",
     "output_type": "stream",
     "text": [
      " 31%|███       | 24000/78140 [2:48:37<5:51:25,  2.57it/s] \n",
      "  0%|          | 0/40 [00:00<?, ?it/s]\u001b[A"
     ]
    },
    {
     "name": "stdout",
     "output_type": "stream",
     "text": [
      "{'loss': 0.1092, 'grad_norm': 0.9820867776870728, 'learning_rate': 7.848767851947659e-05, 'epoch': 6.14}\n"
     ]
    },
    {
     "name": "stderr",
     "output_type": "stream",
     "text": [
      "\n",
      "  5%|▌         | 2/40 [00:00<00:02, 13.84it/s]\u001b[A\n",
      " 10%|█         | 4/40 [00:00<00:04,  8.69it/s]\u001b[A\n",
      " 12%|█▎        | 5/40 [00:00<00:04,  8.07it/s]\u001b[A\n",
      " 15%|█▌        | 6/40 [00:00<00:04,  7.68it/s]\u001b[A\n",
      " 18%|█▊        | 7/40 [00:00<00:04,  7.44it/s]\u001b[A\n",
      " 20%|██        | 8/40 [00:01<00:04,  7.27it/s]\u001b[A\n",
      " 22%|██▎       | 9/40 [00:01<00:04,  7.16it/s]\u001b[A\n",
      " 25%|██▌       | 10/40 [00:01<00:04,  7.08it/s]\u001b[A\n",
      " 28%|██▊       | 11/40 [00:01<00:04,  7.03it/s]\u001b[A\n",
      " 30%|███       | 12/40 [00:01<00:04,  7.00it/s]\u001b[A\n",
      " 32%|███▎      | 13/40 [00:01<00:03,  6.97it/s]\u001b[A\n",
      " 35%|███▌      | 14/40 [00:01<00:03,  6.95it/s]\u001b[A\n",
      " 38%|███▊      | 15/40 [00:02<00:03,  6.94it/s]\u001b[A\n",
      " 40%|████      | 16/40 [00:02<00:03,  6.93it/s]\u001b[A\n",
      " 42%|████▎     | 17/40 [00:02<00:03,  6.93it/s]\u001b[A\n",
      " 45%|████▌     | 18/40 [00:02<00:03,  6.92it/s]\u001b[A\n",
      " 48%|████▊     | 19/40 [00:02<00:03,  6.92it/s]\u001b[A\n",
      " 50%|█████     | 20/40 [00:02<00:02,  6.92it/s]\u001b[A\n",
      " 52%|█████▎    | 21/40 [00:02<00:02,  6.91it/s]\u001b[A\n",
      " 55%|█████▌    | 22/40 [00:03<00:02,  6.91it/s]\u001b[A\n",
      " 57%|█████▊    | 23/40 [00:03<00:02,  6.91it/s]\u001b[A\n",
      " 60%|██████    | 24/40 [00:03<00:02,  6.91it/s]\u001b[A\n",
      " 62%|██████▎   | 25/40 [00:03<00:02,  6.91it/s]\u001b[A\n",
      " 65%|██████▌   | 26/40 [00:03<00:02,  6.91it/s]\u001b[A\n",
      " 68%|██████▊   | 27/40 [00:03<00:01,  6.91it/s]\u001b[A\n",
      " 70%|███████   | 28/40 [00:03<00:01,  6.91it/s]\u001b[A\n",
      " 72%|███████▎  | 29/40 [00:04<00:01,  6.92it/s]\u001b[A\n",
      " 75%|███████▌  | 30/40 [00:04<00:01,  6.91it/s]\u001b[A\n",
      " 78%|███████▊  | 31/40 [00:04<00:01,  6.91it/s]\u001b[A\n",
      " 80%|████████  | 32/40 [00:04<00:01,  6.89it/s]\u001b[A\n",
      " 82%|████████▎ | 33/40 [00:04<00:01,  6.89it/s]\u001b[A\n",
      " 85%|████████▌ | 34/40 [00:04<00:00,  6.90it/s]\u001b[A\n",
      " 88%|████████▊ | 35/40 [00:04<00:00,  6.90it/s]\u001b[A\n",
      " 90%|█████████ | 36/40 [00:05<00:00,  6.90it/s]\u001b[A\n",
      " 92%|█████████▎| 37/40 [00:05<00:00,  6.91it/s]\u001b[A\n",
      " 95%|█████████▌| 38/40 [00:05<00:00,  6.91it/s]\u001b[A\n",
      "                                                         \n",
      " 31%|███       | 24000/78140 [2:48:43<5:51:25,  2.57it/s]\n",
      "100%|██████████| 40/40 [00:05<00:00,  7.07it/s]\u001b[A\n",
      "                                               \u001b[A"
     ]
    },
    {
     "name": "stdout",
     "output_type": "stream",
     "text": [
      "{'eval_loss': 0.07823502272367477, 'eval_token_accuracy': 0.9685961776433384, 'eval_exact_match_accuracy': 0.6597, 'eval_runtime': 5.9343, 'eval_samples_per_second': 1685.11, 'eval_steps_per_second': 6.74, 'epoch': 6.14}\n"
     ]
    },
    {
     "name": "stderr",
     "output_type": "stream",
     "text": [
      " 31%|███▏      | 24500/78140 [2:52:07<5:48:21,  2.57it/s] \n",
      "  0%|          | 0/40 [00:00<?, ?it/s]\u001b[A"
     ]
    },
    {
     "name": "stdout",
     "output_type": "stream",
     "text": [
      "{'loss': 0.1069, 'grad_norm': 0.9363355040550232, 'learning_rate': 7.765595780594462e-05, 'epoch': 6.27}\n"
     ]
    },
    {
     "name": "stderr",
     "output_type": "stream",
     "text": [
      "\n",
      "  5%|▌         | 2/40 [00:00<00:02, 13.83it/s]\u001b[A\n",
      " 10%|█         | 4/40 [00:00<00:04,  8.69it/s]\u001b[A\n",
      " 12%|█▎        | 5/40 [00:00<00:04,  8.07it/s]\u001b[A\n",
      " 15%|█▌        | 6/40 [00:00<00:04,  7.68it/s]\u001b[A\n",
      " 18%|█▊        | 7/40 [00:00<00:04,  7.43it/s]\u001b[A\n",
      " 20%|██        | 8/40 [00:01<00:04,  7.27it/s]\u001b[A\n",
      " 22%|██▎       | 9/40 [00:01<00:04,  7.15it/s]\u001b[A\n",
      " 25%|██▌       | 10/40 [00:01<00:04,  7.08it/s]\u001b[A\n",
      " 28%|██▊       | 11/40 [00:01<00:04,  7.03it/s]\u001b[A\n",
      " 30%|███       | 12/40 [00:01<00:04,  7.00it/s]\u001b[A\n",
      " 32%|███▎      | 13/40 [00:01<00:03,  6.97it/s]\u001b[A\n",
      " 35%|███▌      | 14/40 [00:01<00:03,  6.95it/s]\u001b[A\n",
      " 38%|███▊      | 15/40 [00:02<00:03,  6.94it/s]\u001b[A\n",
      " 40%|████      | 16/40 [00:02<00:03,  6.93it/s]\u001b[A\n",
      " 42%|████▎     | 17/40 [00:02<00:03,  6.90it/s]\u001b[A\n",
      " 45%|████▌     | 18/40 [00:02<00:03,  6.89it/s]\u001b[A\n",
      " 48%|████▊     | 19/40 [00:02<00:03,  6.88it/s]\u001b[A\n",
      " 50%|█████     | 20/40 [00:02<00:02,  6.89it/s]\u001b[A\n",
      " 52%|█████▎    | 21/40 [00:02<00:02,  6.90it/s]\u001b[A\n",
      " 55%|█████▌    | 22/40 [00:03<00:02,  6.90it/s]\u001b[A\n",
      " 57%|█████▊    | 23/40 [00:03<00:02,  6.90it/s]\u001b[A\n",
      " 60%|██████    | 24/40 [00:03<00:02,  6.90it/s]\u001b[A\n",
      " 62%|██████▎   | 25/40 [00:03<00:02,  6.91it/s]\u001b[A\n",
      " 65%|██████▌   | 26/40 [00:03<00:02,  6.91it/s]\u001b[A\n",
      " 68%|██████▊   | 27/40 [00:03<00:01,  6.91it/s]\u001b[A\n",
      " 70%|███████   | 28/40 [00:03<00:01,  6.91it/s]\u001b[A\n",
      " 72%|███████▎  | 29/40 [00:04<00:01,  6.91it/s]\u001b[A\n",
      " 75%|███████▌  | 30/40 [00:04<00:01,  6.91it/s]\u001b[A\n",
      " 78%|███████▊  | 31/40 [00:04<00:01,  6.91it/s]\u001b[A\n",
      " 80%|████████  | 32/40 [00:04<00:01,  6.91it/s]\u001b[A\n",
      " 82%|████████▎ | 33/40 [00:04<00:01,  6.91it/s]\u001b[A\n",
      " 85%|████████▌ | 34/40 [00:04<00:00,  6.92it/s]\u001b[A\n",
      " 88%|████████▊ | 35/40 [00:04<00:00,  6.91it/s]\u001b[A\n",
      " 90%|█████████ | 36/40 [00:05<00:00,  6.91it/s]\u001b[A\n",
      " 92%|█████████▎| 37/40 [00:05<00:00,  6.91it/s]\u001b[A\n",
      " 95%|█████████▌| 38/40 [00:05<00:00,  6.91it/s]\u001b[A\n",
      "                                                         \n",
      " 31%|███▏      | 24500/78140 [2:52:13<5:48:21,  2.57it/s]\n",
      "100%|██████████| 40/40 [00:05<00:00,  7.07it/s]\u001b[A\n",
      "                                               \u001b[A"
     ]
    },
    {
     "name": "stdout",
     "output_type": "stream",
     "text": [
      "{'eval_loss': 0.08203383535146713, 'eval_token_accuracy': 0.9680186992987763, 'eval_exact_match_accuracy': 0.6568, 'eval_runtime': 5.9331, 'eval_samples_per_second': 1685.452, 'eval_steps_per_second': 6.742, 'epoch': 6.27}\n"
     ]
    },
    {
     "name": "stderr",
     "output_type": "stream",
     "text": [
      " 32%|███▏      | 25000/78140 [2:55:37<5:45:18,  2.56it/s] \n",
      "  0%|          | 0/40 [00:00<?, ?it/s]\u001b[A"
     ]
    },
    {
     "name": "stdout",
     "output_type": "stream",
     "text": [
      "{'loss': 0.1057, 'grad_norm': 1.0719382762908936, 'learning_rate': 7.68130615909644e-05, 'epoch': 6.4}\n"
     ]
    },
    {
     "name": "stderr",
     "output_type": "stream",
     "text": [
      "\n",
      "  5%|▌         | 2/40 [00:00<00:02, 13.84it/s]\u001b[A\n",
      " 10%|█         | 4/40 [00:00<00:04,  8.70it/s]\u001b[A\n",
      " 12%|█▎        | 5/40 [00:00<00:04,  8.08it/s]\u001b[A\n",
      " 15%|█▌        | 6/40 [00:00<00:04,  7.69it/s]\u001b[A\n",
      " 18%|█▊        | 7/40 [00:00<00:04,  7.44it/s]\u001b[A\n",
      " 20%|██        | 8/40 [00:01<00:04,  7.27it/s]\u001b[A\n",
      " 22%|██▎       | 9/40 [00:01<00:04,  7.16it/s]\u001b[A\n",
      " 25%|██▌       | 10/40 [00:01<00:04,  7.09it/s]\u001b[A\n",
      " 28%|██▊       | 11/40 [00:01<00:04,  7.03it/s]\u001b[A\n",
      " 30%|███       | 12/40 [00:01<00:04,  7.00it/s]\u001b[A\n",
      " 32%|███▎      | 13/40 [00:01<00:03,  6.97it/s]\u001b[A\n",
      " 35%|███▌      | 14/40 [00:01<00:03,  6.95it/s]\u001b[A\n",
      " 38%|███▊      | 15/40 [00:02<00:03,  6.94it/s]\u001b[A\n",
      " 40%|████      | 16/40 [00:02<00:03,  6.93it/s]\u001b[A\n",
      " 42%|████▎     | 17/40 [00:02<00:03,  6.93it/s]\u001b[A\n",
      " 45%|████▌     | 18/40 [00:02<00:03,  6.92it/s]\u001b[A\n",
      " 48%|████▊     | 19/40 [00:02<00:03,  6.92it/s]\u001b[A\n",
      " 50%|█████     | 20/40 [00:02<00:02,  6.92it/s]\u001b[A\n",
      " 52%|█████▎    | 21/40 [00:02<00:02,  6.91it/s]\u001b[A\n",
      " 55%|█████▌    | 22/40 [00:03<00:02,  6.91it/s]\u001b[A\n",
      " 57%|█████▊    | 23/40 [00:03<00:02,  6.91it/s]\u001b[A\n",
      " 60%|██████    | 24/40 [00:03<00:02,  6.91it/s]\u001b[A\n",
      " 62%|██████▎   | 25/40 [00:03<00:02,  6.91it/s]\u001b[A\n",
      " 65%|██████▌   | 26/40 [00:03<00:02,  6.91it/s]\u001b[A\n",
      " 68%|██████▊   | 27/40 [00:03<00:01,  6.91it/s]\u001b[A\n",
      " 70%|███████   | 28/40 [00:03<00:01,  6.91it/s]\u001b[A\n",
      " 72%|███████▎  | 29/40 [00:04<00:01,  6.89it/s]\u001b[A\n",
      " 75%|███████▌  | 30/40 [00:04<00:01,  6.90it/s]\u001b[A\n",
      " 78%|███████▊  | 31/40 [00:04<00:01,  6.90it/s]\u001b[A\n",
      " 80%|████████  | 32/40 [00:04<00:01,  6.90it/s]\u001b[A\n",
      " 82%|████████▎ | 33/40 [00:04<00:01,  6.90it/s]\u001b[A\n",
      " 85%|████████▌ | 34/40 [00:04<00:00,  6.90it/s]\u001b[A\n",
      " 88%|████████▊ | 35/40 [00:04<00:00,  6.91it/s]\u001b[A\n",
      " 90%|█████████ | 36/40 [00:05<00:00,  6.91it/s]\u001b[A\n",
      " 92%|█████████▎| 37/40 [00:05<00:00,  6.91it/s]\u001b[A\n",
      " 95%|█████████▌| 38/40 [00:05<00:00,  6.91it/s]\u001b[A\n",
      "                                                         \n",
      " 32%|███▏      | 25000/78140 [2:55:43<5:45:18,  2.56it/s]\n",
      "100%|██████████| 40/40 [00:05<00:00,  7.07it/s]\u001b[A\n",
      "                                               \u001b[A"
     ]
    },
    {
     "name": "stdout",
     "output_type": "stream",
     "text": [
      "{'eval_loss': 0.08067046850919724, 'eval_token_accuracy': 0.9683395206013108, 'eval_exact_match_accuracy': 0.6575, 'eval_runtime': 5.9287, 'eval_samples_per_second': 1686.705, 'eval_steps_per_second': 6.747, 'epoch': 6.4}\n"
     ]
    },
    {
     "name": "stderr",
     "output_type": "stream",
     "text": [
      " 33%|███▎      | 25500/78140 [2:59:07<5:40:35,  2.58it/s] \n",
      "  0%|          | 0/40 [00:00<?, ?it/s]\u001b[A"
     ]
    },
    {
     "name": "stdout",
     "output_type": "stream",
     "text": [
      "{'loss': 0.1044, 'grad_norm': 1.3047854900360107, 'learning_rate': 7.59593304806338e-05, 'epoch': 6.53}\n"
     ]
    },
    {
     "name": "stderr",
     "output_type": "stream",
     "text": [
      "\n",
      "  5%|▌         | 2/40 [00:00<00:02, 13.93it/s]\u001b[A\n",
      " 10%|█         | 4/40 [00:00<00:04,  8.72it/s]\u001b[A\n",
      " 12%|█▎        | 5/40 [00:00<00:04,  8.09it/s]\u001b[A\n",
      " 15%|█▌        | 6/40 [00:00<00:04,  7.69it/s]\u001b[A\n",
      " 18%|█▊        | 7/40 [00:00<00:04,  7.44it/s]\u001b[A\n",
      " 20%|██        | 8/40 [00:01<00:04,  7.28it/s]\u001b[A\n",
      " 22%|██▎       | 9/40 [00:01<00:04,  7.17it/s]\u001b[A\n",
      " 25%|██▌       | 10/40 [00:01<00:04,  7.09it/s]\u001b[A\n",
      " 28%|██▊       | 11/40 [00:01<00:04,  7.04it/s]\u001b[A\n",
      " 30%|███       | 12/40 [00:01<00:03,  7.00it/s]\u001b[A\n",
      " 32%|███▎      | 13/40 [00:01<00:03,  6.97it/s]\u001b[A\n",
      " 35%|███▌      | 14/40 [00:01<00:03,  6.95it/s]\u001b[A\n",
      " 38%|███▊      | 15/40 [00:02<00:03,  6.94it/s]\u001b[A\n",
      " 40%|████      | 16/40 [00:02<00:03,  6.93it/s]\u001b[A\n",
      " 42%|████▎     | 17/40 [00:02<00:03,  6.93it/s]\u001b[A\n",
      " 45%|████▌     | 18/40 [00:02<00:03,  6.92it/s]\u001b[A\n",
      " 48%|████▊     | 19/40 [00:02<00:03,  6.92it/s]\u001b[A\n",
      " 50%|█████     | 20/40 [00:02<00:02,  6.92it/s]\u001b[A\n",
      " 52%|█████▎    | 21/40 [00:02<00:02,  6.92it/s]\u001b[A\n",
      " 55%|█████▌    | 22/40 [00:03<00:02,  6.92it/s]\u001b[A\n",
      " 57%|█████▊    | 23/40 [00:03<00:02,  6.92it/s]\u001b[A\n",
      " 60%|██████    | 24/40 [00:03<00:02,  6.91it/s]\u001b[A\n",
      " 62%|██████▎   | 25/40 [00:03<00:02,  6.91it/s]\u001b[A\n",
      " 65%|██████▌   | 26/40 [00:03<00:02,  6.92it/s]\u001b[A\n",
      " 68%|██████▊   | 27/40 [00:03<00:01,  6.91it/s]\u001b[A\n",
      " 70%|███████   | 28/40 [00:03<00:01,  6.91it/s]\u001b[A\n",
      " 72%|███████▎  | 29/40 [00:04<00:01,  6.91it/s]\u001b[A\n",
      " 75%|███████▌  | 30/40 [00:04<00:01,  6.92it/s]\u001b[A\n",
      " 78%|███████▊  | 31/40 [00:04<00:01,  6.92it/s]\u001b[A\n",
      " 80%|████████  | 32/40 [00:04<00:01,  6.92it/s]\u001b[A\n",
      " 82%|████████▎ | 33/40 [00:04<00:01,  6.92it/s]\u001b[A\n",
      " 85%|████████▌ | 34/40 [00:04<00:00,  6.92it/s]\u001b[A\n",
      " 88%|████████▊ | 35/40 [00:04<00:00,  6.91it/s]\u001b[A\n",
      " 90%|█████████ | 36/40 [00:05<00:00,  6.91it/s]\u001b[A\n",
      " 92%|█████████▎| 37/40 [00:05<00:00,  6.91it/s]\u001b[A\n",
      " 95%|█████████▌| 38/40 [00:05<00:00,  6.92it/s]\u001b[A\n",
      "                                                         \n",
      " 33%|███▎      | 25500/78140 [2:59:13<5:40:35,  2.58it/s]\n",
      "100%|██████████| 40/40 [00:05<00:00,  7.08it/s]\u001b[A\n",
      "                                               \u001b[A"
     ]
    },
    {
     "name": "stdout",
     "output_type": "stream",
     "text": [
      "{'eval_loss': 0.07907197624444962, 'eval_token_accuracy': 0.9685228470599019, 'eval_exact_match_accuracy': 0.6589, 'eval_runtime': 5.9226, 'eval_samples_per_second': 1688.461, 'eval_steps_per_second': 6.754, 'epoch': 6.53}\n"
     ]
    },
    {
     "name": "stderr",
     "output_type": "stream",
     "text": [
      " 33%|███▎      | 26000/78140 [3:02:37<5:38:51,  2.56it/s] \n",
      "  0%|          | 0/40 [00:00<?, ?it/s]\u001b[A"
     ]
    },
    {
     "name": "stdout",
     "output_type": "stream",
     "text": [
      "{'loss': 0.103, 'grad_norm': 1.258569598197937, 'learning_rate': 7.509510945932568e-05, 'epoch': 6.65}\n"
     ]
    },
    {
     "name": "stderr",
     "output_type": "stream",
     "text": [
      "\n",
      "  5%|▌         | 2/40 [00:00<00:02, 13.89it/s]\u001b[A\n",
      " 10%|█         | 4/40 [00:00<00:04,  8.70it/s]\u001b[A\n",
      " 12%|█▎        | 5/40 [00:00<00:04,  8.08it/s]\u001b[A\n",
      " 15%|█▌        | 6/40 [00:00<00:04,  7.69it/s]\u001b[A\n",
      " 18%|█▊        | 7/40 [00:00<00:04,  7.44it/s]\u001b[A\n",
      " 20%|██        | 8/40 [00:01<00:04,  7.27it/s]\u001b[A\n",
      " 22%|██▎       | 9/40 [00:01<00:04,  7.16it/s]\u001b[A\n",
      " 25%|██▌       | 10/40 [00:01<00:04,  7.08it/s]\u001b[A\n",
      " 28%|██▊       | 11/40 [00:01<00:04,  7.03it/s]\u001b[A\n",
      " 30%|███       | 12/40 [00:01<00:04,  7.00it/s]\u001b[A\n",
      " 32%|███▎      | 13/40 [00:01<00:03,  6.97it/s]\u001b[A\n",
      " 35%|███▌      | 14/40 [00:01<00:03,  6.96it/s]\u001b[A\n",
      " 38%|███▊      | 15/40 [00:02<00:03,  6.94it/s]\u001b[A\n",
      " 40%|████      | 16/40 [00:02<00:03,  6.93it/s]\u001b[A\n",
      " 42%|████▎     | 17/40 [00:02<00:03,  6.92it/s]\u001b[A\n",
      " 45%|████▌     | 18/40 [00:02<00:03,  6.92it/s]\u001b[A\n",
      " 48%|████▊     | 19/40 [00:02<00:03,  6.91it/s]\u001b[A\n",
      " 50%|█████     | 20/40 [00:02<00:02,  6.91it/s]\u001b[A\n",
      " 52%|█████▎    | 21/40 [00:02<00:02,  6.91it/s]\u001b[A\n",
      " 55%|█████▌    | 22/40 [00:03<00:02,  6.91it/s]\u001b[A\n",
      " 57%|█████▊    | 23/40 [00:03<00:02,  6.91it/s]\u001b[A\n",
      " 60%|██████    | 24/40 [00:03<00:02,  6.91it/s]\u001b[A\n",
      " 62%|██████▎   | 25/40 [00:03<00:02,  6.91it/s]\u001b[A\n",
      " 65%|██████▌   | 26/40 [00:03<00:02,  6.91it/s]\u001b[A\n",
      " 68%|██████▊   | 27/40 [00:03<00:01,  6.90it/s]\u001b[A\n",
      " 70%|███████   | 28/40 [00:03<00:01,  6.89it/s]\u001b[A\n",
      " 72%|███████▎  | 29/40 [00:04<00:01,  6.90it/s]\u001b[A\n",
      " 75%|███████▌  | 30/40 [00:04<00:01,  6.90it/s]\u001b[A\n",
      " 78%|███████▊  | 31/40 [00:04<00:01,  6.91it/s]\u001b[A\n",
      " 80%|████████  | 32/40 [00:04<00:01,  6.91it/s]\u001b[A\n",
      " 82%|████████▎ | 33/40 [00:04<00:01,  6.91it/s]\u001b[A\n",
      " 85%|████████▌ | 34/40 [00:04<00:00,  6.91it/s]\u001b[A\n",
      " 88%|████████▊ | 35/40 [00:04<00:00,  6.91it/s]\u001b[A\n",
      " 90%|█████████ | 36/40 [00:05<00:00,  6.91it/s]\u001b[A\n",
      " 92%|█████████▎| 37/40 [00:05<00:00,  6.91it/s]\u001b[A\n",
      " 95%|█████████▌| 38/40 [00:05<00:00,  6.91it/s]\u001b[A\n",
      "                                                         \n",
      " 33%|███▎      | 26000/78140 [3:02:43<5:38:51,  2.56it/s]\n",
      "100%|██████████| 40/40 [00:05<00:00,  7.08it/s]\u001b[A\n",
      "                                               \u001b[A"
     ]
    },
    {
     "name": "stdout",
     "output_type": "stream",
     "text": [
      "{'eval_loss': 0.08093920350074768, 'eval_token_accuracy': 0.9679820340070581, 'eval_exact_match_accuracy': 0.6564, 'eval_runtime': 5.9257, 'eval_samples_per_second': 1687.563, 'eval_steps_per_second': 6.75, 'epoch': 6.65}\n"
     ]
    },
    {
     "name": "stderr",
     "output_type": "stream",
     "text": [
      " 34%|███▍      | 26500/78140 [3:06:07<5:32:33,  2.59it/s] \n",
      "  0%|          | 0/40 [00:00<?, ?it/s]\u001b[A"
     ]
    },
    {
     "name": "stdout",
     "output_type": "stream",
     "text": [
      "{'loss': 0.1017, 'grad_norm': 1.2209117412567139, 'learning_rate': 7.422074775028311e-05, 'epoch': 6.78}\n"
     ]
    },
    {
     "name": "stderr",
     "output_type": "stream",
     "text": [
      "\n",
      "  5%|▌         | 2/40 [00:00<00:02, 13.84it/s]\u001b[A\n",
      " 10%|█         | 4/40 [00:00<00:04,  8.70it/s]\u001b[A\n",
      " 12%|█▎        | 5/40 [00:00<00:04,  8.07it/s]\u001b[A\n",
      " 15%|█▌        | 6/40 [00:00<00:04,  7.68it/s]\u001b[A\n",
      " 18%|█▊        | 7/40 [00:00<00:04,  7.44it/s]\u001b[A\n",
      " 20%|██        | 8/40 [00:01<00:04,  7.27it/s]\u001b[A\n",
      " 22%|██▎       | 9/40 [00:01<00:04,  7.16it/s]\u001b[A\n",
      " 25%|██▌       | 10/40 [00:01<00:04,  7.08it/s]\u001b[A\n",
      " 28%|██▊       | 11/40 [00:01<00:04,  7.03it/s]\u001b[A\n",
      " 30%|███       | 12/40 [00:01<00:04,  6.99it/s]\u001b[A\n",
      " 32%|███▎      | 13/40 [00:01<00:03,  6.96it/s]\u001b[A\n",
      " 35%|███▌      | 14/40 [00:01<00:03,  6.95it/s]\u001b[A\n",
      " 38%|███▊      | 15/40 [00:02<00:03,  6.94it/s]\u001b[A\n",
      " 40%|████      | 16/40 [00:02<00:03,  6.93it/s]\u001b[A\n",
      " 42%|████▎     | 17/40 [00:02<00:03,  6.93it/s]\u001b[A\n",
      " 45%|████▌     | 18/40 [00:02<00:03,  6.92it/s]\u001b[A\n",
      " 48%|████▊     | 19/40 [00:02<00:03,  6.92it/s]\u001b[A\n",
      " 50%|█████     | 20/40 [00:02<00:02,  6.92it/s]\u001b[A\n",
      " 52%|█████▎    | 21/40 [00:02<00:02,  6.92it/s]\u001b[A\n",
      " 55%|█████▌    | 22/40 [00:03<00:02,  6.92it/s]\u001b[A\n",
      " 57%|█████▊    | 23/40 [00:03<00:02,  6.92it/s]\u001b[A\n",
      " 60%|██████    | 24/40 [00:03<00:02,  6.92it/s]\u001b[A\n",
      " 62%|██████▎   | 25/40 [00:03<00:02,  6.92it/s]\u001b[A\n",
      " 65%|██████▌   | 26/40 [00:03<00:02,  6.91it/s]\u001b[A\n",
      " 68%|██████▊   | 27/40 [00:03<00:01,  6.91it/s]\u001b[A\n",
      " 70%|███████   | 28/40 [00:03<00:01,  6.91it/s]\u001b[A\n",
      " 72%|███████▎  | 29/40 [00:04<00:01,  6.91it/s]\u001b[A\n",
      " 75%|███████▌  | 30/40 [00:04<00:01,  6.91it/s]\u001b[A\n",
      " 78%|███████▊  | 31/40 [00:04<00:01,  6.91it/s]\u001b[A\n",
      " 80%|████████  | 32/40 [00:04<00:01,  6.91it/s]\u001b[A\n",
      " 82%|████████▎ | 33/40 [00:04<00:01,  6.91it/s]\u001b[A\n",
      " 85%|████████▌ | 34/40 [00:04<00:00,  6.91it/s]\u001b[A\n",
      " 88%|████████▊ | 35/40 [00:04<00:00,  6.91it/s]\u001b[A\n",
      " 90%|█████████ | 36/40 [00:05<00:00,  6.91it/s]\u001b[A\n",
      " 92%|█████████▎| 37/40 [00:05<00:00,  6.91it/s]\u001b[A\n",
      " 95%|█████████▌| 38/40 [00:05<00:00,  6.91it/s]\u001b[A\n",
      "                                                         \n",
      " 34%|███▍      | 26500/78140 [3:06:13<5:32:33,  2.59it/s]\n",
      "100%|██████████| 40/40 [00:05<00:00,  7.07it/s]\u001b[A\n",
      "                                               \u001b[A"
     ]
    },
    {
     "name": "stdout",
     "output_type": "stream",
     "text": [
      "{'eval_loss': 0.07824687659740448, 'eval_token_accuracy': 0.9685870113204088, 'eval_exact_match_accuracy': 0.6606, 'eval_runtime': 5.9336, 'eval_samples_per_second': 1685.311, 'eval_steps_per_second': 6.741, 'epoch': 6.78}\n"
     ]
    },
    {
     "name": "stderr",
     "output_type": "stream",
     "text": [
      " 35%|███▍      | 27000/78140 [3:09:38<5:32:24,  2.56it/s] \n",
      "  0%|          | 0/40 [00:00<?, ?it/s]\u001b[A"
     ]
    },
    {
     "name": "stdout",
     "output_type": "stream",
     "text": [
      "{'loss': 0.1003, 'grad_norm': 0.6040526032447815, 'learning_rate': 7.333659867450171e-05, 'epoch': 6.91}\n"
     ]
    },
    {
     "name": "stderr",
     "output_type": "stream",
     "text": [
      "\n",
      "  5%|▌         | 2/40 [00:00<00:02, 13.83it/s]\u001b[A\n",
      " 10%|█         | 4/40 [00:00<00:04,  8.70it/s]\u001b[A\n",
      " 12%|█▎        | 5/40 [00:00<00:04,  8.08it/s]\u001b[A\n",
      " 15%|█▌        | 6/40 [00:00<00:04,  7.69it/s]\u001b[A\n",
      " 18%|█▊        | 7/40 [00:00<00:04,  7.44it/s]\u001b[A\n",
      " 20%|██        | 8/40 [00:01<00:04,  7.28it/s]\u001b[A\n",
      " 22%|██▎       | 9/40 [00:01<00:04,  7.16it/s]\u001b[A\n",
      " 25%|██▌       | 10/40 [00:01<00:04,  7.09it/s]\u001b[A\n",
      " 28%|██▊       | 11/40 [00:01<00:04,  7.03it/s]\u001b[A\n",
      " 30%|███       | 12/40 [00:01<00:04,  7.00it/s]\u001b[A\n",
      " 32%|███▎      | 13/40 [00:01<00:03,  6.97it/s]\u001b[A\n",
      " 35%|███▌      | 14/40 [00:01<00:03,  6.95it/s]\u001b[A\n",
      " 38%|███▊      | 15/40 [00:02<00:03,  6.94it/s]\u001b[A\n",
      " 40%|████      | 16/40 [00:02<00:03,  6.93it/s]\u001b[A\n",
      " 42%|████▎     | 17/40 [00:02<00:03,  6.92it/s]\u001b[A\n",
      " 45%|████▌     | 18/40 [00:02<00:03,  6.92it/s]\u001b[A\n",
      " 48%|████▊     | 19/40 [00:02<00:03,  6.92it/s]\u001b[A\n",
      " 50%|█████     | 20/40 [00:02<00:02,  6.91it/s]\u001b[A\n",
      " 52%|█████▎    | 21/40 [00:02<00:02,  6.92it/s]\u001b[A\n",
      " 55%|█████▌    | 22/40 [00:03<00:02,  6.92it/s]\u001b[A\n",
      " 57%|█████▊    | 23/40 [00:03<00:02,  6.91it/s]\u001b[A\n",
      " 60%|██████    | 24/40 [00:03<00:02,  6.91it/s]\u001b[A\n",
      " 62%|██████▎   | 25/40 [00:03<00:02,  6.91it/s]\u001b[A\n",
      " 65%|██████▌   | 26/40 [00:03<00:02,  6.91it/s]\u001b[A\n",
      " 68%|██████▊   | 27/40 [00:03<00:01,  6.90it/s]\u001b[A\n",
      " 70%|███████   | 28/40 [00:03<00:01,  6.90it/s]\u001b[A\n",
      " 72%|███████▎  | 29/40 [00:04<00:01,  6.90it/s]\u001b[A\n",
      " 75%|███████▌  | 30/40 [00:04<00:01,  6.90it/s]\u001b[A\n",
      " 78%|███████▊  | 31/40 [00:04<00:01,  6.91it/s]\u001b[A\n",
      " 80%|████████  | 32/40 [00:04<00:01,  6.91it/s]\u001b[A\n",
      " 82%|████████▎ | 33/40 [00:04<00:01,  6.91it/s]\u001b[A\n",
      " 85%|████████▌ | 34/40 [00:04<00:00,  6.91it/s]\u001b[A\n",
      " 88%|████████▊ | 35/40 [00:04<00:00,  6.91it/s]\u001b[A\n",
      " 90%|█████████ | 36/40 [00:05<00:00,  6.91it/s]\u001b[A\n",
      " 92%|█████████▎| 37/40 [00:05<00:00,  6.91it/s]\u001b[A\n",
      " 95%|█████████▌| 38/40 [00:05<00:00,  6.91it/s]\u001b[A\n",
      "                                                         \n",
      " 35%|███▍      | 27000/78140 [3:09:43<5:32:24,  2.56it/s]\n",
      "100%|██████████| 40/40 [00:05<00:00,  7.07it/s]\u001b[A\n",
      "                                               \u001b[A"
     ]
    },
    {
     "name": "stdout",
     "output_type": "stream",
     "text": [
      "{'eval_loss': 0.07968733459711075, 'eval_token_accuracy': 0.9684220175076768, 'eval_exact_match_accuracy': 0.6579, 'eval_runtime': 5.9286, 'eval_samples_per_second': 1686.727, 'eval_steps_per_second': 6.747, 'epoch': 6.91}\n"
     ]
    },
    {
     "name": "stderr",
     "output_type": "stream",
     "text": [
      " 35%|███▌      | 27500/78140 [3:13:08<5:29:00,  2.57it/s] \n",
      "  0%|          | 0/40 [00:00<?, ?it/s]\u001b[A"
     ]
    },
    {
     "name": "stdout",
     "output_type": "stream",
     "text": [
      "{'loss': 0.0998, 'grad_norm': 0.43362337350845337, 'learning_rate': 7.244481583813689e-05, 'epoch': 7.04}\n"
     ]
    },
    {
     "name": "stderr",
     "output_type": "stream",
     "text": [
      "\n",
      "  5%|▌         | 2/40 [00:00<00:02, 13.84it/s]\u001b[A\n",
      " 10%|█         | 4/40 [00:00<00:04,  8.70it/s]\u001b[A\n",
      " 12%|█▎        | 5/40 [00:00<00:04,  8.07it/s]\u001b[A\n",
      " 15%|█▌        | 6/40 [00:00<00:04,  7.69it/s]\u001b[A\n",
      " 18%|█▊        | 7/40 [00:00<00:04,  7.44it/s]\u001b[A\n",
      " 20%|██        | 8/40 [00:01<00:04,  7.27it/s]\u001b[A\n",
      " 22%|██▎       | 9/40 [00:01<00:04,  7.16it/s]\u001b[A\n",
      " 25%|██▌       | 10/40 [00:01<00:04,  7.08it/s]\u001b[A\n",
      " 28%|██▊       | 11/40 [00:01<00:04,  7.03it/s]\u001b[A\n",
      " 30%|███       | 12/40 [00:01<00:04,  6.99it/s]\u001b[A\n",
      " 32%|███▎      | 13/40 [00:01<00:03,  6.97it/s]\u001b[A\n",
      " 35%|███▌      | 14/40 [00:01<00:03,  6.95it/s]\u001b[A\n",
      " 38%|███▊      | 15/40 [00:02<00:03,  6.94it/s]\u001b[A\n",
      " 40%|████      | 16/40 [00:02<00:03,  6.93it/s]\u001b[A\n",
      " 42%|████▎     | 17/40 [00:02<00:03,  6.92it/s]\u001b[A\n",
      " 45%|████▌     | 18/40 [00:02<00:03,  6.92it/s]\u001b[A\n",
      " 48%|████▊     | 19/40 [00:02<00:03,  6.92it/s]\u001b[A\n",
      " 50%|█████     | 20/40 [00:02<00:02,  6.92it/s]\u001b[A\n",
      " 52%|█████▎    | 21/40 [00:02<00:02,  6.91it/s]\u001b[A\n",
      " 55%|█████▌    | 22/40 [00:03<00:02,  6.91it/s]\u001b[A\n",
      " 57%|█████▊    | 23/40 [00:03<00:02,  6.91it/s]\u001b[A\n",
      " 60%|██████    | 24/40 [00:03<00:02,  6.91it/s]\u001b[A\n",
      " 62%|██████▎   | 25/40 [00:03<00:02,  6.91it/s]\u001b[A\n",
      " 65%|██████▌   | 26/40 [00:03<00:02,  6.91it/s]\u001b[A\n",
      " 68%|██████▊   | 27/40 [00:03<00:01,  6.91it/s]\u001b[A\n",
      " 70%|███████   | 28/40 [00:03<00:01,  6.91it/s]\u001b[A\n",
      " 72%|███████▎  | 29/40 [00:04<00:01,  6.91it/s]\u001b[A\n",
      " 75%|███████▌  | 30/40 [00:04<00:01,  6.91it/s]\u001b[A\n",
      " 78%|███████▊  | 31/40 [00:04<00:01,  6.91it/s]\u001b[A\n",
      " 80%|████████  | 32/40 [00:04<00:01,  6.91it/s]\u001b[A\n",
      " 82%|████████▎ | 33/40 [00:04<00:01,  6.91it/s]\u001b[A\n",
      " 85%|████████▌ | 34/40 [00:04<00:00,  6.91it/s]\u001b[A\n",
      " 88%|████████▊ | 35/40 [00:04<00:00,  6.91it/s]\u001b[A\n",
      " 90%|█████████ | 36/40 [00:05<00:00,  6.91it/s]\u001b[A\n",
      " 92%|█████████▎| 37/40 [00:05<00:00,  6.91it/s]\u001b[A\n",
      " 95%|█████████▌| 38/40 [00:05<00:00,  6.91it/s]\u001b[A\n",
      "                                                         \n",
      " 35%|███▌      | 27500/78140 [3:13:13<5:29:00,  2.57it/s]\n",
      "100%|██████████| 40/40 [00:05<00:00,  7.07it/s]\u001b[A\n",
      "                                               \u001b[A"
     ]
    },
    {
     "name": "stdout",
     "output_type": "stream",
     "text": [
      "{'eval_loss': 0.07693040370941162, 'eval_token_accuracy': 0.9689628305605207, 'eval_exact_match_accuracy': 0.6625, 'eval_runtime': 5.9321, 'eval_samples_per_second': 1685.742, 'eval_steps_per_second': 6.743, 'epoch': 7.04}\n"
     ]
    },
    {
     "name": "stderr",
     "output_type": "stream",
     "text": [
      " 36%|███▌      | 28000/78140 [3:16:38<5:25:46,  2.57it/s] \n",
      "  0%|          | 0/40 [00:00<?, ?it/s]\u001b[A"
     ]
    },
    {
     "name": "stdout",
     "output_type": "stream",
     "text": [
      "{'loss': 0.0983, 'grad_norm': 0.6818662285804749, 'learning_rate': 7.15421854425923e-05, 'epoch': 7.17}\n"
     ]
    },
    {
     "name": "stderr",
     "output_type": "stream",
     "text": [
      "\n",
      "  5%|▌         | 2/40 [00:00<00:02, 13.84it/s]\u001b[A\n",
      " 10%|█         | 4/40 [00:00<00:04,  8.70it/s]\u001b[A\n",
      " 12%|█▎        | 5/40 [00:00<00:04,  8.08it/s]\u001b[A\n",
      " 15%|█▌        | 6/40 [00:00<00:04,  7.69it/s]\u001b[A\n",
      " 18%|█▊        | 7/40 [00:00<00:04,  7.44it/s]\u001b[A\n",
      " 20%|██        | 8/40 [00:01<00:04,  7.28it/s]\u001b[A\n",
      " 22%|██▎       | 9/40 [00:01<00:04,  7.16it/s]\u001b[A\n",
      " 25%|██▌       | 10/40 [00:01<00:04,  7.09it/s]\u001b[A\n",
      " 28%|██▊       | 11/40 [00:01<00:04,  7.03it/s]\u001b[A\n",
      " 30%|███       | 12/40 [00:01<00:04,  7.00it/s]\u001b[A\n",
      " 32%|███▎      | 13/40 [00:01<00:03,  6.97it/s]\u001b[A\n",
      " 35%|███▌      | 14/40 [00:01<00:03,  6.95it/s]\u001b[A\n",
      " 38%|███▊      | 15/40 [00:02<00:03,  6.94it/s]\u001b[A\n",
      " 40%|████      | 16/40 [00:02<00:03,  6.93it/s]\u001b[A\n",
      " 42%|████▎     | 17/40 [00:02<00:03,  6.93it/s]\u001b[A\n",
      " 45%|████▌     | 18/40 [00:02<00:03,  6.92it/s]\u001b[A\n",
      " 48%|████▊     | 19/40 [00:02<00:03,  6.92it/s]\u001b[A\n",
      " 50%|█████     | 20/40 [00:02<00:02,  6.92it/s]\u001b[A\n",
      " 52%|█████▎    | 21/40 [00:02<00:02,  6.92it/s]\u001b[A\n",
      " 55%|█████▌    | 22/40 [00:03<00:02,  6.91it/s]\u001b[A\n",
      " 57%|█████▊    | 23/40 [00:03<00:02,  6.91it/s]\u001b[A\n",
      " 60%|██████    | 24/40 [00:03<00:02,  6.91it/s]\u001b[A\n",
      " 62%|██████▎   | 25/40 [00:03<00:02,  6.91it/s]\u001b[A\n",
      " 65%|██████▌   | 26/40 [00:03<00:02,  6.91it/s]\u001b[A\n",
      " 68%|██████▊   | 27/40 [00:03<00:01,  6.91it/s]\u001b[A\n",
      " 70%|███████   | 28/40 [00:03<00:01,  6.91it/s]\u001b[A\n",
      " 72%|███████▎  | 29/40 [00:04<00:01,  6.91it/s]\u001b[A\n",
      " 75%|███████▌  | 30/40 [00:04<00:01,  6.91it/s]\u001b[A\n",
      " 78%|███████▊  | 31/40 [00:04<00:01,  6.89it/s]\u001b[A\n",
      " 80%|████████  | 32/40 [00:04<00:01,  6.88it/s]\u001b[A\n",
      " 82%|████████▎ | 33/40 [00:04<00:01,  6.89it/s]\u001b[A\n",
      " 85%|████████▌ | 34/40 [00:04<00:00,  6.90it/s]\u001b[A\n",
      " 88%|████████▊ | 35/40 [00:04<00:00,  6.90it/s]\u001b[A\n",
      " 90%|█████████ | 36/40 [00:05<00:00,  6.90it/s]\u001b[A\n",
      " 92%|█████████▎| 37/40 [00:05<00:00,  6.91it/s]\u001b[A\n",
      " 95%|█████████▌| 38/40 [00:05<00:00,  6.91it/s]\u001b[A\n",
      "                                                         \n",
      " 36%|███▌      | 28000/78140 [3:16:44<5:25:46,  2.57it/s]\n",
      "100%|██████████| 40/40 [00:05<00:00,  7.07it/s]\u001b[A\n",
      "                                               \u001b[A"
     ]
    },
    {
     "name": "stdout",
     "output_type": "stream",
     "text": [
      "{'eval_loss': 0.0767056792974472, 'eval_token_accuracy': 0.9690269948210275, 'eval_exact_match_accuracy': 0.6627, 'eval_runtime': 5.9535, 'eval_samples_per_second': 1679.685, 'eval_steps_per_second': 6.719, 'epoch': 7.17}\n"
     ]
    },
    {
     "name": "stderr",
     "output_type": "stream",
     "text": [
      " 36%|███▋      | 28500/78140 [3:20:09<5:22:32,  2.57it/s] \n",
      "  0%|          | 0/40 [00:00<?, ?it/s]\u001b[A"
     ]
    },
    {
     "name": "stdout",
     "output_type": "stream",
     "text": [
      "{'loss': 0.0969, 'grad_norm': 0.6246559619903564, 'learning_rate': 7.063085006108045e-05, 'epoch': 7.29}\n"
     ]
    },
    {
     "name": "stderr",
     "output_type": "stream",
     "text": [
      "\n",
      "  5%|▌         | 2/40 [00:00<00:02, 13.83it/s]\u001b[A\n",
      " 10%|█         | 4/40 [00:00<00:04,  8.70it/s]\u001b[A\n",
      " 12%|█▎        | 5/40 [00:00<00:04,  8.08it/s]\u001b[A\n",
      " 15%|█▌        | 6/40 [00:00<00:04,  7.69it/s]\u001b[A\n",
      " 18%|█▊        | 7/40 [00:00<00:04,  7.44it/s]\u001b[A\n",
      " 20%|██        | 8/40 [00:01<00:04,  7.28it/s]\u001b[A\n",
      " 22%|██▎       | 9/40 [00:01<00:04,  7.17it/s]\u001b[A\n",
      " 25%|██▌       | 10/40 [00:01<00:04,  7.09it/s]\u001b[A\n",
      " 28%|██▊       | 11/40 [00:01<00:04,  7.03it/s]\u001b[A\n",
      " 30%|███       | 12/40 [00:01<00:04,  6.99it/s]\u001b[A\n",
      " 32%|███▎      | 13/40 [00:01<00:03,  6.97it/s]\u001b[A\n",
      " 35%|███▌      | 14/40 [00:01<00:03,  6.95it/s]\u001b[A\n",
      " 38%|███▊      | 15/40 [00:02<00:03,  6.94it/s]\u001b[A\n",
      " 40%|████      | 16/40 [00:02<00:03,  6.93it/s]\u001b[A\n",
      " 42%|████▎     | 17/40 [00:02<00:03,  6.93it/s]\u001b[A\n",
      " 45%|████▌     | 18/40 [00:02<00:03,  6.92it/s]\u001b[A\n",
      " 48%|████▊     | 19/40 [00:02<00:03,  6.92it/s]\u001b[A\n",
      " 50%|█████     | 20/40 [00:02<00:02,  6.92it/s]\u001b[A\n",
      " 52%|█████▎    | 21/40 [00:02<00:02,  6.92it/s]\u001b[A\n",
      " 55%|█████▌    | 22/40 [00:03<00:02,  6.91it/s]\u001b[A\n",
      " 57%|█████▊    | 23/40 [00:03<00:02,  6.91it/s]\u001b[A\n",
      " 60%|██████    | 24/40 [00:03<00:02,  6.92it/s]\u001b[A\n",
      " 62%|██████▎   | 25/40 [00:03<00:02,  6.91it/s]\u001b[A\n",
      " 65%|██████▌   | 26/40 [00:03<00:02,  6.91it/s]\u001b[A\n",
      " 68%|██████▊   | 27/40 [00:03<00:01,  6.91it/s]\u001b[A\n",
      " 70%|███████   | 28/40 [00:03<00:01,  6.91it/s]\u001b[A\n",
      " 72%|███████▎  | 29/40 [00:04<00:01,  6.91it/s]\u001b[A\n",
      " 75%|███████▌  | 30/40 [00:04<00:01,  6.91it/s]\u001b[A\n",
      " 78%|███████▊  | 31/40 [00:04<00:01,  6.91it/s]\u001b[A\n",
      " 80%|████████  | 32/40 [00:04<00:01,  6.91it/s]\u001b[A\n",
      " 82%|████████▎ | 33/40 [00:04<00:01,  6.91it/s]\u001b[A\n",
      " 85%|████████▌ | 34/40 [00:04<00:00,  6.91it/s]\u001b[A\n",
      " 88%|████████▊ | 35/40 [00:04<00:00,  6.91it/s]\u001b[A\n",
      " 90%|█████████ | 36/40 [00:05<00:00,  6.91it/s]\u001b[A\n",
      " 92%|█████████▎| 37/40 [00:05<00:00,  6.91it/s]\u001b[A\n",
      " 95%|█████████▌| 38/40 [00:05<00:00,  6.91it/s]\u001b[A\n",
      "                                                         \n",
      " 36%|███▋      | 28500/78140 [3:20:15<5:22:32,  2.57it/s]\n",
      "100%|██████████| 40/40 [00:05<00:00,  7.06it/s]\u001b[A\n",
      "                                               \u001b[A"
     ]
    },
    {
     "name": "stdout",
     "output_type": "stream",
     "text": [
      "{'eval_loss': 0.07938239723443985, 'eval_token_accuracy': 0.9685870113204088, 'eval_exact_match_accuracy': 0.6604, 'eval_runtime': 5.9227, 'eval_samples_per_second': 1688.424, 'eval_steps_per_second': 6.754, 'epoch': 7.29}\n"
     ]
    },
    {
     "name": "stderr",
     "output_type": "stream",
     "text": [
      " 37%|███▋      | 29000/78140 [3:23:39<5:19:21,  2.56it/s] \n",
      "  0%|          | 0/40 [00:00<?, ?it/s]\u001b[A"
     ]
    },
    {
     "name": "stdout",
     "output_type": "stream",
     "text": [
      "{'loss': 0.0969, 'grad_norm': 0.5632830262184143, 'learning_rate': 6.97111779552955e-05, 'epoch': 7.42}\n"
     ]
    },
    {
     "name": "stderr",
     "output_type": "stream",
     "text": [
      "\n",
      "  5%|▌         | 2/40 [00:00<00:02, 13.83it/s]\u001b[A\n",
      " 10%|█         | 4/40 [00:00<00:04,  8.70it/s]\u001b[A\n",
      " 12%|█▎        | 5/40 [00:00<00:04,  8.08it/s]\u001b[A\n",
      " 15%|█▌        | 6/40 [00:00<00:04,  7.69it/s]\u001b[A\n",
      " 18%|█▊        | 7/40 [00:00<00:04,  7.44it/s]\u001b[A\n",
      " 20%|██        | 8/40 [00:01<00:04,  7.27it/s]\u001b[A\n",
      " 22%|██▎       | 9/40 [00:01<00:04,  7.16it/s]\u001b[A\n",
      " 25%|██▌       | 10/40 [00:01<00:04,  7.08it/s]\u001b[A\n",
      " 28%|██▊       | 11/40 [00:01<00:04,  7.03it/s]\u001b[A\n",
      " 30%|███       | 12/40 [00:01<00:04,  6.99it/s]\u001b[A\n",
      " 32%|███▎      | 13/40 [00:01<00:03,  6.97it/s]\u001b[A\n",
      " 35%|███▌      | 14/40 [00:01<00:03,  6.95it/s]\u001b[A\n",
      " 38%|███▊      | 15/40 [00:02<00:03,  6.93it/s]\u001b[A\n",
      " 40%|████      | 16/40 [00:02<00:03,  6.93it/s]\u001b[A\n",
      " 42%|████▎     | 17/40 [00:02<00:03,  6.92it/s]\u001b[A\n",
      " 45%|████▌     | 18/40 [00:02<00:03,  6.92it/s]\u001b[A\n",
      " 48%|████▊     | 19/40 [00:02<00:03,  6.92it/s]\u001b[A\n",
      " 50%|█████     | 20/40 [00:02<00:02,  6.90it/s]\u001b[A\n",
      " 52%|█████▎    | 21/40 [00:02<00:02,  6.90it/s]\u001b[A\n",
      " 55%|█████▌    | 22/40 [00:03<00:02,  6.90it/s]\u001b[A\n",
      " 57%|█████▊    | 23/40 [00:03<00:02,  6.90it/s]\u001b[A\n",
      " 60%|██████    | 24/40 [00:03<00:02,  6.91it/s]\u001b[A\n",
      " 62%|██████▎   | 25/40 [00:03<00:02,  6.90it/s]\u001b[A\n",
      " 65%|██████▌   | 26/40 [00:03<00:02,  6.91it/s]\u001b[A\n",
      " 68%|██████▊   | 27/40 [00:03<00:01,  6.91it/s]\u001b[A\n",
      " 70%|███████   | 28/40 [00:03<00:01,  6.91it/s]\u001b[A\n",
      " 72%|███████▎  | 29/40 [00:04<00:01,  6.91it/s]\u001b[A\n",
      " 75%|███████▌  | 30/40 [00:04<00:01,  6.91it/s]\u001b[A\n",
      " 78%|███████▊  | 31/40 [00:04<00:01,  6.91it/s]\u001b[A\n",
      " 80%|████████  | 32/40 [00:04<00:01,  6.91it/s]\u001b[A\n",
      " 82%|████████▎ | 33/40 [00:04<00:01,  6.91it/s]\u001b[A\n",
      " 85%|████████▌ | 34/40 [00:04<00:00,  6.91it/s]\u001b[A\n",
      " 88%|████████▊ | 35/40 [00:04<00:00,  6.91it/s]\u001b[A\n",
      " 90%|█████████ | 36/40 [00:05<00:00,  6.91it/s]\u001b[A\n",
      " 92%|█████████▎| 37/40 [00:05<00:00,  6.91it/s]\u001b[A\n",
      " 95%|█████████▌| 38/40 [00:05<00:00,  6.91it/s]\u001b[A\n",
      "                                                         \n",
      " 37%|███▋      | 29000/78140 [3:23:45<5:19:21,  2.56it/s]\n",
      "100%|██████████| 40/40 [00:05<00:00,  7.07it/s]\u001b[A\n",
      "                                               \u001b[A"
     ]
    },
    {
     "name": "stdout",
     "output_type": "stream",
     "text": [
      "{'eval_loss': 0.0776793509721756, 'eval_token_accuracy': 0.9688986663000138, 'eval_exact_match_accuracy': 0.6621, 'eval_runtime': 5.9284, 'eval_samples_per_second': 1686.795, 'eval_steps_per_second': 6.747, 'epoch': 7.42}\n"
     ]
    },
    {
     "name": "stderr",
     "output_type": "stream",
     "text": [
      " 38%|███▊      | 29500/78140 [3:27:09<5:15:56,  2.57it/s] \n",
      "  0%|          | 0/40 [00:00<?, ?it/s]\u001b[A"
     ]
    },
    {
     "name": "stdout",
     "output_type": "stream",
     "text": [
      "{'loss': 0.0959, 'grad_norm': 0.49277418851852417, 'learning_rate': 6.878540373065359e-05, 'epoch': 7.55}\n"
     ]
    },
    {
     "name": "stderr",
     "output_type": "stream",
     "text": [
      "\n",
      "  5%|▌         | 2/40 [00:00<00:02, 13.84it/s]\u001b[A\n",
      " 10%|█         | 4/40 [00:00<00:04,  8.71it/s]\u001b[A\n",
      " 12%|█▎        | 5/40 [00:00<00:04,  8.08it/s]\u001b[A\n",
      " 15%|█▌        | 6/40 [00:00<00:04,  7.70it/s]\u001b[A\n",
      " 18%|█▊        | 7/40 [00:00<00:04,  7.44it/s]\u001b[A\n",
      " 20%|██        | 8/40 [00:01<00:04,  7.27it/s]\u001b[A\n",
      " 22%|██▎       | 9/40 [00:01<00:04,  7.16it/s]\u001b[A\n",
      " 25%|██▌       | 10/40 [00:01<00:04,  7.09it/s]\u001b[A\n",
      " 28%|██▊       | 11/40 [00:01<00:04,  7.03it/s]\u001b[A\n",
      " 30%|███       | 12/40 [00:01<00:04,  7.00it/s]\u001b[A\n",
      " 32%|███▎      | 13/40 [00:01<00:03,  6.97it/s]\u001b[A\n",
      " 35%|███▌      | 14/40 [00:01<00:03,  6.96it/s]\u001b[A\n",
      " 38%|███▊      | 15/40 [00:02<00:03,  6.94it/s]\u001b[A\n",
      " 40%|████      | 16/40 [00:02<00:03,  6.93it/s]\u001b[A\n",
      " 42%|████▎     | 17/40 [00:02<00:03,  6.93it/s]\u001b[A\n",
      " 45%|████▌     | 18/40 [00:02<00:03,  6.93it/s]\u001b[A\n",
      " 48%|████▊     | 19/40 [00:02<00:03,  6.92it/s]\u001b[A\n",
      " 50%|█████     | 20/40 [00:02<00:02,  6.92it/s]\u001b[A\n",
      " 52%|█████▎    | 21/40 [00:02<00:02,  6.92it/s]\u001b[A\n",
      " 55%|█████▌    | 22/40 [00:03<00:02,  6.92it/s]\u001b[A\n",
      " 57%|█████▊    | 23/40 [00:03<00:02,  6.91it/s]\u001b[A\n",
      " 60%|██████    | 24/40 [00:03<00:02,  6.91it/s]\u001b[A\n",
      " 62%|██████▎   | 25/40 [00:03<00:02,  6.91it/s]\u001b[A\n",
      " 65%|██████▌   | 26/40 [00:03<00:02,  6.91it/s]\u001b[A\n",
      " 68%|██████▊   | 27/40 [00:03<00:01,  6.91it/s]\u001b[A\n",
      " 70%|███████   | 28/40 [00:03<00:01,  6.91it/s]\u001b[A\n",
      " 72%|███████▎  | 29/40 [00:04<00:01,  6.91it/s]\u001b[A\n",
      " 75%|███████▌  | 30/40 [00:04<00:01,  6.92it/s]\u001b[A\n",
      " 78%|███████▊  | 31/40 [00:04<00:01,  6.92it/s]\u001b[A\n",
      " 80%|████████  | 32/40 [00:04<00:01,  6.92it/s]\u001b[A\n",
      " 82%|████████▎ | 33/40 [00:04<00:01,  6.91it/s]\u001b[A\n",
      " 85%|████████▌ | 34/40 [00:04<00:00,  6.91it/s]\u001b[A\n",
      " 88%|████████▊ | 35/40 [00:04<00:00,  6.91it/s]\u001b[A\n",
      " 90%|█████████ | 36/40 [00:05<00:00,  6.91it/s]\u001b[A\n",
      " 92%|█████████▎| 37/40 [00:05<00:00,  6.92it/s]\u001b[A\n",
      " 95%|█████████▌| 38/40 [00:05<00:00,  6.91it/s]\u001b[A\n",
      "                                                         \n",
      " 38%|███▊      | 29500/78140 [3:27:15<5:15:56,  2.57it/s]\n",
      "100%|██████████| 40/40 [00:05<00:00,  7.07it/s]\u001b[A\n",
      "                                               \u001b[A"
     ]
    },
    {
     "name": "stdout",
     "output_type": "stream",
     "text": [
      "{'eval_loss': 0.07648839056491852, 'eval_token_accuracy': 0.9690636601127458, 'eval_exact_match_accuracy': 0.6635, 'eval_runtime': 5.9294, 'eval_samples_per_second': 1686.51, 'eval_steps_per_second': 6.746, 'epoch': 7.55}\n"
     ]
    },
    {
     "name": "stderr",
     "output_type": "stream",
     "text": [
      " 38%|███▊      | 30000/78140 [3:30:39<5:12:23,  2.57it/s] \n",
      "  0%|          | 0/40 [00:00<?, ?it/s]\u001b[A"
     ]
    },
    {
     "name": "stdout",
     "output_type": "stream",
     "text": [
      "{'loss': 0.0953, 'grad_norm': 0.471037358045578, 'learning_rate': 6.785394656266876e-05, 'epoch': 7.68}\n"
     ]
    },
    {
     "name": "stderr",
     "output_type": "stream",
     "text": [
      "\n",
      "  5%|▌         | 2/40 [00:00<00:02, 13.93it/s]\u001b[A\n",
      " 10%|█         | 4/40 [00:00<00:04,  8.71it/s]\u001b[A\n",
      " 12%|█▎        | 5/40 [00:00<00:04,  8.09it/s]\u001b[A\n",
      " 15%|█▌        | 6/40 [00:00<00:04,  7.69it/s]\u001b[A\n",
      " 18%|█▊        | 7/40 [00:00<00:04,  7.44it/s]\u001b[A\n",
      " 20%|██        | 8/40 [00:01<00:04,  7.28it/s]\u001b[A\n",
      " 22%|██▎       | 9/40 [00:01<00:04,  7.16it/s]\u001b[A\n",
      " 25%|██▌       | 10/40 [00:01<00:04,  7.09it/s]\u001b[A\n",
      " 28%|██▊       | 11/40 [00:01<00:04,  7.04it/s]\u001b[A\n",
      " 30%|███       | 12/40 [00:01<00:04,  7.00it/s]\u001b[A\n",
      " 32%|███▎      | 13/40 [00:01<00:03,  6.97it/s]\u001b[A\n",
      " 35%|███▌      | 14/40 [00:01<00:03,  6.96it/s]\u001b[A\n",
      " 38%|███▊      | 15/40 [00:02<00:03,  6.94it/s]\u001b[A\n",
      " 40%|████      | 16/40 [00:02<00:03,  6.93it/s]\u001b[A\n",
      " 42%|████▎     | 17/40 [00:02<00:03,  6.93it/s]\u001b[A\n",
      " 45%|████▌     | 18/40 [00:02<00:03,  6.90it/s]\u001b[A\n",
      " 48%|████▊     | 19/40 [00:02<00:03,  6.90it/s]\u001b[A\n",
      " 50%|█████     | 20/40 [00:02<00:02,  6.90it/s]\u001b[A\n",
      " 52%|█████▎    | 21/40 [00:02<00:02,  6.91it/s]\u001b[A\n",
      " 55%|█████▌    | 22/40 [00:03<00:02,  6.91it/s]\u001b[A\n",
      " 57%|█████▊    | 23/40 [00:03<00:02,  6.91it/s]\u001b[A\n",
      " 60%|██████    | 24/40 [00:03<00:02,  6.91it/s]\u001b[A\n",
      " 62%|██████▎   | 25/40 [00:03<00:02,  6.91it/s]\u001b[A\n",
      " 65%|██████▌   | 26/40 [00:03<00:02,  6.91it/s]\u001b[A\n",
      " 68%|██████▊   | 27/40 [00:03<00:01,  6.91it/s]\u001b[A\n",
      " 70%|███████   | 28/40 [00:03<00:01,  6.91it/s]\u001b[A\n",
      " 72%|███████▎  | 29/40 [00:04<00:01,  6.91it/s]\u001b[A\n",
      " 75%|███████▌  | 30/40 [00:04<00:01,  6.91it/s]\u001b[A\n",
      " 78%|███████▊  | 31/40 [00:04<00:01,  6.91it/s]\u001b[A\n",
      " 80%|████████  | 32/40 [00:04<00:01,  6.91it/s]\u001b[A\n",
      " 82%|████████▎ | 33/40 [00:04<00:01,  6.91it/s]\u001b[A\n",
      " 85%|████████▌ | 34/40 [00:04<00:00,  6.91it/s]\u001b[A\n",
      " 88%|████████▊ | 35/40 [00:04<00:00,  6.91it/s]\u001b[A\n",
      " 90%|█████████ | 36/40 [00:05<00:00,  6.91it/s]\u001b[A\n",
      " 92%|█████████▎| 37/40 [00:05<00:00,  6.91it/s]\u001b[A\n",
      " 95%|█████████▌| 38/40 [00:05<00:00,  6.91it/s]\u001b[A\n",
      "                                                         \n",
      " 38%|███▊      | 30000/78140 [3:30:45<5:12:23,  2.57it/s]\n",
      "100%|██████████| 40/40 [00:05<00:00,  7.07it/s]\u001b[A\n",
      "                                               \u001b[A"
     ]
    },
    {
     "name": "stdout",
     "output_type": "stream",
     "text": [
      "{'eval_loss': 0.07970158010721207, 'eval_token_accuracy': 0.9685870113204088, 'eval_exact_match_accuracy': 0.6607, 'eval_runtime': 5.9302, 'eval_samples_per_second': 1686.271, 'eval_steps_per_second': 6.745, 'epoch': 7.68}\n"
     ]
    },
    {
     "name": "stderr",
     "output_type": "stream",
     "text": [
      " 39%|███▉      | 30500/78140 [3:34:09<5:09:54,  2.56it/s] \n",
      "  0%|          | 0/40 [00:00<?, ?it/s]\u001b[A"
     ]
    },
    {
     "name": "stdout",
     "output_type": "stream",
     "text": [
      "{'loss': 0.0945, 'grad_norm': 0.4556299149990082, 'learning_rate': 6.69115489311249e-05, 'epoch': 7.81}\n"
     ]
    },
    {
     "name": "stderr",
     "output_type": "stream",
     "text": [
      "\n",
      "  5%|▌         | 2/40 [00:00<00:02, 13.77it/s]\u001b[A\n",
      " 10%|█         | 4/40 [00:00<00:04,  8.69it/s]\u001b[A\n",
      " 12%|█▎        | 5/40 [00:00<00:04,  8.07it/s]\u001b[A\n",
      " 15%|█▌        | 6/40 [00:00<00:04,  7.68it/s]\u001b[A\n",
      " 18%|█▊        | 7/40 [00:00<00:04,  7.44it/s]\u001b[A\n",
      " 20%|██        | 8/40 [00:01<00:04,  7.27it/s]\u001b[A\n",
      " 22%|██▎       | 9/40 [00:01<00:04,  7.16it/s]\u001b[A\n",
      " 25%|██▌       | 10/40 [00:01<00:04,  7.08it/s]\u001b[A\n",
      " 28%|██▊       | 11/40 [00:01<00:04,  7.03it/s]\u001b[A\n",
      " 30%|███       | 12/40 [00:01<00:04,  6.99it/s]\u001b[A\n",
      " 32%|███▎      | 13/40 [00:01<00:03,  6.97it/s]\u001b[A\n",
      " 35%|███▌      | 14/40 [00:01<00:03,  6.95it/s]\u001b[A\n",
      " 38%|███▊      | 15/40 [00:02<00:03,  6.94it/s]\u001b[A\n",
      " 40%|████      | 16/40 [00:02<00:03,  6.93it/s]\u001b[A\n",
      " 42%|████▎     | 17/40 [00:02<00:03,  6.93it/s]\u001b[A\n",
      " 45%|████▌     | 18/40 [00:02<00:03,  6.92it/s]\u001b[A\n",
      " 48%|████▊     | 19/40 [00:02<00:03,  6.92it/s]\u001b[A\n",
      " 50%|█████     | 20/40 [00:02<00:02,  6.92it/s]\u001b[A\n",
      " 52%|█████▎    | 21/40 [00:02<00:02,  6.92it/s]\u001b[A\n",
      " 55%|█████▌    | 22/40 [00:03<00:02,  6.91it/s]\u001b[A\n",
      " 57%|█████▊    | 23/40 [00:03<00:02,  6.91it/s]\u001b[A\n",
      " 60%|██████    | 24/40 [00:03<00:02,  6.91it/s]\u001b[A\n",
      " 62%|██████▎   | 25/40 [00:03<00:02,  6.91it/s]\u001b[A\n",
      " 65%|██████▌   | 26/40 [00:03<00:02,  6.90it/s]\u001b[A\n",
      " 68%|██████▊   | 27/40 [00:03<00:01,  6.90it/s]\u001b[A\n",
      " 70%|███████   | 28/40 [00:03<00:01,  6.91it/s]\u001b[A\n",
      " 72%|███████▎  | 29/40 [00:04<00:01,  6.91it/s]\u001b[A\n",
      " 75%|███████▌  | 30/40 [00:04<00:01,  6.91it/s]\u001b[A\n",
      " 78%|███████▊  | 31/40 [00:04<00:01,  6.91it/s]\u001b[A\n",
      " 80%|████████  | 32/40 [00:04<00:01,  6.91it/s]\u001b[A\n",
      " 82%|████████▎ | 33/40 [00:04<00:01,  6.91it/s]\u001b[A\n",
      " 85%|████████▌ | 34/40 [00:04<00:00,  6.91it/s]\u001b[A\n",
      " 88%|████████▊ | 35/40 [00:04<00:00,  6.91it/s]\u001b[A\n",
      " 90%|█████████ | 36/40 [00:05<00:00,  6.91it/s]\u001b[A\n",
      " 92%|█████████▎| 37/40 [00:05<00:00,  6.91it/s]\u001b[A\n",
      " 95%|█████████▌| 38/40 [00:05<00:00,  6.91it/s]\u001b[A\n",
      "                                                         \n",
      " 39%|███▉      | 30500/78140 [3:34:15<5:09:54,  2.56it/s]\n",
      "100%|██████████| 40/40 [00:05<00:00,  7.07it/s]\u001b[A\n",
      "                                               \u001b[A"
     ]
    },
    {
     "name": "stdout",
     "output_type": "stream",
     "text": [
      "{'eval_loss': 0.07800742238759995, 'eval_token_accuracy': 0.9688070030707182, 'eval_exact_match_accuracy': 0.662, 'eval_runtime': 5.9295, 'eval_samples_per_second': 1686.496, 'eval_steps_per_second': 6.746, 'epoch': 7.81}\n"
     ]
    },
    {
     "name": "stderr",
     "output_type": "stream",
     "text": [
      " 40%|███▉      | 31000/78140 [3:37:40<5:06:20,  2.56it/s] \n",
      "  0%|          | 0/40 [00:00<?, ?it/s]\u001b[A"
     ]
    },
    {
     "name": "stdout",
     "output_type": "stream",
     "text": [
      "{'loss': 0.0938, 'grad_norm': 0.6454787850379944, 'learning_rate': 6.596231750843562e-05, 'epoch': 7.93}\n"
     ]
    },
    {
     "name": "stderr",
     "output_type": "stream",
     "text": [
      "\n",
      "  5%|▌         | 2/40 [00:00<00:02, 13.90it/s]\u001b[A\n",
      " 10%|█         | 4/40 [00:00<00:04,  8.70it/s]\u001b[A\n",
      " 12%|█▎        | 5/40 [00:00<00:04,  8.08it/s]\u001b[A\n",
      " 15%|█▌        | 6/40 [00:00<00:04,  7.69it/s]\u001b[A\n",
      " 18%|█▊        | 7/40 [00:00<00:04,  7.44it/s]\u001b[A\n",
      " 20%|██        | 8/40 [00:01<00:04,  7.28it/s]\u001b[A\n",
      " 22%|██▎       | 9/40 [00:01<00:04,  7.16it/s]\u001b[A\n",
      " 25%|██▌       | 10/40 [00:01<00:04,  7.09it/s]\u001b[A\n",
      " 28%|██▊       | 11/40 [00:01<00:04,  7.03it/s]\u001b[A\n",
      " 30%|███       | 12/40 [00:01<00:04,  7.00it/s]\u001b[A\n",
      " 32%|███▎      | 13/40 [00:01<00:03,  6.97it/s]\u001b[A\n",
      " 35%|███▌      | 14/40 [00:01<00:03,  6.94it/s]\u001b[A\n",
      " 38%|███▊      | 15/40 [00:02<00:03,  6.92it/s]\u001b[A\n",
      " 40%|████      | 16/40 [00:02<00:03,  6.92it/s]\u001b[A\n",
      " 42%|████▎     | 17/40 [00:02<00:03,  6.91it/s]\u001b[A\n",
      " 45%|████▌     | 18/40 [00:02<00:03,  6.91it/s]\u001b[A\n",
      " 48%|████▊     | 19/40 [00:02<00:03,  6.91it/s]\u001b[A\n",
      " 50%|█████     | 20/40 [00:02<00:02,  6.91it/s]\u001b[A\n",
      " 52%|█████▎    | 21/40 [00:02<00:02,  6.91it/s]\u001b[A\n",
      " 55%|█████▌    | 22/40 [00:03<00:02,  6.91it/s]\u001b[A\n",
      " 57%|█████▊    | 23/40 [00:03<00:02,  6.91it/s]\u001b[A\n",
      " 60%|██████    | 24/40 [00:03<00:02,  6.91it/s]\u001b[A\n",
      " 62%|██████▎   | 25/40 [00:03<00:02,  6.91it/s]\u001b[A\n",
      " 65%|██████▌   | 26/40 [00:03<00:02,  6.92it/s]\u001b[A\n",
      " 68%|██████▊   | 27/40 [00:03<00:01,  6.91it/s]\u001b[A\n",
      " 70%|███████   | 28/40 [00:03<00:01,  6.91it/s]\u001b[A\n",
      " 72%|███████▎  | 29/40 [00:04<00:01,  6.91it/s]\u001b[A\n",
      " 75%|███████▌  | 30/40 [00:04<00:01,  6.91it/s]\u001b[A\n",
      " 78%|███████▊  | 31/40 [00:04<00:01,  6.92it/s]\u001b[A\n",
      " 80%|████████  | 32/40 [00:04<00:01,  6.92it/s]\u001b[A\n",
      " 82%|████████▎ | 33/40 [00:04<00:01,  6.91it/s]\u001b[A\n",
      " 85%|████████▌ | 34/40 [00:04<00:00,  6.91it/s]\u001b[A\n",
      " 88%|████████▊ | 35/40 [00:04<00:00,  6.91it/s]\u001b[A\n",
      " 90%|█████████ | 36/40 [00:05<00:00,  6.91it/s]\u001b[A\n",
      " 92%|█████████▎| 37/40 [00:05<00:00,  6.91it/s]\u001b[A\n",
      " 95%|█████████▌| 38/40 [00:05<00:00,  6.91it/s]\u001b[A\n",
      "                                                         \n",
      " 40%|███▉      | 31000/78140 [3:37:45<5:06:20,  2.56it/s]\n",
      "100%|██████████| 40/40 [00:05<00:00,  7.08it/s]\u001b[A\n",
      "                                               \u001b[A"
     ]
    },
    {
     "name": "stdout",
     "output_type": "stream",
     "text": [
      "{'eval_loss': 0.07901691645383835, 'eval_token_accuracy': 0.9685870113204088, 'eval_exact_match_accuracy': 0.6595, 'eval_runtime': 5.9265, 'eval_samples_per_second': 1687.35, 'eval_steps_per_second': 6.749, 'epoch': 7.93}\n"
     ]
    },
    {
     "name": "stderr",
     "output_type": "stream",
     "text": [
      " 40%|████      | 31500/78140 [3:41:09<5:02:58,  2.57it/s] \n",
      "  0%|          | 0/40 [00:00<?, ?it/s]\u001b[A"
     ]
    },
    {
     "name": "stdout",
     "output_type": "stream",
     "text": [
      "{'loss': 0.0938, 'grad_norm': 0.5380420684814453, 'learning_rate': 6.500663586971389e-05, 'epoch': 8.06}\n"
     ]
    },
    {
     "name": "stderr",
     "output_type": "stream",
     "text": [
      "\n",
      "  5%|▌         | 2/40 [00:00<00:02, 13.84it/s]\u001b[A\n",
      " 10%|█         | 4/40 [00:00<00:04,  8.70it/s]\u001b[A\n",
      " 12%|█▎        | 5/40 [00:00<00:04,  8.07it/s]\u001b[A\n",
      " 15%|█▌        | 6/40 [00:00<00:04,  7.69it/s]\u001b[A\n",
      " 18%|█▊        | 7/40 [00:00<00:04,  7.44it/s]\u001b[A\n",
      " 20%|██        | 8/40 [00:01<00:04,  7.27it/s]\u001b[A\n",
      " 22%|██▎       | 9/40 [00:01<00:04,  7.16it/s]\u001b[A\n",
      " 25%|██▌       | 10/40 [00:01<00:04,  7.09it/s]\u001b[A\n",
      " 28%|██▊       | 11/40 [00:01<00:04,  7.03it/s]\u001b[A\n",
      " 30%|███       | 12/40 [00:01<00:04,  7.00it/s]\u001b[A\n",
      " 32%|███▎      | 13/40 [00:01<00:03,  6.97it/s]\u001b[A\n",
      " 35%|███▌      | 14/40 [00:01<00:03,  6.95it/s]\u001b[A\n",
      " 38%|███▊      | 15/40 [00:02<00:03,  6.94it/s]\u001b[A\n",
      " 40%|████      | 16/40 [00:02<00:03,  6.93it/s]\u001b[A\n",
      " 42%|████▎     | 17/40 [00:02<00:03,  6.93it/s]\u001b[A\n",
      " 45%|████▌     | 18/40 [00:02<00:03,  6.92it/s]\u001b[A\n",
      " 48%|████▊     | 19/40 [00:02<00:03,  6.92it/s]\u001b[A\n",
      " 50%|█████     | 20/40 [00:02<00:02,  6.92it/s]\u001b[A\n",
      " 52%|█████▎    | 21/40 [00:02<00:02,  6.92it/s]\u001b[A\n",
      " 55%|█████▌    | 22/40 [00:03<00:02,  6.92it/s]\u001b[A\n",
      " 57%|█████▊    | 23/40 [00:03<00:02,  6.92it/s]\u001b[A\n",
      " 60%|██████    | 24/40 [00:03<00:02,  6.92it/s]\u001b[A\n",
      " 62%|██████▎   | 25/40 [00:03<00:02,  6.91it/s]\u001b[A\n",
      " 65%|██████▌   | 26/40 [00:03<00:02,  6.91it/s]\u001b[A\n",
      " 68%|██████▊   | 27/40 [00:03<00:01,  6.91it/s]\u001b[A\n",
      " 70%|███████   | 28/40 [00:03<00:01,  6.91it/s]\u001b[A\n",
      " 72%|███████▎  | 29/40 [00:04<00:01,  6.91it/s]\u001b[A\n",
      " 75%|███████▌  | 30/40 [00:04<00:01,  6.91it/s]\u001b[A\n",
      " 78%|███████▊  | 31/40 [00:04<00:01,  6.91it/s]\u001b[A\n",
      " 80%|████████  | 32/40 [00:04<00:01,  6.91it/s]\u001b[A\n",
      " 82%|████████▎ | 33/40 [00:04<00:01,  6.91it/s]\u001b[A\n",
      " 85%|████████▌ | 34/40 [00:04<00:00,  6.91it/s]\u001b[A\n",
      " 88%|████████▊ | 35/40 [00:04<00:00,  6.91it/s]\u001b[A\n",
      " 90%|█████████ | 36/40 [00:05<00:00,  6.91it/s]\u001b[A\n",
      " 92%|█████████▎| 37/40 [00:05<00:00,  6.91it/s]\u001b[A\n",
      " 95%|█████████▌| 38/40 [00:05<00:00,  6.91it/s]\u001b[A\n",
      "                                                         \n",
      " 40%|████      | 31500/78140 [3:41:15<5:02:58,  2.57it/s]\n",
      "100%|██████████| 40/40 [00:05<00:00,  7.07it/s]\u001b[A\n",
      "                                               \u001b[A"
     ]
    },
    {
     "name": "stdout",
     "output_type": "stream",
     "text": [
      "{'eval_loss': 0.07657066732645035, 'eval_token_accuracy': 0.9691461570191118, 'eval_exact_match_accuracy': 0.6637, 'eval_runtime': 5.9367, 'eval_samples_per_second': 1684.437, 'eval_steps_per_second': 6.738, 'epoch': 8.06}\n"
     ]
    },
    {
     "name": "stderr",
     "output_type": "stream",
     "text": [
      " 41%|████      | 32000/78140 [3:44:40<4:59:48,  2.56it/s] \n",
      "  0%|          | 0/40 [00:00<?, ?it/s]\u001b[A"
     ]
    },
    {
     "name": "stdout",
     "output_type": "stream",
     "text": [
      "{'loss': 0.0934, 'grad_norm': 1.191329002380371, 'learning_rate': 6.404489019654172e-05, 'epoch': 8.19}\n"
     ]
    },
    {
     "name": "stderr",
     "output_type": "stream",
     "text": [
      "\n",
      "  5%|▌         | 2/40 [00:00<00:02, 13.80it/s]\u001b[A\n",
      " 10%|█         | 4/40 [00:00<00:04,  8.69it/s]\u001b[A\n",
      " 12%|█▎        | 5/40 [00:00<00:04,  8.07it/s]\u001b[A\n",
      " 15%|█▌        | 6/40 [00:00<00:04,  7.68it/s]\u001b[A\n",
      " 18%|█▊        | 7/40 [00:00<00:04,  7.44it/s]\u001b[A\n",
      " 20%|██        | 8/40 [00:01<00:04,  7.27it/s]\u001b[A\n",
      " 22%|██▎       | 9/40 [00:01<00:04,  7.16it/s]\u001b[A\n",
      " 25%|██▌       | 10/40 [00:01<00:04,  7.08it/s]\u001b[A\n",
      " 28%|██▊       | 11/40 [00:01<00:04,  7.03it/s]\u001b[A\n",
      " 30%|███       | 12/40 [00:01<00:04,  6.97it/s]\u001b[A\n",
      " 32%|███▎      | 13/40 [00:01<00:03,  6.95it/s]\u001b[A\n",
      " 35%|███▌      | 14/40 [00:01<00:03,  6.94it/s]\u001b[A\n",
      " 38%|███▊      | 15/40 [00:02<00:03,  6.92it/s]\u001b[A\n",
      " 40%|████      | 16/40 [00:02<00:03,  6.92it/s]\u001b[A\n",
      " 42%|████▎     | 17/40 [00:02<00:03,  6.92it/s]\u001b[A\n",
      " 45%|████▌     | 18/40 [00:02<00:03,  6.92it/s]\u001b[A\n",
      " 48%|████▊     | 19/40 [00:02<00:03,  6.92it/s]\u001b[A\n",
      " 50%|█████     | 20/40 [00:02<00:02,  6.91it/s]\u001b[A\n",
      " 52%|█████▎    | 21/40 [00:02<00:02,  6.91it/s]\u001b[A\n",
      " 55%|█████▌    | 22/40 [00:03<00:02,  6.91it/s]\u001b[A\n",
      " 57%|█████▊    | 23/40 [00:03<00:02,  6.91it/s]\u001b[A\n",
      " 60%|██████    | 24/40 [00:03<00:02,  6.91it/s]\u001b[A\n",
      " 62%|██████▎   | 25/40 [00:03<00:02,  6.91it/s]\u001b[A\n",
      " 65%|██████▌   | 26/40 [00:03<00:02,  6.91it/s]\u001b[A\n",
      " 68%|██████▊   | 27/40 [00:03<00:01,  6.91it/s]\u001b[A\n",
      " 70%|███████   | 28/40 [00:03<00:01,  6.91it/s]\u001b[A\n",
      " 72%|███████▎  | 29/40 [00:04<00:01,  6.91it/s]\u001b[A\n",
      " 75%|███████▌  | 30/40 [00:04<00:01,  6.91it/s]\u001b[A\n",
      " 78%|███████▊  | 31/40 [00:04<00:01,  6.91it/s]\u001b[A\n",
      " 80%|████████  | 32/40 [00:04<00:01,  6.90it/s]\u001b[A\n",
      " 82%|████████▎ | 33/40 [00:04<00:01,  6.91it/s]\u001b[A\n",
      " 85%|████████▌ | 34/40 [00:04<00:00,  6.91it/s]\u001b[A\n",
      " 88%|████████▊ | 35/40 [00:04<00:00,  6.91it/s]\u001b[A\n",
      " 90%|█████████ | 36/40 [00:05<00:00,  6.91it/s]\u001b[A\n",
      " 92%|█████████▎| 37/40 [00:05<00:00,  6.91it/s]\u001b[A\n",
      " 95%|█████████▌| 38/40 [00:05<00:00,  6.91it/s]\u001b[A\n",
      "                                                         \n",
      " 41%|████      | 32000/78140 [3:44:46<4:59:48,  2.56it/s]\n",
      "100%|██████████| 40/40 [00:05<00:00,  7.07it/s]\u001b[A\n",
      "                                               \u001b[A"
     ]
    },
    {
     "name": "stdout",
     "output_type": "stream",
     "text": [
      "{'eval_loss': 0.07781433314085007, 'eval_token_accuracy': 0.968852834685366, 'eval_exact_match_accuracy': 0.6622, 'eval_runtime': 5.9425, 'eval_samples_per_second': 1682.799, 'eval_steps_per_second': 6.731, 'epoch': 8.19}\n"
     ]
    },
    {
     "name": "stderr",
     "output_type": "stream",
     "text": [
      " 42%|████▏     | 32500/78140 [3:48:10<4:56:28,  2.57it/s] \n",
      "  0%|          | 0/40 [00:00<?, ?it/s]\u001b[A"
     ]
    },
    {
     "name": "stdout",
     "output_type": "stream",
     "text": [
      "{'loss': 0.0924, 'grad_norm': 0.39345595240592957, 'learning_rate': 6.307746912091797e-05, 'epoch': 8.32}\n"
     ]
    },
    {
     "name": "stderr",
     "output_type": "stream",
     "text": [
      "\n",
      "  5%|▌         | 2/40 [00:00<00:02, 13.84it/s]\u001b[A\n",
      " 10%|█         | 4/40 [00:00<00:04,  8.69it/s]\u001b[A\n",
      " 12%|█▎        | 5/40 [00:00<00:04,  8.07it/s]\u001b[A\n",
      " 15%|█▌        | 6/40 [00:00<00:04,  7.69it/s]\u001b[A\n",
      " 18%|█▊        | 7/40 [00:00<00:04,  7.44it/s]\u001b[A\n",
      " 20%|██        | 8/40 [00:01<00:04,  7.28it/s]\u001b[A\n",
      " 22%|██▎       | 9/40 [00:01<00:04,  7.16it/s]\u001b[A\n",
      " 25%|██▌       | 10/40 [00:01<00:04,  7.09it/s]\u001b[A\n",
      " 28%|██▊       | 11/40 [00:01<00:04,  7.03it/s]\u001b[A\n",
      " 30%|███       | 12/40 [00:01<00:04,  7.00it/s]\u001b[A\n",
      " 32%|███▎      | 13/40 [00:01<00:03,  6.97it/s]\u001b[A\n",
      " 35%|███▌      | 14/40 [00:01<00:03,  6.95it/s]\u001b[A\n",
      " 38%|███▊      | 15/40 [00:02<00:03,  6.94it/s]\u001b[A\n",
      " 40%|████      | 16/40 [00:02<00:03,  6.93it/s]\u001b[A\n",
      " 42%|████▎     | 17/40 [00:02<00:03,  6.93it/s]\u001b[A\n",
      " 45%|████▌     | 18/40 [00:02<00:03,  6.92it/s]\u001b[A\n",
      " 48%|████▊     | 19/40 [00:02<00:03,  6.92it/s]\u001b[A\n",
      " 50%|█████     | 20/40 [00:02<00:02,  6.92it/s]\u001b[A\n",
      " 52%|█████▎    | 21/40 [00:02<00:02,  6.92it/s]\u001b[A\n",
      " 55%|█████▌    | 22/40 [00:03<00:02,  6.92it/s]\u001b[A\n",
      " 57%|█████▊    | 23/40 [00:03<00:02,  6.92it/s]\u001b[A\n",
      " 60%|██████    | 24/40 [00:03<00:02,  6.92it/s]\u001b[A\n",
      " 62%|██████▎   | 25/40 [00:03<00:02,  6.91it/s]\u001b[A\n",
      " 65%|██████▌   | 26/40 [00:03<00:02,  6.91it/s]\u001b[A\n",
      " 68%|██████▊   | 27/40 [00:03<00:01,  6.92it/s]\u001b[A\n",
      " 70%|███████   | 28/40 [00:03<00:01,  6.91it/s]\u001b[A\n",
      " 72%|███████▎  | 29/40 [00:04<00:01,  6.91it/s]\u001b[A\n",
      " 75%|███████▌  | 30/40 [00:04<00:01,  6.91it/s]\u001b[A\n",
      " 78%|███████▊  | 31/40 [00:04<00:01,  6.91it/s]\u001b[A\n",
      " 80%|████████  | 32/40 [00:04<00:01,  6.91it/s]\u001b[A\n",
      " 82%|████████▎ | 33/40 [00:04<00:01,  6.91it/s]\u001b[A\n",
      " 85%|████████▌ | 34/40 [00:04<00:00,  6.91it/s]\u001b[A\n",
      " 88%|████████▊ | 35/40 [00:04<00:00,  6.91it/s]\u001b[A\n",
      " 90%|█████████ | 36/40 [00:05<00:00,  6.91it/s]\u001b[A\n",
      " 92%|█████████▎| 37/40 [00:05<00:00,  6.91it/s]\u001b[A\n",
      " 95%|█████████▌| 38/40 [00:05<00:00,  6.91it/s]\u001b[A\n",
      "                                                         \n",
      " 42%|████▏     | 32500/78140 [3:48:16<4:56:28,  2.57it/s]\n",
      "100%|██████████| 40/40 [00:05<00:00,  7.07it/s]\u001b[A\n",
      "                                               \u001b[A"
     ]
    },
    {
     "name": "stdout",
     "output_type": "stream",
     "text": [
      "{'eval_loss': 0.08244042843580246, 'eval_token_accuracy': 0.968128695173931, 'eval_exact_match_accuracy': 0.6586, 'eval_runtime': 5.9635, 'eval_samples_per_second': 1676.869, 'eval_steps_per_second': 6.707, 'epoch': 8.32}\n"
     ]
    },
    {
     "name": "stderr",
     "output_type": "stream",
     "text": [
      " 42%|████▏     | 33000/78140 [3:51:41<4:53:26,  2.56it/s] \n",
      "  0%|          | 0/40 [00:00<?, ?it/s]\u001b[A"
     ]
    },
    {
     "name": "stdout",
     "output_type": "stream",
     "text": [
      "{'loss': 0.0922, 'grad_norm': 0.2630993723869324, 'learning_rate': 6.210476356821605e-05, 'epoch': 8.45}\n"
     ]
    },
    {
     "name": "stderr",
     "output_type": "stream",
     "text": [
      "\n",
      "  5%|▌         | 2/40 [00:00<00:02, 13.86it/s]\u001b[A\n",
      " 10%|█         | 4/40 [00:00<00:04,  8.70it/s]\u001b[A\n",
      " 12%|█▎        | 5/40 [00:00<00:04,  8.05it/s]\u001b[A\n",
      " 15%|█▌        | 6/40 [00:00<00:04,  7.67it/s]\u001b[A\n",
      " 18%|█▊        | 7/40 [00:00<00:04,  7.43it/s]\u001b[A\n",
      " 20%|██        | 8/40 [00:01<00:04,  7.27it/s]\u001b[A\n",
      " 22%|██▎       | 9/40 [00:01<00:04,  7.16it/s]\u001b[A\n",
      " 25%|██▌       | 10/40 [00:01<00:04,  7.08it/s]\u001b[A\n",
      " 28%|██▊       | 11/40 [00:01<00:04,  7.03it/s]\u001b[A\n",
      " 30%|███       | 12/40 [00:01<00:04,  7.00it/s]\u001b[A\n",
      " 32%|███▎      | 13/40 [00:01<00:03,  6.97it/s]\u001b[A\n",
      " 35%|███▌      | 14/40 [00:01<00:03,  6.95it/s]\u001b[A\n",
      " 38%|███▊      | 15/40 [00:02<00:03,  6.94it/s]\u001b[A\n",
      " 40%|████      | 16/40 [00:02<00:03,  6.93it/s]\u001b[A\n",
      " 42%|████▎     | 17/40 [00:02<00:03,  6.93it/s]\u001b[A\n",
      " 45%|████▌     | 18/40 [00:02<00:03,  6.92it/s]\u001b[A\n",
      " 48%|████▊     | 19/40 [00:02<00:03,  6.92it/s]\u001b[A\n",
      " 50%|█████     | 20/40 [00:02<00:02,  6.91it/s]\u001b[A\n",
      " 52%|█████▎    | 21/40 [00:02<00:02,  6.91it/s]\u001b[A\n",
      " 55%|█████▌    | 22/40 [00:03<00:02,  6.91it/s]\u001b[A\n",
      " 57%|█████▊    | 23/40 [00:03<00:02,  6.91it/s]\u001b[A\n",
      " 60%|██████    | 24/40 [00:03<00:02,  6.91it/s]\u001b[A\n",
      " 62%|██████▎   | 25/40 [00:03<00:02,  6.91it/s]\u001b[A\n",
      " 65%|██████▌   | 26/40 [00:03<00:02,  6.91it/s]\u001b[A\n",
      " 68%|██████▊   | 27/40 [00:03<00:01,  6.91it/s]\u001b[A\n",
      " 70%|███████   | 28/40 [00:03<00:01,  6.91it/s]\u001b[A\n",
      " 72%|███████▎  | 29/40 [00:04<00:01,  6.91it/s]\u001b[A\n",
      " 75%|███████▌  | 30/40 [00:04<00:01,  6.91it/s]\u001b[A\n",
      " 78%|███████▊  | 31/40 [00:04<00:01,  6.91it/s]\u001b[A\n",
      " 80%|████████  | 32/40 [00:04<00:01,  6.91it/s]\u001b[A\n",
      " 82%|████████▎ | 33/40 [00:04<00:01,  6.91it/s]\u001b[A\n",
      " 85%|████████▌ | 34/40 [00:04<00:00,  6.91it/s]\u001b[A\n",
      " 88%|████████▊ | 35/40 [00:04<00:00,  6.92it/s]\u001b[A\n",
      " 90%|█████████ | 36/40 [00:05<00:00,  6.92it/s]\u001b[A\n",
      " 92%|█████████▎| 37/40 [00:05<00:00,  6.92it/s]\u001b[A\n",
      " 95%|█████████▌| 38/40 [00:05<00:00,  6.92it/s]\u001b[A\n",
      "                                                         \n",
      " 42%|████▏     | 33000/78140 [3:51:47<4:53:26,  2.56it/s]\n",
      "100%|██████████| 40/40 [00:05<00:00,  7.08it/s]\u001b[A\n",
      "                                               \u001b[A"
     ]
    },
    {
     "name": "stdout",
     "output_type": "stream",
     "text": [
      "{'eval_loss': 0.0805666446685791, 'eval_token_accuracy': 0.9685961776433384, 'eval_exact_match_accuracy': 0.6611, 'eval_runtime': 5.9285, 'eval_samples_per_second': 1686.764, 'eval_steps_per_second': 6.747, 'epoch': 8.45}\n"
     ]
    },
    {
     "name": "stderr",
     "output_type": "stream",
     "text": [
      " 43%|████▎     | 33500/78140 [3:55:11<4:47:28,  2.59it/s] \n",
      "  0%|          | 0/40 [00:00<?, ?it/s]\u001b[A"
     ]
    },
    {
     "name": "stdout",
     "output_type": "stream",
     "text": [
      "{'loss': 0.0912, 'grad_norm': 0.8693453669548035, 'learning_rate': 6.112716659921474e-05, 'epoch': 8.57}\n"
     ]
    },
    {
     "name": "stderr",
     "output_type": "stream",
     "text": [
      "\n",
      "  5%|▌         | 2/40 [00:00<00:02, 13.84it/s]\u001b[A\n",
      " 10%|█         | 4/40 [00:00<00:04,  8.69it/s]\u001b[A\n",
      " 12%|█▎        | 5/40 [00:00<00:04,  8.06it/s]\u001b[A\n",
      " 15%|█▌        | 6/40 [00:00<00:04,  7.68it/s]\u001b[A\n",
      " 18%|█▊        | 7/40 [00:00<00:04,  7.43it/s]\u001b[A\n",
      " 20%|██        | 8/40 [00:01<00:04,  7.27it/s]\u001b[A\n",
      " 22%|██▎       | 9/40 [00:01<00:04,  7.16it/s]\u001b[A\n",
      " 25%|██▌       | 10/40 [00:01<00:04,  7.08it/s]\u001b[A\n",
      " 28%|██▊       | 11/40 [00:01<00:04,  7.03it/s]\u001b[A\n",
      " 30%|███       | 12/40 [00:01<00:04,  7.00it/s]\u001b[A\n",
      " 32%|███▎      | 13/40 [00:01<00:03,  6.97it/s]\u001b[A\n",
      " 35%|███▌      | 14/40 [00:01<00:03,  6.95it/s]\u001b[A\n",
      " 38%|███▊      | 15/40 [00:02<00:03,  6.94it/s]\u001b[A\n",
      " 40%|████      | 16/40 [00:02<00:03,  6.93it/s]\u001b[A\n",
      " 42%|████▎     | 17/40 [00:02<00:03,  6.93it/s]\u001b[A\n",
      " 45%|████▌     | 18/40 [00:02<00:03,  6.92it/s]\u001b[A\n",
      " 48%|████▊     | 19/40 [00:02<00:03,  6.92it/s]\u001b[A\n",
      " 50%|█████     | 20/40 [00:02<00:02,  6.92it/s]\u001b[A\n",
      " 52%|█████▎    | 21/40 [00:02<00:02,  6.92it/s]\u001b[A\n",
      " 55%|█████▌    | 22/40 [00:03<00:02,  6.92it/s]\u001b[A\n",
      " 57%|█████▊    | 23/40 [00:03<00:02,  6.91it/s]\u001b[A\n",
      " 60%|██████    | 24/40 [00:03<00:02,  6.91it/s]\u001b[A\n",
      " 62%|██████▎   | 25/40 [00:03<00:02,  6.91it/s]\u001b[A\n",
      " 65%|██████▌   | 26/40 [00:03<00:02,  6.91it/s]\u001b[A\n",
      " 68%|██████▊   | 27/40 [00:03<00:01,  6.91it/s]\u001b[A\n",
      " 70%|███████   | 28/40 [00:03<00:01,  6.90it/s]\u001b[A\n",
      " 72%|███████▎  | 29/40 [00:04<00:01,  6.91it/s]\u001b[A\n",
      " 75%|███████▌  | 30/40 [00:04<00:01,  6.91it/s]\u001b[A\n",
      " 78%|███████▊  | 31/40 [00:04<00:01,  6.91it/s]\u001b[A\n",
      " 80%|████████  | 32/40 [00:04<00:01,  6.91it/s]\u001b[A\n",
      " 82%|████████▎ | 33/40 [00:04<00:01,  6.91it/s]\u001b[A\n",
      " 85%|████████▌ | 34/40 [00:04<00:00,  6.91it/s]\u001b[A\n",
      " 88%|████████▊ | 35/40 [00:04<00:00,  6.91it/s]\u001b[A\n",
      " 90%|█████████ | 36/40 [00:05<00:00,  6.91it/s]\u001b[A\n",
      " 92%|█████████▎| 37/40 [00:05<00:00,  6.92it/s]\u001b[A\n",
      " 95%|█████████▌| 38/40 [00:05<00:00,  6.92it/s]\u001b[A\n",
      "                                                         \n",
      " 43%|████▎     | 33500/78140 [3:55:17<4:47:28,  2.59it/s]\n",
      "100%|██████████| 40/40 [00:05<00:00,  7.07it/s]\u001b[A\n",
      "                                               \u001b[A"
     ]
    },
    {
     "name": "stdout",
     "output_type": "stream",
     "text": [
      "{'eval_loss': 0.07696997374296188, 'eval_token_accuracy': 0.9690361611439571, 'eval_exact_match_accuracy': 0.6631, 'eval_runtime': 5.9309, 'eval_samples_per_second': 1686.079, 'eval_steps_per_second': 6.744, 'epoch': 8.57}\n"
     ]
    },
    {
     "name": "stderr",
     "output_type": "stream",
     "text": [
      " 44%|████▎     | 34000/78140 [3:58:41<4:46:55,  2.56it/s] \n",
      "  0%|          | 0/40 [00:00<?, ?it/s]\u001b[A"
     ]
    },
    {
     "name": "stdout",
     "output_type": "stream",
     "text": [
      "{'loss': 0.0912, 'grad_norm': 0.48900631070137024, 'learning_rate': 6.014507325126619e-05, 'epoch': 8.7}\n"
     ]
    },
    {
     "name": "stderr",
     "output_type": "stream",
     "text": [
      "\n",
      "  5%|▌         | 2/40 [00:00<00:02, 13.84it/s]\u001b[A\n",
      " 10%|█         | 4/40 [00:00<00:04,  8.67it/s]\u001b[A\n",
      " 12%|█▎        | 5/40 [00:00<00:04,  8.06it/s]\u001b[A\n",
      " 15%|█▌        | 6/40 [00:00<00:04,  7.68it/s]\u001b[A\n",
      " 18%|█▊        | 7/40 [00:00<00:04,  7.43it/s]\u001b[A\n",
      " 20%|██        | 8/40 [00:01<00:04,  7.27it/s]\u001b[A\n",
      " 22%|██▎       | 9/40 [00:01<00:04,  7.16it/s]\u001b[A\n",
      " 25%|██▌       | 10/40 [00:01<00:04,  7.09it/s]\u001b[A\n",
      " 28%|██▊       | 11/40 [00:01<00:04,  7.03it/s]\u001b[A\n",
      " 30%|███       | 12/40 [00:01<00:04,  6.99it/s]\u001b[A\n",
      " 32%|███▎      | 13/40 [00:01<00:03,  6.97it/s]\u001b[A\n",
      " 35%|███▌      | 14/40 [00:01<00:03,  6.95it/s]\u001b[A\n",
      " 38%|███▊      | 15/40 [00:02<00:03,  6.94it/s]\u001b[A\n",
      " 40%|████      | 16/40 [00:02<00:03,  6.93it/s]\u001b[A\n",
      " 42%|████▎     | 17/40 [00:02<00:03,  6.92it/s]\u001b[A\n",
      " 45%|████▌     | 18/40 [00:02<00:03,  6.92it/s]\u001b[A\n",
      " 48%|████▊     | 19/40 [00:02<00:03,  6.92it/s]\u001b[A\n",
      " 50%|█████     | 20/40 [00:02<00:02,  6.92it/s]\u001b[A\n",
      " 52%|█████▎    | 21/40 [00:02<00:02,  6.92it/s]\u001b[A\n",
      " 55%|█████▌    | 22/40 [00:03<00:02,  6.92it/s]\u001b[A\n",
      " 57%|█████▊    | 23/40 [00:03<00:02,  6.91it/s]\u001b[A\n",
      " 60%|██████    | 24/40 [00:03<00:02,  6.91it/s]\u001b[A\n",
      " 62%|██████▎   | 25/40 [00:03<00:02,  6.91it/s]\u001b[A\n",
      " 65%|██████▌   | 26/40 [00:03<00:02,  6.91it/s]\u001b[A\n",
      " 68%|██████▊   | 27/40 [00:03<00:01,  6.91it/s]\u001b[A\n",
      " 70%|███████   | 28/40 [00:03<00:01,  6.91it/s]\u001b[A\n",
      " 72%|███████▎  | 29/40 [00:04<00:01,  6.91it/s]\u001b[A\n",
      " 75%|███████▌  | 30/40 [00:04<00:01,  6.91it/s]\u001b[A\n",
      " 78%|███████▊  | 31/40 [00:04<00:01,  6.91it/s]\u001b[A\n",
      " 80%|████████  | 32/40 [00:04<00:01,  6.91it/s]\u001b[A\n",
      " 82%|████████▎ | 33/40 [00:04<00:01,  6.91it/s]\u001b[A\n",
      " 85%|████████▌ | 34/40 [00:04<00:00,  6.91it/s]\u001b[A\n",
      " 88%|████████▊ | 35/40 [00:04<00:00,  6.91it/s]\u001b[A\n",
      " 90%|█████████ | 36/40 [00:05<00:00,  6.91it/s]\u001b[A\n",
      " 92%|█████████▎| 37/40 [00:05<00:00,  6.91it/s]\u001b[A\n",
      " 95%|█████████▌| 38/40 [00:05<00:00,  6.91it/s]\u001b[A\n",
      "                                                         \n",
      " 44%|████▎     | 34000/78140 [3:58:47<4:46:55,  2.56it/s]\n",
      "100%|██████████| 40/40 [00:05<00:00,  7.08it/s]\u001b[A\n",
      "                                               \u001b[A"
     ]
    },
    {
     "name": "stdout",
     "output_type": "stream",
     "text": [
      "{'eval_loss': 0.07697199285030365, 'eval_token_accuracy': 0.9690453274668867, 'eval_exact_match_accuracy': 0.6632, 'eval_runtime': 5.9273, 'eval_samples_per_second': 1687.115, 'eval_steps_per_second': 6.748, 'epoch': 8.7}\n"
     ]
    },
    {
     "name": "stderr",
     "output_type": "stream",
     "text": [
      " 44%|████▍     | 34500/78140 [4:02:11<4:43:46,  2.56it/s] \n",
      "  0%|          | 0/40 [00:00<?, ?it/s]\u001b[A"
     ]
    },
    {
     "name": "stdout",
     "output_type": "stream",
     "text": [
      "{'loss': 0.0907, 'grad_norm': 0.48760268092155457, 'learning_rate': 5.915888037866519e-05, 'epoch': 8.83}\n"
     ]
    },
    {
     "name": "stderr",
     "output_type": "stream",
     "text": [
      "\n",
      "  5%|▌         | 2/40 [00:00<00:02, 13.88it/s]\u001b[A\n",
      " 10%|█         | 4/40 [00:00<00:04,  8.71it/s]\u001b[A\n",
      " 12%|█▎        | 5/40 [00:00<00:04,  8.08it/s]\u001b[A\n",
      " 15%|█▌        | 6/40 [00:00<00:04,  7.69it/s]\u001b[A\n",
      " 18%|█▊        | 7/40 [00:00<00:04,  7.44it/s]\u001b[A\n",
      " 20%|██        | 8/40 [00:01<00:04,  7.28it/s]\u001b[A\n",
      " 22%|██▎       | 9/40 [00:01<00:04,  7.16it/s]\u001b[A\n",
      " 25%|██▌       | 10/40 [00:01<00:04,  7.08it/s]\u001b[A\n",
      " 28%|██▊       | 11/40 [00:01<00:04,  7.03it/s]\u001b[A\n",
      " 30%|███       | 12/40 [00:01<00:04,  6.99it/s]\u001b[A\n",
      " 32%|███▎      | 13/40 [00:01<00:03,  6.97it/s]\u001b[A\n",
      " 35%|███▌      | 14/40 [00:01<00:03,  6.95it/s]\u001b[A\n",
      " 38%|███▊      | 15/40 [00:02<00:03,  6.94it/s]\u001b[A\n",
      " 40%|████      | 16/40 [00:02<00:03,  6.93it/s]\u001b[A\n",
      " 42%|████▎     | 17/40 [00:02<00:03,  6.93it/s]\u001b[A\n",
      " 45%|████▌     | 18/40 [00:02<00:03,  6.92it/s]\u001b[A\n",
      " 48%|████▊     | 19/40 [00:02<00:03,  6.92it/s]\u001b[A\n",
      " 50%|█████     | 20/40 [00:02<00:02,  6.92it/s]\u001b[A\n",
      " 52%|█████▎    | 21/40 [00:02<00:02,  6.91it/s]\u001b[A\n",
      " 55%|█████▌    | 22/40 [00:03<00:02,  6.91it/s]\u001b[A\n",
      " 57%|█████▊    | 23/40 [00:03<00:02,  6.91it/s]\u001b[A\n",
      " 60%|██████    | 24/40 [00:03<00:02,  6.91it/s]\u001b[A\n",
      " 62%|██████▎   | 25/40 [00:03<00:02,  6.91it/s]\u001b[A\n",
      " 65%|██████▌   | 26/40 [00:03<00:02,  6.91it/s]\u001b[A\n",
      " 68%|██████▊   | 27/40 [00:03<00:01,  6.90it/s]\u001b[A\n",
      " 70%|███████   | 28/40 [00:03<00:01,  6.91it/s]\u001b[A\n",
      " 72%|███████▎  | 29/40 [00:04<00:01,  6.91it/s]\u001b[A\n",
      " 75%|███████▌  | 30/40 [00:04<00:01,  6.91it/s]\u001b[A\n",
      " 78%|███████▊  | 31/40 [00:04<00:01,  6.91it/s]\u001b[A\n",
      " 80%|████████  | 32/40 [00:04<00:01,  6.91it/s]\u001b[A\n",
      " 82%|████████▎ | 33/40 [00:04<00:01,  6.91it/s]\u001b[A\n",
      " 85%|████████▌ | 34/40 [00:04<00:00,  6.91it/s]\u001b[A\n",
      " 88%|████████▊ | 35/40 [00:04<00:00,  6.91it/s]\u001b[A\n",
      " 90%|█████████ | 36/40 [00:05<00:00,  6.91it/s]\u001b[A\n",
      " 92%|█████████▎| 37/40 [00:05<00:00,  6.91it/s]\u001b[A\n",
      " 95%|█████████▌| 38/40 [00:05<00:00,  6.91it/s]\u001b[A\n",
      "                                                         \n",
      " 44%|████▍     | 34500/78140 [4:02:17<4:43:46,  2.56it/s]\n",
      "100%|██████████| 40/40 [00:05<00:00,  7.08it/s]\u001b[A\n",
      "                                               \u001b[A"
     ]
    },
    {
     "name": "stdout",
     "output_type": "stream",
     "text": [
      "{'eval_loss': 0.08015642315149307, 'eval_token_accuracy': 0.9685320133828315, 'eval_exact_match_accuracy': 0.6605, 'eval_runtime': 5.9257, 'eval_samples_per_second': 1687.56, 'eval_steps_per_second': 6.75, 'epoch': 8.83}\n"
     ]
    },
    {
     "name": "stderr",
     "output_type": "stream",
     "text": [
      " 45%|████▍     | 35000/78140 [4:05:41<4:40:37,  2.56it/s] \n",
      "  0%|          | 0/40 [00:00<?, ?it/s]\u001b[A"
     ]
    },
    {
     "name": "stdout",
     "output_type": "stream",
     "text": [
      "{'loss': 0.0898, 'grad_norm': 0.3989773392677307, 'learning_rate': 5.817096970803023e-05, 'epoch': 8.96}\n"
     ]
    },
    {
     "name": "stderr",
     "output_type": "stream",
     "text": [
      "\n",
      "  5%|▌         | 2/40 [00:00<00:02, 13.83it/s]\u001b[A\n",
      " 10%|█         | 4/40 [00:00<00:04,  8.70it/s]\u001b[A\n",
      " 12%|█▎        | 5/40 [00:00<00:04,  8.07it/s]\u001b[A\n",
      " 15%|█▌        | 6/40 [00:00<00:04,  7.69it/s]\u001b[A\n",
      " 18%|█▊        | 7/40 [00:00<00:04,  7.43it/s]\u001b[A\n",
      " 20%|██        | 8/40 [00:01<00:04,  7.27it/s]\u001b[A\n",
      " 22%|██▎       | 9/40 [00:01<00:04,  7.16it/s]\u001b[A\n",
      " 25%|██▌       | 10/40 [00:01<00:04,  7.08it/s]\u001b[A\n",
      " 28%|██▊       | 11/40 [00:01<00:04,  7.03it/s]\u001b[A\n",
      " 30%|███       | 12/40 [00:01<00:04,  6.99it/s]\u001b[A\n",
      " 32%|███▎      | 13/40 [00:01<00:03,  6.97it/s]\u001b[A\n",
      " 35%|███▌      | 14/40 [00:01<00:03,  6.95it/s]\u001b[A\n",
      " 38%|███▊      | 15/40 [00:02<00:03,  6.94it/s]\u001b[A\n",
      " 40%|████      | 16/40 [00:02<00:03,  6.93it/s]\u001b[A\n",
      " 42%|████▎     | 17/40 [00:02<00:03,  6.92it/s]\u001b[A\n",
      " 45%|████▌     | 18/40 [00:02<00:03,  6.92it/s]\u001b[A\n",
      " 48%|████▊     | 19/40 [00:02<00:03,  6.92it/s]\u001b[A\n",
      " 50%|█████     | 20/40 [00:02<00:02,  6.92it/s]\u001b[A\n",
      " 52%|█████▎    | 21/40 [00:02<00:02,  6.91it/s]\u001b[A\n",
      " 55%|█████▌    | 22/40 [00:03<00:02,  6.91it/s]\u001b[A\n",
      " 57%|█████▊    | 23/40 [00:03<00:02,  6.91it/s]\u001b[A\n",
      " 60%|██████    | 24/40 [00:03<00:02,  6.91it/s]\u001b[A\n",
      " 62%|██████▎   | 25/40 [00:03<00:02,  6.91it/s]\u001b[A\n",
      " 65%|██████▌   | 26/40 [00:03<00:02,  6.91it/s]\u001b[A\n",
      " 68%|██████▊   | 27/40 [00:03<00:01,  6.91it/s]\u001b[A\n",
      " 70%|███████   | 28/40 [00:03<00:01,  6.91it/s]\u001b[A\n",
      " 72%|███████▎  | 29/40 [00:04<00:01,  6.91it/s]\u001b[A\n",
      " 75%|███████▌  | 30/40 [00:04<00:01,  6.90it/s]\u001b[A\n",
      " 78%|███████▊  | 31/40 [00:04<00:01,  6.91it/s]\u001b[A\n",
      " 80%|████████  | 32/40 [00:04<00:01,  6.91it/s]\u001b[A\n",
      " 82%|████████▎ | 33/40 [00:04<00:01,  6.91it/s]\u001b[A\n",
      " 85%|████████▌ | 34/40 [00:04<00:00,  6.91it/s]\u001b[A\n",
      " 88%|████████▊ | 35/40 [00:04<00:00,  6.91it/s]\u001b[A\n",
      " 90%|█████████ | 36/40 [00:05<00:00,  6.91it/s]\u001b[A\n",
      " 92%|█████████▎| 37/40 [00:05<00:00,  6.91it/s]\u001b[A\n",
      " 95%|█████████▌| 38/40 [00:05<00:00,  6.91it/s]\u001b[A\n",
      "                                                         \n",
      " 45%|████▍     | 35000/78140 [4:05:47<4:40:37,  2.56it/s]\n",
      "100%|██████████| 40/40 [00:05<00:00,  7.07it/s]\u001b[A\n",
      "                                               \u001b[A"
     ]
    },
    {
     "name": "stdout",
     "output_type": "stream",
     "text": [
      "{'eval_loss': 0.07793816179037094, 'eval_token_accuracy': 0.968788670424859, 'eval_exact_match_accuracy': 0.6613, 'eval_runtime': 5.9332, 'eval_samples_per_second': 1685.44, 'eval_steps_per_second': 6.742, 'epoch': 8.96}\n"
     ]
    },
    {
     "name": "stderr",
     "output_type": "stream",
     "text": [
      " 45%|████▌     | 35500/78140 [4:09:11<4:37:06,  2.56it/s] \n",
      "  0%|          | 0/40 [00:00<?, ?it/s]\u001b[A"
     ]
    },
    {
     "name": "stdout",
     "output_type": "stream",
     "text": [
      "{'loss': 0.0896, 'grad_norm': 0.3763592839241028, 'learning_rate': 5.717977042221852e-05, 'epoch': 9.09}\n"
     ]
    },
    {
     "name": "stderr",
     "output_type": "stream",
     "text": [
      "\n",
      "  5%|▌         | 2/40 [00:00<00:02, 13.83it/s]\u001b[A\n",
      " 10%|█         | 4/40 [00:00<00:04,  8.70it/s]\u001b[A\n",
      " 12%|█▎        | 5/40 [00:00<00:04,  8.07it/s]\u001b[A\n",
      " 15%|█▌        | 6/40 [00:00<00:04,  7.69it/s]\u001b[A\n",
      " 18%|█▊        | 7/40 [00:00<00:04,  7.44it/s]\u001b[A\n",
      " 20%|██        | 8/40 [00:01<00:04,  7.27it/s]\u001b[A\n",
      " 22%|██▎       | 9/40 [00:01<00:04,  7.16it/s]\u001b[A\n",
      " 25%|██▌       | 10/40 [00:01<00:04,  7.09it/s]\u001b[A\n",
      " 28%|██▊       | 11/40 [00:01<00:04,  7.03it/s]\u001b[A\n",
      " 30%|███       | 12/40 [00:01<00:04,  7.00it/s]\u001b[A\n",
      " 32%|███▎      | 13/40 [00:01<00:03,  6.97it/s]\u001b[A\n",
      " 35%|███▌      | 14/40 [00:01<00:03,  6.95it/s]\u001b[A\n",
      " 38%|███▊      | 15/40 [00:02<00:03,  6.94it/s]\u001b[A\n",
      " 40%|████      | 16/40 [00:02<00:03,  6.93it/s]\u001b[A\n",
      " 42%|████▎     | 17/40 [00:02<00:03,  6.93it/s]\u001b[A\n",
      " 45%|████▌     | 18/40 [00:02<00:03,  6.92it/s]\u001b[A\n",
      " 48%|████▊     | 19/40 [00:02<00:03,  6.92it/s]\u001b[A\n",
      " 50%|█████     | 20/40 [00:02<00:02,  6.91it/s]\u001b[A\n",
      " 52%|█████▎    | 21/40 [00:02<00:02,  6.91it/s]\u001b[A\n",
      " 55%|█████▌    | 22/40 [00:03<00:02,  6.91it/s]\u001b[A\n",
      " 57%|█████▊    | 23/40 [00:03<00:02,  6.91it/s]\u001b[A\n",
      " 60%|██████    | 24/40 [00:03<00:02,  6.91it/s]\u001b[A\n",
      " 62%|██████▎   | 25/40 [00:03<00:02,  6.90it/s]\u001b[A\n",
      " 65%|██████▌   | 26/40 [00:03<00:02,  6.91it/s]\u001b[A\n",
      " 68%|██████▊   | 27/40 [00:03<00:01,  6.91it/s]\u001b[A\n",
      " 70%|███████   | 28/40 [00:03<00:01,  6.91it/s]\u001b[A\n",
      " 72%|███████▎  | 29/40 [00:04<00:01,  6.91it/s]\u001b[A\n",
      " 75%|███████▌  | 30/40 [00:04<00:01,  6.91it/s]\u001b[A\n",
      " 78%|███████▊  | 31/40 [00:04<00:01,  6.91it/s]\u001b[A\n",
      " 80%|████████  | 32/40 [00:04<00:01,  6.91it/s]\u001b[A\n",
      " 82%|████████▎ | 33/40 [00:04<00:01,  6.91it/s]\u001b[A\n",
      " 85%|████████▌ | 34/40 [00:04<00:00,  6.91it/s]\u001b[A\n",
      " 88%|████████▊ | 35/40 [00:04<00:00,  6.91it/s]\u001b[A\n",
      " 90%|█████████ | 36/40 [00:05<00:00,  6.91it/s]\u001b[A\n",
      " 92%|█████████▎| 37/40 [00:05<00:00,  6.91it/s]\u001b[A\n",
      " 95%|█████████▌| 38/40 [00:05<00:00,  6.91it/s]\u001b[A\n",
      "                                                         \n",
      " 45%|████▌     | 35500/78140 [4:09:17<4:37:06,  2.56it/s]\n",
      "100%|██████████| 40/40 [00:05<00:00,  7.07it/s]\u001b[A\n",
      "                                               \u001b[A"
     ]
    },
    {
     "name": "stdout",
     "output_type": "stream",
     "text": [
      "{'eval_loss': 0.07646459341049194, 'eval_token_accuracy': 0.9691644896649709, 'eval_exact_match_accuracy': 0.6643, 'eval_runtime': 5.9295, 'eval_samples_per_second': 1686.479, 'eval_steps_per_second': 6.746, 'epoch': 9.09}\n"
     ]
    },
    {
     "name": "stderr",
     "output_type": "stream",
     "text": [
      " 46%|████▌     | 36000/78140 [4:12:41<4:33:59,  2.56it/s] \n",
      "  0%|          | 0/40 [00:00<?, ?it/s]\u001b[A"
     ]
    },
    {
     "name": "stdout",
     "output_type": "stream",
     "text": [
      "{'loss': 0.0889, 'grad_norm': 0.3075670897960663, 'learning_rate': 5.618368665902158e-05, 'epoch': 9.21}\n"
     ]
    },
    {
     "name": "stderr",
     "output_type": "stream",
     "text": [
      "\n",
      "  5%|▌         | 2/40 [00:00<00:02, 13.84it/s]\u001b[A\n",
      " 10%|█         | 4/40 [00:00<00:04,  8.70it/s]\u001b[A\n",
      " 12%|█▎        | 5/40 [00:00<00:04,  8.07it/s]\u001b[A\n",
      " 15%|█▌        | 6/40 [00:00<00:04,  7.66it/s]\u001b[A\n",
      " 18%|█▊        | 7/40 [00:00<00:04,  7.42it/s]\u001b[A\n",
      " 20%|██        | 8/40 [00:01<00:04,  7.25it/s]\u001b[A\n",
      " 22%|██▎       | 9/40 [00:01<00:04,  7.15it/s]\u001b[A\n",
      " 25%|██▌       | 10/40 [00:01<00:04,  7.08it/s]\u001b[A\n",
      " 28%|██▊       | 11/40 [00:01<00:04,  7.02it/s]\u001b[A\n",
      " 30%|███       | 12/40 [00:01<00:04,  6.99it/s]\u001b[A\n",
      " 32%|███▎      | 13/40 [00:01<00:03,  6.97it/s]\u001b[A\n",
      " 35%|███▌      | 14/40 [00:01<00:03,  6.95it/s]\u001b[A\n",
      " 38%|███▊      | 15/40 [00:02<00:03,  6.94it/s]\u001b[A\n",
      " 40%|████      | 16/40 [00:02<00:03,  6.93it/s]\u001b[A\n",
      " 42%|████▎     | 17/40 [00:02<00:03,  6.92it/s]\u001b[A\n",
      " 45%|████▌     | 18/40 [00:02<00:03,  6.92it/s]\u001b[A\n",
      " 48%|████▊     | 19/40 [00:02<00:03,  6.91it/s]\u001b[A\n",
      " 50%|█████     | 20/40 [00:02<00:02,  6.91it/s]\u001b[A\n",
      " 52%|█████▎    | 21/40 [00:02<00:02,  6.91it/s]\u001b[A\n",
      " 55%|█████▌    | 22/40 [00:03<00:02,  6.91it/s]\u001b[A\n",
      " 57%|█████▊    | 23/40 [00:03<00:02,  6.91it/s]\u001b[A\n",
      " 60%|██████    | 24/40 [00:03<00:02,  6.91it/s]\u001b[A\n",
      " 62%|██████▎   | 25/40 [00:03<00:02,  6.91it/s]\u001b[A\n",
      " 65%|██████▌   | 26/40 [00:03<00:02,  6.91it/s]\u001b[A\n",
      " 68%|██████▊   | 27/40 [00:03<00:01,  6.91it/s]\u001b[A\n",
      " 70%|███████   | 28/40 [00:03<00:01,  6.91it/s]\u001b[A\n",
      " 72%|███████▎  | 29/40 [00:04<00:01,  6.91it/s]\u001b[A\n",
      " 75%|███████▌  | 30/40 [00:04<00:01,  6.91it/s]\u001b[A\n",
      " 78%|███████▊  | 31/40 [00:04<00:01,  6.91it/s]\u001b[A\n",
      " 80%|████████  | 32/40 [00:04<00:01,  6.91it/s]\u001b[A\n",
      " 82%|████████▎ | 33/40 [00:04<00:01,  6.91it/s]\u001b[A\n",
      " 85%|████████▌ | 34/40 [00:04<00:00,  6.91it/s]\u001b[A\n",
      " 88%|████████▊ | 35/40 [00:04<00:00,  6.91it/s]\u001b[A\n",
      " 90%|█████████ | 36/40 [00:05<00:00,  6.91it/s]\u001b[A\n",
      " 92%|█████████▎| 37/40 [00:05<00:00,  6.91it/s]\u001b[A\n",
      " 95%|█████████▌| 38/40 [00:05<00:00,  6.91it/s]\u001b[A\n",
      "                                                         \n",
      " 46%|████▌     | 36000/78140 [4:12:47<4:33:59,  2.56it/s]\n",
      "100%|██████████| 40/40 [00:05<00:00,  7.07it/s]\u001b[A\n",
      "                                               \u001b[A"
     ]
    },
    {
     "name": "stdout",
     "output_type": "stream",
     "text": [
      "{'eval_loss': 0.07863073796033859, 'eval_token_accuracy': 0.9687611714560704, 'eval_exact_match_accuracy': 0.6625, 'eval_runtime': 5.9351, 'eval_samples_per_second': 1684.894, 'eval_steps_per_second': 6.74, 'epoch': 9.21}\n"
     ]
    },
    {
     "name": "stderr",
     "output_type": "stream",
     "text": [
      " 47%|████▋     | 36500/78140 [4:16:11<4:30:21,  2.57it/s] \n",
      "  0%|          | 0/40 [00:00<?, ?it/s]\u001b[A"
     ]
    },
    {
     "name": "stdout",
     "output_type": "stream",
     "text": [
      "{'loss': 0.0886, 'grad_norm': 0.19978216290473938, 'learning_rate': 5.518510412866212e-05, 'epoch': 9.34}\n"
     ]
    },
    {
     "name": "stderr",
     "output_type": "stream",
     "text": [
      "\n",
      "  5%|▌         | 2/40 [00:00<00:02, 13.80it/s]\u001b[A\n",
      " 10%|█         | 4/40 [00:00<00:04,  8.64it/s]\u001b[A\n",
      " 12%|█▎        | 5/40 [00:00<00:04,  8.04it/s]\u001b[A\n",
      " 15%|█▌        | 6/40 [00:00<00:04,  7.66it/s]\u001b[A\n",
      " 18%|█▊        | 7/40 [00:00<00:04,  7.42it/s]\u001b[A\n",
      " 20%|██        | 8/40 [00:01<00:04,  7.26it/s]\u001b[A\n",
      " 22%|██▎       | 9/40 [00:01<00:04,  7.15it/s]\u001b[A\n",
      " 25%|██▌       | 10/40 [00:01<00:04,  7.08it/s]\u001b[A\n",
      " 28%|██▊       | 11/40 [00:01<00:04,  7.03it/s]\u001b[A\n",
      " 30%|███       | 12/40 [00:01<00:04,  6.99it/s]\u001b[A\n",
      " 32%|███▎      | 13/40 [00:01<00:03,  6.96it/s]\u001b[A\n",
      " 35%|███▌      | 14/40 [00:01<00:03,  6.95it/s]\u001b[A\n",
      " 38%|███▊      | 15/40 [00:02<00:03,  6.93it/s]\u001b[A\n",
      " 40%|████      | 16/40 [00:02<00:03,  6.93it/s]\u001b[A\n",
      " 42%|████▎     | 17/40 [00:02<00:03,  6.92it/s]\u001b[A\n",
      " 45%|████▌     | 18/40 [00:02<00:03,  6.92it/s]\u001b[A\n",
      " 48%|████▊     | 19/40 [00:02<00:03,  6.92it/s]\u001b[A\n",
      " 50%|█████     | 20/40 [00:02<00:02,  6.92it/s]\u001b[A\n",
      " 52%|█████▎    | 21/40 [00:02<00:02,  6.91it/s]\u001b[A\n",
      " 55%|█████▌    | 22/40 [00:03<00:02,  6.91it/s]\u001b[A\n",
      " 57%|█████▊    | 23/40 [00:03<00:02,  6.91it/s]\u001b[A\n",
      " 60%|██████    | 24/40 [00:03<00:02,  6.91it/s]\u001b[A\n",
      " 62%|██████▎   | 25/40 [00:03<00:02,  6.91it/s]\u001b[A\n",
      " 65%|██████▌   | 26/40 [00:03<00:02,  6.91it/s]\u001b[A\n",
      " 68%|██████▊   | 27/40 [00:03<00:01,  6.91it/s]\u001b[A\n",
      " 70%|███████   | 28/40 [00:03<00:01,  6.91it/s]\u001b[A\n",
      " 72%|███████▎  | 29/40 [00:04<00:01,  6.91it/s]\u001b[A\n",
      " 75%|███████▌  | 30/40 [00:04<00:01,  6.91it/s]\u001b[A\n",
      " 78%|███████▊  | 31/40 [00:04<00:01,  6.91it/s]\u001b[A\n",
      " 80%|████████  | 32/40 [00:04<00:01,  6.91it/s]\u001b[A\n",
      " 82%|████████▎ | 33/40 [00:04<00:01,  6.91it/s]\u001b[A\n",
      " 85%|████████▌ | 34/40 [00:04<00:00,  6.91it/s]\u001b[A\n",
      " 88%|████████▊ | 35/40 [00:04<00:00,  6.91it/s]\u001b[A\n",
      " 90%|█████████ | 36/40 [00:05<00:00,  6.91it/s]\u001b[A\n",
      " 92%|█████████▎| 37/40 [00:05<00:00,  6.91it/s]\u001b[A\n",
      " 95%|█████████▌| 38/40 [00:05<00:00,  6.91it/s]\u001b[A\n",
      "                                                         \n",
      " 47%|████▋     | 36500/78140 [4:16:17<4:30:21,  2.57it/s]\n",
      "100%|██████████| 40/40 [00:05<00:00,  7.07it/s]\u001b[A\n",
      "                                               \u001b[A"
     ]
    },
    {
     "name": "stdout",
     "output_type": "stream",
     "text": [
      "{'eval_loss': 0.07696078717708588, 'eval_token_accuracy': 0.9690819927586048, 'eval_exact_match_accuracy': 0.664, 'eval_runtime': 5.9624, 'eval_samples_per_second': 1677.186, 'eval_steps_per_second': 6.709, 'epoch': 9.34}\n"
     ]
    },
    {
     "name": "stderr",
     "output_type": "stream",
     "text": [
      " 47%|████▋     | 37000/78140 [4:19:42<4:27:21,  2.56it/s] \n",
      "  0%|          | 0/40 [00:00<?, ?it/s]\u001b[A"
     ]
    },
    {
     "name": "stdout",
     "output_type": "stream",
     "text": [
      "{'loss': 0.0885, 'grad_norm': 0.5854758024215698, 'learning_rate': 5.418442634855191e-05, 'epoch': 9.47}\n"
     ]
    },
    {
     "name": "stderr",
     "output_type": "stream",
     "text": [
      "\n",
      "  5%|▌         | 2/40 [00:00<00:02, 13.74it/s]\u001b[A\n",
      " 10%|█         | 4/40 [00:00<00:04,  8.67it/s]\u001b[A\n",
      " 12%|█▎        | 5/40 [00:00<00:04,  8.06it/s]\u001b[A\n",
      " 15%|█▌        | 6/40 [00:00<00:04,  7.68it/s]\u001b[A\n",
      " 18%|█▊        | 7/40 [00:00<00:04,  7.43it/s]\u001b[A\n",
      " 20%|██        | 8/40 [00:01<00:04,  7.27it/s]\u001b[A\n",
      " 22%|██▎       | 9/40 [00:01<00:04,  7.15it/s]\u001b[A\n",
      " 25%|██▌       | 10/40 [00:01<00:04,  7.08it/s]\u001b[A\n",
      " 28%|██▊       | 11/40 [00:01<00:04,  7.03it/s]\u001b[A\n",
      " 30%|███       | 12/40 [00:01<00:04,  6.98it/s]\u001b[A\n",
      " 32%|███▎      | 13/40 [00:01<00:03,  6.96it/s]\u001b[A\n",
      " 35%|███▌      | 14/40 [00:01<00:03,  6.95it/s]\u001b[A\n",
      " 38%|███▊      | 15/40 [00:02<00:03,  6.94it/s]\u001b[A\n",
      " 40%|████      | 16/40 [00:02<00:03,  6.93it/s]\u001b[A\n",
      " 42%|████▎     | 17/40 [00:02<00:03,  6.92it/s]\u001b[A\n",
      " 45%|████▌     | 18/40 [00:02<00:03,  6.91it/s]\u001b[A\n",
      " 48%|████▊     | 19/40 [00:02<00:03,  6.91it/s]\u001b[A\n",
      " 50%|█████     | 20/40 [00:02<00:02,  6.91it/s]\u001b[A\n",
      " 52%|█████▎    | 21/40 [00:02<00:02,  6.91it/s]\u001b[A\n",
      " 55%|█████▌    | 22/40 [00:03<00:02,  6.91it/s]\u001b[A\n",
      " 57%|█████▊    | 23/40 [00:03<00:02,  6.91it/s]\u001b[A\n",
      " 60%|██████    | 24/40 [00:03<00:02,  6.91it/s]\u001b[A\n",
      " 62%|██████▎   | 25/40 [00:03<00:02,  6.91it/s]\u001b[A\n",
      " 65%|██████▌   | 26/40 [00:03<00:02,  6.91it/s]\u001b[A\n",
      " 68%|██████▊   | 27/40 [00:03<00:01,  6.91it/s]\u001b[A\n",
      " 70%|███████   | 28/40 [00:03<00:01,  6.91it/s]\u001b[A\n",
      " 72%|███████▎  | 29/40 [00:04<00:01,  6.91it/s]\u001b[A\n",
      " 75%|███████▌  | 30/40 [00:04<00:01,  6.91it/s]\u001b[A\n",
      " 78%|███████▊  | 31/40 [00:04<00:01,  6.91it/s]\u001b[A\n",
      " 80%|████████  | 32/40 [00:04<00:01,  6.91it/s]\u001b[A\n",
      " 82%|████████▎ | 33/40 [00:04<00:01,  6.91it/s]\u001b[A\n",
      " 85%|████████▌ | 34/40 [00:04<00:00,  6.91it/s]\u001b[A\n",
      " 88%|████████▊ | 35/40 [00:04<00:00,  6.91it/s]\u001b[A\n",
      " 90%|█████████ | 36/40 [00:05<00:00,  6.91it/s]\u001b[A\n",
      " 92%|█████████▎| 37/40 [00:05<00:00,  6.91it/s]\u001b[A\n",
      " 95%|█████████▌| 38/40 [00:05<00:00,  6.91it/s]\u001b[A\n",
      "                                                         \n",
      " 47%|████▋     | 37000/78140 [4:19:47<4:27:21,  2.56it/s]\n",
      "100%|██████████| 40/40 [00:05<00:00,  7.07it/s]\u001b[A\n",
      "                                               \u001b[A"
     ]
    },
    {
     "name": "stdout",
     "output_type": "stream",
     "text": [
      "{'eval_loss': 0.07605323195457458, 'eval_token_accuracy': 0.9692286539254777, 'eval_exact_match_accuracy': 0.6646, 'eval_runtime': 5.9374, 'eval_samples_per_second': 1684.242, 'eval_steps_per_second': 6.737, 'epoch': 9.47}\n"
     ]
    },
    {
     "name": "stderr",
     "output_type": "stream",
     "text": [
      " 48%|████▊     | 37500/78140 [4:23:12<4:24:01,  2.57it/s] \n",
      "  0%|          | 0/40 [00:00<?, ?it/s]\u001b[A"
     ]
    },
    {
     "name": "stdout",
     "output_type": "stream",
     "text": [
      "{'loss': 0.0883, 'grad_norm': 1.0146907567977905, 'learning_rate': 5.318205768277265e-05, 'epoch': 9.6}\n"
     ]
    },
    {
     "name": "stderr",
     "output_type": "stream",
     "text": [
      "\n",
      "  5%|▌         | 2/40 [00:00<00:02, 13.82it/s]\u001b[A\n",
      " 10%|█         | 4/40 [00:00<00:04,  8.69it/s]\u001b[A\n",
      " 12%|█▎        | 5/40 [00:00<00:04,  8.07it/s]\u001b[A\n",
      " 15%|█▌        | 6/40 [00:00<00:04,  7.68it/s]\u001b[A\n",
      " 18%|█▊        | 7/40 [00:00<00:04,  7.44it/s]\u001b[A\n",
      " 20%|██        | 8/40 [00:01<00:04,  7.27it/s]\u001b[A\n",
      " 22%|██▎       | 9/40 [00:01<00:04,  7.16it/s]\u001b[A\n",
      " 25%|██▌       | 10/40 [00:01<00:04,  7.08it/s]\u001b[A\n",
      " 28%|██▊       | 11/40 [00:01<00:04,  7.03it/s]\u001b[A\n",
      " 30%|███       | 12/40 [00:01<00:04,  7.00it/s]\u001b[A\n",
      " 32%|███▎      | 13/40 [00:01<00:03,  6.97it/s]\u001b[A\n",
      " 35%|███▌      | 14/40 [00:01<00:03,  6.96it/s]\u001b[A\n",
      " 38%|███▊      | 15/40 [00:02<00:03,  6.94it/s]\u001b[A\n",
      " 40%|████      | 16/40 [00:02<00:03,  6.93it/s]\u001b[A\n",
      " 42%|████▎     | 17/40 [00:02<00:03,  6.93it/s]\u001b[A\n",
      " 45%|████▌     | 18/40 [00:02<00:03,  6.93it/s]\u001b[A\n",
      " 48%|████▊     | 19/40 [00:02<00:03,  6.92it/s]\u001b[A\n",
      " 50%|█████     | 20/40 [00:02<00:02,  6.92it/s]\u001b[A\n",
      " 52%|█████▎    | 21/40 [00:02<00:02,  6.92it/s]\u001b[A\n",
      " 55%|█████▌    | 22/40 [00:03<00:02,  6.92it/s]\u001b[A\n",
      " 57%|█████▊    | 23/40 [00:03<00:02,  6.91it/s]\u001b[A\n",
      " 60%|██████    | 24/40 [00:03<00:02,  6.91it/s]\u001b[A\n",
      " 62%|██████▎   | 25/40 [00:03<00:02,  6.91it/s]\u001b[A\n",
      " 65%|██████▌   | 26/40 [00:03<00:02,  6.91it/s]\u001b[A\n",
      " 68%|██████▊   | 27/40 [00:03<00:01,  6.91it/s]\u001b[A\n",
      " 70%|███████   | 28/40 [00:03<00:01,  6.91it/s]\u001b[A\n",
      " 72%|███████▎  | 29/40 [00:04<00:01,  6.91it/s]\u001b[A\n",
      " 75%|███████▌  | 30/40 [00:04<00:01,  6.91it/s]\u001b[A\n",
      " 78%|███████▊  | 31/40 [00:04<00:01,  6.91it/s]\u001b[A\n",
      " 80%|████████  | 32/40 [00:04<00:01,  6.91it/s]\u001b[A\n",
      " 82%|████████▎ | 33/40 [00:04<00:01,  6.90it/s]\u001b[A\n",
      " 85%|████████▌ | 34/40 [00:04<00:00,  6.90it/s]\u001b[A\n",
      " 88%|████████▊ | 35/40 [00:04<00:00,  6.91it/s]\u001b[A\n",
      " 90%|█████████ | 36/40 [00:05<00:00,  6.91it/s]\u001b[A\n",
      " 92%|█████████▎| 37/40 [00:05<00:00,  6.91it/s]\u001b[A\n",
      " 95%|█████████▌| 38/40 [00:05<00:00,  6.91it/s]\u001b[A\n",
      "                                                         \n",
      " 48%|████▊     | 37500/78140 [4:23:18<4:24:01,  2.57it/s]\n",
      "100%|██████████| 40/40 [00:05<00:00,  7.07it/s]\u001b[A\n",
      "                                               \u001b[A"
     ]
    },
    {
     "name": "stdout",
     "output_type": "stream",
     "text": [
      "{'eval_loss': 0.07797177881002426, 'eval_token_accuracy': 0.9688436683624364, 'eval_exact_match_accuracy': 0.6612, 'eval_runtime': 5.9308, 'eval_samples_per_second': 1686.107, 'eval_steps_per_second': 6.744, 'epoch': 9.6}\n"
     ]
    },
    {
     "name": "stderr",
     "output_type": "stream",
     "text": [
      " 49%|████▊     | 38000/78140 [4:26:42<4:20:57,  2.56it/s] \n",
      "  0%|          | 0/40 [00:00<?, ?it/s]\u001b[A"
     ]
    },
    {
     "name": "stdout",
     "output_type": "stream",
     "text": [
      "{'loss': 0.0881, 'grad_norm': 0.5576395392417908, 'learning_rate': 5.217840317867629e-05, 'epoch': 9.73}\n"
     ]
    },
    {
     "name": "stderr",
     "output_type": "stream",
     "text": [
      "\n",
      "  5%|▌         | 2/40 [00:00<00:02, 13.81it/s]\u001b[A\n",
      " 10%|█         | 4/40 [00:00<00:04,  8.69it/s]\u001b[A\n",
      " 12%|█▎        | 5/40 [00:00<00:04,  8.07it/s]\u001b[A\n",
      " 15%|█▌        | 6/40 [00:00<00:04,  7.69it/s]\u001b[A\n",
      " 18%|█▊        | 7/40 [00:00<00:04,  7.44it/s]\u001b[A\n",
      " 20%|██        | 8/40 [00:01<00:04,  7.27it/s]\u001b[A\n",
      " 22%|██▎       | 9/40 [00:01<00:04,  7.16it/s]\u001b[A\n",
      " 25%|██▌       | 10/40 [00:01<00:04,  7.08it/s]\u001b[A\n",
      " 28%|██▊       | 11/40 [00:01<00:04,  7.03it/s]\u001b[A\n",
      " 30%|███       | 12/40 [00:01<00:04,  6.99it/s]\u001b[A\n",
      " 32%|███▎      | 13/40 [00:01<00:03,  6.96it/s]\u001b[A\n",
      " 35%|███▌      | 14/40 [00:01<00:03,  6.95it/s]\u001b[A\n",
      " 38%|███▊      | 15/40 [00:02<00:03,  6.93it/s]\u001b[A\n",
      " 40%|████      | 16/40 [00:02<00:03,  6.93it/s]\u001b[A\n",
      " 42%|████▎     | 17/40 [00:02<00:03,  6.92it/s]\u001b[A\n",
      " 45%|████▌     | 18/40 [00:02<00:03,  6.92it/s]\u001b[A\n",
      " 48%|████▊     | 19/40 [00:02<00:03,  6.91it/s]\u001b[A\n",
      " 50%|█████     | 20/40 [00:02<00:02,  6.91it/s]\u001b[A\n",
      " 52%|█████▎    | 21/40 [00:02<00:02,  6.91it/s]\u001b[A\n",
      " 55%|█████▌    | 22/40 [00:03<00:02,  6.91it/s]\u001b[A\n",
      " 57%|█████▊    | 23/40 [00:03<00:02,  6.91it/s]\u001b[A\n",
      " 60%|██████    | 24/40 [00:03<00:02,  6.91it/s]\u001b[A\n",
      " 62%|██████▎   | 25/40 [00:03<00:02,  6.91it/s]\u001b[A\n",
      " 65%|██████▌   | 26/40 [00:03<00:02,  6.91it/s]\u001b[A\n",
      " 68%|██████▊   | 27/40 [00:03<00:01,  6.91it/s]\u001b[A\n",
      " 70%|███████   | 28/40 [00:03<00:01,  6.91it/s]\u001b[A\n",
      " 72%|███████▎  | 29/40 [00:04<00:01,  6.91it/s]\u001b[A\n",
      " 75%|███████▌  | 30/40 [00:04<00:01,  6.91it/s]\u001b[A\n",
      " 78%|███████▊  | 31/40 [00:04<00:01,  6.91it/s]\u001b[A\n",
      " 80%|████████  | 32/40 [00:04<00:01,  6.91it/s]\u001b[A\n",
      " 82%|████████▎ | 33/40 [00:04<00:01,  6.91it/s]\u001b[A\n",
      " 85%|████████▌ | 34/40 [00:04<00:00,  6.91it/s]\u001b[A\n",
      " 88%|████████▊ | 35/40 [00:04<00:00,  6.91it/s]\u001b[A\n",
      " 90%|█████████ | 36/40 [00:05<00:00,  6.91it/s]\u001b[A\n",
      " 92%|█████████▎| 37/40 [00:05<00:00,  6.91it/s]\u001b[A\n",
      " 95%|█████████▌| 38/40 [00:05<00:00,  6.90it/s]\u001b[A\n",
      "                                                         \n",
      " 49%|████▊     | 38000/78140 [4:26:48<4:20:57,  2.56it/s]\n",
      "100%|██████████| 40/40 [00:05<00:00,  7.06it/s]\u001b[A\n",
      "                                               \u001b[A"
     ]
    },
    {
     "name": "stdout",
     "output_type": "stream",
     "text": [
      "{'eval_loss': 0.08065419644117355, 'eval_token_accuracy': 0.9685320133828315, 'eval_exact_match_accuracy': 0.6612, 'eval_runtime': 5.9357, 'eval_samples_per_second': 1684.726, 'eval_steps_per_second': 6.739, 'epoch': 9.73}\n"
     ]
    },
    {
     "name": "stderr",
     "output_type": "stream",
     "text": [
      " 49%|████▉     | 38500/78140 [4:30:12<4:17:32,  2.57it/s] \n",
      "  0%|          | 0/40 [00:00<?, ?it/s]\u001b[A"
     ]
    },
    {
     "name": "stdout",
     "output_type": "stream",
     "text": [
      "{'loss': 0.0874, 'grad_norm': 1.208359718322754, 'learning_rate': 5.117386840320954e-05, 'epoch': 9.85}\n"
     ]
    },
    {
     "name": "stderr",
     "output_type": "stream",
     "text": [
      "\n",
      "  5%|▌         | 2/40 [00:00<00:02, 13.84it/s]\u001b[A\n",
      " 10%|█         | 4/40 [00:00<00:04,  8.70it/s]\u001b[A\n",
      " 12%|█▎        | 5/40 [00:00<00:04,  8.07it/s]\u001b[A\n",
      " 15%|█▌        | 6/40 [00:00<00:04,  7.69it/s]\u001b[A\n",
      " 18%|█▊        | 7/40 [00:00<00:04,  7.44it/s]\u001b[A\n",
      " 20%|██        | 8/40 [00:01<00:04,  7.27it/s]\u001b[A\n",
      " 22%|██▎       | 9/40 [00:01<00:04,  7.16it/s]\u001b[A\n",
      " 25%|██▌       | 10/40 [00:01<00:04,  7.09it/s]\u001b[A\n",
      " 28%|██▊       | 11/40 [00:01<00:04,  7.03it/s]\u001b[A\n",
      " 30%|███       | 12/40 [00:01<00:04,  6.99it/s]\u001b[A\n",
      " 32%|███▎      | 13/40 [00:01<00:03,  6.97it/s]\u001b[A\n",
      " 35%|███▌      | 14/40 [00:01<00:03,  6.95it/s]\u001b[A\n",
      " 38%|███▊      | 15/40 [00:02<00:03,  6.94it/s]\u001b[A\n",
      " 40%|████      | 16/40 [00:02<00:03,  6.93it/s]\u001b[A\n",
      " 42%|████▎     | 17/40 [00:02<00:03,  6.92it/s]\u001b[A\n",
      " 45%|████▌     | 18/40 [00:02<00:03,  6.92it/s]\u001b[A\n",
      " 48%|████▊     | 19/40 [00:02<00:03,  6.92it/s]\u001b[A\n",
      " 50%|█████     | 20/40 [00:02<00:02,  6.92it/s]\u001b[A\n",
      " 52%|█████▎    | 21/40 [00:02<00:02,  6.92it/s]\u001b[A\n",
      " 55%|█████▌    | 22/40 [00:03<00:02,  6.91it/s]\u001b[A\n",
      " 57%|█████▊    | 23/40 [00:03<00:02,  6.91it/s]\u001b[A\n",
      " 60%|██████    | 24/40 [00:03<00:02,  6.91it/s]\u001b[A\n",
      " 62%|██████▎   | 25/40 [00:03<00:02,  6.91it/s]\u001b[A\n",
      " 65%|██████▌   | 26/40 [00:03<00:02,  6.91it/s]\u001b[A\n",
      " 68%|██████▊   | 27/40 [00:03<00:01,  6.91it/s]\u001b[A\n",
      " 70%|███████   | 28/40 [00:03<00:01,  6.91it/s]\u001b[A\n",
      " 72%|███████▎  | 29/40 [00:04<00:01,  6.91it/s]\u001b[A\n",
      " 75%|███████▌  | 30/40 [00:04<00:01,  6.91it/s]\u001b[A\n",
      " 78%|███████▊  | 31/40 [00:04<00:01,  6.91it/s]\u001b[A\n",
      " 80%|████████  | 32/40 [00:04<00:01,  6.91it/s]\u001b[A\n",
      " 82%|████████▎ | 33/40 [00:04<00:01,  6.91it/s]\u001b[A\n",
      " 85%|████████▌ | 34/40 [00:04<00:00,  6.92it/s]\u001b[A\n",
      " 88%|████████▊ | 35/40 [00:04<00:00,  6.92it/s]\u001b[A\n",
      " 90%|█████████ | 36/40 [00:05<00:00,  6.92it/s]\u001b[A\n",
      " 92%|█████████▎| 37/40 [00:05<00:00,  6.91it/s]\u001b[A\n",
      " 95%|█████████▌| 38/40 [00:05<00:00,  6.91it/s]\u001b[A\n",
      "                                                         \n",
      " 49%|████▉     | 38500/78140 [4:30:18<4:17:32,  2.57it/s]\n",
      "100%|██████████| 40/40 [00:05<00:00,  7.07it/s]\u001b[A\n",
      "                                               \u001b[A"
     ]
    },
    {
     "name": "stdout",
     "output_type": "stream",
     "text": [
      "{'eval_loss': 0.07961258292198181, 'eval_token_accuracy': 0.9687703377789999, 'eval_exact_match_accuracy': 0.663, 'eval_runtime': 5.9266, 'eval_samples_per_second': 1687.314, 'eval_steps_per_second': 6.749, 'epoch': 9.85}\n"
     ]
    },
    {
     "name": "stderr",
     "output_type": "stream",
     "text": [
      " 50%|████▉     | 39000/78140 [4:33:42<4:14:26,  2.56it/s] \n",
      "  0%|          | 0/40 [00:00<?, ?it/s]\u001b[A"
     ]
    },
    {
     "name": "stdout",
     "output_type": "stream",
     "text": [
      "{'loss': 0.0874, 'grad_norm': 0.7922747135162354, 'learning_rate': 5.016885927902805e-05, 'epoch': 9.98}\n"
     ]
    },
    {
     "name": "stderr",
     "output_type": "stream",
     "text": [
      "\n",
      "  5%|▌         | 2/40 [00:00<00:02, 13.82it/s]\u001b[A\n",
      " 10%|█         | 4/40 [00:00<00:04,  8.70it/s]\u001b[A\n",
      " 12%|█▎        | 5/40 [00:00<00:04,  8.08it/s]\u001b[A\n",
      " 15%|█▌        | 6/40 [00:00<00:04,  7.69it/s]\u001b[A\n",
      " 18%|█▊        | 7/40 [00:00<00:04,  7.44it/s]\u001b[A\n",
      " 20%|██        | 8/40 [00:01<00:04,  7.27it/s]\u001b[A\n",
      " 22%|██▎       | 9/40 [00:01<00:04,  7.16it/s]\u001b[A\n",
      " 25%|██▌       | 10/40 [00:01<00:04,  7.08it/s]\u001b[A\n",
      " 28%|██▊       | 11/40 [00:01<00:04,  7.03it/s]\u001b[A\n",
      " 30%|███       | 12/40 [00:01<00:04,  6.99it/s]\u001b[A\n",
      " 32%|███▎      | 13/40 [00:01<00:03,  6.97it/s]\u001b[A\n",
      " 35%|███▌      | 14/40 [00:01<00:03,  6.95it/s]\u001b[A\n",
      " 38%|███▊      | 15/40 [00:02<00:03,  6.93it/s]\u001b[A\n",
      " 40%|████      | 16/40 [00:02<00:03,  6.92it/s]\u001b[A\n",
      " 42%|████▎     | 17/40 [00:02<00:03,  6.91it/s]\u001b[A\n",
      " 45%|████▌     | 18/40 [00:02<00:03,  6.91it/s]\u001b[A\n",
      " 48%|████▊     | 19/40 [00:02<00:03,  6.91it/s]\u001b[A\n",
      " 50%|█████     | 20/40 [00:02<00:02,  6.91it/s]\u001b[A\n",
      " 52%|█████▎    | 21/40 [00:02<00:02,  6.91it/s]\u001b[A\n",
      " 55%|█████▌    | 22/40 [00:03<00:02,  6.91it/s]\u001b[A\n",
      " 57%|█████▊    | 23/40 [00:03<00:02,  6.91it/s]\u001b[A\n",
      " 60%|██████    | 24/40 [00:03<00:02,  6.91it/s]\u001b[A\n",
      " 62%|██████▎   | 25/40 [00:03<00:02,  6.91it/s]\u001b[A\n",
      " 65%|██████▌   | 26/40 [00:03<00:02,  6.91it/s]\u001b[A\n",
      " 68%|██████▊   | 27/40 [00:03<00:01,  6.91it/s]\u001b[A\n",
      " 70%|███████   | 28/40 [00:03<00:01,  6.91it/s]\u001b[A\n",
      " 72%|███████▎  | 29/40 [00:04<00:01,  6.91it/s]\u001b[A\n",
      " 75%|███████▌  | 30/40 [00:04<00:01,  6.91it/s]\u001b[A\n",
      " 78%|███████▊  | 31/40 [00:04<00:01,  6.91it/s]\u001b[A\n",
      " 80%|████████  | 32/40 [00:04<00:01,  6.91it/s]\u001b[A\n",
      " 82%|████████▎ | 33/40 [00:04<00:01,  6.91it/s]\u001b[A\n",
      " 85%|████████▌ | 34/40 [00:04<00:00,  6.91it/s]\u001b[A\n",
      " 88%|████████▊ | 35/40 [00:04<00:00,  6.91it/s]\u001b[A\n",
      " 90%|█████████ | 36/40 [00:05<00:00,  6.91it/s]\u001b[A\n",
      " 92%|█████████▎| 37/40 [00:05<00:00,  6.91it/s]\u001b[A\n",
      " 95%|█████████▌| 38/40 [00:05<00:00,  6.91it/s]\u001b[A\n",
      "                                                         \n",
      " 50%|████▉     | 39000/78140 [4:33:48<4:14:26,  2.56it/s]\n",
      "100%|██████████| 40/40 [00:05<00:00,  7.07it/s]\u001b[A\n",
      "                                               \u001b[A"
     ]
    },
    {
     "name": "stdout",
     "output_type": "stream",
     "text": [
      "{'eval_loss': 0.07793156057596207, 'eval_token_accuracy': 0.9688894999770842, 'eval_exact_match_accuracy': 0.6628, 'eval_runtime': 5.935, 'eval_samples_per_second': 1684.931, 'eval_steps_per_second': 6.74, 'epoch': 9.98}\n"
     ]
    },
    {
     "name": "stderr",
     "output_type": "stream",
     "text": [
      " 51%|█████     | 39500/78140 [4:37:12<4:11:05,  2.56it/s] \n",
      "  0%|          | 0/40 [00:00<?, ?it/s]\u001b[A"
     ]
    },
    {
     "name": "stdout",
     "output_type": "stream",
     "text": [
      "{'loss': 0.0862, 'grad_norm': 0.24597930908203125, 'learning_rate': 4.916378192046714e-05, 'epoch': 10.11}\n"
     ]
    },
    {
     "name": "stderr",
     "output_type": "stream",
     "text": [
      "\n",
      "  5%|▌         | 2/40 [00:00<00:02, 13.82it/s]\u001b[A\n",
      " 10%|█         | 4/40 [00:00<00:04,  8.70it/s]\u001b[A\n",
      " 12%|█▎        | 5/40 [00:00<00:04,  8.08it/s]\u001b[A\n",
      " 15%|█▌        | 6/40 [00:00<00:04,  7.68it/s]\u001b[A\n",
      " 18%|█▊        | 7/40 [00:00<00:04,  7.44it/s]\u001b[A\n",
      " 20%|██        | 8/40 [00:01<00:04,  7.27it/s]\u001b[A\n",
      " 22%|██▎       | 9/40 [00:01<00:04,  7.16it/s]\u001b[A\n",
      " 25%|██▌       | 10/40 [00:01<00:04,  7.08it/s]\u001b[A\n",
      " 28%|██▊       | 11/40 [00:01<00:04,  7.03it/s]\u001b[A\n",
      " 30%|███       | 12/40 [00:01<00:04,  6.99it/s]\u001b[A\n",
      " 32%|███▎      | 13/40 [00:01<00:03,  6.97it/s]\u001b[A\n",
      " 35%|███▌      | 14/40 [00:01<00:03,  6.95it/s]\u001b[A\n",
      " 38%|███▊      | 15/40 [00:02<00:03,  6.94it/s]\u001b[A\n",
      " 40%|████      | 16/40 [00:02<00:03,  6.93it/s]\u001b[A\n",
      " 42%|████▎     | 17/40 [00:02<00:03,  6.92it/s]\u001b[A\n",
      " 45%|████▌     | 18/40 [00:02<00:03,  6.92it/s]\u001b[A\n",
      " 48%|████▊     | 19/40 [00:02<00:03,  6.92it/s]\u001b[A\n",
      " 50%|█████     | 20/40 [00:02<00:02,  6.92it/s]\u001b[A\n",
      " 52%|█████▎    | 21/40 [00:02<00:02,  6.92it/s]\u001b[A\n",
      " 55%|█████▌    | 22/40 [00:03<00:02,  6.92it/s]\u001b[A\n",
      " 57%|█████▊    | 23/40 [00:03<00:02,  6.92it/s]\u001b[A\n",
      " 60%|██████    | 24/40 [00:03<00:02,  6.91it/s]\u001b[A\n",
      " 62%|██████▎   | 25/40 [00:03<00:02,  6.91it/s]\u001b[A\n",
      " 65%|██████▌   | 26/40 [00:03<00:02,  6.91it/s]\u001b[A\n",
      " 68%|██████▊   | 27/40 [00:03<00:01,  6.91it/s]\u001b[A\n",
      " 70%|███████   | 28/40 [00:03<00:01,  6.91it/s]\u001b[A\n",
      " 72%|███████▎  | 29/40 [00:04<00:01,  6.91it/s]\u001b[A\n",
      " 75%|███████▌  | 30/40 [00:04<00:01,  6.91it/s]\u001b[A\n",
      " 78%|███████▊  | 31/40 [00:04<00:01,  6.91it/s]\u001b[A\n",
      " 80%|████████  | 32/40 [00:04<00:01,  6.91it/s]\u001b[A\n",
      " 82%|████████▎ | 33/40 [00:04<00:01,  6.91it/s]\u001b[A\n",
      " 85%|████████▌ | 34/40 [00:04<00:00,  6.91it/s]\u001b[A\n",
      " 88%|████████▊ | 35/40 [00:04<00:00,  6.91it/s]\u001b[A\n",
      " 90%|█████████ | 36/40 [00:05<00:00,  6.91it/s]\u001b[A\n",
      " 92%|█████████▎| 37/40 [00:05<00:00,  6.91it/s]\u001b[A\n",
      " 95%|█████████▌| 38/40 [00:05<00:00,  6.91it/s]\u001b[A\n",
      "                                                         \n",
      " 51%|█████     | 39500/78140 [4:37:18<4:11:05,  2.56it/s]\n",
      "100%|██████████| 40/40 [00:05<00:00,  7.07it/s]\u001b[A\n",
      "                                               \u001b[A"
     ]
    },
    {
     "name": "stdout",
     "output_type": "stream",
     "text": [
      "{'eval_loss': 0.0792895257472992, 'eval_token_accuracy': 0.9686786745497044, 'eval_exact_match_accuracy': 0.6619, 'eval_runtime': 5.9265, 'eval_samples_per_second': 1687.327, 'eval_steps_per_second': 6.749, 'epoch': 10.11}\n"
     ]
    },
    {
     "name": "stderr",
     "output_type": "stream",
     "text": [
      " 51%|█████     | 40000/78140 [4:40:42<4:08:04,  2.56it/s] \n",
      "  0%|          | 0/40 [00:00<?, ?it/s]\u001b[A"
     ]
    },
    {
     "name": "stdout",
     "output_type": "stream",
     "text": [
      "{'loss': 0.0868, 'grad_norm': 0.42010191082954407, 'learning_rate': 4.8161051341207505e-05, 'epoch': 10.24}\n"
     ]
    },
    {
     "name": "stderr",
     "output_type": "stream",
     "text": [
      "\n",
      "  5%|▌         | 2/40 [00:00<00:02, 13.94it/s]\u001b[A\n",
      " 10%|█         | 4/40 [00:00<00:04,  8.71it/s]\u001b[A\n",
      " 12%|█▎        | 5/40 [00:00<00:04,  8.09it/s]\u001b[A\n",
      " 15%|█▌        | 6/40 [00:00<00:04,  7.70it/s]\u001b[A\n",
      " 18%|█▊        | 7/40 [00:00<00:04,  7.44it/s]\u001b[A\n",
      " 20%|██        | 8/40 [00:01<00:04,  7.27it/s]\u001b[A\n",
      " 22%|██▎       | 9/40 [00:01<00:04,  7.16it/s]\u001b[A\n",
      " 25%|██▌       | 10/40 [00:01<00:04,  7.08it/s]\u001b[A\n",
      " 28%|██▊       | 11/40 [00:01<00:04,  7.03it/s]\u001b[A\n",
      " 30%|███       | 12/40 [00:01<00:04,  7.00it/s]\u001b[A\n",
      " 32%|███▎      | 13/40 [00:01<00:03,  6.97it/s]\u001b[A\n",
      " 35%|███▌      | 14/40 [00:01<00:03,  6.95it/s]\u001b[A\n",
      " 38%|███▊      | 15/40 [00:02<00:03,  6.94it/s]\u001b[A\n",
      " 40%|████      | 16/40 [00:02<00:03,  6.93it/s]\u001b[A\n",
      " 42%|████▎     | 17/40 [00:02<00:03,  6.93it/s]\u001b[A\n",
      " 45%|████▌     | 18/40 [00:02<00:03,  6.92it/s]\u001b[A\n",
      " 48%|████▊     | 19/40 [00:02<00:03,  6.92it/s]\u001b[A\n",
      " 50%|█████     | 20/40 [00:02<00:02,  6.91it/s]\u001b[A\n",
      " 52%|█████▎    | 21/40 [00:02<00:02,  6.91it/s]\u001b[A\n",
      " 55%|█████▌    | 22/40 [00:03<00:02,  6.91it/s]\u001b[A\n",
      " 57%|█████▊    | 23/40 [00:03<00:02,  6.91it/s]\u001b[A\n",
      " 60%|██████    | 24/40 [00:03<00:02,  6.91it/s]\u001b[A\n",
      " 62%|██████▎   | 25/40 [00:03<00:02,  6.91it/s]\u001b[A\n",
      " 65%|██████▌   | 26/40 [00:03<00:02,  6.91it/s]\u001b[A\n",
      " 68%|██████▊   | 27/40 [00:03<00:01,  6.91it/s]\u001b[A\n",
      " 70%|███████   | 28/40 [00:03<00:01,  6.91it/s]\u001b[A\n",
      " 72%|███████▎  | 29/40 [00:04<00:01,  6.91it/s]\u001b[A\n",
      " 75%|███████▌  | 30/40 [00:04<00:01,  6.91it/s]\u001b[A\n",
      " 78%|███████▊  | 31/40 [00:04<00:01,  6.91it/s]\u001b[A\n",
      " 80%|████████  | 32/40 [00:04<00:01,  6.91it/s]\u001b[A\n",
      " 82%|████████▎ | 33/40 [00:04<00:01,  6.91it/s]\u001b[A\n",
      " 85%|████████▌ | 34/40 [00:04<00:00,  6.91it/s]\u001b[A\n",
      " 88%|████████▊ | 35/40 [00:04<00:00,  6.91it/s]\u001b[A\n",
      " 90%|█████████ | 36/40 [00:05<00:00,  6.91it/s]\u001b[A\n",
      " 92%|█████████▎| 37/40 [00:05<00:00,  6.91it/s]\u001b[A\n",
      " 95%|█████████▌| 38/40 [00:05<00:00,  6.91it/s]\u001b[A\n",
      "                                                         \n",
      " 51%|█████     | 40000/78140 [4:40:48<4:08:04,  2.56it/s]\n",
      "100%|██████████| 40/40 [00:05<00:00,  7.08it/s]\u001b[A\n",
      "                                               \u001b[A"
     ]
    },
    {
     "name": "stdout",
     "output_type": "stream",
     "text": [
      "{'eval_loss': 0.07943843305110931, 'eval_token_accuracy': 0.968623676612127, 'eval_exact_match_accuracy': 0.6615, 'eval_runtime': 5.9293, 'eval_samples_per_second': 1686.549, 'eval_steps_per_second': 6.746, 'epoch': 10.24}\n"
     ]
    },
    {
     "name": "stderr",
     "output_type": "stream",
     "text": [
      " 52%|█████▏    | 40500/78140 [4:44:12<4:04:23,  2.57it/s] \n",
      "  0%|          | 0/40 [00:00<?, ?it/s]\u001b[A"
     ]
    },
    {
     "name": "stdout",
     "output_type": "stream",
     "text": [
      "{'loss': 0.0863, 'grad_norm': 0.8536500930786133, 'learning_rate': 4.715705391022065e-05, 'epoch': 10.37}\n"
     ]
    },
    {
     "name": "stderr",
     "output_type": "stream",
     "text": [
      "\n",
      "  5%|▌         | 2/40 [00:00<00:02, 13.84it/s]\u001b[A\n",
      " 10%|█         | 4/40 [00:00<00:04,  8.70it/s]\u001b[A\n",
      " 12%|█▎        | 5/40 [00:00<00:04,  8.07it/s]\u001b[A\n",
      " 15%|█▌        | 6/40 [00:00<00:04,  7.69it/s]\u001b[A\n",
      " 18%|█▊        | 7/40 [00:00<00:04,  7.44it/s]\u001b[A\n",
      " 20%|██        | 8/40 [00:01<00:04,  7.27it/s]\u001b[A\n",
      " 22%|██▎       | 9/40 [00:01<00:04,  7.16it/s]\u001b[A\n",
      " 25%|██▌       | 10/40 [00:01<00:04,  7.08it/s]\u001b[A\n",
      " 28%|██▊       | 11/40 [00:01<00:04,  7.03it/s]\u001b[A\n",
      " 30%|███       | 12/40 [00:01<00:04,  6.99it/s]\u001b[A\n",
      " 32%|███▎      | 13/40 [00:01<00:03,  6.96it/s]\u001b[A\n",
      " 35%|███▌      | 14/40 [00:01<00:03,  6.95it/s]\u001b[A\n",
      " 38%|███▊      | 15/40 [00:02<00:03,  6.94it/s]\u001b[A\n",
      " 40%|████      | 16/40 [00:02<00:03,  6.93it/s]\u001b[A\n",
      " 42%|████▎     | 17/40 [00:02<00:03,  6.93it/s]\u001b[A\n",
      " 45%|████▌     | 18/40 [00:02<00:03,  6.92it/s]\u001b[A\n",
      " 48%|████▊     | 19/40 [00:02<00:03,  6.92it/s]\u001b[A\n",
      " 50%|█████     | 20/40 [00:02<00:02,  6.92it/s]\u001b[A\n",
      " 52%|█████▎    | 21/40 [00:02<00:02,  6.91it/s]\u001b[A\n",
      " 55%|█████▌    | 22/40 [00:03<00:02,  6.92it/s]\u001b[A\n",
      " 57%|█████▊    | 23/40 [00:03<00:02,  6.91it/s]\u001b[A\n",
      " 60%|██████    | 24/40 [00:03<00:02,  6.92it/s]\u001b[A\n",
      " 62%|██████▎   | 25/40 [00:03<00:02,  6.92it/s]\u001b[A\n",
      " 65%|██████▌   | 26/40 [00:03<00:02,  6.91it/s]\u001b[A\n",
      " 68%|██████▊   | 27/40 [00:03<00:01,  6.91it/s]\u001b[A\n",
      " 70%|███████   | 28/40 [00:03<00:01,  6.91it/s]\u001b[A\n",
      " 72%|███████▎  | 29/40 [00:04<00:01,  6.91it/s]\u001b[A\n",
      " 75%|███████▌  | 30/40 [00:04<00:01,  6.91it/s]\u001b[A\n",
      " 78%|███████▊  | 31/40 [00:04<00:01,  6.91it/s]\u001b[A\n",
      " 80%|████████  | 32/40 [00:04<00:01,  6.91it/s]\u001b[A\n",
      " 82%|████████▎ | 33/40 [00:04<00:01,  6.91it/s]\u001b[A\n",
      " 85%|████████▌ | 34/40 [00:04<00:00,  6.91it/s]\u001b[A\n",
      " 88%|████████▊ | 35/40 [00:04<00:00,  6.91it/s]\u001b[A\n",
      " 90%|█████████ | 36/40 [00:05<00:00,  6.91it/s]\u001b[A\n",
      " 92%|█████████▎| 37/40 [00:05<00:00,  6.91it/s]\u001b[A\n",
      " 95%|█████████▌| 38/40 [00:05<00:00,  6.91it/s]\u001b[A\n",
      "                                                         \n",
      " 52%|█████▏    | 40500/78140 [4:44:18<4:04:23,  2.57it/s]\n",
      "100%|██████████| 40/40 [00:05<00:00,  7.07it/s]\u001b[A\n",
      "                                               \u001b[A"
     ]
    },
    {
     "name": "stdout",
     "output_type": "stream",
     "text": [
      "{'eval_loss': 0.08178719133138657, 'eval_token_accuracy': 0.9684220175076768, 'eval_exact_match_accuracy': 0.6609, 'eval_runtime': 5.9325, 'eval_samples_per_second': 1685.636, 'eval_steps_per_second': 6.743, 'epoch': 10.37}\n"
     ]
    },
    {
     "name": "stderr",
     "output_type": "stream",
     "text": [
      " 52%|█████▏    | 41000/78140 [4:47:42<4:01:32,  2.56it/s] \n",
      "  0%|          | 0/40 [00:00<?, ?it/s]\u001b[A"
     ]
    },
    {
     "name": "stdout",
     "output_type": "stream",
     "text": [
      "{'loss': 0.0855, 'grad_norm': 0.6379022002220154, 'learning_rate': 4.6154205285880335e-05, 'epoch': 10.49}\n"
     ]
    },
    {
     "name": "stderr",
     "output_type": "stream",
     "text": [
      "\n",
      "  5%|▌         | 2/40 [00:00<00:02, 13.83it/s]\u001b[A\n",
      " 10%|█         | 4/40 [00:00<00:04,  8.70it/s]\u001b[A\n",
      " 12%|█▎        | 5/40 [00:00<00:04,  8.07it/s]\u001b[A\n",
      " 15%|█▌        | 6/40 [00:00<00:04,  7.69it/s]\u001b[A\n",
      " 18%|█▊        | 7/40 [00:00<00:04,  7.44it/s]\u001b[A\n",
      " 20%|██        | 8/40 [00:01<00:04,  7.27it/s]\u001b[A\n",
      " 22%|██▎       | 9/40 [00:01<00:04,  7.16it/s]\u001b[A\n",
      " 25%|██▌       | 10/40 [00:01<00:04,  7.08it/s]\u001b[A\n",
      " 28%|██▊       | 11/40 [00:01<00:04,  7.03it/s]\u001b[A\n",
      " 30%|███       | 12/40 [00:01<00:04,  7.00it/s]\u001b[A\n",
      " 32%|███▎      | 13/40 [00:01<00:03,  6.97it/s]\u001b[A\n",
      " 35%|███▌      | 14/40 [00:01<00:03,  6.95it/s]\u001b[A\n",
      " 38%|███▊      | 15/40 [00:02<00:03,  6.94it/s]\u001b[A\n",
      " 40%|████      | 16/40 [00:02<00:03,  6.93it/s]\u001b[A\n",
      " 42%|████▎     | 17/40 [00:02<00:03,  6.93it/s]\u001b[A\n",
      " 45%|████▌     | 18/40 [00:02<00:03,  6.92it/s]\u001b[A\n",
      " 48%|████▊     | 19/40 [00:02<00:03,  6.92it/s]\u001b[A\n",
      " 50%|█████     | 20/40 [00:02<00:02,  6.92it/s]\u001b[A\n",
      " 52%|█████▎    | 21/40 [00:02<00:02,  6.92it/s]\u001b[A\n",
      " 55%|█████▌    | 22/40 [00:03<00:02,  6.92it/s]\u001b[A\n",
      " 57%|█████▊    | 23/40 [00:03<00:02,  6.91it/s]\u001b[A\n",
      " 60%|██████    | 24/40 [00:03<00:02,  6.91it/s]\u001b[A\n",
      " 62%|██████▎   | 25/40 [00:03<00:02,  6.91it/s]\u001b[A\n",
      " 65%|██████▌   | 26/40 [00:03<00:02,  6.91it/s]\u001b[A\n",
      " 68%|██████▊   | 27/40 [00:03<00:01,  6.91it/s]\u001b[A\n",
      " 70%|███████   | 28/40 [00:03<00:01,  6.91it/s]\u001b[A\n",
      " 72%|███████▎  | 29/40 [00:04<00:01,  6.91it/s]\u001b[A\n",
      " 75%|███████▌  | 30/40 [00:04<00:01,  6.91it/s]\u001b[A\n",
      " 78%|███████▊  | 31/40 [00:04<00:01,  6.91it/s]\u001b[A\n",
      " 80%|████████  | 32/40 [00:04<00:01,  6.91it/s]\u001b[A\n",
      " 82%|████████▎ | 33/40 [00:04<00:01,  6.91it/s]\u001b[A\n",
      " 85%|████████▌ | 34/40 [00:04<00:00,  6.91it/s]\u001b[A\n",
      " 88%|████████▊ | 35/40 [00:04<00:00,  6.91it/s]\u001b[A\n",
      " 90%|█████████ | 36/40 [00:05<00:00,  6.91it/s]\u001b[A\n",
      " 92%|█████████▎| 37/40 [00:05<00:00,  6.91it/s]\u001b[A\n",
      " 95%|█████████▌| 38/40 [00:05<00:00,  6.91it/s]\u001b[A\n",
      "                                                         \n",
      " 52%|█████▏    | 41000/78140 [4:47:48<4:01:32,  2.56it/s]\n",
      "100%|██████████| 40/40 [00:05<00:00,  7.07it/s]\u001b[A\n",
      "                                               \u001b[A"
     ]
    },
    {
     "name": "stdout",
     "output_type": "stream",
     "text": [
      "{'eval_loss': 0.07922741770744324, 'eval_token_accuracy': 0.9687795041019295, 'eval_exact_match_accuracy': 0.6627, 'eval_runtime': 5.9316, 'eval_samples_per_second': 1685.881, 'eval_steps_per_second': 6.744, 'epoch': 10.49}\n"
     ]
    },
    {
     "name": "stderr",
     "output_type": "stream",
     "text": [
      " 53%|█████▎    | 41500/78140 [4:51:12<3:58:09,  2.56it/s] \n",
      "  0%|          | 0/40 [00:00<?, ?it/s]\u001b[A"
     ]
    },
    {
     "name": "stdout",
     "output_type": "stream",
     "text": [
      "{'loss': 0.0855, 'grad_norm': 0.644568145275116, 'learning_rate': 4.515291070948508e-05, 'epoch': 10.62}\n"
     ]
    },
    {
     "name": "stderr",
     "output_type": "stream",
     "text": [
      "\n",
      "  5%|▌         | 2/40 [00:00<00:02, 13.82it/s]\u001b[A\n",
      " 10%|█         | 4/40 [00:00<00:04,  8.70it/s]\u001b[A\n",
      " 12%|█▎        | 5/40 [00:00<00:04,  8.07it/s]\u001b[A\n",
      " 15%|█▌        | 6/40 [00:00<00:04,  7.69it/s]\u001b[A\n",
      " 18%|█▊        | 7/40 [00:00<00:04,  7.44it/s]\u001b[A\n",
      " 20%|██        | 8/40 [00:01<00:04,  7.28it/s]\u001b[A\n",
      " 22%|██▎       | 9/40 [00:01<00:04,  7.16it/s]\u001b[A\n",
      " 25%|██▌       | 10/40 [00:01<00:04,  7.09it/s]\u001b[A\n",
      " 28%|██▊       | 11/40 [00:01<00:04,  7.03it/s]\u001b[A\n",
      " 30%|███       | 12/40 [00:01<00:04,  7.00it/s]\u001b[A\n",
      " 32%|███▎      | 13/40 [00:01<00:03,  6.97it/s]\u001b[A\n",
      " 35%|███▌      | 14/40 [00:01<00:03,  6.95it/s]\u001b[A\n",
      " 38%|███▊      | 15/40 [00:02<00:03,  6.94it/s]\u001b[A\n",
      " 40%|████      | 16/40 [00:02<00:03,  6.93it/s]\u001b[A\n",
      " 42%|████▎     | 17/40 [00:02<00:03,  6.92it/s]\u001b[A\n",
      " 45%|████▌     | 18/40 [00:02<00:03,  6.92it/s]\u001b[A\n",
      " 48%|████▊     | 19/40 [00:02<00:03,  6.91it/s]\u001b[A\n",
      " 50%|█████     | 20/40 [00:02<00:02,  6.91it/s]\u001b[A\n",
      " 52%|█████▎    | 21/40 [00:02<00:02,  6.91it/s]\u001b[A\n",
      " 55%|█████▌    | 22/40 [00:03<00:02,  6.91it/s]\u001b[A\n",
      " 57%|█████▊    | 23/40 [00:03<00:02,  6.91it/s]\u001b[A\n",
      " 60%|██████    | 24/40 [00:03<00:02,  6.91it/s]\u001b[A\n",
      " 62%|██████▎   | 25/40 [00:03<00:02,  6.91it/s]\u001b[A\n",
      " 65%|██████▌   | 26/40 [00:03<00:02,  6.92it/s]\u001b[A\n",
      " 68%|██████▊   | 27/40 [00:03<00:01,  6.92it/s]\u001b[A\n",
      " 70%|███████   | 28/40 [00:03<00:01,  6.91it/s]\u001b[A\n",
      " 72%|███████▎  | 29/40 [00:04<00:01,  6.91it/s]\u001b[A\n",
      " 75%|███████▌  | 30/40 [00:04<00:01,  6.92it/s]\u001b[A\n",
      " 78%|███████▊  | 31/40 [00:04<00:01,  6.91it/s]\u001b[A\n",
      " 80%|████████  | 32/40 [00:04<00:01,  6.91it/s]\u001b[A\n",
      " 82%|████████▎ | 33/40 [00:04<00:01,  6.91it/s]\u001b[A\n",
      " 85%|████████▌ | 34/40 [00:04<00:00,  6.91it/s]\u001b[A\n",
      " 88%|████████▊ | 35/40 [00:04<00:00,  6.91it/s]\u001b[A\n",
      " 90%|█████████ | 36/40 [00:05<00:00,  6.91it/s]\u001b[A\n",
      " 92%|█████████▎| 37/40 [00:05<00:00,  6.91it/s]\u001b[A\n",
      " 95%|█████████▌| 38/40 [00:05<00:00,  6.91it/s]\u001b[A\n",
      "                                                         \n",
      " 53%|█████▎    | 41500/78140 [4:51:18<3:58:09,  2.56it/s]\n",
      "100%|██████████| 40/40 [00:05<00:00,  7.07it/s]\u001b[A\n",
      "                                               \u001b[A"
     ]
    },
    {
     "name": "stdout",
     "output_type": "stream",
     "text": [
      "{'eval_loss': 0.07597275823354721, 'eval_token_accuracy': 0.969265319217196, 'eval_exact_match_accuracy': 0.6652, 'eval_runtime': 5.9272, 'eval_samples_per_second': 1687.127, 'eval_steps_per_second': 6.749, 'epoch': 10.62}\n"
     ]
    },
    {
     "name": "stderr",
     "output_type": "stream",
     "text": [
      " 54%|█████▎    | 42000/78140 [4:54:42<3:55:11,  2.56it/s] \n",
      "  0%|          | 0/40 [00:00<?, ?it/s]\u001b[A"
     ]
    },
    {
     "name": "stdout",
     "output_type": "stream",
     "text": [
      "{'loss': 0.085, 'grad_norm': 0.3787059485912323, 'learning_rate': 4.415357479435791e-05, 'epoch': 10.75}\n"
     ]
    },
    {
     "name": "stderr",
     "output_type": "stream",
     "text": [
      "\n",
      "  5%|▌         | 2/40 [00:00<00:02, 13.81it/s]\u001b[A\n",
      " 10%|█         | 4/40 [00:00<00:04,  8.69it/s]\u001b[A\n",
      " 12%|█▎        | 5/40 [00:00<00:04,  8.07it/s]\u001b[A\n",
      " 15%|█▌        | 6/40 [00:00<00:04,  7.69it/s]\u001b[A\n",
      " 18%|█▊        | 7/40 [00:00<00:04,  7.44it/s]\u001b[A\n",
      " 20%|██        | 8/40 [00:01<00:04,  7.27it/s]\u001b[A\n",
      " 22%|██▎       | 9/40 [00:01<00:04,  7.16it/s]\u001b[A\n",
      " 25%|██▌       | 10/40 [00:01<00:04,  7.09it/s]\u001b[A\n",
      " 28%|██▊       | 11/40 [00:01<00:04,  7.03it/s]\u001b[A\n",
      " 30%|███       | 12/40 [00:01<00:04,  7.00it/s]\u001b[A\n",
      " 32%|███▎      | 13/40 [00:01<00:03,  6.97it/s]\u001b[A\n",
      " 35%|███▌      | 14/40 [00:01<00:03,  6.95it/s]\u001b[A\n",
      " 38%|███▊      | 15/40 [00:02<00:03,  6.94it/s]\u001b[A\n",
      " 40%|████      | 16/40 [00:02<00:03,  6.93it/s]\u001b[A\n",
      " 42%|████▎     | 17/40 [00:02<00:03,  6.92it/s]\u001b[A\n",
      " 45%|████▌     | 18/40 [00:02<00:03,  6.92it/s]\u001b[A\n",
      " 48%|████▊     | 19/40 [00:02<00:03,  6.92it/s]\u001b[A\n",
      " 50%|█████     | 20/40 [00:02<00:02,  6.92it/s]\u001b[A\n",
      " 52%|█████▎    | 21/40 [00:02<00:02,  6.91it/s]\u001b[A\n",
      " 55%|█████▌    | 22/40 [00:03<00:02,  6.91it/s]\u001b[A\n",
      " 57%|█████▊    | 23/40 [00:03<00:02,  6.91it/s]\u001b[A\n",
      " 60%|██████    | 24/40 [00:03<00:02,  6.91it/s]\u001b[A\n",
      " 62%|██████▎   | 25/40 [00:03<00:02,  6.91it/s]\u001b[A\n",
      " 65%|██████▌   | 26/40 [00:03<00:02,  6.92it/s]\u001b[A\n",
      " 68%|██████▊   | 27/40 [00:03<00:01,  6.91it/s]\u001b[A\n",
      " 70%|███████   | 28/40 [00:03<00:01,  6.91it/s]\u001b[A\n",
      " 72%|███████▎  | 29/40 [00:04<00:01,  6.91it/s]\u001b[A\n",
      " 75%|███████▌  | 30/40 [00:04<00:01,  6.92it/s]\u001b[A\n",
      " 78%|███████▊  | 31/40 [00:04<00:01,  6.91it/s]\u001b[A\n",
      " 80%|████████  | 32/40 [00:04<00:01,  6.91it/s]\u001b[A\n",
      " 82%|████████▎ | 33/40 [00:04<00:01,  6.91it/s]\u001b[A\n",
      " 85%|████████▌ | 34/40 [00:04<00:00,  6.92it/s]\u001b[A\n",
      " 88%|████████▊ | 35/40 [00:04<00:00,  6.92it/s]\u001b[A\n",
      " 90%|█████████ | 36/40 [00:05<00:00,  6.91it/s]\u001b[A\n",
      " 92%|█████████▎| 37/40 [00:05<00:00,  6.91it/s]\u001b[A\n",
      " 95%|█████████▌| 38/40 [00:05<00:00,  6.91it/s]\u001b[A\n",
      "                                                         \n",
      " 54%|█████▎    | 42000/78140 [4:54:48<3:55:11,  2.56it/s]\n",
      "100%|██████████| 40/40 [00:05<00:00,  7.07it/s]\u001b[A\n",
      "                                               \u001b[A"
     ]
    },
    {
     "name": "stdout",
     "output_type": "stream",
     "text": [
      "{'eval_loss': 0.0775824710726738, 'eval_token_accuracy': 0.9689444979146615, 'eval_exact_match_accuracy': 0.663, 'eval_runtime': 5.9276, 'eval_samples_per_second': 1687.017, 'eval_steps_per_second': 6.748, 'epoch': 10.75}\n"
     ]
    },
    {
     "name": "stderr",
     "output_type": "stream",
     "text": [
      " 54%|█████▍    | 42500/78140 [4:58:14<3:51:46,  2.56it/s] \n",
      "  0%|          | 0/40 [00:00<?, ?it/s]\u001b[A"
     ]
    },
    {
     "name": "stdout",
     "output_type": "stream",
     "text": [
      "{'loss': 0.0847, 'grad_norm': 1.4322274923324585, 'learning_rate': 4.315660136234599e-05, 'epoch': 10.88}\n"
     ]
    },
    {
     "name": "stderr",
     "output_type": "stream",
     "text": [
      "\n",
      "  5%|▌         | 2/40 [00:00<00:02, 13.83it/s]\u001b[A\n",
      " 10%|█         | 4/40 [00:00<00:04,  8.69it/s]\u001b[A\n",
      " 12%|█▎        | 5/40 [00:00<00:04,  8.07it/s]\u001b[A\n",
      " 15%|█▌        | 6/40 [00:00<00:04,  7.67it/s]\u001b[A\n",
      " 18%|█▊        | 7/40 [00:00<00:04,  7.43it/s]\u001b[A\n",
      " 20%|██        | 8/40 [00:01<00:04,  7.26it/s]\u001b[A\n",
      " 22%|██▎       | 9/40 [00:01<00:04,  7.15it/s]\u001b[A\n",
      " 25%|██▌       | 10/40 [00:01<00:04,  7.08it/s]\u001b[A\n",
      " 28%|██▊       | 11/40 [00:01<00:04,  7.03it/s]\u001b[A\n",
      " 30%|███       | 12/40 [00:01<00:04,  6.99it/s]\u001b[A\n",
      " 32%|███▎      | 13/40 [00:01<00:03,  6.96it/s]\u001b[A\n",
      " 35%|███▌      | 14/40 [00:01<00:03,  6.95it/s]\u001b[A\n",
      " 38%|███▊      | 15/40 [00:02<00:03,  6.93it/s]\u001b[A\n",
      " 40%|████      | 16/40 [00:02<00:03,  6.93it/s]\u001b[A\n",
      " 42%|████▎     | 17/40 [00:02<00:03,  6.92it/s]\u001b[A\n",
      " 45%|████▌     | 18/40 [00:02<00:03,  6.92it/s]\u001b[A\n",
      " 48%|████▊     | 19/40 [00:02<00:03,  6.91it/s]\u001b[A\n",
      " 50%|█████     | 20/40 [00:02<00:02,  6.91it/s]\u001b[A\n",
      " 52%|█████▎    | 21/40 [00:02<00:02,  6.91it/s]\u001b[A\n",
      " 55%|█████▌    | 22/40 [00:03<00:02,  6.91it/s]\u001b[A\n",
      " 57%|█████▊    | 23/40 [00:03<00:02,  6.91it/s]\u001b[A\n",
      " 60%|██████    | 24/40 [00:03<00:02,  6.91it/s]\u001b[A\n",
      " 62%|██████▎   | 25/40 [00:03<00:02,  6.91it/s]\u001b[A\n",
      " 65%|██████▌   | 26/40 [00:03<00:02,  6.91it/s]\u001b[A\n",
      " 68%|██████▊   | 27/40 [00:03<00:01,  6.91it/s]\u001b[A\n",
      " 70%|███████   | 28/40 [00:03<00:01,  6.91it/s]\u001b[A\n",
      " 72%|███████▎  | 29/40 [00:04<00:01,  6.91it/s]\u001b[A\n",
      " 75%|███████▌  | 30/40 [00:04<00:01,  6.91it/s]\u001b[A\n",
      " 78%|███████▊  | 31/40 [00:04<00:01,  6.91it/s]\u001b[A\n",
      " 80%|████████  | 32/40 [00:04<00:01,  6.91it/s]\u001b[A\n",
      " 82%|████████▎ | 33/40 [00:04<00:01,  6.91it/s]\u001b[A\n",
      " 85%|████████▌ | 34/40 [00:04<00:00,  6.91it/s]\u001b[A\n",
      " 88%|████████▊ | 35/40 [00:04<00:00,  6.91it/s]\u001b[A\n",
      " 90%|█████████ | 36/40 [00:05<00:00,  6.91it/s]\u001b[A\n",
      " 92%|█████████▎| 37/40 [00:05<00:00,  6.91it/s]\u001b[A\n",
      " 95%|█████████▌| 38/40 [00:05<00:00,  6.91it/s]\u001b[A\n",
      "                                                         \n",
      " 54%|█████▍    | 42500/78140 [4:58:20<3:51:46,  2.56it/s]\n",
      "100%|██████████| 40/40 [00:05<00:00,  7.07it/s]\u001b[A\n",
      "                                               \u001b[A"
     ]
    },
    {
     "name": "stdout",
     "output_type": "stream",
     "text": [
      "{'eval_loss': 0.08018829673528671, 'eval_token_accuracy': 0.9685045144140428, 'eval_exact_match_accuracy': 0.6605, 'eval_runtime': 5.9305, 'eval_samples_per_second': 1686.206, 'eval_steps_per_second': 6.745, 'epoch': 10.88}\n"
     ]
    },
    {
     "name": "stderr",
     "output_type": "stream",
     "text": [
      " 55%|█████▌    | 43000/78140 [5:01:44<3:48:15,  2.57it/s] \n",
      "  0%|          | 0/40 [00:00<?, ?it/s]\u001b[A"
     ]
    },
    {
     "name": "stdout",
     "output_type": "stream",
     "text": [
      "{'loss': 0.0843, 'grad_norm': 0.3210608959197998, 'learning_rate': 4.2162393280640246e-05, 'epoch': 11.01}\n"
     ]
    },
    {
     "name": "stderr",
     "output_type": "stream",
     "text": [
      "\n",
      "  5%|▌         | 2/40 [00:00<00:02, 13.83it/s]\u001b[A\n",
      " 10%|█         | 4/40 [00:00<00:04,  8.70it/s]\u001b[A\n",
      " 12%|█▎        | 5/40 [00:00<00:04,  8.08it/s]\u001b[A\n",
      " 15%|█▌        | 6/40 [00:00<00:04,  7.69it/s]\u001b[A\n",
      " 18%|█▊        | 7/40 [00:00<00:04,  7.44it/s]\u001b[A\n",
      " 20%|██        | 8/40 [00:01<00:04,  7.27it/s]\u001b[A\n",
      " 22%|██▎       | 9/40 [00:01<00:04,  7.16it/s]\u001b[A\n",
      " 25%|██▌       | 10/40 [00:01<00:04,  7.09it/s]\u001b[A\n",
      " 28%|██▊       | 11/40 [00:01<00:04,  7.04it/s]\u001b[A\n",
      " 30%|███       | 12/40 [00:01<00:03,  7.00it/s]\u001b[A\n",
      " 32%|███▎      | 13/40 [00:01<00:03,  6.98it/s]\u001b[A\n",
      " 35%|███▌      | 14/40 [00:01<00:03,  6.96it/s]\u001b[A\n",
      " 38%|███▊      | 15/40 [00:02<00:03,  6.94it/s]\u001b[A\n",
      " 40%|████      | 16/40 [00:02<00:03,  6.93it/s]\u001b[A\n",
      " 42%|████▎     | 17/40 [00:02<00:03,  6.93it/s]\u001b[A\n",
      " 45%|████▌     | 18/40 [00:02<00:03,  6.92it/s]\u001b[A\n",
      " 48%|████▊     | 19/40 [00:02<00:03,  6.92it/s]\u001b[A\n",
      " 50%|█████     | 20/40 [00:02<00:02,  6.92it/s]\u001b[A\n",
      " 52%|█████▎    | 21/40 [00:02<00:02,  6.92it/s]\u001b[A\n",
      " 55%|█████▌    | 22/40 [00:03<00:02,  6.92it/s]\u001b[A\n",
      " 57%|█████▊    | 23/40 [00:03<00:02,  6.91it/s]\u001b[A\n",
      " 60%|██████    | 24/40 [00:03<00:02,  6.91it/s]\u001b[A\n",
      " 62%|██████▎   | 25/40 [00:03<00:02,  6.92it/s]\u001b[A\n",
      " 65%|██████▌   | 26/40 [00:03<00:02,  6.91it/s]\u001b[A\n",
      " 68%|██████▊   | 27/40 [00:03<00:01,  6.91it/s]\u001b[A\n",
      " 70%|███████   | 28/40 [00:03<00:01,  6.91it/s]\u001b[A\n",
      " 72%|███████▎  | 29/40 [00:04<00:01,  6.91it/s]\u001b[A\n",
      " 75%|███████▌  | 30/40 [00:04<00:01,  6.91it/s]\u001b[A\n",
      " 78%|███████▊  | 31/40 [00:04<00:01,  6.91it/s]\u001b[A\n",
      " 80%|████████  | 32/40 [00:04<00:01,  6.91it/s]\u001b[A\n",
      " 82%|████████▎ | 33/40 [00:04<00:01,  6.91it/s]\u001b[A\n",
      " 85%|████████▌ | 34/40 [00:04<00:00,  6.91it/s]\u001b[A\n",
      " 88%|████████▊ | 35/40 [00:04<00:00,  6.91it/s]\u001b[A\n",
      " 90%|█████████ | 36/40 [00:05<00:00,  6.92it/s]\u001b[A\n",
      " 92%|█████████▎| 37/40 [00:05<00:00,  6.92it/s]\u001b[A\n",
      " 95%|█████████▌| 38/40 [00:05<00:00,  6.92it/s]\u001b[A\n",
      "                                                         \n",
      " 55%|█████▌    | 43000/78140 [5:01:49<3:48:15,  2.57it/s]\n",
      "100%|██████████| 40/40 [00:05<00:00,  7.07it/s]\u001b[A\n",
      "                                               \u001b[A"
     ]
    },
    {
     "name": "stdout",
     "output_type": "stream",
     "text": [
      "{'eval_loss': 0.07690109312534332, 'eval_token_accuracy': 0.9690819927586048, 'eval_exact_match_accuracy': 0.6642, 'eval_runtime': 5.9282, 'eval_samples_per_second': 1686.843, 'eval_steps_per_second': 6.747, 'epoch': 11.01}\n"
     ]
    },
    {
     "name": "stderr",
     "output_type": "stream",
     "text": [
      " 56%|█████▌    | 43500/78140 [5:05:14<3:45:01,  2.57it/s] \n",
      "  0%|          | 0/40 [00:00<?, ?it/s]\u001b[A"
     ]
    },
    {
     "name": "stdout",
     "output_type": "stream",
     "text": [
      "{'loss': 0.0837, 'grad_norm': 0.35426828265190125, 'learning_rate': 4.117135229898062e-05, 'epoch': 11.13}\n"
     ]
    },
    {
     "name": "stderr",
     "output_type": "stream",
     "text": [
      "\n",
      "  5%|▌         | 2/40 [00:00<00:02, 13.82it/s]\u001b[A\n",
      " 10%|█         | 4/40 [00:00<00:04,  8.70it/s]\u001b[A\n",
      " 12%|█▎        | 5/40 [00:00<00:04,  8.07it/s]\u001b[A\n",
      " 15%|█▌        | 6/40 [00:00<00:04,  7.68it/s]\u001b[A\n",
      " 18%|█▊        | 7/40 [00:00<00:04,  7.43it/s]\u001b[A\n",
      " 20%|██        | 8/40 [00:01<00:04,  7.27it/s]\u001b[A\n",
      " 22%|██▎       | 9/40 [00:01<00:04,  7.16it/s]\u001b[A\n",
      " 25%|██▌       | 10/40 [00:01<00:04,  7.08it/s]\u001b[A\n",
      " 28%|██▊       | 11/40 [00:01<00:04,  7.03it/s]\u001b[A\n",
      " 30%|███       | 12/40 [00:01<00:04,  6.99it/s]\u001b[A\n",
      " 32%|███▎      | 13/40 [00:01<00:03,  6.96it/s]\u001b[A\n",
      " 35%|███▌      | 14/40 [00:01<00:03,  6.95it/s]\u001b[A\n",
      " 38%|███▊      | 15/40 [00:02<00:03,  6.94it/s]\u001b[A\n",
      " 40%|████      | 16/40 [00:02<00:03,  6.93it/s]\u001b[A\n",
      " 42%|████▎     | 17/40 [00:02<00:03,  6.93it/s]\u001b[A\n",
      " 45%|████▌     | 18/40 [00:02<00:03,  6.92it/s]\u001b[A\n",
      " 48%|████▊     | 19/40 [00:02<00:03,  6.92it/s]\u001b[A\n",
      " 50%|█████     | 20/40 [00:02<00:02,  6.92it/s]\u001b[A\n",
      " 52%|█████▎    | 21/40 [00:02<00:02,  6.91it/s]\u001b[A\n",
      " 55%|█████▌    | 22/40 [00:03<00:02,  6.91it/s]\u001b[A\n",
      " 57%|█████▊    | 23/40 [00:03<00:02,  6.91it/s]\u001b[A\n",
      " 60%|██████    | 24/40 [00:03<00:02,  6.91it/s]\u001b[A\n",
      " 62%|██████▎   | 25/40 [00:03<00:02,  6.91it/s]\u001b[A\n",
      " 65%|██████▌   | 26/40 [00:03<00:02,  6.91it/s]\u001b[A\n",
      " 68%|██████▊   | 27/40 [00:03<00:01,  6.91it/s]\u001b[A\n",
      " 70%|███████   | 28/40 [00:03<00:01,  6.91it/s]\u001b[A\n",
      " 72%|███████▎  | 29/40 [00:04<00:01,  6.91it/s]\u001b[A\n",
      " 75%|███████▌  | 30/40 [00:04<00:01,  6.91it/s]\u001b[A\n",
      " 78%|███████▊  | 31/40 [00:04<00:01,  6.91it/s]\u001b[A\n",
      " 80%|████████  | 32/40 [00:04<00:01,  6.91it/s]\u001b[A\n",
      " 82%|████████▎ | 33/40 [00:04<00:01,  6.91it/s]\u001b[A\n",
      " 85%|████████▌ | 34/40 [00:04<00:00,  6.91it/s]\u001b[A\n",
      " 88%|████████▊ | 35/40 [00:04<00:00,  6.91it/s]\u001b[A\n",
      " 90%|█████████ | 36/40 [00:05<00:00,  6.91it/s]\u001b[A\n",
      " 92%|█████████▎| 37/40 [00:05<00:00,  6.91it/s]\u001b[A\n",
      " 95%|█████████▌| 38/40 [00:05<00:00,  6.91it/s]\u001b[A\n",
      "                                                         \n",
      " 56%|█████▌    | 43500/78140 [5:05:20<3:45:01,  2.57it/s]\n",
      "100%|██████████| 40/40 [00:05<00:00,  7.07it/s]\u001b[A\n",
      "                                               \u001b[A"
     ]
    },
    {
     "name": "stdout",
     "output_type": "stream",
     "text": [
      "{'eval_loss': 0.07984273880720139, 'eval_token_accuracy': 0.9686603419038453, 'eval_exact_match_accuracy': 0.6619, 'eval_runtime': 5.9298, 'eval_samples_per_second': 1686.399, 'eval_steps_per_second': 6.746, 'epoch': 11.13}\n"
     ]
    },
    {
     "name": "stderr",
     "output_type": "stream",
     "text": [
      " 56%|█████▋    | 44000/78140 [5:08:44<3:41:58,  2.56it/s] \n",
      "  0%|          | 0/40 [00:00<?, ?it/s]\u001b[A"
     ]
    },
    {
     "name": "stdout",
     "output_type": "stream",
     "text": [
      "{'loss': 0.0834, 'grad_norm': 0.6997678279876709, 'learning_rate': 4.018585000822399e-05, 'epoch': 11.26}\n"
     ]
    },
    {
     "name": "stderr",
     "output_type": "stream",
     "text": [
      "\n",
      "  5%|▌         | 2/40 [00:00<00:02, 13.92it/s]\u001b[A\n",
      " 10%|█         | 4/40 [00:00<00:04,  8.71it/s]\u001b[A\n",
      " 12%|█▎        | 5/40 [00:00<00:04,  8.08it/s]\u001b[A\n",
      " 15%|█▌        | 6/40 [00:00<00:04,  7.69it/s]\u001b[A\n",
      " 18%|█▊        | 7/40 [00:00<00:04,  7.44it/s]\u001b[A\n",
      " 20%|██        | 8/40 [00:01<00:04,  7.28it/s]\u001b[A\n",
      " 22%|██▎       | 9/40 [00:01<00:04,  7.16it/s]\u001b[A\n",
      " 25%|██▌       | 10/40 [00:01<00:04,  7.09it/s]\u001b[A\n",
      " 28%|██▊       | 11/40 [00:01<00:04,  7.03it/s]\u001b[A\n",
      " 30%|███       | 12/40 [00:01<00:04,  7.00it/s]\u001b[A\n",
      " 32%|███▎      | 13/40 [00:01<00:03,  6.97it/s]\u001b[A\n",
      " 35%|███▌      | 14/40 [00:01<00:03,  6.95it/s]\u001b[A\n",
      " 38%|███▊      | 15/40 [00:02<00:03,  6.93it/s]\u001b[A\n",
      " 40%|████      | 16/40 [00:02<00:03,  6.93it/s]\u001b[A\n",
      " 42%|████▎     | 17/40 [00:02<00:03,  6.92it/s]\u001b[A\n",
      " 45%|████▌     | 18/40 [00:02<00:03,  6.92it/s]\u001b[A\n",
      " 48%|████▊     | 19/40 [00:02<00:03,  6.91it/s]\u001b[A\n",
      " 50%|█████     | 20/40 [00:02<00:02,  6.91it/s]\u001b[A\n",
      " 52%|█████▎    | 21/40 [00:02<00:02,  6.91it/s]\u001b[A\n",
      " 55%|█████▌    | 22/40 [00:03<00:02,  6.91it/s]\u001b[A\n",
      " 57%|█████▊    | 23/40 [00:03<00:02,  6.91it/s]\u001b[A\n",
      " 60%|██████    | 24/40 [00:03<00:02,  6.91it/s]\u001b[A\n",
      " 62%|██████▎   | 25/40 [00:03<00:02,  6.91it/s]\u001b[A\n",
      " 65%|██████▌   | 26/40 [00:03<00:02,  6.91it/s]\u001b[A\n",
      " 68%|██████▊   | 27/40 [00:03<00:01,  6.91it/s]\u001b[A\n",
      " 70%|███████   | 28/40 [00:03<00:01,  6.91it/s]\u001b[A\n",
      " 72%|███████▎  | 29/40 [00:04<00:01,  6.91it/s]\u001b[A\n",
      " 75%|███████▌  | 30/40 [00:04<00:01,  6.91it/s]\u001b[A\n",
      " 78%|███████▊  | 31/40 [00:04<00:01,  6.91it/s]\u001b[A\n",
      " 80%|████████  | 32/40 [00:04<00:01,  6.91it/s]\u001b[A\n",
      " 82%|████████▎ | 33/40 [00:04<00:01,  6.91it/s]\u001b[A\n",
      " 85%|████████▌ | 34/40 [00:04<00:00,  6.91it/s]\u001b[A\n",
      " 88%|████████▊ | 35/40 [00:04<00:00,  6.91it/s]\u001b[A\n",
      " 90%|█████████ | 36/40 [00:05<00:00,  6.91it/s]\u001b[A\n",
      " 92%|█████████▎| 37/40 [00:05<00:00,  6.91it/s]\u001b[A\n",
      " 95%|█████████▌| 38/40 [00:05<00:00,  6.90it/s]\u001b[A\n",
      "                                                         \n",
      " 56%|█████▋    | 44000/78140 [5:08:50<3:41:58,  2.56it/s]\n",
      "100%|██████████| 40/40 [00:05<00:00,  7.07it/s]\u001b[A\n",
      "                                               \u001b[A"
     ]
    },
    {
     "name": "stdout",
     "output_type": "stream",
     "text": [
      "{'eval_loss': 0.07602166384458542, 'eval_token_accuracy': 0.9692103212796187, 'eval_exact_match_accuracy': 0.6646, 'eval_runtime': 5.9307, 'eval_samples_per_second': 1686.144, 'eval_steps_per_second': 6.745, 'epoch': 11.26}\n"
     ]
    },
    {
     "name": "stderr",
     "output_type": "stream",
     "text": [
      " 57%|█████▋    | 44500/78140 [5:12:14<3:38:31,  2.57it/s] \n",
      "  0%|          | 0/40 [00:00<?, ?it/s]\u001b[A"
     ]
    },
    {
     "name": "stdout",
     "output_type": "stream",
     "text": [
      "{'loss': 0.0834, 'grad_norm': 0.2834607660770416, 'learning_rate': 3.920233486448591e-05, 'epoch': 11.39}\n"
     ]
    },
    {
     "name": "stderr",
     "output_type": "stream",
     "text": [
      "\n",
      "  5%|▌         | 2/40 [00:00<00:02, 13.82it/s]\u001b[A\n",
      " 10%|█         | 4/40 [00:00<00:04,  8.64it/s]\u001b[A\n",
      " 12%|█▎        | 5/40 [00:00<00:04,  8.03it/s]\u001b[A\n",
      " 15%|█▌        | 6/40 [00:00<00:04,  7.66it/s]\u001b[A\n",
      " 18%|█▊        | 7/40 [00:00<00:04,  7.42it/s]\u001b[A\n",
      " 20%|██        | 8/40 [00:01<00:04,  7.26it/s]\u001b[A\n",
      " 22%|██▎       | 9/40 [00:01<00:04,  7.15it/s]\u001b[A\n",
      " 25%|██▌       | 10/40 [00:01<00:04,  7.08it/s]\u001b[A\n",
      " 28%|██▊       | 11/40 [00:01<00:04,  7.03it/s]\u001b[A\n",
      " 30%|███       | 12/40 [00:01<00:04,  6.99it/s]\u001b[A\n",
      " 32%|███▎      | 13/40 [00:01<00:03,  6.97it/s]\u001b[A\n",
      " 35%|███▌      | 14/40 [00:01<00:03,  6.95it/s]\u001b[A\n",
      " 38%|███▊      | 15/40 [00:02<00:03,  6.94it/s]\u001b[A\n",
      " 40%|████      | 16/40 [00:02<00:03,  6.93it/s]\u001b[A\n",
      " 42%|████▎     | 17/40 [00:02<00:03,  6.92it/s]\u001b[A\n",
      " 45%|████▌     | 18/40 [00:02<00:03,  6.92it/s]\u001b[A\n",
      " 48%|████▊     | 19/40 [00:02<00:03,  6.92it/s]\u001b[A\n",
      " 50%|█████     | 20/40 [00:02<00:02,  6.92it/s]\u001b[A\n",
      " 52%|█████▎    | 21/40 [00:02<00:02,  6.92it/s]\u001b[A\n",
      " 55%|█████▌    | 22/40 [00:03<00:02,  6.92it/s]\u001b[A\n",
      " 57%|█████▊    | 23/40 [00:03<00:02,  6.92it/s]\u001b[A\n",
      " 60%|██████    | 24/40 [00:03<00:02,  6.92it/s]\u001b[A\n",
      " 62%|██████▎   | 25/40 [00:03<00:02,  6.91it/s]\u001b[A\n",
      " 65%|██████▌   | 26/40 [00:03<00:02,  6.91it/s]\u001b[A\n",
      " 68%|██████▊   | 27/40 [00:03<00:01,  6.91it/s]\u001b[A\n",
      " 70%|███████   | 28/40 [00:03<00:01,  6.91it/s]\u001b[A\n",
      " 72%|███████▎  | 29/40 [00:04<00:01,  6.92it/s]\u001b[A\n",
      " 75%|███████▌  | 30/40 [00:04<00:01,  6.92it/s]\u001b[A\n",
      " 78%|███████▊  | 31/40 [00:04<00:01,  6.91it/s]\u001b[A\n",
      " 80%|████████  | 32/40 [00:04<00:01,  6.90it/s]\u001b[A\n",
      " 82%|████████▎ | 33/40 [00:04<00:01,  6.90it/s]\u001b[A\n",
      " 85%|████████▌ | 34/40 [00:04<00:00,  6.91it/s]\u001b[A\n",
      " 88%|████████▊ | 35/40 [00:04<00:00,  6.91it/s]\u001b[A\n",
      " 90%|█████████ | 36/40 [00:05<00:00,  6.91it/s]\u001b[A\n",
      " 92%|█████████▎| 37/40 [00:05<00:00,  6.91it/s]\u001b[A\n",
      " 95%|█████████▌| 38/40 [00:05<00:00,  6.91it/s]\u001b[A\n",
      "                                                         \n",
      " 57%|█████▋    | 44500/78140 [5:12:20<3:38:31,  2.57it/s]\n",
      "100%|██████████| 40/40 [00:05<00:00,  7.07it/s]\u001b[A\n",
      "                                               \u001b[A"
     ]
    },
    {
     "name": "stdout",
     "output_type": "stream",
     "text": [
      "{'eval_loss': 0.07686087489128113, 'eval_token_accuracy': 0.9689811632063797, 'eval_exact_match_accuracy': 0.6637, 'eval_runtime': 5.9344, 'eval_samples_per_second': 1685.077, 'eval_steps_per_second': 6.74, 'epoch': 11.39}\n"
     ]
    },
    {
     "name": "stderr",
     "output_type": "stream",
     "text": [
      " 58%|█████▊    | 45000/78140 [5:15:44<3:35:26,  2.56it/s] \n",
      "  0%|          | 0/40 [00:00<?, ?it/s]\u001b[A"
     ]
    },
    {
     "name": "stdout",
     "output_type": "stream",
     "text": [
      "{'loss': 0.0408, 'grad_norm': 0.2658667266368866, 'learning_rate': 3.8223182951383565e-05, 'epoch': 11.52}\n"
     ]
    },
    {
     "name": "stderr",
     "output_type": "stream",
     "text": [
      "\n",
      "  5%|▌         | 2/40 [00:00<00:02, 13.85it/s]\u001b[A\n",
      " 10%|█         | 4/40 [00:00<00:04,  8.71it/s]\u001b[A\n",
      " 12%|█▎        | 5/40 [00:00<00:04,  8.08it/s]\u001b[A\n",
      " 15%|█▌        | 6/40 [00:00<00:04,  7.69it/s]\u001b[A\n",
      " 18%|█▊        | 7/40 [00:00<00:04,  7.44it/s]\u001b[A\n",
      " 20%|██        | 8/40 [00:01<00:04,  7.28it/s]\u001b[A\n",
      " 22%|██▎       | 9/40 [00:01<00:04,  7.16it/s]\u001b[A\n",
      " 25%|██▌       | 10/40 [00:01<00:04,  7.09it/s]\u001b[A\n",
      " 28%|██▊       | 11/40 [00:01<00:04,  7.03it/s]\u001b[A\n",
      " 30%|███       | 12/40 [00:01<00:04,  7.00it/s]\u001b[A\n",
      " 32%|███▎      | 13/40 [00:01<00:03,  6.97it/s]\u001b[A\n",
      " 35%|███▌      | 14/40 [00:01<00:03,  6.95it/s]\u001b[A\n",
      " 38%|███▊      | 15/40 [00:02<00:03,  6.94it/s]\u001b[A\n",
      " 40%|████      | 16/40 [00:02<00:03,  6.93it/s]\u001b[A\n",
      " 42%|████▎     | 17/40 [00:02<00:03,  6.92it/s]\u001b[A\n",
      " 45%|████▌     | 18/40 [00:02<00:03,  6.92it/s]\u001b[A\n",
      " 48%|████▊     | 19/40 [00:02<00:03,  6.92it/s]\u001b[A\n",
      " 50%|█████     | 20/40 [00:02<00:02,  6.92it/s]\u001b[A\n",
      " 52%|█████▎    | 21/40 [00:02<00:02,  6.92it/s]\u001b[A\n",
      " 55%|█████▌    | 22/40 [00:03<00:02,  6.92it/s]\u001b[A\n",
      " 57%|█████▊    | 23/40 [00:03<00:02,  6.92it/s]\u001b[A\n",
      " 60%|██████    | 24/40 [00:03<00:02,  6.91it/s]\u001b[A\n",
      " 62%|██████▎   | 25/40 [00:03<00:02,  6.91it/s]\u001b[A\n",
      " 65%|██████▌   | 26/40 [00:03<00:02,  6.91it/s]\u001b[A\n",
      " 68%|██████▊   | 27/40 [00:03<00:01,  6.91it/s]\u001b[A\n",
      " 70%|███████   | 28/40 [00:03<00:01,  6.91it/s]\u001b[A\n",
      " 72%|███████▎  | 29/40 [00:04<00:01,  6.91it/s]\u001b[A\n",
      " 75%|███████▌  | 30/40 [00:04<00:01,  6.92it/s]\u001b[A\n",
      " 78%|███████▊  | 31/40 [00:04<00:01,  6.91it/s]\u001b[A\n",
      " 80%|████████  | 32/40 [00:04<00:01,  6.91it/s]\u001b[A\n",
      " 82%|████████▎ | 33/40 [00:04<00:01,  6.91it/s]\u001b[A\n",
      " 85%|████████▌ | 34/40 [00:04<00:00,  6.91it/s]\u001b[A\n",
      " 88%|████████▊ | 35/40 [00:04<00:00,  6.91it/s]\u001b[A\n",
      " 90%|█████████ | 36/40 [00:05<00:00,  6.91it/s]\u001b[A\n",
      " 92%|█████████▎| 37/40 [00:05<00:00,  6.91it/s]\u001b[A\n",
      " 95%|█████████▌| 38/40 [00:05<00:00,  6.91it/s]\u001b[A\n",
      "                                                         \n",
      " 58%|█████▊    | 45000/78140 [5:15:50<3:35:26,  2.56it/s]\n",
      "100%|██████████| 40/40 [00:05<00:00,  7.07it/s]\u001b[A\n",
      "                                               \u001b[A"
     ]
    },
    {
     "name": "stdout",
     "output_type": "stream",
     "text": [
      "{'eval_loss': 0.005383124575018883, 'eval_token_accuracy': 0.9990833677070443, 'eval_exact_match_accuracy': 0.9937, 'eval_runtime': 5.9253, 'eval_samples_per_second': 1687.681, 'eval_steps_per_second': 6.751, 'epoch': 11.52}\n"
     ]
    },
    {
     "name": "stderr",
     "output_type": "stream",
     "text": [
      " 58%|█████▊    | 45500/78140 [5:19:14<3:32:09,  2.56it/s] \n",
      "  0%|          | 0/40 [00:00<?, ?it/s]\u001b[A"
     ]
    },
    {
     "name": "stdout",
     "output_type": "stream",
     "text": [
      "{'loss': 0.0098, 'grad_norm': 0.38167160749435425, 'learning_rate': 3.724878993460679e-05, 'epoch': 11.65}\n"
     ]
    },
    {
     "name": "stderr",
     "output_type": "stream",
     "text": [
      "\n",
      "  5%|▌         | 2/40 [00:00<00:02, 13.89it/s]\u001b[A\n",
      " 10%|█         | 4/40 [00:00<00:04,  8.70it/s]\u001b[A\n",
      " 12%|█▎        | 5/40 [00:00<00:04,  8.07it/s]\u001b[A\n",
      " 15%|█▌        | 6/40 [00:00<00:04,  7.68it/s]\u001b[A\n",
      " 18%|█▊        | 7/40 [00:00<00:04,  7.43it/s]\u001b[A\n",
      " 20%|██        | 8/40 [00:01<00:04,  7.27it/s]\u001b[A\n",
      " 22%|██▎       | 9/40 [00:01<00:04,  7.16it/s]\u001b[A\n",
      " 25%|██▌       | 10/40 [00:01<00:04,  7.08it/s]\u001b[A\n",
      " 28%|██▊       | 11/40 [00:01<00:04,  7.03it/s]\u001b[A\n",
      " 30%|███       | 12/40 [00:01<00:04,  6.99it/s]\u001b[A\n",
      " 32%|███▎      | 13/40 [00:01<00:03,  6.97it/s]\u001b[A\n",
      " 35%|███▌      | 14/40 [00:01<00:03,  6.95it/s]\u001b[A\n",
      " 38%|███▊      | 15/40 [00:02<00:03,  6.94it/s]\u001b[A\n",
      " 40%|████      | 16/40 [00:02<00:03,  6.93it/s]\u001b[A\n",
      " 42%|████▎     | 17/40 [00:02<00:03,  6.93it/s]\u001b[A\n",
      " 45%|████▌     | 18/40 [00:02<00:03,  6.92it/s]\u001b[A\n",
      " 48%|████▊     | 19/40 [00:02<00:03,  6.92it/s]\u001b[A\n",
      " 50%|█████     | 20/40 [00:02<00:02,  6.92it/s]\u001b[A\n",
      " 52%|█████▎    | 21/40 [00:02<00:02,  6.91it/s]\u001b[A\n",
      " 55%|█████▌    | 22/40 [00:03<00:02,  6.91it/s]\u001b[A\n",
      " 57%|█████▊    | 23/40 [00:03<00:02,  6.91it/s]\u001b[A\n",
      " 60%|██████    | 24/40 [00:03<00:02,  6.91it/s]\u001b[A\n",
      " 62%|██████▎   | 25/40 [00:03<00:02,  6.91it/s]\u001b[A\n",
      " 65%|██████▌   | 26/40 [00:03<00:02,  6.91it/s]\u001b[A\n",
      " 68%|██████▊   | 27/40 [00:03<00:01,  6.91it/s]\u001b[A\n",
      " 70%|███████   | 28/40 [00:03<00:01,  6.91it/s]\u001b[A\n",
      " 72%|███████▎  | 29/40 [00:04<00:01,  6.91it/s]\u001b[A\n",
      " 75%|███████▌  | 30/40 [00:04<00:01,  6.91it/s]\u001b[A\n",
      " 78%|███████▊  | 31/40 [00:04<00:01,  6.91it/s]\u001b[A\n",
      " 80%|████████  | 32/40 [00:04<00:01,  6.91it/s]\u001b[A\n",
      " 82%|████████▎ | 33/40 [00:04<00:01,  6.91it/s]\u001b[A\n",
      " 85%|████████▌ | 34/40 [00:04<00:00,  6.91it/s]\u001b[A\n",
      " 88%|████████▊ | 35/40 [00:04<00:00,  6.91it/s]\u001b[A\n",
      " 90%|█████████ | 36/40 [00:05<00:00,  6.91it/s]\u001b[A\n",
      " 92%|█████████▎| 37/40 [00:05<00:00,  6.91it/s]\u001b[A\n",
      " 95%|█████████▌| 38/40 [00:05<00:00,  6.91it/s]\u001b[A\n",
      "                                                         \n",
      " 58%|█████▊    | 45500/78140 [5:19:20<3:32:09,  2.56it/s]\n",
      "100%|██████████| 40/40 [00:05<00:00,  7.08it/s]\u001b[A\n",
      "                                               \u001b[A"
     ]
    },
    {
     "name": "stdout",
     "output_type": "stream",
     "text": [
      "{'eval_loss': 0.001069532590918243, 'eval_token_accuracy': 0.9997708419267611, 'eval_exact_match_accuracy': 0.9981, 'eval_runtime': 5.9267, 'eval_samples_per_second': 1687.266, 'eval_steps_per_second': 6.749, 'epoch': 11.65}\n"
     ]
    },
    {
     "name": "stderr",
     "output_type": "stream",
     "text": [
      " 59%|█████▉    | 46000/78140 [5:22:44<3:28:50,  2.57it/s] \n",
      "  0%|          | 0/40 [00:00<?, ?it/s]\u001b[A"
     ]
    },
    {
     "name": "stdout",
     "output_type": "stream",
     "text": [
      "{'loss': 0.0092, 'grad_norm': 0.46276888251304626, 'learning_rate': 3.627954955682204e-05, 'epoch': 11.77}\n"
     ]
    },
    {
     "name": "stderr",
     "output_type": "stream",
     "text": [
      "\n",
      "  5%|▌         | 2/40 [00:00<00:02, 13.83it/s]\u001b[A\n",
      " 10%|█         | 4/40 [00:00<00:04,  8.70it/s]\u001b[A\n",
      " 12%|█▎        | 5/40 [00:00<00:04,  8.07it/s]\u001b[A\n",
      " 15%|█▌        | 6/40 [00:00<00:04,  7.68it/s]\u001b[A\n",
      " 18%|█▊        | 7/40 [00:00<00:04,  7.43it/s]\u001b[A\n",
      " 20%|██        | 8/40 [00:01<00:04,  7.27it/s]\u001b[A\n",
      " 22%|██▎       | 9/40 [00:01<00:04,  7.16it/s]\u001b[A\n",
      " 25%|██▌       | 10/40 [00:01<00:04,  7.08it/s]\u001b[A\n",
      " 28%|██▊       | 11/40 [00:01<00:04,  7.03it/s]\u001b[A\n",
      " 30%|███       | 12/40 [00:01<00:04,  6.99it/s]\u001b[A\n",
      " 32%|███▎      | 13/40 [00:01<00:03,  6.97it/s]\u001b[A\n",
      " 35%|███▌      | 14/40 [00:01<00:03,  6.95it/s]\u001b[A\n",
      " 38%|███▊      | 15/40 [00:02<00:03,  6.94it/s]\u001b[A\n",
      " 40%|████      | 16/40 [00:02<00:03,  6.93it/s]\u001b[A\n",
      " 42%|████▎     | 17/40 [00:02<00:03,  6.93it/s]\u001b[A\n",
      " 45%|████▌     | 18/40 [00:02<00:03,  6.92it/s]\u001b[A\n",
      " 48%|████▊     | 19/40 [00:02<00:03,  6.91it/s]\u001b[A\n",
      " 50%|█████     | 20/40 [00:02<00:02,  6.91it/s]\u001b[A\n",
      " 52%|█████▎    | 21/40 [00:02<00:02,  6.91it/s]\u001b[A\n",
      " 55%|█████▌    | 22/40 [00:03<00:02,  6.91it/s]\u001b[A\n",
      " 57%|█████▊    | 23/40 [00:03<00:02,  6.91it/s]\u001b[A\n",
      " 60%|██████    | 24/40 [00:03<00:02,  6.91it/s]\u001b[A\n",
      " 62%|██████▎   | 25/40 [00:03<00:02,  6.91it/s]\u001b[A\n",
      " 65%|██████▌   | 26/40 [00:03<00:02,  6.91it/s]\u001b[A\n",
      " 68%|██████▊   | 27/40 [00:03<00:01,  6.91it/s]\u001b[A\n",
      " 70%|███████   | 28/40 [00:03<00:01,  6.91it/s]\u001b[A\n",
      " 72%|███████▎  | 29/40 [00:04<00:01,  6.91it/s]\u001b[A\n",
      " 75%|███████▌  | 30/40 [00:04<00:01,  6.90it/s]\u001b[A\n",
      " 78%|███████▊  | 31/40 [00:04<00:01,  6.91it/s]\u001b[A\n",
      " 80%|████████  | 32/40 [00:04<00:01,  6.91it/s]\u001b[A\n",
      " 82%|████████▎ | 33/40 [00:04<00:01,  6.91it/s]\u001b[A\n",
      " 85%|████████▌ | 34/40 [00:04<00:00,  6.90it/s]\u001b[A\n",
      " 88%|████████▊ | 35/40 [00:04<00:00,  6.90it/s]\u001b[A\n",
      " 90%|█████████ | 36/40 [00:05<00:00,  6.90it/s]\u001b[A\n",
      " 92%|█████████▎| 37/40 [00:05<00:00,  6.91it/s]\u001b[A\n",
      " 95%|█████████▌| 38/40 [00:05<00:00,  6.91it/s]\u001b[A\n",
      "                                                         \n",
      " 59%|█████▉    | 46000/78140 [5:22:50<3:28:50,  2.57it/s]\n",
      "100%|██████████| 40/40 [00:05<00:00,  7.06it/s]\u001b[A\n",
      "                                               \u001b[A"
     ]
    },
    {
     "name": "stdout",
     "output_type": "stream",
     "text": [
      "{'eval_loss': 5.3940664656693116e-05, 'eval_token_accuracy': 1.0, 'eval_exact_match_accuracy': 1.0, 'eval_runtime': 5.932, 'eval_samples_per_second': 1685.759, 'eval_steps_per_second': 6.743, 'epoch': 11.77}\n"
     ]
    },
    {
     "name": "stderr",
     "output_type": "stream",
     "text": [
      " 60%|█████▉    | 46500/78140 [5:26:14<3:26:47,  2.55it/s] \n",
      "  0%|          | 0/40 [00:00<?, ?it/s]\u001b[A"
     ]
    },
    {
     "name": "stdout",
     "output_type": "stream",
     "text": [
      "{'loss': 0.0086, 'grad_norm': 0.1808602511882782, 'learning_rate': 3.531969670174089e-05, 'epoch': 11.9}\n"
     ]
    },
    {
     "name": "stderr",
     "output_type": "stream",
     "text": [
      "\n",
      "  5%|▌         | 2/40 [00:00<00:02, 13.69it/s]\u001b[A\n",
      " 10%|█         | 4/40 [00:00<00:04,  8.13it/s]\u001b[A\n",
      " 12%|█▎        | 5/40 [00:00<00:04,  7.64it/s]\u001b[A\n",
      " 15%|█▌        | 6/40 [00:00<00:04,  7.25it/s]\u001b[A\n",
      " 18%|█▊        | 7/40 [00:00<00:04,  6.71it/s]\u001b[A\n",
      " 20%|██        | 8/40 [00:01<00:05,  6.37it/s]\u001b[A\n",
      " 22%|██▎       | 9/40 [00:01<00:05,  6.18it/s]\u001b[A\n",
      " 25%|██▌       | 10/40 [00:01<00:04,  6.07it/s]\u001b[A\n",
      " 28%|██▊       | 11/40 [00:01<00:04,  6.00it/s]\u001b[A\n",
      " 30%|███       | 12/40 [00:01<00:04,  5.96it/s]\u001b[A\n",
      " 32%|███▎      | 13/40 [00:01<00:04,  5.93it/s]\u001b[A\n",
      " 35%|███▌      | 14/40 [00:02<00:04,  5.90it/s]\u001b[A\n",
      " 38%|███▊      | 15/40 [00:02<00:04,  5.88it/s]\u001b[A\n",
      " 40%|████      | 16/40 [00:02<00:04,  5.88it/s]\u001b[A\n",
      " 42%|████▎     | 17/40 [00:02<00:03,  5.87it/s]\u001b[A\n",
      " 45%|████▌     | 18/40 [00:02<00:03,  5.87it/s]\u001b[A\n",
      " 48%|████▊     | 19/40 [00:02<00:03,  5.86it/s]\u001b[A\n",
      " 50%|█████     | 20/40 [00:03<00:03,  5.86it/s]\u001b[A\n",
      " 52%|█████▎    | 21/40 [00:03<00:03,  5.86it/s]\u001b[A\n",
      " 55%|█████▌    | 22/40 [00:03<00:03,  5.86it/s]\u001b[A\n",
      " 57%|█████▊    | 23/40 [00:03<00:02,  5.85it/s]\u001b[A\n",
      " 60%|██████    | 24/40 [00:03<00:02,  5.86it/s]\u001b[A\n",
      " 62%|██████▎   | 25/40 [00:04<00:02,  5.86it/s]\u001b[A\n",
      " 65%|██████▌   | 26/40 [00:04<00:02,  5.86it/s]\u001b[A\n",
      " 68%|██████▊   | 27/40 [00:04<00:02,  5.86it/s]\u001b[A\n",
      " 70%|███████   | 28/40 [00:04<00:02,  5.85it/s]\u001b[A\n",
      " 72%|███████▎  | 29/40 [00:04<00:01,  5.85it/s]\u001b[A\n",
      " 75%|███████▌  | 30/40 [00:04<00:01,  5.85it/s]\u001b[A\n",
      " 78%|███████▊  | 31/40 [00:05<00:01,  5.85it/s]\u001b[A\n",
      " 80%|████████  | 32/40 [00:05<00:01,  5.86it/s]\u001b[A\n",
      " 82%|████████▎ | 33/40 [00:05<00:01,  5.86it/s]\u001b[A\n",
      " 85%|████████▌ | 34/40 [00:05<00:01,  5.86it/s]\u001b[A\n",
      " 88%|████████▊ | 35/40 [00:05<00:00,  5.85it/s]\u001b[A\n",
      " 90%|█████████ | 36/40 [00:05<00:00,  5.85it/s]\u001b[A\n",
      " 92%|█████████▎| 37/40 [00:06<00:00,  5.85it/s]\u001b[A\n",
      " 95%|█████████▌| 38/40 [00:06<00:00,  5.86it/s]\u001b[A\n",
      "                                                         \n",
      " 60%|█████▉    | 46500/78140 [5:26:21<3:26:47,  2.55it/s]\n",
      "100%|██████████| 40/40 [00:06<00:00,  5.98it/s]\u001b[A\n",
      "                                               \u001b[A"
     ]
    },
    {
     "name": "stdout",
     "output_type": "stream",
     "text": [
      "{'eval_loss': 0.0028053196147084236, 'eval_token_accuracy': 0.9994591869471562, 'eval_exact_match_accuracy': 0.9963, 'eval_runtime': 6.8558, 'eval_samples_per_second': 1458.616, 'eval_steps_per_second': 5.834, 'epoch': 11.9}\n"
     ]
    },
    {
     "name": "stderr",
     "output_type": "stream",
     "text": [
      " 60%|██████    | 47000/78140 [5:30:28<4:13:27,  2.05it/s] "
     ]
    },
    {
     "name": "stdout",
     "output_type": "stream",
     "text": [
      "{'loss': 0.0085, 'grad_norm': 0.4298238456249237, 'learning_rate': 3.43619098356719e-05, 'epoch': 12.03}\n"
     ]
    },
    {
     "name": "stderr",
     "output_type": "stream",
     "text": [
      "\n",
      "  0%|          | 0/40 [00:00<?, ?it/s]\u001b[A\n",
      "  5%|▌         | 2/40 [00:00<00:03, 11.38it/s]\u001b[A\n",
      " 10%|█         | 4/40 [00:00<00:05,  7.17it/s]\u001b[A\n",
      " 12%|█▎        | 5/40 [00:00<00:05,  6.65it/s]\u001b[A\n",
      " 15%|█▌        | 6/40 [00:00<00:05,  6.33it/s]\u001b[A\n",
      " 18%|█▊        | 7/40 [00:01<00:05,  6.13it/s]\u001b[A\n",
      " 20%|██        | 8/40 [00:01<00:05,  6.00it/s]\u001b[A\n",
      " 22%|██▎       | 9/40 [00:01<00:05,  5.89it/s]\u001b[A\n",
      " 25%|██▌       | 10/40 [00:01<00:05,  5.83it/s]\u001b[A\n",
      " 28%|██▊       | 11/40 [00:01<00:05,  5.79it/s]\u001b[A\n",
      " 30%|███       | 12/40 [00:01<00:04,  5.76it/s]\u001b[A\n",
      " 32%|███▎      | 13/40 [00:02<00:04,  5.74it/s]\u001b[A\n",
      " 35%|███▌      | 14/40 [00:02<00:04,  5.72it/s]\u001b[A\n",
      " 38%|███▊      | 15/40 [00:02<00:04,  5.71it/s]\u001b[A\n",
      " 40%|████      | 16/40 [00:02<00:04,  5.71it/s]\u001b[A\n",
      " 42%|████▎     | 17/40 [00:02<00:04,  5.70it/s]\u001b[A\n",
      " 45%|████▌     | 18/40 [00:02<00:03,  5.69it/s]\u001b[A\n",
      " 48%|████▊     | 19/40 [00:03<00:03,  5.68it/s]\u001b[A\n",
      " 50%|█████     | 20/40 [00:03<00:03,  5.69it/s]\u001b[A\n",
      " 52%|█████▎    | 21/40 [00:03<00:03,  5.69it/s]\u001b[A\n",
      " 55%|█████▌    | 22/40 [00:03<00:03,  5.69it/s]\u001b[A\n",
      " 57%|█████▊    | 23/40 [00:03<00:02,  5.69it/s]\u001b[A\n",
      " 60%|██████    | 24/40 [00:04<00:02,  5.70it/s]\u001b[A\n",
      " 62%|██████▎   | 25/40 [00:04<00:02,  5.69it/s]\u001b[A\n",
      " 65%|██████▌   | 26/40 [00:04<00:02,  5.69it/s]\u001b[A\n",
      " 68%|██████▊   | 27/40 [00:04<00:02,  5.69it/s]\u001b[A\n",
      " 70%|███████   | 28/40 [00:04<00:02,  5.70it/s]\u001b[A\n",
      " 72%|███████▎  | 29/40 [00:04<00:01,  5.69it/s]\u001b[A\n",
      " 75%|███████▌  | 30/40 [00:05<00:01,  5.69it/s]\u001b[A\n",
      " 78%|███████▊  | 31/40 [00:05<00:01,  5.69it/s]\u001b[A\n",
      " 80%|████████  | 32/40 [00:05<00:01,  5.70it/s]\u001b[A\n",
      " 82%|████████▎ | 33/40 [00:05<00:01,  5.69it/s]\u001b[A\n",
      " 85%|████████▌ | 34/40 [00:05<00:01,  5.69it/s]\u001b[A\n",
      " 88%|████████▊ | 35/40 [00:05<00:00,  5.69it/s]\u001b[A\n",
      " 90%|█████████ | 36/40 [00:06<00:00,  5.69it/s]\u001b[A\n",
      " 92%|█████████▎| 37/40 [00:06<00:00,  5.71it/s]\u001b[A\n",
      " 95%|█████████▌| 38/40 [00:06<00:00,  5.70it/s]\u001b[A\n",
      "                                                         \n",
      " 60%|██████    | 47000/78140 [5:30:35<4:13:27,  2.05it/s]\n",
      "100%|██████████| 40/40 [00:06<00:00,  5.82it/s]\u001b[A\n",
      "                                               \u001b[A"
     ]
    },
    {
     "name": "stdout",
     "output_type": "stream",
     "text": [
      "{'eval_loss': 0.0036965941544622183, 'eval_token_accuracy': 0.9994775195930152, 'eval_exact_match_accuracy': 0.9965, 'eval_runtime': 7.1495, 'eval_samples_per_second': 1398.694, 'eval_steps_per_second': 5.595, 'epoch': 12.03}\n"
     ]
    },
    {
     "name": "stderr",
     "output_type": "stream",
     "text": [
      " 61%|██████    | 47500/78140 [5:34:14<4:07:14,  2.07it/s] \n",
      "  0%|          | 0/40 [00:00<?, ?it/s]\u001b[A"
     ]
    },
    {
     "name": "stdout",
     "output_type": "stream",
     "text": [
      "{'loss': 0.0085, 'grad_norm': 0.0794532299041748, 'learning_rate': 3.341044216854391e-05, 'epoch': 12.16}\n"
     ]
    },
    {
     "name": "stderr",
     "output_type": "stream",
     "text": [
      "\n",
      "  5%|▌         | 2/40 [00:00<00:03, 11.47it/s]\u001b[A\n",
      " 10%|█         | 4/40 [00:00<00:04,  7.24it/s]\u001b[A\n",
      " 12%|█▎        | 5/40 [00:00<00:05,  6.72it/s]\u001b[A\n",
      " 15%|█▌        | 6/40 [00:00<00:05,  6.40it/s]\u001b[A\n",
      " 18%|█▊        | 7/40 [00:01<00:05,  6.18it/s]\u001b[A\n",
      " 20%|██        | 8/40 [00:01<00:05,  6.05it/s]\u001b[A\n",
      " 22%|██▎       | 9/40 [00:01<00:05,  5.96it/s]\u001b[A\n",
      " 25%|██▌       | 10/40 [00:01<00:05,  5.89it/s]\u001b[A\n",
      " 28%|██▊       | 11/40 [00:01<00:04,  5.84it/s]\u001b[A\n",
      " 30%|███       | 12/40 [00:01<00:04,  5.82it/s]\u001b[A\n",
      " 32%|███▎      | 13/40 [00:02<00:04,  5.80it/s]\u001b[A\n",
      " 35%|███▌      | 14/40 [00:02<00:04,  5.78it/s]\u001b[A\n",
      " 38%|███▊      | 15/40 [00:02<00:04,  5.78it/s]\u001b[A\n",
      " 40%|████      | 16/40 [00:02<00:04,  5.76it/s]\u001b[A\n",
      " 42%|████▎     | 17/40 [00:02<00:03,  5.76it/s]\u001b[A\n",
      " 45%|████▌     | 18/40 [00:02<00:03,  5.75it/s]\u001b[A\n",
      " 48%|████▊     | 19/40 [00:03<00:03,  5.76it/s]\u001b[A\n",
      " 50%|█████     | 20/40 [00:03<00:03,  5.75it/s]\u001b[A\n",
      " 52%|█████▎    | 21/40 [00:03<00:03,  5.75it/s]\u001b[A\n",
      " 55%|█████▌    | 22/40 [00:03<00:03,  5.75it/s]\u001b[A\n",
      " 57%|█████▊    | 23/40 [00:03<00:02,  5.74it/s]\u001b[A\n",
      " 60%|██████    | 24/40 [00:04<00:02,  5.75it/s]\u001b[A\n",
      " 62%|██████▎   | 25/40 [00:04<00:02,  5.75it/s]\u001b[A\n",
      " 65%|██████▌   | 26/40 [00:04<00:02,  5.75it/s]\u001b[A\n",
      " 68%|██████▊   | 27/40 [00:04<00:02,  5.76it/s]\u001b[A\n",
      " 70%|███████   | 28/40 [00:04<00:02,  5.75it/s]\u001b[A\n",
      " 72%|███████▎  | 29/40 [00:04<00:01,  5.75it/s]\u001b[A\n",
      " 75%|███████▌  | 30/40 [00:05<00:01,  5.75it/s]\u001b[A\n",
      " 78%|███████▊  | 31/40 [00:05<00:01,  5.74it/s]\u001b[A\n",
      " 80%|████████  | 32/40 [00:05<00:01,  5.75it/s]\u001b[A\n",
      " 82%|████████▎ | 33/40 [00:05<00:01,  5.75it/s]\u001b[A\n",
      " 85%|████████▌ | 34/40 [00:05<00:01,  5.75it/s]\u001b[A\n",
      " 88%|████████▊ | 35/40 [00:05<00:00,  5.75it/s]\u001b[A\n",
      " 90%|█████████ | 36/40 [00:06<00:00,  5.75it/s]\u001b[A\n",
      " 92%|█████████▎| 37/40 [00:06<00:00,  5.74it/s]\u001b[A\n",
      " 95%|█████████▌| 38/40 [00:06<00:00,  5.75it/s]\u001b[A\n",
      "                                                         \n",
      " 61%|██████    | 47500/78140 [5:34:21<4:07:14,  2.07it/s]\n",
      "100%|██████████| 40/40 [00:06<00:00,  5.86it/s]\u001b[A\n",
      "                                               \u001b[A"
     ]
    },
    {
     "name": "stdout",
     "output_type": "stream",
     "text": [
      "{'eval_loss': 0.0003552262205630541, 'eval_token_accuracy': 0.9999083367707045, 'eval_exact_match_accuracy': 0.9992, 'eval_runtime': 7.0853, 'eval_samples_per_second': 1411.367, 'eval_steps_per_second': 5.645, 'epoch': 12.16}\n"
     ]
    },
    {
     "name": "stderr",
     "output_type": "stream",
     "text": [
      " 61%|██████▏   | 48000/78140 [5:38:32<4:02:22,  2.07it/s] \n",
      "  0%|          | 0/40 [00:00<?, ?it/s]\u001b[A"
     ]
    },
    {
     "name": "stdout",
     "output_type": "stream",
     "text": [
      "{'loss': 0.0078, 'grad_norm': 0.3568413257598877, 'learning_rate': 3.246567817911431e-05, 'epoch': 12.29}\n"
     ]
    },
    {
     "name": "stderr",
     "output_type": "stream",
     "text": [
      "\n",
      "  5%|▌         | 2/40 [00:00<00:03, 11.41it/s]\u001b[A\n",
      " 10%|█         | 4/40 [00:00<00:04,  7.23it/s]\u001b[A\n",
      " 12%|█▎        | 5/40 [00:00<00:05,  6.71it/s]\u001b[A\n",
      " 15%|█▌        | 6/40 [00:00<00:05,  6.40it/s]\u001b[A\n",
      " 18%|█▊        | 7/40 [00:01<00:05,  6.20it/s]\u001b[A\n",
      " 20%|██        | 8/40 [00:01<00:05,  6.05it/s]\u001b[A\n",
      " 22%|██▎       | 9/40 [00:01<00:05,  5.93it/s]\u001b[A\n",
      " 25%|██▌       | 10/40 [00:01<00:05,  5.87it/s]\u001b[A\n",
      " 28%|██▊       | 11/40 [00:01<00:04,  5.83it/s]\u001b[A\n",
      " 30%|███       | 12/40 [00:01<00:04,  5.81it/s]\u001b[A\n",
      " 32%|███▎      | 13/40 [00:02<00:04,  5.79it/s]\u001b[A\n",
      " 35%|███▌      | 14/40 [00:02<00:04,  5.79it/s]\u001b[A\n",
      " 38%|███▊      | 15/40 [00:02<00:04,  5.78it/s]\u001b[A\n",
      " 40%|████      | 16/40 [00:02<00:04,  5.78it/s]\u001b[A\n",
      " 42%|████▎     | 17/40 [00:02<00:03,  5.77it/s]\u001b[A\n",
      " 45%|████▌     | 18/40 [00:02<00:03,  5.77it/s]\u001b[A\n",
      " 48%|████▊     | 19/40 [00:03<00:03,  5.78it/s]\u001b[A\n",
      " 50%|█████     | 20/40 [00:03<00:03,  5.77it/s]\u001b[A\n",
      " 52%|█████▎    | 21/40 [00:03<00:03,  5.77it/s]\u001b[A\n",
      " 55%|█████▌    | 22/40 [00:03<00:03,  5.76it/s]\u001b[A\n",
      " 57%|█████▊    | 23/40 [00:03<00:02,  5.77it/s]\u001b[A\n",
      " 60%|██████    | 24/40 [00:03<00:02,  5.76it/s]\u001b[A\n",
      " 62%|██████▎   | 25/40 [00:04<00:02,  5.76it/s]\u001b[A\n",
      " 65%|██████▌   | 26/40 [00:04<00:02,  5.76it/s]\u001b[A\n",
      " 68%|██████▊   | 27/40 [00:04<00:02,  5.76it/s]\u001b[A\n",
      " 70%|███████   | 28/40 [00:04<00:02,  5.75it/s]\u001b[A\n",
      " 72%|███████▎  | 29/40 [00:04<00:01,  5.75it/s]\u001b[A\n",
      " 75%|███████▌  | 30/40 [00:05<00:01,  5.76it/s]\u001b[A\n",
      " 78%|███████▊  | 31/40 [00:05<00:01,  5.75it/s]\u001b[A\n",
      " 80%|████████  | 32/40 [00:05<00:01,  5.75it/s]\u001b[A\n",
      " 82%|████████▎ | 33/40 [00:05<00:01,  5.75it/s]\u001b[A\n",
      " 85%|████████▌ | 34/40 [00:05<00:01,  5.76it/s]\u001b[A\n",
      " 88%|████████▊ | 35/40 [00:05<00:00,  5.75it/s]\u001b[A\n",
      " 90%|█████████ | 36/40 [00:06<00:00,  5.75it/s]\u001b[A\n",
      " 92%|█████████▎| 37/40 [00:06<00:00,  5.75it/s]\u001b[A\n",
      " 95%|█████████▌| 38/40 [00:06<00:00,  5.76it/s]\u001b[A\n",
      "                                                         \n",
      " 61%|██████▏   | 48000/78140 [5:38:39<4:02:22,  2.07it/s]\n",
      "100%|██████████| 40/40 [00:06<00:00,  5.87it/s]\u001b[A\n",
      "                                               \u001b[A"
     ]
    },
    {
     "name": "stdout",
     "output_type": "stream",
     "text": [
      "{'eval_loss': 0.004613012541085482, 'eval_token_accuracy': 0.9993125257802833, 'eval_exact_match_accuracy': 0.9955, 'eval_runtime': 7.0828, 'eval_samples_per_second': 1411.862, 'eval_steps_per_second': 5.647, 'epoch': 12.29}\n"
     ]
    },
    {
     "name": "stderr",
     "output_type": "stream",
     "text": [
      " 62%|██████▏   | 48078/78140 [5:39:26<4:01:57,  2.07it/s] Traceback (most recent call last):\n",
      "  File \"/cs/student/projects1/aibh/2024/cbaumgar/MSC_THESIS/./train_shortest.py\", line 262, in <module>\n",
      "    main()\n",
      "  File \"/cs/student/projects1/aibh/2024/cbaumgar/MSC_THESIS/./train_shortest.py\", line 240, in main\n",
      "    train_result = trainer.train(resume_from_checkpoint=last_checkpoint)\n",
      "  File \"/cs/student/projects1/aibh/2024/cbaumgar/.venv/lib64/python3.9/site-packages/transformers/trainer.py\", line 2206, in train\n",
      "    return inner_training_loop(\n",
      "  File \"/cs/student/projects1/aibh/2024/cbaumgar/.venv/lib64/python3.9/site-packages/transformers/trainer.py\", line 2550, in _inner_training_loop\n",
      "    if (\n",
      "KeyboardInterrupt\n",
      "Error in atexit._run_exitfuncs:\n",
      "Traceback (most recent call last):\n",
      "  File \"/cs/student/projects1/aibh/2024/cbaumgar/.venv/lib64/python3.9/site-packages/wandb/sdk/lib/sock_client.py\", line 151, in _send_message\n",
      "    self._sendall_with_error_handle(header + data)\n",
      "  File \"/cs/student/projects1/aibh/2024/cbaumgar/.venv/lib64/python3.9/site-packages/wandb/sdk/lib/sock_client.py\", line 130, in _sendall_with_error_handle\n",
      "    sent = self._sock.send(data)\n",
      "BrokenPipeError: [Errno 32] Broken pipe\n"
     ]
    }
   ],
   "source": [
    "train_model_script(num_epochs=20,\n",
    "                   output_dir='sv2_model_fixed',\n",
    "                   lr=1e-04)\n"
   ]
  },
  {
   "cell_type": "code",
   "execution_count": null,
   "id": "ba49188c",
   "metadata": {},
   "outputs": [
    {
     "name": "stderr",
     "output_type": "stream",
     "text": [
      "  0%|          | 0/2000 [00:00<?, ?it/s]The attention mask is not set and cannot be inferred from input because pad token is same as eos token. As a consequence, you may observe unexpected behavior. Please pass your input's `attention_mask` to obtain reliable results.\n",
      "100%|██████████| 2000/2000 [01:11<00:00, 27.84it/s]\n",
      "100%|██████████| 2000/2000 [01:10<00:00, 28.28it/s]\n",
      "100%|██████████| 2000/2000 [01:11<00:00, 28.12it/s]\n"
     ]
    }
   ],
   "source": [
    "stats_train = evaluate_file(\"/cs/student/projects1/aibh/2024/cbaumgar/MSC_THESIS/shortest_v2_data/train.txt\", grid_size=4, relabel=False, n_examples=2000)\n",
    "stats_train_relabel = evaluate_file(\"/cs/student/projects1/aibh/2024/cbaumgar/MSC_THESIS/shortest_v2_data/train.txt\", grid_size=4, relabel=True, n_examples=2000)\n",
    "stats_test = evaluate_file(\"/cs/student/projects1/aibh/2024/cbaumgar/MSC_THESIS/shortest_v2_data/test.txt\", grid_size=4, relabel=False, n_examples=2000)\n",
    "#Save stats\n",
    "with open(\"eval_stats_train.json\", \"w\") as f: json.dump(stats_train, f)\n"
   ]
  },
  {
   "cell_type": "code",
   "execution_count": null,
   "id": "20f7f699",
   "metadata": {},
   "outputs": [
    {
     "name": "stderr",
     "output_type": "stream",
     "text": [
      "Evaluating train.txt: 100%|██████████| 1000/1000 [00:29<00:00, 34.06it/s]\n",
      "Evaluating train.txt: 100%|██████████| 1000/1000 [00:29<00:00, 33.46it/s]\n",
      "Evaluating test.txt: 100%|██████████| 1000/1000 [00:29<00:00, 33.48it/s]"
     ]
    },
    {
     "name": "stdout",
     "output_type": "stream",
     "text": [
      "\n",
      "--- Corrected Evaluation Complete ---\n",
      "Sample 'train' exact match accuracy: 99.80%\n",
      "Sample 'train_relabel' exact match accuracy: 71.80%\n",
      "Sample 'test' exact match accuracy: 99.70%\n",
      "\n",
      "--- Path Validity ---\n",
      "Sample 'train' path validity: 99.80%\n",
      "Sample 'train_relabel' path validity: 72.00%\n",
      "Sample 'test' path validity: 99.70%\n"
     ]
    },
    {
     "name": "stderr",
     "output_type": "stream",
     "text": [
      "\n"
     ]
    }
   ],
   "source": [
    "# eval\n",
    "import random\n",
    "import re\n",
    "import json\n",
    "from tqdm import tqdm\n",
    "from transformers import GPT2LMHeadModel, GPT2TokenizerFast\n",
    "import torch\n",
    "import networkx as nx\n",
    "\n",
    "MODEL_DIR = \"/cs/student/projects1/aibh/2024/cbaumgar/MSC_THESIS/shortest_v2_model/checkpoint-13500\"\n",
    "TOKENIZER_DIR = \"/cs/student/projects1/aibh/2024/cbaumgar/MSC_THESIS/gv6_tokenizer\"\n",
    "DEVICE = \"cuda\" if torch.cuda.is_available() else \"cpu\"\n",
    "MAX_GEN_TOKENS = 100\n",
    "\n",
    "\n",
    "# load\n",
    "tokenizer = GPT2TokenizerFast.from_pretrained(TOKENIZER_DIR)\n",
    "model = GPT2LMHeadModel.from_pretrained(MODEL_DIR).to(DEVICE)\n",
    "model.eval()\n",
    "if tokenizer.pad_token is None:\n",
    "    tokenizer.pad_token = tokenizer.eos_token\n",
    "model.config.pad_token_id = tokenizer.pad_token_id\n",
    "\n",
    "def parse_example_line(line):\n",
    "    try:\n",
    "        parts = line.strip().split()\n",
    "        plan_idx = parts.index(\"[PLAN]\")\n",
    "        prompt_text = \" \".join(parts[:plan_idx + 1]) \n",
    "        target_text = \" \".join(parts[plan_idx+1:])\n",
    "        return prompt_text, target_text\n",
    "    except ValueError:\n",
    "        return None\n",
    "\n",
    "\n",
    "NODE_RE = re.compile(r'^[a-z]{2}$')\n",
    "\n",
    "def extract_nodes_from_context(prompt_text):\n",
    "    ctx_text = prompt_text.split(\"[SEP]\")[0]\n",
    "    toks = ctx_text.split()\n",
    "    nodes = [t for t in toks if NODE_RE.match(t)]\n",
    "    return list(dict.fromkeys(nodes))\n",
    "\n",
    "def build_graph_from_context(context_text, grid_size=4):\n",
    "    \"\"\"\n",
    "    Correctly reconstructs the full grid graph by discovering all unique nodes\n",
    "    from the context and arranging them in a canonical grid.\n",
    "    This version fixes a NameError where `size` was used instead of `grid_size`.\n",
    "    \"\"\"\n",
    "    context_path_str = context_text.split(\"[SEP]\")[0]\n",
    "    all_nodes_in_path = [t for t in context_path_str.split() if NODE_RE.match(t)]\n",
    "    unique_nodes = sorted(list(dict.fromkeys(all_nodes_in_path)))\n",
    "\n",
    "    if len(unique_nodes) != grid_size * grid_size:\n",
    "        # Fallback for non-Hamiltonian or incomplete contexts\n",
    "        return None\n",
    "\n",
    "    node_map = {node: i for i, node in enumerate(unique_nodes)}\n",
    "    inverse_node_map = {i: node for node, i in node_map.items()}\n",
    "\n",
    "    # 3. Create a canonical integer grid graph\n",
    "    G_int = nx.DiGraph()\n",
    "    for r in range(grid_size):\n",
    "        for c in range(grid_size):\n",
    "            idx = r * grid_size + c\n",
    "            # EAST\n",
    "            if c < grid_size - 1: G_int.add_edge(idx, idx + 1, direction='EAST')\n",
    "            # WEST\n",
    "            if c > 0: G_int.add_edge(idx, idx - 1, direction='WEST')\n",
    "            # SOUTH \n",
    "            if r < grid_size - 1: G_int.add_edge(idx, idx + grid_size, direction='SOUTH')\n",
    "            # NORTH\n",
    "            if r > 0: G_int.add_edge(idx, idx - grid_size, direction='NORTH')\n",
    "\n",
    "    G_final = nx.relabel_nodes(G_int, inverse_node_map, copy=True)\n",
    "    return G_final\n",
    "\n",
    "def is_subpath_contiguous(target_text, context_text):\n",
    "    ctx_nodes = [t for t in context_text.split(\"[SEP]\")[0].split() if NODE_RE.match(t)]\n",
    "    tgt_nodes = [t for t in target_text.split() if NODE_RE.match(t)]\n",
    "    if not tgt_nodes or not ctx_nodes: return False\n",
    "    L = len(tgt_nodes)\n",
    "    for i in range(len(ctx_nodes)-L+1):\n",
    "        if ctx_nodes[i:i+L] == tgt_nodes:\n",
    "            return True\n",
    "    return False\n",
    "\n",
    "def teacher_forced_token_accuracy(prompt_text, target_text):\n",
    "    full_text = prompt_text + \" \" + target_text\n",
    "    enc = tokenizer(full_text, return_tensors=\"pt\").to(DEVICE)\n",
    "    input_ids = enc[\"input_ids\"]\n",
    "\n",
    "    with torch.no_grad():\n",
    "        outputs = model(input_ids, labels=input_ids)\n",
    "        logits = outputs.logits\n",
    "        \n",
    "    predictions = logits.argmax(dim=-1)\n",
    "    prompt_token_len = len(tokenizer(prompt_text, return_tensors=\"pt\")[\"input_ids\"][0])\n",
    "\n",
    "    start_idx = prompt_token_len - 1\n",
    "    end_idx = input_ids.shape[1] - 1\n",
    "\n",
    "    matches = 0\n",
    "    total = 0\n",
    "    for i in range(start_idx, end_idx):\n",
    "        predicted_token = predictions[0, i].item()\n",
    "        actual_token = input_ids[0, i + 1].item()\n",
    "        if predicted_token == actual_token:\n",
    "            matches += 1\n",
    "        total += 1\n",
    "            \n",
    "    return matches / total if total > 0 else 1.0 # Return 1.0 if target is empty\n",
    "\n",
    "\n",
    "def autoregressive_generation(prompt_text, max_new_tokens=100):\n",
    "    inputs = tokenizer(prompt_text, return_tensors=\"pt\").to(DEVICE)\n",
    "    input_ids = inputs[\"input_ids\"]\n",
    "    \n",
    "    with torch.no_grad():\n",
    "        generated_ids = model.generate(\n",
    "            input_ids,\n",
    "            max_new_tokens=max_new_tokens,\n",
    "            eos_token_id=tokenizer.eos_token_id,\n",
    "            pad_token_id=tokenizer.pad_token_id,\n",
    "            do_sample=False,\n",
    "        )\n",
    "    \n",
    "    generated_ids_only = generated_ids[0][input_ids.shape[1]:]\n",
    "    gen_tail = tokenizer.decode(generated_ids_only, skip_special_tokens=False)\n",
    "    return gen_tail\n",
    "\n",
    "def clean_text_for_comparison(text):\n",
    "    text = text.replace(tokenizer.eos_token, \"\").replace(tokenizer.pad_token, \"\").strip()\n",
    "    return ' '.join(text.split()) \n",
    "\n",
    "# validity check for generated path\n",
    "def generated_path_is_valid(gen_text, G):\n",
    "    gen_text = clean_text_for_comparison(gen_text)\n",
    "    if not gen_text: return False\n",
    "    parts = gen_text.split()\n",
    "    nodes = parts[::2]\n",
    "    if len(nodes) < 2: return True # A single node is a valid \"path\"\n",
    "    for i in range(len(nodes)-1):\n",
    "        if not G.has_edge(nodes[i], nodes[i+1]):\n",
    "            return False\n",
    "    return True\n",
    "\n",
    "import networkx as nx\n",
    "import re\n",
    "\n",
    "# A mapping from direction to coordinate change (dx, dy)\n",
    "DIR_TO_DELTA = {\n",
    "    'NORTH': (0, -1),\n",
    "    'SOUTH': (0, 1),\n",
    "    'EAST': (1, 0),\n",
    "    'WEST': (-1, 0)\n",
    "}\n",
    "# The reverse mapping for building the full graph\n",
    "DELTA_TO_DIR = {v: k for k, v in DIR_TO_DELTA.items()}\n",
    "\n",
    "\n",
    "def build_graph_from_hamiltonian_path(context_text, grid_size=4):\n",
    "    \"\"\"\n",
    "    Reconstructs the full grid graph by deducing the coordinates of each node\n",
    "    from the provided Hamiltonian path in the context. This is the definitive,\n",
    "    correct way to check path validity for the existing model and data.\n",
    "    \"\"\"\n",
    "    context_path_str = context_text.split(\"[SEP]\")[0].replace(\"[SOS]\", \"\").strip()\n",
    "    parts = context_path_str.split()\n",
    "\n",
    "    if not parts:\n",
    "        return None\n",
    "\n",
    "    # Traverse the Hamiltonian path to map each node to a relative (x, y) coordinate.\n",
    "    node_to_coord = {}\n",
    "    coord_to_node = {}\n",
    "    \n",
    "    start_node = parts[0]\n",
    "    current_coord = (0, 0)\n",
    "    node_to_coord[start_node] = current_coord\n",
    "    coord_to_node[current_coord] = start_node\n",
    "\n",
    "    # Walk the path and assign coordinates\n",
    "    path_nodes = parts[::2]\n",
    "    path_dirs = parts[1::2]\n",
    "\n",
    "    for i in range(len(path_dirs)):\n",
    "        node = path_nodes[i]\n",
    "        direction = path_dirs[i]\n",
    "        next_node = path_nodes[i+1]\n",
    "        \n",
    "        dx, dy = DIR_TO_DELTA[direction]\n",
    "        current_coord = node_to_coord[node]\n",
    "        next_coord = (current_coord[0] + dx, current_coord[1] + dy)\n",
    "        \n",
    "        node_to_coord[next_node] = next_coord\n",
    "        coord_to_node[next_coord] = next_node\n",
    "\n",
    "    G = nx.DiGraph()\n",
    "    all_nodes = list(node_to_coord.keys())\n",
    "    G.add_nodes_from(all_nodes)\n",
    "\n",
    "    for node, coord in node_to_coord.items():\n",
    "        # For each node, check its four neighbors in the grid\n",
    "        for dx, dy in [(1, 0), (-1, 0), (0, 1), (0, -1)]:\n",
    "            neighbor_coord = (coord[0] + dx, coord[1] + dy)\n",
    "            # If a node exists at that neighboring coordinate...\n",
    "            if neighbor_coord in coord_to_node:\n",
    "                neighbor_node = coord_to_node[neighbor_coord]\n",
    "                direction = DELTA_TO_DIR[(dx, dy)]\n",
    "                # ...add an edge to the graph.\n",
    "                G.add_edge(node, neighbor_node, direction=direction)\n",
    "                \n",
    "    return G\n",
    "\n",
    "def evaluate_file(dataset_file, relabel=False, n_examples=None):\n",
    "    stats = []\n",
    "    with open(dataset_file, \"r\") as f:\n",
    "        lines = f.readlines()\n",
    "    if n_examples:\n",
    "        lines = random.sample(lines, min(n_examples, len(lines)))\n",
    "\n",
    "    for line in tqdm(lines, desc=f\"Evaluating {os.path.basename(dataset_file)}\"):\n",
    "        parsed = parse_example_line(line)\n",
    "        if parsed is None: continue\n",
    "        \n",
    "        prompt_text, target_text = parsed\n",
    "        ctx_text = prompt_text.split(\"[SEP]\")[0]\n",
    "        \n",
    "        G = build_graph_from_hamiltonian_path(ctx_text)\n",
    "        \n",
    "        subpath_flag = is_subpath_contiguous(target_text, ctx_text)\n",
    "        shortest_len = len([t for t in target_text.split() if NODE_RE.match(t)]) - 1\n",
    "\n",
    "        prompt_use, target_use, G_use = prompt_text, target_text, G\n",
    "        if relabel:\n",
    "            unique_nodes = list(G.nodes())\n",
    "            perm = unique_nodes.copy()\n",
    "            random.shuffle(perm)\n",
    "            mapping = {a:b for a,b in zip(unique_nodes, perm)}\n",
    "            \n",
    "            prompt_use = ' '.join([mapping.get(tok, tok) for tok in prompt_text.split()])\n",
    "            target_use = ' '.join([mapping.get(tok, tok) for tok in target_text.split()])\n",
    "            G_use = nx.relabel_nodes(G, mapping)\n",
    "\n",
    "        tf_acc = teacher_forced_token_accuracy(prompt_use, target_use)\n",
    "        gen = autoregressive_generation(prompt_use, max_new_tokens=MAX_GEN_TOKENS)\n",
    "\n",
    "        gen_cleaned = clean_text_for_comparison(gen)\n",
    "        target_cleaned = clean_text_for_comparison(target_use)\n",
    "        \n",
    "        exact_ar = 1 if gen_cleaned == target_cleaned else 0\n",
    "        valid_ar = generated_path_is_valid(gen_cleaned, G_use)\n",
    "        \n",
    "        gen_tokens = gen_cleaned.split()\n",
    "        gold_tokens = target_cleaned.split()\n",
    "        \n",
    "        match_tokens = sum(1 for a,b in zip(gen_tokens, gold_tokens) if a==b)\n",
    "        token_acc_ar = match_tokens / max(len(gold_tokens),1)\n",
    "        first_token_correct = (gen_tokens[0] == gold_tokens[0]) if gen_tokens and gold_tokens else 0\n",
    "        \n",
    "        stats.append({\n",
    "            \"tf_token_acc\": tf_acc,\n",
    "            \"ar_token_acc\": token_acc_ar,\n",
    "            \"ar_exact\": exact_ar,\n",
    "            \"ar_valid_path\": valid_ar,\n",
    "            \"first_token_correct\": first_token_correct,\n",
    "            \"subpath_in_context\": subpath_flag,\n",
    "            \"shortest_len\": shortest_len,\n",
    "        })\n",
    "    return stats\n",
    "\n",
    "MODEL_DIR = \"/cs/student/projects1/aibh/2024/cbaumgar/MSC_THESIS/shortest_v2_model/checkpoint-13500\"\n",
    "import os\n",
    "if __name__ == '__main__':\n",
    "    stats_train = evaluate_file(\"/cs/student/projects1/aibh/2024/cbaumgar/MSC_THESIS/shortest_v2_data/train.txt\", relabel=False, n_examples=1000)\n",
    "    stats_train_relabel = evaluate_file(\"/cs/student/projects1/aibh/2024/cbaumgar/MSC_THESIS/shortest_v2_data/train.txt\", relabel=True, n_examples=1000)\n",
    "    stats_test = evaluate_file(\"/cs/student/projects1/aibh/2024/cbaumgar/MSC_THESIS/shortest_v2_data/test.txt\", relabel=False, n_examples=1000)\n",
    "    \n",
    "    with open(\"eval_stats_train.json\", \"w\") as f: json.dump(stats_train, f, indent=2)\n",
    "    with open(\"eval_stats_train_relabel.json\", \"w\") as f: json.dump(stats_train_relabel, f, indent=2)\n",
    "    with open(\"eval_stats_test.json\", \"w\") as f: json.dump(stats_test, f, indent=2)\n",
    "    \n",
    "    print(\"\\n--- Corrected Evaluation Complete ---\")\n",
    "    print(f\"Sample 'train' exact match accuracy: {sum(s['ar_exact'] for s in stats_train) / len(stats_train):.2%}\")\n",
    "    print(f\"Sample 'train_relabel' exact match accuracy: {sum(s['ar_exact'] for s in stats_train_relabel) / len(stats_train_relabel):.2%}\")\n",
    "    print(f\"Sample 'test' exact match accuracy: {sum(s['ar_exact'] for s in stats_test) / len(stats_test):.2%}\")\n",
    "    print(\"\\n--- Path Validity ---\")\n",
    "    print(f\"Sample 'train' path validity: {sum(s['ar_valid_path'] for s in stats_train) / len(stats_train):.2%}\")\n",
    "    print(f\"Sample 'train_relabel' path validity: {sum(s['ar_valid_path'] for s in stats_train_relabel) / len(stats_train_relabel):.2%}\")\n",
    "    print(f\"Sample 'test' path validity: {sum(s['ar_valid_path'] for s in stats_test) / len(stats_test):.2%}\")"
   ]
  },
  {
   "cell_type": "code",
   "execution_count": 18,
   "id": "440f9d85",
   "metadata": {},
   "outputs": [
    {
     "name": "stderr",
     "output_type": "stream",
     "text": [
      "Evaluating test.txt: 100%|██████████| 1000/1000 [00:30<00:00, 33.28it/s]\n"
     ]
    },
    {
     "name": "stdout",
     "output_type": "stream",
     "text": [
      "Sample 'test_relabel' exact match accuracy: 71.50%\n"
     ]
    }
   ],
   "source": [
    "stats_test_relabel = evaluate_file(\"/cs/student/projects1/aibh/2024/cbaumgar/MSC_THESIS/shortest_v2_data/test.txt\", relabel=True, n_examples=1000)\n",
    "with open(\"eval_stats_test_relabel.json\", \"w\") as f: json.dump(stats_test_relabel, f, indent=2)\n",
    "print(f\"Sample 'test_relabel' exact match accuracy: {sum(s['ar_exact'] for s in stats_test_relabel) / len(stats_test_relabel):.2%}\")"
   ]
  },
  {
   "cell_type": "code",
   "execution_count": null,
   "id": "ec6e7431",
   "metadata": {},
   "outputs": [
    {
     "name": "stdout",
     "output_type": "stream",
     "text": [
      "--- Analyzing Hamiltonian Shape Distributions ---\n"
     ]
    },
    {
     "name": "stderr",
     "output_type": "stream",
     "text": [
      "Analyzing train.txt: 1000000it [00:04, 208573.72it/s]\n",
      "Analyzing test.txt: 10000it [00:00, 242186.33it/s]\n"
     ]
    },
    {
     "name": "stdout",
     "output_type": "stream",
     "text": [
      "\n",
      "--- Analysis Results ---\n",
      "Total examples analyzed in train file: 1000000\n",
      "Total examples analyzed in test file: 10000\n",
      "--------------------\n",
      "Number of unique shapes found in train set: 496\n",
      "Number of unique shapes found in test set: 56\n",
      "--------------------\n",
      "Number of overlapping shapes between train and test: 0\n",
      "\n",
      "✅ SUCCESS: The train and test sets are perfectly disjoint in terms of Hamiltonian shapes.\n",
      "This confirms the holdout set was configured correctly.\n",
      "\n",
      "--- Generating Visualization ---\n"
     ]
    },
    {
     "data": {
      "image/png": "[encoded data removed]",
      "text/plain": [
       "<Figure size 1000x800 with 1 Axes>"
      ]
     },
     "metadata": {},
     "output_type": "display_data"
    }
   ],
   "source": [
    "import collections\n",
    "from tqdm import tqdm\n",
    "import matplotlib.pyplot as plt\n",
    "import numpy as np\n",
    "import os\n",
    "\n",
    "TRAIN_FILE = \"/cs/student/projects1/aibh/2024/cbaumgar/MSC_THESIS/shortest_v2_data/train.txt\"\n",
    "TEST_FILE = \"/cs/student/projects1/aibh/2024/cbaumgar/MSC_THESIS/shortest_v2_data/test.txt\"\n",
    "\n",
    "from typing import Union\n",
    "\n",
    "def extract_shape_from_line(line: str) -> Union[tuple, None]:\n",
    "    \"\"\"\n",
    "    Parses a line from the dataset and returns the tuple of directions (the shape).\n",
    "    Example: \"[SOS] ab SOUTH cd ... [SEP] ...\" -> ('SOUTH', 'EAST', ...)\n",
    "    \"\"\"\n",
    "    try:\n",
    "        parts = line.strip().split()\n",
    "        sep_idx = parts.index(\"[SEP]\")\n",
    "\n",
    "        path_parts = parts[1:sep_idx]\n",
    "    \n",
    "        directions = tuple(path_parts[1::2])\n",
    "        return directions\n",
    "    except (ValueError, IndexError):\n",
    "        return None\n",
    "\n",
    "def analyze_file_shapes(filepath: str) -> collections.Counter:\n",
    "    \"\"\"\n",
    "    Reads a dataset file and returns a Counter with the frequency of each shape.\n",
    "    \"\"\"\n",
    "    if not os.path.exists(filepath):\n",
    "        print(f\"Error: File not found at {filepath}\")\n",
    "        return collections.Counter()\n",
    "        \n",
    "    shape_counts = collections.Counter()\n",
    "    with open(filepath, 'r', encoding='utf-8') as f:\n",
    "        for line in tqdm(f, desc=f\"Analyzing {os.path.basename(filepath)}\"):\n",
    "            shape = extract_shape_from_line(line)\n",
    "            if shape:\n",
    "                shape_counts[shape] += 1\n",
    "    return shape_counts\n",
    "\n",
    "def plot_shape_distributions(train_counts, test_counts):\n",
    "    \"\"\"\n",
    "    Creates a histogram comparing the distribution of test set shapes\n",
    "    in both the training and test sets.\n",
    "    \"\"\"\n",
    "    # Get the unique shapes that actually appear in the test set\n",
    "    test_shape_list = sorted(list(test_counts.keys()))\n",
    "    \n",
    "    # Get the frequency of these specific shapes in both datasets\n",
    "    # For the train set, this count should be 0 if the split is correct.\n",
    "    counts_in_test_set = [test_counts[shape] for shape in test_shape_list]\n",
    "    counts_in_train_set = [train_counts.get(shape, 0) for shape in test_shape_list]\n",
    "\n",
    "    x = np.arange(len(test_shape_list))  \n",
    "    width = 0.4 \n",
    "    fig, ax = plt.subplots(figsize=(10, 8))\n",
    "    rects1 = ax.bar(x - width/2, counts_in_train_set, width, label='Frequency in Train Set', color='red')\n",
    "    rects2 = ax.bar(x + width/2, counts_in_test_set, width, label='Frequency in Test Set', color='cornflowerblue')\n",
    "\n",
    "    ax.set_ylabel('Number of Occurrences')\n",
    "    ax.set_title('Frequency of Test Set Hamiltonian Shapes')\n",
    "    ax.set_xlabel('Unique Hamiltonian Shape ID (from Test Set)')\n",
    "    ax.set_xticks([])\n",
    "    ax.legend()\n",
    "    ax.bar_label(rects2, padding=3, fmt='%d', fontsize=8)\n",
    "\n",
    "    if any(c > 0 for c in counts_in_train_set):\n",
    "        ax.text(0.5, 0.5, 'WARNING: OVERLAP DETECTED!',\n",
    "                horizontalalignment='center',\n",
    "                verticalalignment='center',\n",
    "                transform=ax.transAxes,\n",
    "                fontsize=40, color='red', alpha=0.5,\n",
    "                bbox=dict(boxstyle='round,pad=0.5', fc='yellow', alpha=0.5))\n",
    "\n",
    "    fig.tight_layout()\n",
    "    plt.show()\n",
    "\n",
    "\n",
    "if __name__ == '__main__':\n",
    "    print(\"--- Analyzing Hamiltonian Shape Distributions ---\")\n",
    "    train_counts = analyze_file_shapes(TRAIN_FILE)\n",
    "    test_counts = analyze_file_shapes(TEST_FILE)\n",
    "\n",
    "    print(\"\\n--- Analysis Results ---\")\n",
    "    \n",
    "    train_shapes = set(train_counts.keys())\n",
    "    test_shapes = set(test_counts.keys())\n",
    "\n",
    "    print(f\"Total examples analyzed in train file: {sum(train_counts.values())}\")\n",
    "    print(f\"Total examples analyzed in test file: {sum(test_counts.values())}\")\n",
    "    print(\"-\" * 20)\n",
    "    print(f\"Number of unique shapes found in train set: {len(train_shapes)}\")\n",
    "    print(f\"Number of unique shapes found in test set: {len(test_shapes)}\")\n",
    "    \n",
    "    overlap = train_shapes.intersection(test_shapes)\n",
    "    \n",
    "    print(\"-\" * 20)\n",
    "    print(f\"Number of overlapping shapes between train and test: {len(overlap)}\")\n",
    "    \n",
    "    if len(overlap) == 0:\n",
    "        print(\"\\n✅ SUCCESS: The train and test sets are perfectly disjoint in terms of Hamiltonian shapes.\")\n",
    "        print(\"This confirms the holdout set was configured correctly.\")\n",
    "    else:\n",
    "        print(\"\\n❌ CRITICAL WARNING: Overlap detected between train and test shapes.\")\n",
    "        print(\"The holdout set is not clean. This invalidates the generalization results.\")\n",
    "        print(\"Sample of overlapping shapes:\", list(overlap)[:3])\n",
    "        \n",
    "    if test_counts:\n",
    "        print(\"\\n--- Generating Visualization ---\")\n",
    "        plot_shape_distributions(train_counts, test_counts)\n",
    "    else:\n",
    "        print(\"\\nCould not generate visualization because test set was empty or could not be read.\")"
   ]
  }
 ],
 "metadata": {
  "kernelspec": {
   "display_name": ".venv (3.9.21)",
   "language": "python",
   "name": "python3"
  },
  "language_info": {
   "codemirror_mode": {
    "name": "ipython",
    "version": 3
   },
   "file_extension": ".py",
   "mimetype": "text/x-python",
   "name": "python",
   "nbconvert_exporter": "python",
   "pygments_lexer": "ipython3",
   "version": "3.9.21"
  }
 },
 "nbformat": 4,
 "nbformat_minor": 5
}
